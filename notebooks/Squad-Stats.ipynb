{
 "cells": [
  {
   "cell_type": "code",
   "execution_count": 1,
   "id": "a97d90f2-dfc9-4276-99db-c17d0c42de90",
   "metadata": {},
   "outputs": [],
   "source": [
    "from datasets import load_dataset\n",
    "import pandas as pd\n",
    "import numpy as np\n",
    "from sklearn.feature_extraction.text import CountVectorizer\n",
    "from scipy.stats import hmean, norm\n",
    "from nltk import word_tokenize, RegexpTokenizer, sent_tokenize\n",
    "from nltk.probability import FreqDist\n",
    "from collections import Counter\n",
    "from scipy.optimize import minimize_scalar\n",
    "from scipy.optimize import minimize\n",
    "import matplotlib.pyplot as plt\n",
    "plt.style.use('fivethirtyeight')\n",
    "import numpy as np\n",
    "from statistics import harmonic_mean"
   ]
  },
  {
   "cell_type": "code",
   "execution_count": 2,
   "id": "934320cb-18ee-48c3-8d99-ac79307a973d",
   "metadata": {},
   "outputs": [],
   "source": [
    "tokenizer = RegexpTokenizer(r\"\\w+\")"
   ]
  },
  {
   "cell_type": "code",
   "execution_count": 3,
   "id": "5efbacfb-c3cc-4698-8192-a6418bb14bfe",
   "metadata": {},
   "outputs": [],
   "source": [
    "pd.set_option('max_colwidth', None)"
   ]
  },
  {
   "cell_type": "code",
   "execution_count": 4,
   "id": "c96d00b5-0953-45ea-90c9-854d56791066",
   "metadata": {},
   "outputs": [
    {
     "name": "stderr",
     "output_type": "stream",
     "text": [
      "Reusing dataset squad (/home/sasha/.cache/huggingface/datasets/squad/plain_text/1.0.0/d6ec3ceb99ca480ce37cdd35555d6cb2511d223b9150cce08a837ef62ffea453)\n",
      "Reusing dataset squad_v2 (/home/sasha/.cache/huggingface/datasets/squad_v2/squad_v2/2.0.0/09187c73c1b837c95d9a249cd97c2c3f1cebada06efe667b4427714b27639b1d)\n"
     ]
    }
   ],
   "source": [
    "squad = dataset = load_dataset(\"squad\", split = \"train\")\n",
    "squad_v2 = dataset = load_dataset(\"squad_v2\", split = \"train\")"
   ]
  },
  {
   "cell_type": "code",
   "execution_count": 5,
   "id": "63a98d1f-f009-4102-8656-c5876c244506",
   "metadata": {},
   "outputs": [],
   "source": [
    "squad_df = pd.json_normalize(squad)\n",
    "squad2_df= pd.json_normalize(squad_v2)"
   ]
  },
  {
   "cell_type": "code",
   "execution_count": 6,
   "id": "bc3aef2d-564d-43c8-be3c-a3721a35483b",
   "metadata": {},
   "outputs": [
    {
     "name": "stdout",
     "output_type": "stream",
     "text": [
      "<class 'pandas.core.frame.DataFrame'>\n",
      "RangeIndex: 87599 entries, 0 to 87598\n",
      "Data columns (total 6 columns):\n",
      " #   Column                Non-Null Count  Dtype \n",
      "---  ------                --------------  ----- \n",
      " 0   id                    87599 non-null  object\n",
      " 1   title                 87599 non-null  object\n",
      " 2   context               87599 non-null  object\n",
      " 3   question              87599 non-null  object\n",
      " 4   answers.text          87599 non-null  object\n",
      " 5   answers.answer_start  87599 non-null  object\n",
      "dtypes: object(6)\n",
      "memory usage: 4.0+ MB\n"
     ]
    }
   ],
   "source": [
    "squad_df.info()"
   ]
  },
  {
   "cell_type": "code",
   "execution_count": 7,
   "id": "fc528cad-bf01-4ec2-bff8-20016e0d85b7",
   "metadata": {},
   "outputs": [
    {
     "name": "stdout",
     "output_type": "stream",
     "text": [
      "<class 'pandas.core.frame.DataFrame'>\n",
      "RangeIndex: 130319 entries, 0 to 130318\n",
      "Data columns (total 6 columns):\n",
      " #   Column                Non-Null Count   Dtype \n",
      "---  ------                --------------   ----- \n",
      " 0   id                    130319 non-null  object\n",
      " 1   title                 130319 non-null  object\n",
      " 2   context               130319 non-null  object\n",
      " 3   question              130319 non-null  object\n",
      " 4   answers.text          130319 non-null  object\n",
      " 5   answers.answer_start  130319 non-null  object\n",
      "dtypes: object(6)\n",
      "memory usage: 6.0+ MB\n"
     ]
    }
   ],
   "source": [
    "squad2_df.info()"
   ]
  },
  {
   "cell_type": "code",
   "execution_count": 8,
   "id": "578e106a-771e-4a82-955c-24ad6dff9c10",
   "metadata": {},
   "outputs": [],
   "source": [
    "squad_df['answers.text'] = squad_df['answers.text'].apply(lambda x : ''.join(x))\n",
    "squad2_df['answers.text'] = squad2_df['answers.text'].apply(lambda x : ''.join(x))"
   ]
  },
  {
   "cell_type": "code",
   "execution_count": 9,
   "id": "8a77c010-9a92-4b42-ba15-d6cadb930452",
   "metadata": {},
   "outputs": [
    {
     "data": {
      "text/plain": [
       "(44197, 3)"
      ]
     },
     "execution_count": 9,
     "metadata": {},
     "output_type": "execute_result"
    }
   ],
   "source": [
    "squad_diff= pd.concat([squad2_df[['context','question','answers.text']],squad_df[['context','question','answers.text']]]).drop_duplicates(keep=False)\n",
    "squad_diff.shape"
   ]
  },
  {
   "cell_type": "code",
   "execution_count": 10,
   "id": "64050556-73b4-4109-bd0f-9e7485785b01",
   "metadata": {},
   "outputs": [
    {
     "name": "stdout",
     "output_type": "stream",
     "text": [
      "Whereas the difference in dimensions between the two datasets is: 42720\n"
     ]
    }
   ],
   "source": [
    "print(\"Whereas the difference in dimensions between the two datasets is: \" + str(130319-87599))"
   ]
  },
  {
   "cell_type": "code",
   "execution_count": 28,
   "id": "f5d24e01-1cf8-4cc9-8f3b-fe7582dda28b",
   "metadata": {},
   "outputs": [
    {
     "name": "stdout",
     "output_type": "stream",
     "text": [
      "SQuAD v2 train is supposed to have 43,498 negative examples\n"
     ]
    }
   ],
   "source": [
    "print (\"SQuAD v2 train is supposed to have 43,498 negative examples\")"
   ]
  },
  {
   "cell_type": "code",
   "execution_count": 26,
   "id": "b3e9323a-4c1a-4650-8d5b-b870d312df81",
   "metadata": {},
   "outputs": [
    {
     "data": {
      "text/plain": [
       "1477"
      ]
     },
     "execution_count": 26,
     "metadata": {},
     "output_type": "execute_result"
    }
   ],
   "source": [
    "44197- 42720"
   ]
  },
  {
   "cell_type": "code",
   "execution_count": 33,
   "id": "0c6b6659-41aa-4cfb-a4bb-8250fdbd4be4",
   "metadata": {},
   "outputs": [
    {
     "data": {
      "text/html": [
       "<div>\n",
       "<style scoped>\n",
       "    .dataframe tbody tr th:only-of-type {\n",
       "        vertical-align: middle;\n",
       "    }\n",
       "\n",
       "    .dataframe tbody tr th {\n",
       "        vertical-align: top;\n",
       "    }\n",
       "\n",
       "    .dataframe thead th {\n",
       "        text-align: right;\n",
       "    }\n",
       "</style>\n",
       "<table border=\"1\" class=\"dataframe\">\n",
       "  <thead>\n",
       "    <tr style=\"text-align: right;\">\n",
       "      <th></th>\n",
       "      <th>context</th>\n",
       "      <th>question</th>\n",
       "      <th>answers.text</th>\n",
       "    </tr>\n",
       "  </thead>\n",
       "  <tbody>\n",
       "    <tr>\n",
       "      <th>288</th>\n",
       "      <td>Beyoncé Giselle Knowles-Carter (/biːˈjɒnseɪ/ bee-YON-say) (born September 4, 1981) is an American singer, songwriter, record producer and actress. Born and raised in Houston, Texas, she performed in various singing and dancing competitions as a child, and rose to fame in the late 1990s as lead singer of R&amp;B girl-group Destiny's Child. Managed by her father, Mathew Knowles, the group became one of the world's best-selling girl groups of all time. Their hiatus saw the release of Beyoncé's debut album, Dangerously in Love (2003), which established her as a solo artist worldwide, earned five Grammy Awards and featured the Billboard Hot 100 number-one singles \"Crazy in Love\" and \"Baby Boy\".</td>\n",
       "      <td>When did Beyoncé release her first solo album?</td>\n",
       "      <td>2003</td>\n",
       "    </tr>\n",
       "    <tr>\n",
       "      <th>409</th>\n",
       "      <td>Beyoncé's first solo recording was a feature on Jay Z's \"'03 Bonnie &amp; Clyde\" that was released in October 2002, peaking at number four on the U.S. Billboard Hot 100 chart. Her first solo album Dangerously in Love was released on June 24, 2003, after Michelle Williams and Kelly Rowland had released their solo efforts. The album sold 317,000 copies in its first week, debuted atop the Billboard 200, and has since sold 11 million copies worldwide. The album's lead single, \"Crazy in Love\", featuring Jay Z, became Beyoncé's first number-one single as a solo artist in the US. The single \"Baby Boy\" also reached number one, and singles, \"Me, Myself and I\" and \"Naughty Girl\", both reached the top-five. The album earned Beyoncé a then record-tying five awards at the 46th Annual Grammy Awards; Best Contemporary R&amp;B Album, Best Female R&amp;B Vocal Performance for \"Dangerously in Love 2\", Best R&amp;B Song and Best Rap/Sung Collaboration for \"Crazy in Love\", and Best R&amp;B Performance by a Duo or Group with Vocals for \"The Closer I Get to You\" with Luther Vandross.</td>\n",
       "      <td>When did Beyoncé release her first solo album?</td>\n",
       "      <td>June 24, 2003</td>\n",
       "    </tr>\n",
       "  </tbody>\n",
       "</table>\n",
       "</div>"
      ],
      "text/plain": [
       "                                                                                                                                                                                                                                                                                                                                                                                                                                                                                                                                                                                                                                                                                                                                                                                                                                                                                                                                                                                                                                                                                                context  \\\n",
       "288                                                                                                                                                                                                                                                                                                                                                                              Beyoncé Giselle Knowles-Carter (/biːˈjɒnseɪ/ bee-YON-say) (born September 4, 1981) is an American singer, songwriter, record producer and actress. Born and raised in Houston, Texas, she performed in various singing and dancing competitions as a child, and rose to fame in the late 1990s as lead singer of R&B girl-group Destiny's Child. Managed by her father, Mathew Knowles, the group became one of the world's best-selling girl groups of all time. Their hiatus saw the release of Beyoncé's debut album, Dangerously in Love (2003), which established her as a solo artist worldwide, earned five Grammy Awards and featured the Billboard Hot 100 number-one singles \"Crazy in Love\" and \"Baby Boy\".   \n",
       "409  Beyoncé's first solo recording was a feature on Jay Z's \"'03 Bonnie & Clyde\" that was released in October 2002, peaking at number four on the U.S. Billboard Hot 100 chart. Her first solo album Dangerously in Love was released on June 24, 2003, after Michelle Williams and Kelly Rowland had released their solo efforts. The album sold 317,000 copies in its first week, debuted atop the Billboard 200, and has since sold 11 million copies worldwide. The album's lead single, \"Crazy in Love\", featuring Jay Z, became Beyoncé's first number-one single as a solo artist in the US. The single \"Baby Boy\" also reached number one, and singles, \"Me, Myself and I\" and \"Naughty Girl\", both reached the top-five. The album earned Beyoncé a then record-tying five awards at the 46th Annual Grammy Awards; Best Contemporary R&B Album, Best Female R&B Vocal Performance for \"Dangerously in Love 2\", Best R&B Song and Best Rap/Sung Collaboration for \"Crazy in Love\", and Best R&B Performance by a Duo or Group with Vocals for \"The Closer I Get to You\" with Luther Vandross.   \n",
       "\n",
       "                                           question   answers.text  \n",
       "288  When did Beyoncé release her first solo album?           2003  \n",
       "409  When did Beyoncé release her first solo album?  June 24, 2003  "
      ]
     },
     "execution_count": 33,
     "metadata": {},
     "output_type": "execute_result"
    }
   ],
   "source": [
    "squad_df[['context','question','answers.text']][squad_df['question'].str.contains(\"When did Beyoncé release her first solo album?\")]"
   ]
  },
  {
   "cell_type": "code",
   "execution_count": 34,
   "id": "83c4257f-7184-4299-9144-114bd9cee9b6",
   "metadata": {},
   "outputs": [
    {
     "data": {
      "text/html": [
       "<div>\n",
       "<style scoped>\n",
       "    .dataframe tbody tr th:only-of-type {\n",
       "        vertical-align: middle;\n",
       "    }\n",
       "\n",
       "    .dataframe tbody tr th {\n",
       "        vertical-align: top;\n",
       "    }\n",
       "\n",
       "    .dataframe thead th {\n",
       "        text-align: right;\n",
       "    }\n",
       "</style>\n",
       "<table border=\"1\" class=\"dataframe\">\n",
       "  <thead>\n",
       "    <tr style=\"text-align: right;\">\n",
       "      <th></th>\n",
       "      <th>context</th>\n",
       "      <th>question</th>\n",
       "      <th>answers.text</th>\n",
       "    </tr>\n",
       "  </thead>\n",
       "  <tbody>\n",
       "    <tr>\n",
       "      <th>135</th>\n",
       "      <td>Beyoncé's first solo recording was a feature on Jay Z's \"'03 Bonnie &amp; Clyde\" that was released in October 2002, peaking at number four on the U.S. Billboard Hot 100 chart. Her first solo album Dangerously in Love was released on June 24, 2003, after Michelle Williams and Kelly Rowland had released their solo efforts. The album sold 317,000 copies in its first week, debuted atop the Billboard 200, and has since sold 11 million copies worldwide. The album's lead single, \"Crazy in Love\", featuring Jay Z, became Beyoncé's first number-one single as a solo artist in the US. The single \"Baby Boy\" also reached number one, and singles, \"Me, Myself and I\" and \"Naughty Girl\", both reached the top-five. The album earned Beyoncé a then record-tying five awards at the 46th Annual Grammy Awards; Best Contemporary R&amp;B Album, Best Female R&amp;B Vocal Performance for \"Dangerously in Love 2\", Best R&amp;B Song and Best Rap/Sung Collaboration for \"Crazy in Love\", and Best R&amp;B Performance by a Duo or Group with Vocals for \"The Closer I Get to You\" with Luther Vandross.</td>\n",
       "      <td>When did Beyoncé release her first solo album?</td>\n",
       "      <td>June 24, 2003</td>\n",
       "    </tr>\n",
       "  </tbody>\n",
       "</table>\n",
       "</div>"
      ],
      "text/plain": [
       "                                                                                                                                                                                                                                                                                                                                                                                                                                                                                                                                                                                                                                                                                                                                                                                                                                                                                                                                                                                                                                                                                                context  \\\n",
       "135  Beyoncé's first solo recording was a feature on Jay Z's \"'03 Bonnie & Clyde\" that was released in October 2002, peaking at number four on the U.S. Billboard Hot 100 chart. Her first solo album Dangerously in Love was released on June 24, 2003, after Michelle Williams and Kelly Rowland had released their solo efforts. The album sold 317,000 copies in its first week, debuted atop the Billboard 200, and has since sold 11 million copies worldwide. The album's lead single, \"Crazy in Love\", featuring Jay Z, became Beyoncé's first number-one single as a solo artist in the US. The single \"Baby Boy\" also reached number one, and singles, \"Me, Myself and I\" and \"Naughty Girl\", both reached the top-five. The album earned Beyoncé a then record-tying five awards at the 46th Annual Grammy Awards; Best Contemporary R&B Album, Best Female R&B Vocal Performance for \"Dangerously in Love 2\", Best R&B Song and Best Rap/Sung Collaboration for \"Crazy in Love\", and Best R&B Performance by a Duo or Group with Vocals for \"The Closer I Get to You\" with Luther Vandross.   \n",
       "\n",
       "                                           question   answers.text  \n",
       "135  When did Beyoncé release her first solo album?  June 24, 2003  "
      ]
     },
     "execution_count": 34,
     "metadata": {},
     "output_type": "execute_result"
    }
   ],
   "source": [
    "squad2_df[['context','question','answers.text']][squad2_df['question'].str.contains(\"When did Beyoncé release her first solo album?\")]"
   ]
  },
  {
   "cell_type": "code",
   "execution_count": 25,
   "id": "cb561cd3-3711-4cec-a698-6b180646ba5d",
   "metadata": {},
   "outputs": [
    {
     "data": {
      "text/html": [
       "<div>\n",
       "<style scoped>\n",
       "    .dataframe tbody tr th:only-of-type {\n",
       "        vertical-align: middle;\n",
       "    }\n",
       "\n",
       "    .dataframe tbody tr th {\n",
       "        vertical-align: top;\n",
       "    }\n",
       "\n",
       "    .dataframe thead th {\n",
       "        text-align: right;\n",
       "    }\n",
       "</style>\n",
       "<table border=\"1\" class=\"dataframe\">\n",
       "  <thead>\n",
       "    <tr style=\"text-align: right;\">\n",
       "      <th></th>\n",
       "      <th>context</th>\n",
       "      <th>question</th>\n",
       "      <th>answers.text</th>\n",
       "    </tr>\n",
       "  </thead>\n",
       "  <tbody>\n",
       "    <tr>\n",
       "      <th>277</th>\n",
       "      <td>Beyoncé Giselle Knowles-Carter (/biːˈjɒnseɪ/ bee-YON-say) (born September 4, 1981) is an American singer, songwriter, record producer and actress. Born and raised in Houston, Texas, she performed in various singing and dancing competitions as a child, and rose to fame in the late 1990s as lead singer of R&amp;B girl-group Destiny's Child. Managed by her father, Mathew Knowles, the group became one of the world's best-selling girl groups of all time. Their hiatus saw the release of Beyoncé's debut album, Dangerously in Love (2003), which established her as a solo artist worldwide, earned five Grammy Awards and featured the Billboard Hot 100 number-one singles \"Crazy in Love\" and \"Baby Boy\".</td>\n",
       "      <td>In what city did Beyonce grow up?</td>\n",
       "      <td>Houston</td>\n",
       "    </tr>\n",
       "    <tr>\n",
       "      <th>278</th>\n",
       "      <td>Beyoncé Giselle Knowles-Carter (/biːˈjɒnseɪ/ bee-YON-say) (born September 4, 1981) is an American singer, songwriter, record producer and actress. Born and raised in Houston, Texas, she performed in various singing and dancing competitions as a child, and rose to fame in the late 1990s as lead singer of R&amp;B girl-group Destiny's Child. Managed by her father, Mathew Knowles, the group became one of the world's best-selling girl groups of all time. Their hiatus saw the release of Beyoncé's debut album, Dangerously in Love (2003), which established her as a solo artist worldwide, earned five Grammy Awards and featured the Billboard Hot 100 number-one singles \"Crazy in Love\" and \"Baby Boy\".</td>\n",
       "      <td>What was the name of Beyonce's first solo album?</td>\n",
       "      <td>Dangerously in Love</td>\n",
       "    </tr>\n",
       "    <tr>\n",
       "      <th>279</th>\n",
       "      <td>Beyoncé Giselle Knowles-Carter (/biːˈjɒnseɪ/ bee-YON-say) (born September 4, 1981) is an American singer, songwriter, record producer and actress. Born and raised in Houston, Texas, she performed in various singing and dancing competitions as a child, and rose to fame in the late 1990s as lead singer of R&amp;B girl-group Destiny's Child. Managed by her father, Mathew Knowles, the group became one of the world's best-selling girl groups of all time. Their hiatus saw the release of Beyoncé's debut album, Dangerously in Love (2003), which established her as a solo artist worldwide, earned five Grammy Awards and featured the Billboard Hot 100 number-one singles \"Crazy in Love\" and \"Baby Boy\".</td>\n",
       "      <td>On what date was Beyonce born?</td>\n",
       "      <td>September 4, 1981</td>\n",
       "    </tr>\n",
       "    <tr>\n",
       "      <th>280</th>\n",
       "      <td>Beyoncé Giselle Knowles-Carter (/biːˈjɒnseɪ/ bee-YON-say) (born September 4, 1981) is an American singer, songwriter, record producer and actress. Born and raised in Houston, Texas, she performed in various singing and dancing competitions as a child, and rose to fame in the late 1990s as lead singer of R&amp;B girl-group Destiny's Child. Managed by her father, Mathew Knowles, the group became one of the world's best-selling girl groups of all time. Their hiatus saw the release of Beyoncé's debut album, Dangerously in Love (2003), which established her as a solo artist worldwide, earned five Grammy Awards and featured the Billboard Hot 100 number-one singles \"Crazy in Love\" and \"Baby Boy\".</td>\n",
       "      <td>What is Beyonce's full name?</td>\n",
       "      <td>Beyoncé Giselle Knowles-Carter</td>\n",
       "    </tr>\n",
       "    <tr>\n",
       "      <th>288</th>\n",
       "      <td>Beyoncé Giselle Knowles-Carter (/biːˈjɒnseɪ/ bee-YON-say) (born September 4, 1981) is an American singer, songwriter, record producer and actress. Born and raised in Houston, Texas, she performed in various singing and dancing competitions as a child, and rose to fame in the late 1990s as lead singer of R&amp;B girl-group Destiny's Child. Managed by her father, Mathew Knowles, the group became one of the world's best-selling girl groups of all time. Their hiatus saw the release of Beyoncé's debut album, Dangerously in Love (2003), which established her as a solo artist worldwide, earned five Grammy Awards and featured the Billboard Hot 100 number-one singles \"Crazy in Love\" and \"Baby Boy\".</td>\n",
       "      <td>When did Beyoncé release her first solo album?</td>\n",
       "      <td>2003</td>\n",
       "    </tr>\n",
       "    <tr>\n",
       "      <th>...</th>\n",
       "      <td>...</td>\n",
       "      <td>...</td>\n",
       "      <td>...</td>\n",
       "    </tr>\n",
       "    <tr>\n",
       "      <th>86306</th>\n",
       "      <td>In China, Yellow Emperor is regarded as the humanistic primogenitor.[citation needed] Sage kings such as Yao and Shun are humanistic figures as recorded.[citation needed] King Wu of Zhou has the famous saying: \"Humanity is the Ling (efficacious essence) of the world (among all).\" Among them Duke of Zhou, respected as a founder of Rujia (Confucianism), is especially prominent and pioneering in humanistic thought. His words were recorded in the Book of History as follows (translation):[citation needed]</td>\n",
       "      <td>What early adopter and developer of is associated with Confucianism?</td>\n",
       "      <td>Duke of Zhou</td>\n",
       "    </tr>\n",
       "    <tr>\n",
       "      <th>86320</th>\n",
       "      <td>Renaissance humanism was an intellectual movement in Europe of the later Middle Ages and the Early Modern period. The 19th-century German historian Georg Voigt (1827–91) identified Petrarch as the first Renaissance humanist. Paul Johnson agrees that Petrarch was \"the first to put into words the notion that the centuries between the fall of Rome and the present had been the age of Darkness\". According to Petrarch, what was needed to remedy this situation was the careful study and imitation of the great classical authors. For Petrarch and Boccaccio, the greatest master was Cicero, whose prose became the model for both learned (Latin) and vernacular (Italian) prose.</td>\n",
       "      <td>The study and following of classical writers was said to be a solution to what issue?</td>\n",
       "      <td>age of Darkness</td>\n",
       "    </tr>\n",
       "    <tr>\n",
       "      <th>86322</th>\n",
       "      <td>In the high Renaissance, in fact, there was a hope that more direct knowledge of the wisdom of antiquity, including the writings of the Church fathers, the earliest known Greek texts of the Christian Gospels, and in some cases even the Jewish Kabbalah, would initiate a harmonious new era of universal agreement. With this end in view, Renaissance Church authorities afforded humanists what in retrospect appears a remarkable degree of freedom of thought. One humanist, the Greek Orthodox Platonist Gemistus Pletho (1355–1452), based in Mystras, Greece (but in contact with humanists in Florence, Venice, and Rome) taught a Christianised version of pagan polytheism.</td>\n",
       "      <td>Who gave followers of Humanism the ability to think out of bounds?</td>\n",
       "      <td>Renaissance Church authorities</td>\n",
       "    </tr>\n",
       "    <tr>\n",
       "      <th>86328</th>\n",
       "      <td>The humanists' close study of Latin literary texts soon enabled them to discern historical differences in the writing styles of different periods. By analogy with what they saw as decline of Latin, they applied the principle of ad fontes, or back to the sources, across broad areas of learning, seeking out manuscripts of Patristic literature as well as pagan authors. In 1439, while employed in Naples at the court of Alfonso V of Aragon (at the time engaged in a dispute with the Papal States) the humanist Lorenzo Valla used stylistic textual analysis, now called philology, to prove that the Donation of Constantine, which purported to confer temporal powers on the Pope of Rome, was an 8th-century forgery. For the next 70 years, however, neither Valla nor any of his contemporaries thought to apply the techniques of philology to other controversial manuscripts in this way. Instead, after the fall of the Byzantine Empire to the Turks in 1453, which brought a flood of Greek Orthodox refugees to Italy, humanist scholars increasingly turned to the study of Neoplatonism and Hermeticism, hoping to bridge the differences between the Greek and Roman Churches, and even between Christianity itself and the non-Christian world. The refugees brought with them Greek manuscripts, not only of Plato and Aristotle, but also of the Christian Gospels, previously unavailable in the Latin West.</td>\n",
       "      <td>What caused a large migration of Greek refuges in the 1450s?</td>\n",
       "      <td>Byzantine Empire</td>\n",
       "    </tr>\n",
       "    <tr>\n",
       "      <th>86330</th>\n",
       "      <td>After 1517, when the new invention of printing made these texts widely available, the Dutch humanist Erasmus, who had studied Greek at the Venetian printing house of Aldus Manutius, began a philological analysis of the Gospels in the spirit of Valla, comparing the Greek originals with their Latin translations with a view to correcting errors and discrepancies in the latter. Erasmus, along with the French humanist Jacques Lefèvre d'Étaples, began issuing new translations, laying the groundwork for the Protestant Reformation. Henceforth Renaissance humanism, particularly in the German North, became concerned with religion, while Italian and French humanism concentrated increasingly on scholarship and philology addressed to a narrow audience of specialists, studiously avoiding topics that might offend despotic rulers or which might be seen as corrosive of faith. After the Reformation, critical examination of the Bible did not resume until the advent of the so-called Higher criticism of the 19th-century German Tübingen school.</td>\n",
       "      <td>When are these texts first able to reach a large amount of people?</td>\n",
       "      <td>1517</td>\n",
       "    </tr>\n",
       "  </tbody>\n",
       "</table>\n",
       "<p>705 rows × 3 columns</p>\n",
       "</div>"
      ],
      "text/plain": [
       "                                                                                                                                                                                                                                                                                                                                                                                                                                                                                                                                                                                                                                                                                                                                                                                                                                                                                                                                                                                                                                                                                                                                                                                                                                                                                                                                                                                                                                              context  \\\n",
       "277                                                                                                                                                                                                                                                                                                                                                                                                                                                                                                                                                                                                                                                                                                                            Beyoncé Giselle Knowles-Carter (/biːˈjɒnseɪ/ bee-YON-say) (born September 4, 1981) is an American singer, songwriter, record producer and actress. Born and raised in Houston, Texas, she performed in various singing and dancing competitions as a child, and rose to fame in the late 1990s as lead singer of R&B girl-group Destiny's Child. Managed by her father, Mathew Knowles, the group became one of the world's best-selling girl groups of all time. Their hiatus saw the release of Beyoncé's debut album, Dangerously in Love (2003), which established her as a solo artist worldwide, earned five Grammy Awards and featured the Billboard Hot 100 number-one singles \"Crazy in Love\" and \"Baby Boy\".   \n",
       "278                                                                                                                                                                                                                                                                                                                                                                                                                                                                                                                                                                                                                                                                                                                            Beyoncé Giselle Knowles-Carter (/biːˈjɒnseɪ/ bee-YON-say) (born September 4, 1981) is an American singer, songwriter, record producer and actress. Born and raised in Houston, Texas, she performed in various singing and dancing competitions as a child, and rose to fame in the late 1990s as lead singer of R&B girl-group Destiny's Child. Managed by her father, Mathew Knowles, the group became one of the world's best-selling girl groups of all time. Their hiatus saw the release of Beyoncé's debut album, Dangerously in Love (2003), which established her as a solo artist worldwide, earned five Grammy Awards and featured the Billboard Hot 100 number-one singles \"Crazy in Love\" and \"Baby Boy\".   \n",
       "279                                                                                                                                                                                                                                                                                                                                                                                                                                                                                                                                                                                                                                                                                                                            Beyoncé Giselle Knowles-Carter (/biːˈjɒnseɪ/ bee-YON-say) (born September 4, 1981) is an American singer, songwriter, record producer and actress. Born and raised in Houston, Texas, she performed in various singing and dancing competitions as a child, and rose to fame in the late 1990s as lead singer of R&B girl-group Destiny's Child. Managed by her father, Mathew Knowles, the group became one of the world's best-selling girl groups of all time. Their hiatus saw the release of Beyoncé's debut album, Dangerously in Love (2003), which established her as a solo artist worldwide, earned five Grammy Awards and featured the Billboard Hot 100 number-one singles \"Crazy in Love\" and \"Baby Boy\".   \n",
       "280                                                                                                                                                                                                                                                                                                                                                                                                                                                                                                                                                                                                                                                                                                                            Beyoncé Giselle Knowles-Carter (/biːˈjɒnseɪ/ bee-YON-say) (born September 4, 1981) is an American singer, songwriter, record producer and actress. Born and raised in Houston, Texas, she performed in various singing and dancing competitions as a child, and rose to fame in the late 1990s as lead singer of R&B girl-group Destiny's Child. Managed by her father, Mathew Knowles, the group became one of the world's best-selling girl groups of all time. Their hiatus saw the release of Beyoncé's debut album, Dangerously in Love (2003), which established her as a solo artist worldwide, earned five Grammy Awards and featured the Billboard Hot 100 number-one singles \"Crazy in Love\" and \"Baby Boy\".   \n",
       "288                                                                                                                                                                                                                                                                                                                                                                                                                                                                                                                                                                                                                                                                                                                            Beyoncé Giselle Knowles-Carter (/biːˈjɒnseɪ/ bee-YON-say) (born September 4, 1981) is an American singer, songwriter, record producer and actress. Born and raised in Houston, Texas, she performed in various singing and dancing competitions as a child, and rose to fame in the late 1990s as lead singer of R&B girl-group Destiny's Child. Managed by her father, Mathew Knowles, the group became one of the world's best-selling girl groups of all time. Their hiatus saw the release of Beyoncé's debut album, Dangerously in Love (2003), which established her as a solo artist worldwide, earned five Grammy Awards and featured the Billboard Hot 100 number-one singles \"Crazy in Love\" and \"Baby Boy\".   \n",
       "...                                                                                                                                                                                                                                                                                                                                                                                                                                                                                                                                                                                                                                                                                                                                                                                                                                                                                                                                                                                                                                                                                                                                                                                                                                                                                                                                                                                                                                               ...   \n",
       "86306                                                                                                                                                                                                                                                                                                                                                                                                                                                                                                                                                                                                                                                                                                                                                                                                                                                                                                                       In China, Yellow Emperor is regarded as the humanistic primogenitor.[citation needed] Sage kings such as Yao and Shun are humanistic figures as recorded.[citation needed] King Wu of Zhou has the famous saying: \"Humanity is the Ling (efficacious essence) of the world (among all).\" Among them Duke of Zhou, respected as a founder of Rujia (Confucianism), is especially prominent and pioneering in humanistic thought. His words were recorded in the Book of History as follows (translation):[citation needed]   \n",
       "86320                                                                                                                                                                                                                                                                                                                                                                                                                                                                                                                                                                                                                                                                                                                                                 Renaissance humanism was an intellectual movement in Europe of the later Middle Ages and the Early Modern period. The 19th-century German historian Georg Voigt (1827–91) identified Petrarch as the first Renaissance humanist. Paul Johnson agrees that Petrarch was \"the first to put into words the notion that the centuries between the fall of Rome and the present had been the age of Darkness\". According to Petrarch, what was needed to remedy this situation was the careful study and imitation of the great classical authors. For Petrarch and Boccaccio, the greatest master was Cicero, whose prose became the model for both learned (Latin) and vernacular (Italian) prose.   \n",
       "86322                                                                                                                                                                                                                                                                                                                                                                                                                                                                                                                                                                                                                                                                                                                                                      In the high Renaissance, in fact, there was a hope that more direct knowledge of the wisdom of antiquity, including the writings of the Church fathers, the earliest known Greek texts of the Christian Gospels, and in some cases even the Jewish Kabbalah, would initiate a harmonious new era of universal agreement. With this end in view, Renaissance Church authorities afforded humanists what in retrospect appears a remarkable degree of freedom of thought. One humanist, the Greek Orthodox Platonist Gemistus Pletho (1355–1452), based in Mystras, Greece (but in contact with humanists in Florence, Venice, and Rome) taught a Christianised version of pagan polytheism.   \n",
       "86328  The humanists' close study of Latin literary texts soon enabled them to discern historical differences in the writing styles of different periods. By analogy with what they saw as decline of Latin, they applied the principle of ad fontes, or back to the sources, across broad areas of learning, seeking out manuscripts of Patristic literature as well as pagan authors. In 1439, while employed in Naples at the court of Alfonso V of Aragon (at the time engaged in a dispute with the Papal States) the humanist Lorenzo Valla used stylistic textual analysis, now called philology, to prove that the Donation of Constantine, which purported to confer temporal powers on the Pope of Rome, was an 8th-century forgery. For the next 70 years, however, neither Valla nor any of his contemporaries thought to apply the techniques of philology to other controversial manuscripts in this way. Instead, after the fall of the Byzantine Empire to the Turks in 1453, which brought a flood of Greek Orthodox refugees to Italy, humanist scholars increasingly turned to the study of Neoplatonism and Hermeticism, hoping to bridge the differences between the Greek and Roman Churches, and even between Christianity itself and the non-Christian world. The refugees brought with them Greek manuscripts, not only of Plato and Aristotle, but also of the Christian Gospels, previously unavailable in the Latin West.   \n",
       "86330                                                                                                                                                                                                                                                                                                                                                                  After 1517, when the new invention of printing made these texts widely available, the Dutch humanist Erasmus, who had studied Greek at the Venetian printing house of Aldus Manutius, began a philological analysis of the Gospels in the spirit of Valla, comparing the Greek originals with their Latin translations with a view to correcting errors and discrepancies in the latter. Erasmus, along with the French humanist Jacques Lefèvre d'Étaples, began issuing new translations, laying the groundwork for the Protestant Reformation. Henceforth Renaissance humanism, particularly in the German North, became concerned with religion, while Italian and French humanism concentrated increasingly on scholarship and philology addressed to a narrow audience of specialists, studiously avoiding topics that might offend despotic rulers or which might be seen as corrosive of faith. After the Reformation, critical examination of the Bible did not resume until the advent of the so-called Higher criticism of the 19th-century German Tübingen school.   \n",
       "\n",
       "                                                                                    question  \\\n",
       "277                                                        In what city did Beyonce grow up?   \n",
       "278                                         What was the name of Beyonce's first solo album?   \n",
       "279                                                           On what date was Beyonce born?   \n",
       "280                                                             What is Beyonce's full name?   \n",
       "288                                           When did Beyoncé release her first solo album?   \n",
       "...                                                                                      ...   \n",
       "86306                   What early adopter and developer of is associated with Confucianism?   \n",
       "86320  The study and following of classical writers was said to be a solution to what issue?   \n",
       "86322                     Who gave followers of Humanism the ability to think out of bounds?   \n",
       "86328                           What caused a large migration of Greek refuges in the 1450s?   \n",
       "86330                     When are these texts first able to reach a large amount of people?   \n",
       "\n",
       "                         answers.text  \n",
       "277                           Houston  \n",
       "278               Dangerously in Love  \n",
       "279                 September 4, 1981  \n",
       "280    Beyoncé Giselle Knowles-Carter  \n",
       "288                              2003  \n",
       "...                               ...  \n",
       "86306                    Duke of Zhou  \n",
       "86320                 age of Darkness  \n",
       "86322  Renaissance Church authorities  \n",
       "86328                Byzantine Empire  \n",
       "86330                            1517  \n",
       "\n",
       "[705 rows x 3 columns]"
      ]
     },
     "execution_count": 25,
     "metadata": {},
     "output_type": "execute_result"
    }
   ],
   "source": [
    "squad_diff[['context','question','answers.text']][squad_diff['answers.text']!= \"\"]"
   ]
  },
  {
   "cell_type": "code",
   "execution_count": 16,
   "id": "92edc25c-f53f-4b52-8144-d8bd37ff0b96",
   "metadata": {},
   "outputs": [
    {
     "data": {
      "text/plain": [
       "                                                                                                                          43492\n",
       "Thomas Jefferson                                                                                                              4\n",
       "five                                                                                                                          4\n",
       "matter                                                                                                                        3\n",
       "Hokkien speakers                                                                                                              3\n",
       "                                                                                                                          ...  \n",
       "information from various perspectives, including psychology, biology, history, sociology, education, and anthropology.        1\n",
       "preparation of children for adult roles.                                                                                      1\n",
       "a deeper voice and larger adam's apple                                                                                        1\n",
       "The testes                                                                                                                    1\n",
       "1517                                                                                                                          1\n",
       "Name: answers.text, Length: 667, dtype: int64"
      ]
     },
     "execution_count": 16,
     "metadata": {},
     "output_type": "execute_result"
    }
   ],
   "source": [
    "squad_diff['answers.text'].value_counts()"
   ]
  },
  {
   "cell_type": "code",
   "execution_count": 35,
   "id": "eaf04f26-5b5f-4aea-898d-90bcb90fbdba",
   "metadata": {},
   "outputs": [
    {
     "data": {
      "text/html": [
       "<div>\n",
       "<style scoped>\n",
       "    .dataframe tbody tr th:only-of-type {\n",
       "        vertical-align: middle;\n",
       "    }\n",
       "\n",
       "    .dataframe tbody tr th {\n",
       "        vertical-align: top;\n",
       "    }\n",
       "\n",
       "    .dataframe thead th {\n",
       "        text-align: right;\n",
       "    }\n",
       "</style>\n",
       "<table border=\"1\" class=\"dataframe\">\n",
       "  <thead>\n",
       "    <tr style=\"text-align: right;\">\n",
       "      <th></th>\n",
       "      <th>context</th>\n",
       "      <th>question</th>\n",
       "      <th>answers.text</th>\n",
       "    </tr>\n",
       "  </thead>\n",
       "  <tbody>\n",
       "    <tr>\n",
       "      <th>30930</th>\n",
       "      <td>Antarctica, on average, is the coldest, driest, and windiest continent, and has the highest average elevation of all the continents. Antarctica is considered a desert, with annual precipitation of only 200 mm (8 in) along the coast and far less inland. The temperature in Antarctica has reached −89.2 °C (−128.6 °F), though the average for the third quarter (the coldest part of the year) is −63 °C (−81 °F). There are no permanent human residents, but anywhere from 1,000 to 5,000 people reside throughout the year at the research stations scattered across the continent. Organisms native to Antarctica include many types of algae, bacteria, fungi, plants, protista, and certain animals, such as mites, nematodes, penguins, seals and tardigrades. Vegetation, where it occurs, is tundra.</td>\n",
       "      <td>What is Antarctica's average temperature during the coldest part of the year?</td>\n",
       "      <td>−63 °C (−81 °F)</td>\n",
       "    </tr>\n",
       "    <tr>\n",
       "      <th>38422</th>\n",
       "      <td>The Hellenistic period covers the period of ancient Greek (Hellenic) history and Mediterranean history between the death of Alexander the Great in 323 BC and the emergence of the Roman Empire as signified by the Battle of Actium in 31 BC and the subsequent conquest of Ptolemaic Egypt the following year. At this time, Greek cultural influence and power was at its peak in Europe, Africa and Asia, experiencing prosperity and progress in the arts, exploration, literature, theatre, architecture, music, mathematics, philosophy, and science. For example, competitive public games took place, ideas in biology, and popular entertainment in theaters. It is often considered a period of transition, sometimes even of decadence or degeneration, compared to the enlightenment of the Greek Classical era. The Hellenistic period saw the rise of New Comedy, Alexandrian poetry, the Septuagint and the philosophies of Stoicism and Epicureanism. Greek Science was advanced by the works of the mathematician Euclid and the polymath Archimedes. The religious sphere expanded to include new gods such as the Greco-Egyptian Serapis, eastern deities such as Attis and Cybele and the Greek adoption of Buddhism.</td>\n",
       "      <td>dd</td>\n",
       "      <td>yptian Se</td>\n",
       "    </tr>\n",
       "    <tr>\n",
       "      <th>38676</th>\n",
       "      <td>During the Hellenistic period, Judea became a frontier region between the Seleucid Empire and Ptolemaic Egypt and therefore was often the frontline of the Syrian wars, changing hands several times during these conflicts. Under the Hellenistic kingdoms, Judea was ruled by the hereditary office of the High Priest of Israel as a Hellenistic vassal. This period also saw the rise of a Hellenistic Judaism, which first developed in the Jewish diaspora of Alexandria and Antioch, and then spread to Judea. The major literary product of this cultural syncretism is the Septuagint translation of the Hebrew Bible from Biblical Hebrew and Biblical Aramaic to Koiné Greek. The reason for the production of this translation seems to be that many of the Alexandrian Jews had lost the ability to speak Hebrew and Aramaic.</td>\n",
       "      <td>I couldn't could up with another question. But i need to fill this space because I can't submit the hit.</td>\n",
       "      <td>y of</td>\n",
       "    </tr>\n",
       "    <tr>\n",
       "      <th>74205</th>\n",
       "      <td>All states have a geographic scope of interests, actions, or projected power. This is a crucial factor in distinguishing a great power from a regional power; by definition the scope of a regional power is restricted to its region. It has been suggested that a great power should be possessed of actual influence throughout the scope of the prevailing international system. Arnold J. Toynbee, for example, observes that \"Great power may be defined as a political force exerting an effect co-extensive with the widest range of the society in which it operates. The Great powers of 1914 were 'world-powers' because Western society had recently become 'world-wide'.\"</td>\n",
       "      <td>What were the great powers of 1914 called?</td>\n",
       "      <td>world-powers</td>\n",
       "    </tr>\n",
       "    <tr>\n",
       "      <th>46828</th>\n",
       "      <td>London is a leading global city, with strengths in the arts, commerce, education, entertainment, fashion, finance, healthcare, media, professional services, research and development, tourism, and transport all contributing to its prominence. It is one of the world's leading financial centres and has the fifth-or sixth-largest metropolitan area GDP in the world depending on measurement.[note 3] London is a world cultural capital. It is the world's most-visited city as measured by international arrivals and has the world's largest city airport system measured by passenger traffic. London is one of the world's leading investment destinations, hosting more international retailers and ultra high-net-worth individuals than any other city. London's 43 universities form the largest concentration of higher education institutes in Europe, and a 2014 report placed it first in the world university rankings. According to the report London also ranks first in the world in software, multimedia development and design, and shares first position in technology readiness. In 2012, London became the first city to host the modern Summer Olympic Games three times.</td>\n",
       "      <td>Based on international arrivals, where does London rank in terms of most-visited cities?</td>\n",
       "      <td>world's most-visited</td>\n",
       "    </tr>\n",
       "    <tr>\n",
       "      <th>41816</th>\n",
       "      <td>Shell was vertically integrated and is active in every area of the oil and gas industry, including exploration and production, refining, distribution and marketing, petrochemicals, power generation and trading. It has minor renewable energy activities in the form of biofuels and wind. It has operations in over 90 countries, produces around 3.1 million barrels of oil equivalent per day and has 44,000 service stations worldwide. Shell Oil Company, its subsidiary in the United States, is one of its largest businesses.</td>\n",
       "      <td>Aside from biofuels what other renewable energy activities is Shell involved with?</td>\n",
       "      <td>wind</td>\n",
       "    </tr>\n",
       "    <tr>\n",
       "      <th>54120</th>\n",
       "      <td>The languages have not undergone the deliberate highlighting of minor linguistic differences in the name of nationalism as has occurred in the Bosnian, Serbian and Croatian standards of Serbo-Croatian. However, most Slavic languages (including Czech) have been distanced in this way from Russian influences because of widespread public resentment against the former Soviet Union (which occupied Czechoslovakia in 1968). Czech and Slovak form a dialect continuum, with great similarity between neighboring Czech and Slovak dialects. (See \"Dialects\" below.)</td>\n",
       "      <td>Why have many Slavic languages sought to separate themselves from Russian influence?</td>\n",
       "      <td>widespread public resentment against the former Soviet Union</td>\n",
       "    </tr>\n",
       "    <tr>\n",
       "      <th>63969</th>\n",
       "      <td>South Slavic dialects historically formed a continuum. The turbulent history of the area, particularly due to expansion of the Ottoman Empire, resulted in a patchwork of dialectal and religious differences. Due to population migrations, Shtokavian became the most widespread in the western Balkans, intruding westwards into the area previously occupied by Chakavian and Kajkavian (which further blend into Slovenian in the northwest). Bosniaks, Croats and Serbs differ in religion and were historically often part of different cultural circles, although a large part of the nations have lived side by side under foreign overlords. During that period, the language was referred to under a variety of names, such as \"Slavic\", \"Illyrian\", or according to region, \"Bosnian\", \"Serbian\" and \"Croatian\", the latter often in combination with \"Slavonian\" or \"Dalmatian\".</td>\n",
       "      <td>In which geographical region did Shtokavian become wide spread?</td>\n",
       "      <td>western Balkans</td>\n",
       "    </tr>\n",
       "    <tr>\n",
       "      <th>16614</th>\n",
       "      <td>Different fields of science use the term matter in different, and sometimes incompatible, ways. Some of these ways are based on loose historical meanings, from a time when there was no reason to distinguish mass and matter. As such, there is no single universally agreed scientific meaning of the word \"matter\". Scientifically, the term \"mass\" is well-defined, but \"matter\" is not. Sometimes in the field of physics \"matter\" is simply equated with particles that exhibit rest mass (i.e., that cannot travel at the speed of light), such as quarks and leptons. However, in both physics and chemistry, matter exhibits both wave-like and particle-like properties, the so-called wave–particle duality.</td>\n",
       "      <td>What duality describes the conflicting properties of matter in the fields of chemistry and physics?</td>\n",
       "      <td>wave–particle duality</td>\n",
       "    </tr>\n",
       "    <tr>\n",
       "      <th>16601</th>\n",
       "      <td>All the objects from everyday life that we can bump into, touch or squeeze are composed of atoms. This atomic matter is in turn made up of interacting subatomic particles—usually a nucleus of protons and neutrons, and a cloud of orbiting electrons. Typically, science considers these composite particles matter because they have both rest mass and volume. By contrast, massless particles, such as photons, are not considered matter, because they have neither rest mass nor volume. However, not all particles with rest mass have a classical volume, since fundamental particles such as quarks and leptons (sometimes equated with matter) are considered \"point particles\" with no effective size or volume. Nevertheless, quarks and leptons together make up \"ordinary matter\", and their interactions contribute to the effective volume of the composite particles that make up ordinary matter.</td>\n",
       "      <td>Despite not having size or volume themselves, quarks and leptons contribute to what measure of composite particles in matter?</td>\n",
       "      <td>volume</td>\n",
       "    </tr>\n",
       "  </tbody>\n",
       "</table>\n",
       "</div>"
      ],
      "text/plain": [
       "                                                                                                                                                                                                                                                                                                                                                                                                                                                                                                                                                                                                                                                                                                                                                                                                                                                                                                                                                                                                                                                                                                                                                                                                                                          context  \\\n",
       "30930                                                                                                                                                                                                                                                                                                                                                                                                                         Antarctica, on average, is the coldest, driest, and windiest continent, and has the highest average elevation of all the continents. Antarctica is considered a desert, with annual precipitation of only 200 mm (8 in) along the coast and far less inland. The temperature in Antarctica has reached −89.2 °C (−128.6 °F), though the average for the third quarter (the coldest part of the year) is −63 °C (−81 °F). There are no permanent human residents, but anywhere from 1,000 to 5,000 people reside throughout the year at the research stations scattered across the continent. Organisms native to Antarctica include many types of algae, bacteria, fungi, plants, protista, and certain animals, such as mites, nematodes, penguins, seals and tardigrades. Vegetation, where it occurs, is tundra.   \n",
       "38422  The Hellenistic period covers the period of ancient Greek (Hellenic) history and Mediterranean history between the death of Alexander the Great in 323 BC and the emergence of the Roman Empire as signified by the Battle of Actium in 31 BC and the subsequent conquest of Ptolemaic Egypt the following year. At this time, Greek cultural influence and power was at its peak in Europe, Africa and Asia, experiencing prosperity and progress in the arts, exploration, literature, theatre, architecture, music, mathematics, philosophy, and science. For example, competitive public games took place, ideas in biology, and popular entertainment in theaters. It is often considered a period of transition, sometimes even of decadence or degeneration, compared to the enlightenment of the Greek Classical era. The Hellenistic period saw the rise of New Comedy, Alexandrian poetry, the Septuagint and the philosophies of Stoicism and Epicureanism. Greek Science was advanced by the works of the mathematician Euclid and the polymath Archimedes. The religious sphere expanded to include new gods such as the Greco-Egyptian Serapis, eastern deities such as Attis and Cybele and the Greek adoption of Buddhism.   \n",
       "38676                                                                                                                                                                                                                                                                                                                                                                                                  During the Hellenistic period, Judea became a frontier region between the Seleucid Empire and Ptolemaic Egypt and therefore was often the frontline of the Syrian wars, changing hands several times during these conflicts. Under the Hellenistic kingdoms, Judea was ruled by the hereditary office of the High Priest of Israel as a Hellenistic vassal. This period also saw the rise of a Hellenistic Judaism, which first developed in the Jewish diaspora of Alexandria and Antioch, and then spread to Judea. The major literary product of this cultural syncretism is the Septuagint translation of the Hebrew Bible from Biblical Hebrew and Biblical Aramaic to Koiné Greek. The reason for the production of this translation seems to be that many of the Alexandrian Jews had lost the ability to speak Hebrew and Aramaic.   \n",
       "74205                                                                                                                                                                                                                                                                                                                                                                                                                                                                                                                                                      All states have a geographic scope of interests, actions, or projected power. This is a crucial factor in distinguishing a great power from a regional power; by definition the scope of a regional power is restricted to its region. It has been suggested that a great power should be possessed of actual influence throughout the scope of the prevailing international system. Arnold J. Toynbee, for example, observes that \"Great power may be defined as a political force exerting an effect co-extensive with the widest range of the society in which it operates. The Great powers of 1914 were 'world-powers' because Western society had recently become 'world-wide'.\"   \n",
       "46828                                     London is a leading global city, with strengths in the arts, commerce, education, entertainment, fashion, finance, healthcare, media, professional services, research and development, tourism, and transport all contributing to its prominence. It is one of the world's leading financial centres and has the fifth-or sixth-largest metropolitan area GDP in the world depending on measurement.[note 3] London is a world cultural capital. It is the world's most-visited city as measured by international arrivals and has the world's largest city airport system measured by passenger traffic. London is one of the world's leading investment destinations, hosting more international retailers and ultra high-net-worth individuals than any other city. London's 43 universities form the largest concentration of higher education institutes in Europe, and a 2014 report placed it first in the world university rankings. According to the report London also ranks first in the world in software, multimedia development and design, and shares first position in technology readiness. In 2012, London became the first city to host the modern Summer Olympic Games three times.   \n",
       "41816                                                                                                                                                                                                                                                                                                                                                                                                                                                                                                                                                                                                                                                                                                    Shell was vertically integrated and is active in every area of the oil and gas industry, including exploration and production, refining, distribution and marketing, petrochemicals, power generation and trading. It has minor renewable energy activities in the form of biofuels and wind. It has operations in over 90 countries, produces around 3.1 million barrels of oil equivalent per day and has 44,000 service stations worldwide. Shell Oil Company, its subsidiary in the United States, is one of its largest businesses.   \n",
       "54120                                                                                                                                                                                                                                                                                                                                                                                                                                                                                                                                                                                                                                                                 The languages have not undergone the deliberate highlighting of minor linguistic differences in the name of nationalism as has occurred in the Bosnian, Serbian and Croatian standards of Serbo-Croatian. However, most Slavic languages (including Czech) have been distanced in this way from Russian influences because of widespread public resentment against the former Soviet Union (which occupied Czechoslovakia in 1968). Czech and Slovak form a dialect continuum, with great similarity between neighboring Czech and Slovak dialects. (See \"Dialects\" below.)   \n",
       "63969                                                                                                                                                                                                                                                                                                                                               South Slavic dialects historically formed a continuum. The turbulent history of the area, particularly due to expansion of the Ottoman Empire, resulted in a patchwork of dialectal and religious differences. Due to population migrations, Shtokavian became the most widespread in the western Balkans, intruding westwards into the area previously occupied by Chakavian and Kajkavian (which further blend into Slovenian in the northwest). Bosniaks, Croats and Serbs differ in religion and were historically often part of different cultural circles, although a large part of the nations have lived side by side under foreign overlords. During that period, the language was referred to under a variety of names, such as \"Slavic\", \"Illyrian\", or according to region, \"Bosnian\", \"Serbian\" and \"Croatian\", the latter often in combination with \"Slavonian\" or \"Dalmatian\".   \n",
       "16614                                                                                                                                                                                                                                                                                                                                                                                                                                                                                                                    Different fields of science use the term matter in different, and sometimes incompatible, ways. Some of these ways are based on loose historical meanings, from a time when there was no reason to distinguish mass and matter. As such, there is no single universally agreed scientific meaning of the word \"matter\". Scientifically, the term \"mass\" is well-defined, but \"matter\" is not. Sometimes in the field of physics \"matter\" is simply equated with particles that exhibit rest mass (i.e., that cannot travel at the speed of light), such as quarks and leptons. However, in both physics and chemistry, matter exhibits both wave-like and particle-like properties, the so-called wave–particle duality.   \n",
       "16601                                                                                                                                                                                                                                                                                                                       All the objects from everyday life that we can bump into, touch or squeeze are composed of atoms. This atomic matter is in turn made up of interacting subatomic particles—usually a nucleus of protons and neutrons, and a cloud of orbiting electrons. Typically, science considers these composite particles matter because they have both rest mass and volume. By contrast, massless particles, such as photons, are not considered matter, because they have neither rest mass nor volume. However, not all particles with rest mass have a classical volume, since fundamental particles such as quarks and leptons (sometimes equated with matter) are considered \"point particles\" with no effective size or volume. Nevertheless, quarks and leptons together make up \"ordinary matter\", and their interactions contribute to the effective volume of the composite particles that make up ordinary matter.   \n",
       "\n",
       "                                                                                                                            question  \\\n",
       "30930                                                  What is Antarctica's average temperature during the coldest part of the year?   \n",
       "38422                                                                                                                             dd   \n",
       "38676                      I couldn't could up with another question. But i need to fill this space because I can't submit the hit.    \n",
       "74205                                                                                     What were the great powers of 1914 called?   \n",
       "46828                                       Based on international arrivals, where does London rank in terms of most-visited cities?   \n",
       "41816                                             Aside from biofuels what other renewable energy activities is Shell involved with?   \n",
       "54120                                           Why have many Slavic languages sought to separate themselves from Russian influence?   \n",
       "63969                                                                In which geographical region did Shtokavian become wide spread?   \n",
       "16614                            What duality describes the conflicting properties of matter in the fields of chemistry and physics?   \n",
       "16601  Despite not having size or volume themselves, quarks and leptons contribute to what measure of composite particles in matter?   \n",
       "\n",
       "                                                       answers.text  \n",
       "30930                                               −63 °C (−81 °F)  \n",
       "38422                                                     yptian Se  \n",
       "38676                                                          y of  \n",
       "74205                                                  world-powers  \n",
       "46828                                          world's most-visited  \n",
       "41816                                                          wind  \n",
       "54120  widespread public resentment against the former Soviet Union  \n",
       "63969                                               western Balkans  \n",
       "16614                                         wave–particle duality  \n",
       "16601                                                        volume  "
      ]
     },
     "execution_count": 35,
     "metadata": {},
     "output_type": "execute_result"
    }
   ],
   "source": [
    "squad_diff.sort_values(by=['answers.text'], ascending=False).head(10)"
   ]
  },
  {
   "cell_type": "code",
   "execution_count": 22,
   "id": "b4c580a7-d831-4867-adbd-16f5acb31bd4",
   "metadata": {},
   "outputs": [
    {
     "name": "stdout",
     "output_type": "stream",
     "text": [
      "There are 78880 words including stop words\n"
     ]
    }
   ],
   "source": [
    "alllist=[sent for sent in squad_df.context]\n",
    "corp= ' '. join(s for s in alllist)\n",
    "vocab = FreqDist(word.lower() for word in tokenizer.tokenize(corp))\n",
    "print(\"There are \" + str(len(vocab)) + \" words including stop words\")"
   ]
  },
  {
   "cell_type": "code",
   "execution_count": 23,
   "id": "bf7a372d-70e3-4c92-8b9a-afb76ccf57d8",
   "metadata": {},
   "outputs": [
    {
     "name": "stdout",
     "output_type": "stream",
     "text": [
      "There are 79265 words including stop words\n"
     ]
    }
   ],
   "source": [
    "alllist=[sent for sent in squad2_df.context]\n",
    "corp= ' '. join(s for s in alllist)\n",
    "vocab = FreqDist(word.lower() for word in tokenizer.tokenize(corp))\n",
    "print(\"There are \" + str(len(vocab)) + \" words including stop words\")"
   ]
  },
  {
   "cell_type": "code",
   "execution_count": 25,
   "id": "63181289-1b2a-452e-ac60-80d0c359323e",
   "metadata": {},
   "outputs": [],
   "source": [
    "def Zipf_plot(dataframe):\n",
    "    \"\"\"\n",
    "    This function plots the correspondence of the distribution of terms\n",
    "    generated by count_vocab_frequencies with the projected Zipf's law\n",
    "    distribution.\n",
    "    s is the value of the exponent characterizing the distribution, currently at 1.\n",
    "    # TODO : see if changing this makes the distribution fit better -- \n",
    "    e.g. When Zipf's law is checked for cities, a better fit has been found with exponent s = 1.07\n",
    "    \"\"\"\n",
    "    y_pos = np.arange(500)\n",
    "    plt.figure(figsize=(10,8))\n",
    "    s = 1\n",
    "    expected_zipf = [dataframe.sort_values(by='total', ascending=False)['total'][0]/(i+1)**s for i in y_pos]\n",
    "    plt.bar(y_pos, dataframe.sort_values(by='total', ascending=False)['total'][:500], align='center', alpha=0.5)\n",
    "    plt.plot(y_pos, expected_zipf, color='r', linestyle='--',linewidth=2,alpha=0.5)\n",
    "    plt.ylabel('Frequency')\n",
    "    plt.title(\"Top 500 tokens in the dataset, with Zipf's law in dotted red\")"
   ]
  },
  {
   "cell_type": "code",
   "execution_count": 31,
   "id": "72bdbba5-edd7-4d84-9286-7479d62eb93a",
   "metadata": {},
   "outputs": [],
   "source": [
    "def count_vocab_frequencies(dataframe,col):\n",
    "    \"\"\"\n",
    "    Based on an input pandas DataFrame with a 'col' column, \n",
    "    this function will count the occurrences of ALL words \n",
    "    (no stop word removal) and will return another DataFrame\n",
    "    with the rows corresponding to the different vocabulary words\n",
    "    and the column to the total count of that word.\n",
    "    \"\"\"\n",
    "    cvec = CountVectorizer(token_pattern=u\"(?u)\\\\b\\\\w+\\\\b\")\n",
    "    #needed to modify the minimum token length : https://stackoverflow.com/questions/33260505/countvectorizer-ignoring-i\n",
    "    cvec.fit(dataframe[col])\n",
    "    document_matrix = cvec.transform(dataframe[col])\n",
    "    batches = np.linspace(0,dataframe.shape[0],100).astype(int)\n",
    "    i=0\n",
    "    tf = []\n",
    "    while i < len(batches)-1:\n",
    "        batch_result = np.sum(document_matrix[batches[i]:batches[i+1]].toarray(),axis=0)\n",
    "        tf.append(batch_result)\n",
    "        i += 1\n",
    "    term_freq_df = pd.DataFrame([np.sum(tf,axis=0)],columns=cvec.get_feature_names()).transpose()\n",
    "    term_freq_df.columns=['total']\n",
    "    return(term_freq_df)"
   ]
  },
  {
   "cell_type": "code",
   "execution_count": 27,
   "id": "e080502f-80bc-494a-91a4-87535decc9e9",
   "metadata": {},
   "outputs": [],
   "source": [
    "def Zipf_check_words(dataframe, num_words):\n",
    "    \"\"\"\n",
    "    Checks the Zipf's law of the top [num_words] most frequent words in dataframe.\n",
    "    Returns a dataframe with 3 columns:\n",
    "    total = the raw number of counts \n",
    "    zipf = the projected counts according to Zipf\n",
    "    difference = the *percentage* difference between the two\n",
    "    \"\"\"\n",
    "    s = 1\n",
    "    terms = pd.DataFrame(dataframe.sort_values(by='total', ascending=False)['total'][:num_words])\n",
    "    expected_zipf=[dataframe.sort_values(by='total', ascending=False)['total'][0]/(i+1)**s for i in np.arange(num_words)]\n",
    "    terms['zipf'] = [int(z) for z in expected_zipf]\n",
    "    terms['difference'] = terms.apply(lambda x: ((x['total']- x['zipf'])/x['zipf']* 100), axis=1)\n",
    "    return(terms)"
   ]
  },
  {
   "cell_type": "code",
   "execution_count": 32,
   "id": "f4b23bbb-4d2b-4468-ba5c-2eb8472c6367",
   "metadata": {},
   "outputs": [],
   "source": [
    "term_df= count_vocab_frequencies(squad_df,'context')"
   ]
  },
  {
   "cell_type": "code",
   "execution_count": 33,
   "id": "95351613-fe16-45f9-b2fe-bfbc61f29e37",
   "metadata": {},
   "outputs": [
    {
     "data": {
      "image/png": "[encoded data removed]",
      "text/plain": [
       "<Figure size 720x576 with 1 Axes>"
      ]
     },
     "metadata": {},
     "output_type": "display_data"
    }
   ],
   "source": [
    "Zipf_plot(term_df)"
   ]
  },
  {
   "cell_type": "code",
   "execution_count": 34,
   "id": "56dd33a1-26ff-4398-85a0-6b0dae36c0b6",
   "metadata": {},
   "outputs": [],
   "source": [
    "term_df= count_vocab_frequencies(squad2_df,'context')"
   ]
  },
  {
   "cell_type": "code",
   "execution_count": 35,
   "id": "28ab55bd-dffb-408a-a76f-51860b89e0f3",
   "metadata": {},
   "outputs": [
    {
     "data": {
      "image/png": "[encoded data removed]",
      "text/plain": [
       "<Figure size 720x576 with 1 Axes>"
      ]
     },
     "metadata": {},
     "output_type": "display_data"
    }
   ],
   "source": [
    "Zipf_plot(term_df)"
   ]
  },
  {
   "cell_type": "code",
   "execution_count": 36,
   "id": "c7c7c199-acac-4fa3-91ea-626a24aa6077",
   "metadata": {},
   "outputs": [],
   "source": [
    "def check_open_class(dataframe, threshold, closedlist):\n",
    "    closedclass= dataframe[dataframe.index.isin(closedlist)]\n",
    "    openclass= dataframe[~dataframe.index.isin(closedlist)]\n",
    "    openclassthreshold= openclass.loc[(openclass['difference'] >=threshold)]\n",
    "    print(\"There are: \"+ str(openclassthreshold.shape[0])+ \" closed class words that are above the %s threshold\" %(threshold))\n",
    "    return(openclassthreshold.sort_values(by='difference', ascending=False))"
   ]
  },
  {
   "cell_type": "code",
   "execution_count": 44,
   "id": "6ed0516c-aec9-47cd-bc04-8eb09d34fda7",
   "metadata": {},
   "outputs": [],
   "source": [
    "def check_closed_class(dataframe, threshold, closedlist):\n",
    "    '''\n",
    "    Based on a dataframe and a threshold, checks how many closed-class \n",
    "    words are above the threshold, and returns the dataframe sorted by \n",
    "    difference.\n",
    "    '''\n",
    "    closedclass= dataframe[dataframe.index.isin(closedlist)]\n",
    "    closedclassthreshold= closedclass.loc[(closedclass['difference'] >=threshold)]\n",
    "    print(\"There are: \"+ str(closedclassthreshold.shape[0])+ \" closed class words that are above the %s threshold\" %(threshold))\n",
    "    return(closedclassthreshold.sort_values(by='difference', ascending=False))"
   ]
  },
  {
   "cell_type": "code",
   "execution_count": 37,
   "id": "20122161-9138-4e04-a6fe-d03a49719099",
   "metadata": {},
   "outputs": [
    {
     "name": "stdout",
     "output_type": "stream",
     "text": [
      "There are: 312 closed-class words in English.\n"
     ]
    }
   ],
   "source": [
    "#Creating the closed word list from the txt file\n",
    "en_wordlist=open('../resources/closed_EN.txt', 'r').readlines()\n",
    "en_closedlist=[]\n",
    "for l in en_wordlist:\n",
    "    en_closedlist= en_closedlist + (l.split())\n",
    "print(\"There are: \"+ str(len(en_closedlist)) + \" closed-class words in English.\")"
   ]
  },
  {
   "cell_type": "markdown",
   "id": "899197c1-8f35-4518-ac0b-2884b2e228cc",
   "metadata": {},
   "source": [
    "#### Getting more information"
   ]
  },
  {
   "cell_type": "markdown",
   "id": "7d8acd2c-98f4-4e44-b75b-37299eca868e",
   "metadata": {},
   "source": [
    "#### Checking for missing values"
   ]
  },
  {
   "cell_type": "code",
   "execution_count": 14,
   "id": "b83f149c-eba8-45c8-96be-0e2aa8bb2c46",
   "metadata": {},
   "outputs": [
    {
     "data": {
      "text/html": [
       "<div>\n",
       "<style scoped>\n",
       "    .dataframe tbody tr th:only-of-type {\n",
       "        vertical-align: middle;\n",
       "    }\n",
       "\n",
       "    .dataframe tbody tr th {\n",
       "        vertical-align: top;\n",
       "    }\n",
       "\n",
       "    .dataframe thead th {\n",
       "        text-align: right;\n",
       "    }\n",
       "</style>\n",
       "<table border=\"1\" class=\"dataframe\">\n",
       "  <thead>\n",
       "    <tr style=\"text-align: right;\">\n",
       "      <th></th>\n",
       "      <th>id</th>\n",
       "      <th>translation.fr</th>\n",
       "      <th>translation.ru</th>\n",
       "    </tr>\n",
       "  </thead>\n",
       "  <tbody>\n",
       "  </tbody>\n",
       "</table>\n",
       "</div>"
      ],
      "text/plain": [
       "Empty DataFrame\n",
       "Columns: [id, translation.fr, translation.ru]\n",
       "Index: []"
      ]
     },
     "execution_count": 14,
     "metadata": {},
     "output_type": "execute_result"
    }
   ],
   "source": [
    "datadf[datadf.isnull().any(axis=1)].head()"
   ]
  },
  {
   "cell_type": "code",
   "execution_count": 15,
   "id": "6c85f137-322a-4834-ba2b-a102df651ed3",
   "metadata": {},
   "outputs": [
    {
     "data": {
      "text/plain": [
       "0"
      ]
     },
     "execution_count": 15,
     "metadata": {},
     "output_type": "execute_result"
    }
   ],
   "source": [
    "np.sum(datadf.isnull().any(axis=1))"
   ]
  },
  {
   "cell_type": "markdown",
   "id": "adaf363d-32b0-4f9e-957b-673d20d5f2fa",
   "metadata": {},
   "source": [
    "#### Count vocab size + frequencies"
   ]
  },
  {
   "cell_type": "code",
   "execution_count": 34,
   "id": "dbba3743-8a0f-46b7-b212-219256fc61c9",
   "metadata": {},
   "outputs": [],
   "source": [
    "term_df= count_vocab_frequencies(datadf,'translation.en')"
   ]
  },
  {
   "cell_type": "code",
   "execution_count": 36,
   "id": "f5eadb65-c80b-4e00-b28f-cefb8a9e9b6b",
   "metadata": {},
   "outputs": [],
   "source": [
    "term_df_fr= count_vocab_frequencies(datadf,'translation.fr')"
   ]
  },
  {
   "cell_type": "markdown",
   "id": "0f8d6238-d760-4a2f-a002-8dfac69f4c2e",
   "metadata": {
    "tags": []
   },
   "source": [
    "#### Zipf's law plot"
   ]
  },
  {
   "cell_type": "code",
   "execution_count": 35,
   "id": "96ecea1d-3ee2-4386-8de0-a4925d9ea74f",
   "metadata": {},
   "outputs": [
    {
     "data": {
      "image/png": "[encoded data removed]",
      "text/plain": [
       "<Figure size 720x576 with 1 Axes>"
      ]
     },
     "metadata": {},
     "output_type": "display_data"
    }
   ],
   "source": [
    "Zipf_plot(term_df)"
   ]
  },
  {
   "cell_type": "code",
   "execution_count": 37,
   "id": "bbf5b32e-140b-4fcf-9ba6-7bdec54315db",
   "metadata": {},
   "outputs": [
    {
     "data": {
      "image/png": "[encoded data removed]",
      "text/plain": [
       "<Figure size 720x576 with 1 Axes>"
      ]
     },
     "metadata": {},
     "output_type": "display_data"
    }
   ],
   "source": [
    "Zipf_plot(term_df_fr)"
   ]
  },
  {
   "cell_type": "markdown",
   "id": "64f5cb04-77c5-434a-8b24-72d5a088622a",
   "metadata": {
    "tags": []
   },
   "source": [
    "### Checking which words do not respect Zipf's law"
   ]
  },
  {
   "cell_type": "code",
   "execution_count": 38,
   "id": "60c41e19-45b6-4a30-977e-40f5c916bf25",
   "metadata": {},
   "outputs": [],
   "source": [
    "zipf_df= Zipf_check_words(term_df,500)"
   ]
  },
  {
   "cell_type": "code",
   "execution_count": 39,
   "id": "12c4a6e4-4cfe-43f7-80ff-6da6e90fbcae",
   "metadata": {},
   "outputs": [
    {
     "data": {
      "text/html": [
       "<div>\n",
       "<style scoped>\n",
       "    .dataframe tbody tr th:only-of-type {\n",
       "        vertical-align: middle;\n",
       "    }\n",
       "\n",
       "    .dataframe tbody tr th {\n",
       "        vertical-align: top;\n",
       "    }\n",
       "\n",
       "    .dataframe thead th {\n",
       "        text-align: right;\n",
       "    }\n",
       "</style>\n",
       "<table border=\"1\" class=\"dataframe\">\n",
       "  <thead>\n",
       "    <tr style=\"text-align: right;\">\n",
       "      <th></th>\n",
       "      <th>total</th>\n",
       "      <th>zipf</th>\n",
       "      <th>difference</th>\n",
       "    </tr>\n",
       "  </thead>\n",
       "  <tbody>\n",
       "    <tr>\n",
       "      <th>unto</th>\n",
       "      <td>8999</td>\n",
       "      <td>4495</td>\n",
       "      <td>100.200222</td>\n",
       "    </tr>\n",
       "    <tr>\n",
       "      <th>was</th>\n",
       "      <td>8827</td>\n",
       "      <td>4335</td>\n",
       "      <td>103.621684</td>\n",
       "    </tr>\n",
       "    <tr>\n",
       "      <th>have</th>\n",
       "      <td>8730</td>\n",
       "      <td>4185</td>\n",
       "      <td>108.602151</td>\n",
       "    </tr>\n",
       "    <tr>\n",
       "      <th>god</th>\n",
       "      <td>8586</td>\n",
       "      <td>4046</td>\n",
       "      <td>112.209590</td>\n",
       "    </tr>\n",
       "    <tr>\n",
       "      <th>me</th>\n",
       "      <td>8175</td>\n",
       "      <td>3915</td>\n",
       "      <td>108.812261</td>\n",
       "    </tr>\n",
       "    <tr>\n",
       "      <th>but</th>\n",
       "      <td>7951</td>\n",
       "      <td>3793</td>\n",
       "      <td>109.622990</td>\n",
       "    </tr>\n",
       "    <tr>\n",
       "      <th>their</th>\n",
       "      <td>7938</td>\n",
       "      <td>3678</td>\n",
       "      <td>115.823817</td>\n",
       "    </tr>\n",
       "    <tr>\n",
       "      <th>said</th>\n",
       "      <td>7925</td>\n",
       "      <td>3570</td>\n",
       "      <td>121.988796</td>\n",
       "    </tr>\n",
       "    <tr>\n",
       "      <th>from</th>\n",
       "      <td>7829</td>\n",
       "      <td>3468</td>\n",
       "      <td>125.749712</td>\n",
       "    </tr>\n",
       "    <tr>\n",
       "      <th>which</th>\n",
       "      <td>7653</td>\n",
       "      <td>3371</td>\n",
       "      <td>127.024622</td>\n",
       "    </tr>\n",
       "  </tbody>\n",
       "</table>\n",
       "</div>"
      ],
      "text/plain": [
       "       total  zipf  difference\n",
       "unto    8999  4495  100.200222\n",
       "was     8827  4335  103.621684\n",
       "have    8730  4185  108.602151\n",
       "god     8586  4046  112.209590\n",
       "me      8175  3915  108.812261\n",
       "but     7951  3793  109.622990\n",
       "their   7938  3678  115.823817\n",
       "said    7925  3570  121.988796\n",
       "from    7829  3468  125.749712\n",
       "which   7653  3371  127.024622"
      ]
     },
     "execution_count": 39,
     "metadata": {},
     "output_type": "execute_result"
    }
   ],
   "source": [
    "zipf_df.loc[(zipf_df['difference'] >=100)].head(10)"
   ]
  },
  {
   "cell_type": "code",
   "execution_count": 40,
   "id": "ce6f7f04-39a0-4436-99b5-83e39cee4b87",
   "metadata": {},
   "outputs": [],
   "source": [
    "zipf_df_fr= Zipf_check_words(term_df_fr,500)"
   ]
  },
  {
   "cell_type": "code",
   "execution_count": 41,
   "id": "55b4af39-4c4a-4c47-9a6b-bef418a800ad",
   "metadata": {},
   "outputs": [
    {
     "data": {
      "text/html": [
       "<div>\n",
       "<style scoped>\n",
       "    .dataframe tbody tr th:only-of-type {\n",
       "        vertical-align: middle;\n",
       "    }\n",
       "\n",
       "    .dataframe tbody tr th {\n",
       "        vertical-align: top;\n",
       "    }\n",
       "\n",
       "    .dataframe thead th {\n",
       "        text-align: right;\n",
       "    }\n",
       "</style>\n",
       "<table border=\"1\" class=\"dataframe\">\n",
       "  <thead>\n",
       "    <tr style=\"text-align: right;\">\n",
       "      <th></th>\n",
       "      <th>total</th>\n",
       "      <th>zipf</th>\n",
       "      <th>difference</th>\n",
       "    </tr>\n",
       "  </thead>\n",
       "  <tbody>\n",
       "    <tr>\n",
       "      <th>l</th>\n",
       "      <td>36275</td>\n",
       "      <td>16547</td>\n",
       "      <td>119.224029</td>\n",
       "    </tr>\n",
       "    <tr>\n",
       "      <th>le</th>\n",
       "      <td>35632</td>\n",
       "      <td>13237</td>\n",
       "      <td>169.184861</td>\n",
       "    </tr>\n",
       "    <tr>\n",
       "      <th>les</th>\n",
       "      <td>33810</td>\n",
       "      <td>11031</td>\n",
       "      <td>206.499864</td>\n",
       "    </tr>\n",
       "    <tr>\n",
       "      <th>à</th>\n",
       "      <td>27432</td>\n",
       "      <td>9455</td>\n",
       "      <td>190.132205</td>\n",
       "    </tr>\n",
       "    <tr>\n",
       "      <th>il</th>\n",
       "      <td>26238</td>\n",
       "      <td>8273</td>\n",
       "      <td>217.152182</td>\n",
       "    </tr>\n",
       "    <tr>\n",
       "      <th>qui</th>\n",
       "      <td>20214</td>\n",
       "      <td>7354</td>\n",
       "      <td>174.870819</td>\n",
       "    </tr>\n",
       "    <tr>\n",
       "      <th>des</th>\n",
       "      <td>19231</td>\n",
       "      <td>6618</td>\n",
       "      <td>190.586280</td>\n",
       "    </tr>\n",
       "    <tr>\n",
       "      <th>d</th>\n",
       "      <td>18977</td>\n",
       "      <td>6017</td>\n",
       "      <td>215.389729</td>\n",
       "    </tr>\n",
       "    <tr>\n",
       "      <th>que</th>\n",
       "      <td>18229</td>\n",
       "      <td>5515</td>\n",
       "      <td>230.534905</td>\n",
       "    </tr>\n",
       "    <tr>\n",
       "      <th>est</th>\n",
       "      <td>15644</td>\n",
       "      <td>5091</td>\n",
       "      <td>207.287370</td>\n",
       "    </tr>\n",
       "  </tbody>\n",
       "</table>\n",
       "</div>"
      ],
      "text/plain": [
       "     total   zipf  difference\n",
       "l    36275  16547  119.224029\n",
       "le   35632  13237  169.184861\n",
       "les  33810  11031  206.499864\n",
       "à    27432   9455  190.132205\n",
       "il   26238   8273  217.152182\n",
       "qui  20214   7354  174.870819\n",
       "des  19231   6618  190.586280\n",
       "d    18977   6017  215.389729\n",
       "que  18229   5515  230.534905\n",
       "est  15644   5091  207.287370"
      ]
     },
     "execution_count": 41,
     "metadata": {},
     "output_type": "execute_result"
    }
   ],
   "source": [
    "zipf_df_fr.loc[(zipf_df_fr['difference'] >=100)].head(10)"
   ]
  },
  {
   "cell_type": "markdown",
   "id": "86361ea1-5127-4301-9caa-a4439477cb04",
   "metadata": {},
   "source": [
    "### Checking open versus closed class words"
   ]
  },
  {
   "cell_type": "code",
   "execution_count": 50,
   "id": "1b6ccd6b-de87-46d5-b3c7-7c87e4f6e700",
   "metadata": {},
   "outputs": [
    {
     "name": "stdout",
     "output_type": "stream",
     "text": [
      "There are: 28 closed class words that are above the 100 threshold\n"
     ]
    },
    {
     "data": {
      "text/html": [
       "<div>\n",
       "<style scoped>\n",
       "    .dataframe tbody tr th:only-of-type {\n",
       "        vertical-align: middle;\n",
       "    }\n",
       "\n",
       "    .dataframe tbody tr th {\n",
       "        vertical-align: top;\n",
       "    }\n",
       "\n",
       "    .dataframe thead th {\n",
       "        text-align: right;\n",
       "    }\n",
       "</style>\n",
       "<table border=\"1\" class=\"dataframe\">\n",
       "  <thead>\n",
       "    <tr style=\"text-align: right;\">\n",
       "      <th></th>\n",
       "      <th>total</th>\n",
       "      <th>zipf</th>\n",
       "      <th>difference</th>\n",
       "    </tr>\n",
       "  </thead>\n",
       "  <tbody>\n",
       "    <tr>\n",
       "      <th>which</th>\n",
       "      <td>7653</td>\n",
       "      <td>3371</td>\n",
       "      <td>127.024622</td>\n",
       "    </tr>\n",
       "    <tr>\n",
       "      <th>from</th>\n",
       "      <td>7829</td>\n",
       "      <td>3468</td>\n",
       "      <td>125.749712</td>\n",
       "    </tr>\n",
       "    <tr>\n",
       "      <th>on</th>\n",
       "      <td>6706</td>\n",
       "      <td>3034</td>\n",
       "      <td>121.028345</td>\n",
       "    </tr>\n",
       "    <tr>\n",
       "      <th>are</th>\n",
       "      <td>6510</td>\n",
       "      <td>2960</td>\n",
       "      <td>119.932432</td>\n",
       "    </tr>\n",
       "    <tr>\n",
       "      <th>who</th>\n",
       "      <td>7191</td>\n",
       "      <td>3280</td>\n",
       "      <td>119.237805</td>\n",
       "    </tr>\n",
       "    <tr>\n",
       "      <th>as</th>\n",
       "      <td>6750</td>\n",
       "      <td>3112</td>\n",
       "      <td>116.902314</td>\n",
       "    </tr>\n",
       "    <tr>\n",
       "      <th>their</th>\n",
       "      <td>7938</td>\n",
       "      <td>3678</td>\n",
       "      <td>115.823817</td>\n",
       "    </tr>\n",
       "    <tr>\n",
       "      <th>but</th>\n",
       "      <td>7951</td>\n",
       "      <td>3793</td>\n",
       "      <td>109.622990</td>\n",
       "    </tr>\n",
       "    <tr>\n",
       "      <th>me</th>\n",
       "      <td>8175</td>\n",
       "      <td>3915</td>\n",
       "      <td>108.812261</td>\n",
       "    </tr>\n",
       "    <tr>\n",
       "      <th>have</th>\n",
       "      <td>8730</td>\n",
       "      <td>4185</td>\n",
       "      <td>108.602151</td>\n",
       "    </tr>\n",
       "    <tr>\n",
       "      <th>by</th>\n",
       "      <td>5357</td>\n",
       "      <td>2582</td>\n",
       "      <td>107.474826</td>\n",
       "    </tr>\n",
       "    <tr>\n",
       "      <th>if</th>\n",
       "      <td>3222</td>\n",
       "      <td>1556</td>\n",
       "      <td>107.069409</td>\n",
       "    </tr>\n",
       "    <tr>\n",
       "      <th>were</th>\n",
       "      <td>5446</td>\n",
       "      <td>2638</td>\n",
       "      <td>106.444276</td>\n",
       "    </tr>\n",
       "    <tr>\n",
       "      <th>so</th>\n",
       "      <td>3452</td>\n",
       "      <td>1685</td>\n",
       "      <td>104.866469</td>\n",
       "    </tr>\n",
       "    <tr>\n",
       "      <th>at</th>\n",
       "      <td>3227</td>\n",
       "      <td>1576</td>\n",
       "      <td>104.758883</td>\n",
       "    </tr>\n",
       "    <tr>\n",
       "      <th>up</th>\n",
       "      <td>4869</td>\n",
       "      <td>2380</td>\n",
       "      <td>104.579832</td>\n",
       "    </tr>\n",
       "    <tr>\n",
       "      <th>was</th>\n",
       "      <td>8827</td>\n",
       "      <td>4335</td>\n",
       "      <td>103.621684</td>\n",
       "    </tr>\n",
       "    <tr>\n",
       "      <th>an</th>\n",
       "      <td>2774</td>\n",
       "      <td>1363</td>\n",
       "      <td>103.521643</td>\n",
       "    </tr>\n",
       "    <tr>\n",
       "      <th>against</th>\n",
       "      <td>3248</td>\n",
       "      <td>1597</td>\n",
       "      <td>103.381340</td>\n",
       "    </tr>\n",
       "    <tr>\n",
       "      <th>upon</th>\n",
       "      <td>2796</td>\n",
       "      <td>1379</td>\n",
       "      <td>102.755620</td>\n",
       "    </tr>\n",
       "    <tr>\n",
       "      <th>we</th>\n",
       "      <td>3658</td>\n",
       "      <td>1811</td>\n",
       "      <td>101.987852</td>\n",
       "    </tr>\n",
       "    <tr>\n",
       "      <th>before</th>\n",
       "      <td>3551</td>\n",
       "      <td>1759</td>\n",
       "      <td>101.876066</td>\n",
       "    </tr>\n",
       "    <tr>\n",
       "      <th>this</th>\n",
       "      <td>5692</td>\n",
       "      <td>2823</td>\n",
       "      <td>101.629472</td>\n",
       "    </tr>\n",
       "    <tr>\n",
       "      <th>there</th>\n",
       "      <td>4609</td>\n",
       "      <td>2290</td>\n",
       "      <td>101.266376</td>\n",
       "    </tr>\n",
       "    <tr>\n",
       "      <th>into</th>\n",
       "      <td>3930</td>\n",
       "      <td>1957</td>\n",
       "      <td>100.817578</td>\n",
       "    </tr>\n",
       "    <tr>\n",
       "      <th>her</th>\n",
       "      <td>3805</td>\n",
       "      <td>1896</td>\n",
       "      <td>100.685654</td>\n",
       "    </tr>\n",
       "    <tr>\n",
       "      <th>unto</th>\n",
       "      <td>8999</td>\n",
       "      <td>4495</td>\n",
       "      <td>100.200222</td>\n",
       "    </tr>\n",
       "    <tr>\n",
       "      <th>has</th>\n",
       "      <td>2639</td>\n",
       "      <td>1319</td>\n",
       "      <td>100.075815</td>\n",
       "    </tr>\n",
       "  </tbody>\n",
       "</table>\n",
       "</div>"
      ],
      "text/plain": [
       "         total  zipf  difference\n",
       "which     7653  3371  127.024622\n",
       "from      7829  3468  125.749712\n",
       "on        6706  3034  121.028345\n",
       "are       6510  2960  119.932432\n",
       "who       7191  3280  119.237805\n",
       "as        6750  3112  116.902314\n",
       "their     7938  3678  115.823817\n",
       "but       7951  3793  109.622990\n",
       "me        8175  3915  108.812261\n",
       "have      8730  4185  108.602151\n",
       "by        5357  2582  107.474826\n",
       "if        3222  1556  107.069409\n",
       "were      5446  2638  106.444276\n",
       "so        3452  1685  104.866469\n",
       "at        3227  1576  104.758883\n",
       "up        4869  2380  104.579832\n",
       "was       8827  4335  103.621684\n",
       "an        2774  1363  103.521643\n",
       "against   3248  1597  103.381340\n",
       "upon      2796  1379  102.755620\n",
       "we        3658  1811  101.987852\n",
       "before    3551  1759  101.876066\n",
       "this      5692  2823  101.629472\n",
       "there     4609  2290  101.266376\n",
       "into      3930  1957  100.817578\n",
       "her       3805  1896  100.685654\n",
       "unto      8999  4495  100.200222\n",
       "has       2639  1319  100.075815"
      ]
     },
     "execution_count": 50,
     "metadata": {},
     "output_type": "execute_result"
    }
   ],
   "source": [
    "check_closed_class(zipf_df,100,en_closedlist)"
   ]
  },
  {
   "cell_type": "code",
   "execution_count": 57,
   "id": "5cb4bdf2-d073-47db-9337-8bae79add8aa",
   "metadata": {},
   "outputs": [
    {
     "name": "stdout",
     "output_type": "stream",
     "text": [
      "There are: 145 closed class words that are above the 100 threshold\n"
     ]
    },
    {
     "data": {
      "text/html": [
       "<div>\n",
       "<style scoped>\n",
       "    .dataframe tbody tr th:only-of-type {\n",
       "        vertical-align: middle;\n",
       "    }\n",
       "\n",
       "    .dataframe tbody tr th {\n",
       "        vertical-align: top;\n",
       "    }\n",
       "\n",
       "    .dataframe thead th {\n",
       "        text-align: right;\n",
       "    }\n",
       "</style>\n",
       "<table border=\"1\" class=\"dataframe\">\n",
       "  <thead>\n",
       "    <tr style=\"text-align: right;\">\n",
       "      <th></th>\n",
       "      <th>total</th>\n",
       "      <th>zipf</th>\n",
       "      <th>difference</th>\n",
       "    </tr>\n",
       "  </thead>\n",
       "  <tbody>\n",
       "    <tr>\n",
       "      <th>une</th>\n",
       "      <td>7615</td>\n",
       "      <td>1838</td>\n",
       "      <td>314.309032</td>\n",
       "    </tr>\n",
       "    <tr>\n",
       "      <th>nous</th>\n",
       "      <td>7008</td>\n",
       "      <td>1697</td>\n",
       "      <td>312.964054</td>\n",
       "    </tr>\n",
       "    <tr>\n",
       "      <th>du</th>\n",
       "      <td>11816</td>\n",
       "      <td>2877</td>\n",
       "      <td>310.705596</td>\n",
       "    </tr>\n",
       "    <tr>\n",
       "      <th>leur</th>\n",
       "      <td>5778</td>\n",
       "      <td>1408</td>\n",
       "      <td>310.369318</td>\n",
       "    </tr>\n",
       "    <tr>\n",
       "      <th>ils</th>\n",
       "      <td>12240</td>\n",
       "      <td>3008</td>\n",
       "      <td>306.914894</td>\n",
       "    </tr>\n",
       "    <tr>\n",
       "      <th>...</th>\n",
       "      <td>...</td>\n",
       "      <td>...</td>\n",
       "      <td>...</td>\n",
       "    </tr>\n",
       "    <tr>\n",
       "      <th>quoi</th>\n",
       "      <td>336</td>\n",
       "      <td>150</td>\n",
       "      <td>124.000000</td>\n",
       "    </tr>\n",
       "    <tr>\n",
       "      <th>avais</th>\n",
       "      <td>318</td>\n",
       "      <td>142</td>\n",
       "      <td>123.943662</td>\n",
       "    </tr>\n",
       "    <tr>\n",
       "      <th>eu</th>\n",
       "      <td>294</td>\n",
       "      <td>133</td>\n",
       "      <td>121.052632</td>\n",
       "    </tr>\n",
       "    <tr>\n",
       "      <th>celle</th>\n",
       "      <td>296</td>\n",
       "      <td>134</td>\n",
       "      <td>120.895522</td>\n",
       "    </tr>\n",
       "    <tr>\n",
       "      <th>lequel</th>\n",
       "      <td>292</td>\n",
       "      <td>133</td>\n",
       "      <td>119.548872</td>\n",
       "    </tr>\n",
       "  </tbody>\n",
       "</table>\n",
       "<p>145 rows × 3 columns</p>\n",
       "</div>"
      ],
      "text/plain": [
       "        total  zipf  difference\n",
       "une      7615  1838  314.309032\n",
       "nous     7008  1697  312.964054\n",
       "du      11816  2877  310.705596\n",
       "leur     5778  1408  310.369318\n",
       "ils     12240  3008  306.914894\n",
       "...       ...   ...         ...\n",
       "quoi      336   150  124.000000\n",
       "avais     318   142  123.943662\n",
       "eu        294   133  121.052632\n",
       "celle     296   134  120.895522\n",
       "lequel    292   133  119.548872\n",
       "\n",
       "[145 rows x 3 columns]"
      ]
     },
     "execution_count": 57,
     "metadata": {},
     "output_type": "execute_result"
    }
   ],
   "source": [
    "check_closed_class(zipf_df_fr,100,fr_closedlist)"
   ]
  },
  {
   "cell_type": "code",
   "execution_count": 55,
   "id": "a2528225-ecbe-4962-b53e-0c46239e93d6",
   "metadata": {},
   "outputs": [
    {
     "name": "stdout",
     "output_type": "stream",
     "text": [
      "There are: 21 closed class words that are above the 100 threshold\n"
     ]
    },
    {
     "data": {
      "text/html": [
       "<div>\n",
       "<style scoped>\n",
       "    .dataframe tbody tr th:only-of-type {\n",
       "        vertical-align: middle;\n",
       "    }\n",
       "\n",
       "    .dataframe tbody tr th {\n",
       "        vertical-align: top;\n",
       "    }\n",
       "\n",
       "    .dataframe thead th {\n",
       "        text-align: right;\n",
       "    }\n",
       "</style>\n",
       "<table border=\"1\" class=\"dataframe\">\n",
       "  <thead>\n",
       "    <tr style=\"text-align: right;\">\n",
       "      <th></th>\n",
       "      <th>total</th>\n",
       "      <th>zipf</th>\n",
       "      <th>difference</th>\n",
       "    </tr>\n",
       "  </thead>\n",
       "  <tbody>\n",
       "    <tr>\n",
       "      <th>said</th>\n",
       "      <td>7925</td>\n",
       "      <td>3570</td>\n",
       "      <td>121.988796</td>\n",
       "    </tr>\n",
       "    <tr>\n",
       "      <th>yahweh</th>\n",
       "      <td>6840</td>\n",
       "      <td>3194</td>\n",
       "      <td>114.151534</td>\n",
       "    </tr>\n",
       "    <tr>\n",
       "      <th>god</th>\n",
       "      <td>8586</td>\n",
       "      <td>4046</td>\n",
       "      <td>112.209590</td>\n",
       "    </tr>\n",
       "    <tr>\n",
       "      <th>king</th>\n",
       "      <td>5086</td>\n",
       "      <td>2427</td>\n",
       "      <td>109.559126</td>\n",
       "    </tr>\n",
       "    <tr>\n",
       "      <th>man</th>\n",
       "      <td>5104</td>\n",
       "      <td>2477</td>\n",
       "      <td>106.055713</td>\n",
       "    </tr>\n",
       "    <tr>\n",
       "      <th>went</th>\n",
       "      <td>2774</td>\n",
       "      <td>1348</td>\n",
       "      <td>105.786350</td>\n",
       "    </tr>\n",
       "    <tr>\n",
       "      <th>thy</th>\n",
       "      <td>4602</td>\n",
       "      <td>2247</td>\n",
       "      <td>104.806409</td>\n",
       "    </tr>\n",
       "    <tr>\n",
       "      <th>son</th>\n",
       "      <td>4778</td>\n",
       "      <td>2334</td>\n",
       "      <td>104.712939</td>\n",
       "    </tr>\n",
       "    <tr>\n",
       "      <th>israel</th>\n",
       "      <td>5157</td>\n",
       "      <td>2528</td>\n",
       "      <td>103.995253</td>\n",
       "    </tr>\n",
       "    <tr>\n",
       "      <th>came</th>\n",
       "      <td>3802</td>\n",
       "      <td>1867</td>\n",
       "      <td>103.642207</td>\n",
       "    </tr>\n",
       "    <tr>\n",
       "      <th>children</th>\n",
       "      <td>3629</td>\n",
       "      <td>1785</td>\n",
       "      <td>103.305322</td>\n",
       "    </tr>\n",
       "    <tr>\n",
       "      <th>thou</th>\n",
       "      <td>5474</td>\n",
       "      <td>2697</td>\n",
       "      <td>102.966259</td>\n",
       "    </tr>\n",
       "    <tr>\n",
       "      <th>also</th>\n",
       "      <td>3283</td>\n",
       "      <td>1618</td>\n",
       "      <td>102.904821</td>\n",
       "    </tr>\n",
       "    <tr>\n",
       "      <th>day</th>\n",
       "      <td>3453</td>\n",
       "      <td>1709</td>\n",
       "      <td>102.047981</td>\n",
       "    </tr>\n",
       "    <tr>\n",
       "      <th>let</th>\n",
       "      <td>3018</td>\n",
       "      <td>1498</td>\n",
       "      <td>101.468625</td>\n",
       "    </tr>\n",
       "    <tr>\n",
       "      <th>t</th>\n",
       "      <td>3347</td>\n",
       "      <td>1662</td>\n",
       "      <td>101.383875</td>\n",
       "    </tr>\n",
       "    <tr>\n",
       "      <th>saying</th>\n",
       "      <td>2807</td>\n",
       "      <td>1395</td>\n",
       "      <td>101.218638</td>\n",
       "    </tr>\n",
       "    <tr>\n",
       "      <th>land</th>\n",
       "      <td>3486</td>\n",
       "      <td>1734</td>\n",
       "      <td>101.038062</td>\n",
       "    </tr>\n",
       "    <tr>\n",
       "      <th>men</th>\n",
       "      <td>3294</td>\n",
       "      <td>1640</td>\n",
       "      <td>100.853659</td>\n",
       "    </tr>\n",
       "    <tr>\n",
       "      <th>come</th>\n",
       "      <td>3686</td>\n",
       "      <td>1839</td>\n",
       "      <td>100.435019</td>\n",
       "    </tr>\n",
       "    <tr>\n",
       "      <th>behold</th>\n",
       "      <td>2669</td>\n",
       "      <td>1333</td>\n",
       "      <td>100.225056</td>\n",
       "    </tr>\n",
       "  </tbody>\n",
       "</table>\n",
       "</div>"
      ],
      "text/plain": [
       "          total  zipf  difference\n",
       "said       7925  3570  121.988796\n",
       "yahweh     6840  3194  114.151534\n",
       "god        8586  4046  112.209590\n",
       "king       5086  2427  109.559126\n",
       "man        5104  2477  106.055713\n",
       "went       2774  1348  105.786350\n",
       "thy        4602  2247  104.806409\n",
       "son        4778  2334  104.712939\n",
       "israel     5157  2528  103.995253\n",
       "came       3802  1867  103.642207\n",
       "children   3629  1785  103.305322\n",
       "thou       5474  2697  102.966259\n",
       "also       3283  1618  102.904821\n",
       "day        3453  1709  102.047981\n",
       "let        3018  1498  101.468625\n",
       "t          3347  1662  101.383875\n",
       "saying     2807  1395  101.218638\n",
       "land       3486  1734  101.038062\n",
       "men        3294  1640  100.853659\n",
       "come       3686  1839  100.435019\n",
       "behold     2669  1333  100.225056"
      ]
     },
     "execution_count": 55,
     "metadata": {},
     "output_type": "execute_result"
    }
   ],
   "source": [
    "check_open_class(zipf_df,100,en_closedlist)"
   ]
  },
  {
   "cell_type": "code",
   "execution_count": 58,
   "id": "7723f705-cf8a-4160-ad9e-041b54f38cfe",
   "metadata": {},
   "outputs": [
    {
     "name": "stdout",
     "output_type": "stream",
     "text": [
      "There are: 352 closed class words that are above the 100 threshold\n"
     ]
    },
    {
     "data": {
      "text/html": [
       "<div>\n",
       "<style scoped>\n",
       "    .dataframe tbody tr th:only-of-type {\n",
       "        vertical-align: middle;\n",
       "    }\n",
       "\n",
       "    .dataframe tbody tr th {\n",
       "        vertical-align: top;\n",
       "    }\n",
       "\n",
       "    .dataframe thead th {\n",
       "        text-align: right;\n",
       "    }\n",
       "</style>\n",
       "<table border=\"1\" class=\"dataframe\">\n",
       "  <thead>\n",
       "    <tr style=\"text-align: right;\">\n",
       "      <th></th>\n",
       "      <th>total</th>\n",
       "      <th>zipf</th>\n",
       "      <th>difference</th>\n",
       "    </tr>\n",
       "  </thead>\n",
       "  <tbody>\n",
       "    <tr>\n",
       "      <th>s</th>\n",
       "      <td>6572</td>\n",
       "      <td>1614</td>\n",
       "      <td>307.187113</td>\n",
       "    </tr>\n",
       "    <tr>\n",
       "      <th>comme</th>\n",
       "      <td>5850</td>\n",
       "      <td>1438</td>\n",
       "      <td>306.815021</td>\n",
       "    </tr>\n",
       "    <tr>\n",
       "      <th>fils</th>\n",
       "      <td>8341</td>\n",
       "      <td>2068</td>\n",
       "      <td>303.336557</td>\n",
       "    </tr>\n",
       "    <tr>\n",
       "      <th>se</th>\n",
       "      <td>7740</td>\n",
       "      <td>1946</td>\n",
       "      <td>297.738952</td>\n",
       "    </tr>\n",
       "    <tr>\n",
       "      <th>car</th>\n",
       "      <td>6230</td>\n",
       "      <td>1575</td>\n",
       "      <td>295.555556</td>\n",
       "    </tr>\n",
       "    <tr>\n",
       "      <th>...</th>\n",
       "      <td>...</td>\n",
       "      <td>...</td>\n",
       "      <td>...</td>\n",
       "    </tr>\n",
       "    <tr>\n",
       "      <th>samuel</th>\n",
       "      <td>294</td>\n",
       "      <td>134</td>\n",
       "      <td>119.402985</td>\n",
       "    </tr>\n",
       "    <tr>\n",
       "      <th>aucune</th>\n",
       "      <td>296</td>\n",
       "      <td>135</td>\n",
       "      <td>119.259259</td>\n",
       "    </tr>\n",
       "    <tr>\n",
       "      <th>assignation</th>\n",
       "      <td>296</td>\n",
       "      <td>135</td>\n",
       "      <td>119.259259</td>\n",
       "    </tr>\n",
       "    <tr>\n",
       "      <th>l</th>\n",
       "      <td>36275</td>\n",
       "      <td>16547</td>\n",
       "      <td>119.224029</td>\n",
       "    </tr>\n",
       "    <tr>\n",
       "      <th>méchant</th>\n",
       "      <td>288</td>\n",
       "      <td>132</td>\n",
       "      <td>118.181818</td>\n",
       "    </tr>\n",
       "  </tbody>\n",
       "</table>\n",
       "<p>352 rows × 3 columns</p>\n",
       "</div>"
      ],
      "text/plain": [
       "             total   zipf  difference\n",
       "s             6572   1614  307.187113\n",
       "comme         5850   1438  306.815021\n",
       "fils          8341   2068  303.336557\n",
       "se            7740   1946  297.738952\n",
       "car           6230   1575  295.555556\n",
       "...            ...    ...         ...\n",
       "samuel         294    134  119.402985\n",
       "aucune         296    135  119.259259\n",
       "assignation    296    135  119.259259\n",
       "l            36275  16547  119.224029\n",
       "méchant        288    132  118.181818\n",
       "\n",
       "[352 rows x 3 columns]"
      ]
     },
     "execution_count": 58,
     "metadata": {},
     "output_type": "execute_result"
    }
   ],
   "source": [
    "check_open_class(zipf_df_fr,100,fr_closedlist)"
   ]
  },
  {
   "cell_type": "code",
   "execution_count": null,
   "id": "f13c6730-8380-482b-bfe1-c5500bce80bd",
   "metadata": {},
   "outputs": [],
   "source": [
    "from nltk.probability import FreqDist\n",
    "from nltk.tokenize import word_tokenize, RegexpTokenizer"
   ]
  },
  {
   "cell_type": "code",
   "execution_count": 68,
   "id": "b634766a-fe9e-4997-9bfd-5955da6a28e2",
   "metadata": {},
   "outputs": [
    {
     "name": "stdout",
     "output_type": "stream",
     "text": [
      "There are 15894 words including stop words in English\n"
     ]
    }
   ],
   "source": [
    "en_alllist=[sent for sent in datadf['translation.en']]\n",
    "corp= ' '. join(s for s in en_alllist)\n",
    "tokenizer = RegexpTokenizer(r\"\\w+\")\n",
    "vocab = FreqDist(word.lower() for word in tokenizer.tokenize(corp))\n",
    "print(\"There are \" + str(len(vocab)) + \" words including stop words in English\")"
   ]
  },
  {
   "cell_type": "code",
   "execution_count": 69,
   "id": "a88499e2-ca8a-41b3-86d9-6e8adab660af",
   "metadata": {},
   "outputs": [
    {
     "name": "stdout",
     "output_type": "stream",
     "text": [
      "There are 20532 words including stop words in French\n"
     ]
    }
   ],
   "source": [
    "fr_alllist=[sent for sent in datadf['translation.fr']]\n",
    "corp= ' '. join(s for s in fr_alllist)\n",
    "tokenizer = RegexpTokenizer(r\"\\w+\")\n",
    "vocab = FreqDist(word.lower() for word in tokenizer.tokenize(corp))\n",
    "print(\"There are \" + str(len(vocab)) + \" words including stop words in French\")"
   ]
  },
  {
   "cell_type": "code",
   "execution_count": 71,
   "id": "e5c267b2-8027-4f38-a0df-49f4ed313a22",
   "metadata": {},
   "outputs": [],
   "source": [
    "import statistics"
   ]
  },
  {
   "cell_type": "code",
   "execution_count": 76,
   "id": "6e4651e4-39d4-4ec6-a323-5c4c16f3a619",
   "metadata": {},
   "outputs": [
    {
     "name": "stdout",
     "output_type": "stream",
     "text": [
      "The average English sentence length is: 25.0684 words.\n",
      "The mean sentence English length is: 25.068027976525443 words.\n",
      "The median sentence English length is: 23 words.\n"
     ]
    }
   ],
   "source": [
    "total_lens = 0\n",
    "alllengths=[]\n",
    "for i, sent in enumerate(en_alllist):\n",
    "    lent=len(tokenizer.tokenize(sent))\n",
    "    alllengths.append(lent)\n",
    "    total_lens += lent\n",
    "avg_sent_len = total_lens / i\n",
    "print(\"The average English sentence length is: \" + str(round(avg_sent_len,4)) + \" words.\")\n",
    "print(\"The mean sentence English length is: \" + str(statistics.mean(alllengths)) + \" words.\")\n",
    "print(\"The median sentence English length is: \" + str(statistics.median(alllengths)) + \" words.\")"
   ]
  },
  {
   "cell_type": "code",
   "execution_count": 78,
   "id": "3360b6d6-99ad-4c4b-aaa4-9d15ca09d90f",
   "metadata": {},
   "outputs": [
    {
     "name": "stdout",
     "output_type": "stream",
     "text": [
      "The average French sentence length is: 25.171 words.\n",
      "The mean sentence French length is: 25.170576412894928 words.\n",
      "The median sentence French length is: 23 words.\n"
     ]
    }
   ],
   "source": [
    "total_lens = 0\n",
    "alllengths=[]\n",
    "for i, sent in enumerate(fr_alllist):\n",
    "    lent=len(tokenizer.tokenize(sent))\n",
    "    alllengths.append(lent)\n",
    "    total_lens += lent\n",
    "avg_sent_len = total_lens / i\n",
    "print(\"The average French sentence length is: \" + str(round(avg_sent_len,4)) + \" words.\")\n",
    "print(\"The mean sentence French length is: \" + str(statistics.mean(alllengths)) + \" words.\")\n",
    "print(\"The median sentence French length is: \" + str(statistics.median(alllengths)) + \" words.\")"
   ]
  },
  {
   "cell_type": "markdown",
   "id": "11f91410-d553-42e9-a937-dff2a8be988d",
   "metadata": {},
   "source": [
    "### Weird stuff"
   ]
  },
  {
   "cell_type": "code",
   "execution_count": 31,
   "id": "64b5e846-888a-478c-926c-ebef04a013fe",
   "metadata": {},
   "outputs": [
    {
     "data": {
      "text/html": [
       "<div>\n",
       "<style scoped>\n",
       "    .dataframe tbody tr th:only-of-type {\n",
       "        vertical-align: middle;\n",
       "    }\n",
       "\n",
       "    .dataframe tbody tr th {\n",
       "        vertical-align: top;\n",
       "    }\n",
       "\n",
       "    .dataframe thead th {\n",
       "        text-align: right;\n",
       "    }\n",
       "</style>\n",
       "<table border=\"1\" class=\"dataframe\">\n",
       "  <thead>\n",
       "    <tr style=\"text-align: right;\">\n",
       "      <th></th>\n",
       "      <th>context</th>\n",
       "      <th>question</th>\n",
       "      <th>answers.text</th>\n",
       "    </tr>\n",
       "  </thead>\n",
       "  <tbody>\n",
       "    <tr>\n",
       "      <th>38466</th>\n",
       "      <td>The major issue with the term Hellenistic lies in its convenience, as the spread of Greek culture was not the generalized phenomenon that the term implies. Some areas of the conquered world were more affected by Greek influences than others. The term Hellenistic also implies that the Greek populations were of majority in the areas in which they settled, while in many cases, the Greek settlers were actually the minority among the native populations. The Greek population and the native population did not always mix; the Greeks moved and brought their own culture, but interaction did not always occur.</td>\n",
       "      <td>I couldn't could up with another question. But i need to fill this space because I can't submit the hit.</td>\n",
       "      <td>moved</td>\n",
       "    </tr>\n",
       "    <tr>\n",
       "      <th>38536</th>\n",
       "      <td>Sparta remained independent, but it was no longer the leading military power in the Peloponnese. The Spartan king Cleomenes III (235–222 BCE) staged a military coup against the conservative ephors and pushed through radical social and land reforms in order to increase the size of the shrinking Spartan citizenry able to provide military service and restore Spartan power. Sparta's bid for supremacy was crushed at the Battle of Sellasia (222) by the Achaean league and Macedon, who restored the power of the ephors.</td>\n",
       "      <td>I couldn't could up with another question. But i need to fill this space because I can't submit the hit.</td>\n",
       "      <td>refor</td>\n",
       "    </tr>\n",
       "    <tr>\n",
       "      <th>38546</th>\n",
       "      <td>One of the few city states who managed to maintain full independence from the control of any Hellenistic kingdom was Rhodes. With a skilled navy to protect its trade fleets from pirates and an ideal strategic position covering the routes from the east into the Aegean, Rhodes prospered during the Hellenistic period. It became a center of culture and commerce, its coins were widely circulated and its philosophical schools became one of the best in the mediterranean. After holding out for one year under siege by Demetrius Poliorcetes (304-305 BCE), the Rhodians built the Colossus of Rhodes to commemorate their victory. They retained their independence by the maintenance of a powerful navy, by maintaining a carefully neutral posture and acting to preserve the balance of power between the major Hellenistic kingdoms.</td>\n",
       "      <td>I couldn't could up with another question. But i need to fill this space because I can't submit the hit.</td>\n",
       "      <td>tes (3</td>\n",
       "    </tr>\n",
       "    <tr>\n",
       "      <th>38676</th>\n",
       "      <td>During the Hellenistic period, Judea became a frontier region between the Seleucid Empire and Ptolemaic Egypt and therefore was often the frontline of the Syrian wars, changing hands several times during these conflicts. Under the Hellenistic kingdoms, Judea was ruled by the hereditary office of the High Priest of Israel as a Hellenistic vassal. This period also saw the rise of a Hellenistic Judaism, which first developed in the Jewish diaspora of Alexandria and Antioch, and then spread to Judea. The major literary product of this cultural syncretism is the Septuagint translation of the Hebrew Bible from Biblical Hebrew and Biblical Aramaic to Koiné Greek. The reason for the production of this translation seems to be that many of the Alexandrian Jews had lost the ability to speak Hebrew and Aramaic.</td>\n",
       "      <td>I couldn't could up with another question. But i need to fill this space because I can't submit the hit.</td>\n",
       "      <td>y of</td>\n",
       "    </tr>\n",
       "    <tr>\n",
       "      <th>38704</th>\n",
       "      <td>After the death of Menander (c. 130 BC), the Kingdom appears to have fragmented, with several 'kings' attested contemporaneously in different regions. This inevitably weakened the Greek position, and territory seems to have been lost progressively. Around 70 BC, the western regions of Arachosia and Paropamisadae were lost to tribal invasions, presumably by those tribes responsible for the end of the Bactrian kingdom. The resulting Indo-Scythian kingdom seems to have gradually pushed the remaining Indo-Greek kingdom towards the east. The Indo-Greek kingdom appears to have lingered on in western Punjab until about 10 AD when finally ended by the Indo-Scythians.</td>\n",
       "      <td>I couldn't could up with another question. But i need to fill this space because I can't submit the hit.</td>\n",
       "      <td>dom. The resulting Indo-Scythian kingdom seems to have gradually pushed the remaining Indo-Greek</td>\n",
       "    </tr>\n",
       "    <tr>\n",
       "      <th>38705</th>\n",
       "      <td>After the death of Menander (c. 130 BC), the Kingdom appears to have fragmented, with several 'kings' attested contemporaneously in different regions. This inevitably weakened the Greek position, and territory seems to have been lost progressively. Around 70 BC, the western regions of Arachosia and Paropamisadae were lost to tribal invasions, presumably by those tribes responsible for the end of the Bactrian kingdom. The resulting Indo-Scythian kingdom seems to have gradually pushed the remaining Indo-Greek kingdom towards the east. The Indo-Greek kingdom appears to have lingered on in western Punjab until about 10 AD when finally ended by the Indo-Scythians.</td>\n",
       "      <td>I couldn't could up with another question. But i need to fill this space because I can't submit the hit.</td>\n",
       "      <td>in</td>\n",
       "    </tr>\n",
       "  </tbody>\n",
       "</table>\n",
       "</div>"
      ],
      "text/plain": [
       "                                                                                                                                                                                                                                                                                                                                                                                                                                                                                                                                                                                                                                                                                                                                                                                                                                                      context  \\\n",
       "38466                                                                                                                                                                                                                           The major issue with the term Hellenistic lies in its convenience, as the spread of Greek culture was not the generalized phenomenon that the term implies. Some areas of the conquered world were more affected by Greek influences than others. The term Hellenistic also implies that the Greek populations were of majority in the areas in which they settled, while in many cases, the Greek settlers were actually the minority among the native populations. The Greek population and the native population did not always mix; the Greeks moved and brought their own culture, but interaction did not always occur.   \n",
       "38536                                                                                                                                                                                                                                                                                                                    Sparta remained independent, but it was no longer the leading military power in the Peloponnese. The Spartan king Cleomenes III (235–222 BCE) staged a military coup against the conservative ephors and pushed through radical social and land reforms in order to increase the size of the shrinking Spartan citizenry able to provide military service and restore Spartan power. Sparta's bid for supremacy was crushed at the Battle of Sellasia (222) by the Achaean league and Macedon, who restored the power of the ephors.   \n",
       "38546  One of the few city states who managed to maintain full independence from the control of any Hellenistic kingdom was Rhodes. With a skilled navy to protect its trade fleets from pirates and an ideal strategic position covering the routes from the east into the Aegean, Rhodes prospered during the Hellenistic period. It became a center of culture and commerce, its coins were widely circulated and its philosophical schools became one of the best in the mediterranean. After holding out for one year under siege by Demetrius Poliorcetes (304-305 BCE), the Rhodians built the Colossus of Rhodes to commemorate their victory. They retained their independence by the maintenance of a powerful navy, by maintaining a carefully neutral posture and acting to preserve the balance of power between the major Hellenistic kingdoms.   \n",
       "38676              During the Hellenistic period, Judea became a frontier region between the Seleucid Empire and Ptolemaic Egypt and therefore was often the frontline of the Syrian wars, changing hands several times during these conflicts. Under the Hellenistic kingdoms, Judea was ruled by the hereditary office of the High Priest of Israel as a Hellenistic vassal. This period also saw the rise of a Hellenistic Judaism, which first developed in the Jewish diaspora of Alexandria and Antioch, and then spread to Judea. The major literary product of this cultural syncretism is the Septuagint translation of the Hebrew Bible from Biblical Hebrew and Biblical Aramaic to Koiné Greek. The reason for the production of this translation seems to be that many of the Alexandrian Jews had lost the ability to speak Hebrew and Aramaic.   \n",
       "38704                                                                                                                                                             After the death of Menander (c. 130 BC), the Kingdom appears to have fragmented, with several 'kings' attested contemporaneously in different regions. This inevitably weakened the Greek position, and territory seems to have been lost progressively. Around 70 BC, the western regions of Arachosia and Paropamisadae were lost to tribal invasions, presumably by those tribes responsible for the end of the Bactrian kingdom. The resulting Indo-Scythian kingdom seems to have gradually pushed the remaining Indo-Greek kingdom towards the east. The Indo-Greek kingdom appears to have lingered on in western Punjab until about 10 AD when finally ended by the Indo-Scythians.   \n",
       "38705                                                                                                                                                             After the death of Menander (c. 130 BC), the Kingdom appears to have fragmented, with several 'kings' attested contemporaneously in different regions. This inevitably weakened the Greek position, and territory seems to have been lost progressively. Around 70 BC, the western regions of Arachosia and Paropamisadae were lost to tribal invasions, presumably by those tribes responsible for the end of the Bactrian kingdom. The resulting Indo-Scythian kingdom seems to have gradually pushed the remaining Indo-Greek kingdom towards the east. The Indo-Greek kingdom appears to have lingered on in western Punjab until about 10 AD when finally ended by the Indo-Scythians.   \n",
       "\n",
       "                                                                                                        question  \\\n",
       "38466  I couldn't could up with another question. But i need to fill this space because I can't submit the hit.    \n",
       "38536  I couldn't could up with another question. But i need to fill this space because I can't submit the hit.    \n",
       "38546  I couldn't could up with another question. But i need to fill this space because I can't submit the hit.    \n",
       "38676  I couldn't could up with another question. But i need to fill this space because I can't submit the hit.    \n",
       "38704  I couldn't could up with another question. But i need to fill this space because I can't submit the hit.    \n",
       "38705  I couldn't could up with another question. But i need to fill this space because I can't submit the hit.    \n",
       "\n",
       "                                                                                           answers.text  \n",
       "38466                                                                                             moved  \n",
       "38536                                                                                             refor  \n",
       "38546                                                                                            tes (3  \n",
       "38676                                                                                              y of  \n",
       "38704  dom. The resulting Indo-Scythian kingdom seems to have gradually pushed the remaining Indo-Greek  \n",
       "38705                                                                                                in  "
      ]
     },
     "execution_count": 31,
     "metadata": {},
     "output_type": "execute_result"
    }
   ],
   "source": [
    "squad_df[['context','question','answers.text']][squad_df['question'].str.contains(\"I couldn't could up with another question. But i need to fill this space because I can't submit the hit.\")]"
   ]
  }
 ],
 "metadata": {
  "kernelspec": {
   "display_name": "datametrics",
   "language": "python",
   "name": "datametrics"
  },
  "language_info": {
   "codemirror_mode": {
    "name": "ipython",
    "version": 3
   },
   "file_extension": ".py",
   "mimetype": "text/x-python",
   "name": "python",
   "nbconvert_exporter": "python",
   "pygments_lexer": "ipython3",
   "version": "3.8.5"
  }
 },
 "nbformat": 4,
 "nbformat_minor": 5
}
