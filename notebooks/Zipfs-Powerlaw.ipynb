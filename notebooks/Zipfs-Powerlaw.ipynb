{
 "cells": [
  {
   "cell_type": "markdown",
   "id": "cf885d68-6d8d-480a-8bc4-e6dc909ab80b",
   "metadata": {},
   "source": [
    "# Zipf it up"
   ]
  },
  {
   "cell_type": "markdown",
   "id": "2d398b2d-f9de-47ed-80ef-b89afc9af09c",
   "metadata": {},
   "source": [
    "## Zipf's law: Given some corpus of natural language utterances, the frequency of any word is inversely proportional to its rank in the frequency table.\n",
    "### This follows a basic power law (but with additional parameters):\n",
    "$$ {\\displaystyle{\\displaystyle p(x)  \\propto x^{\\alpha}}} $$\n",
    "### Zipf's law predicts that out of a population of $N$ elements, the normalized frequency of the element of rank $k$, $f(k;\\alpha,N)$, is:\n",
    "\n",
    "$${\\displaystyle f(k;\\alpha,N)={\\frac {1/k^{\\alpha}}{\\sum \\limits _{n=1}^{N}(1/n^{\\alpha})}}}$$\n",
    "\n",
    "#### A dataset can be tested to see whether Zipf's law applies by checking the \"goodness of fit\" of the dataset's observed rank frequency distribution to a hypothesized power law distribution, by using a Kolmogorov–Smirnov test.\n",
    "\n"
   ]
  },
  {
   "cell_type": "markdown",
   "id": "d8d32bb1-930f-43c5-a78b-205d8bbf8064",
   "metadata": {},
   "source": [
    "#### This code does all that stuff."
   ]
  },
  {
   "cell_type": "code",
   "execution_count": 1,
   "id": "00eca3a3-7acf-43e3-8e99-8b5cb9493609",
   "metadata": {},
   "outputs": [],
   "source": [
    "# grepping the installation babbling basically just \n",
    "# suppresses the warnings by providing a command that will find them but won't print them.\n",
    "!pip install powerlaw | grep -v 'Requirement already satisfied' \n",
    "import powerlaw\n",
    "import pandas as pd\n",
    "import numpy as np\n",
    "from datasets import load_dataset\n",
    "from sklearn.feature_extraction.text import CountVectorizer\n",
    "import plotly.graph_objects as go\n",
    "import plotly\n",
    "from scipy.stats import hmean, norm, ks_2samp, zipf\n",
    "import matplotlib.pyplot as plt\n",
    "plt.style.use('fivethirtyeight')"
   ]
  },
  {
   "cell_type": "code",
   "execution_count": 2,
   "id": "c96d00b5-0953-45ea-90c9-854d56791066",
   "metadata": {},
   "outputs": [],
   "source": [
    "data= load_dataset(\"oscar\", \"unshuffled_deduplicated_en\", split = \"train\", streaming= True)\n",
    "#data = load_dataset(\"c4\", \"en\", split= \"train\", streaming = True)"
   ]
  },
  {
   "cell_type": "code",
   "execution_count": 3,
   "id": "10482904-64fd-4354-a00c-e5c5f596543d",
   "metadata": {},
   "outputs": [
    {
     "name": "stdout",
     "output_type": "stream",
     "text": [
      "Note: Just taking the first 1000 instances.\n"
     ]
    }
   ],
   "source": [
    "# For streaming data\n",
    "print('Note: Just taking the first 1000 instances.')\n",
    "data_head = data.take(1000)\n",
    "df = pd.DataFrame(data_head)\n",
    "# If not streaming, use:\n",
    "#df = pd.json_normalize(data)"
   ]
  },
  {
   "cell_type": "markdown",
   "id": "659b4dd7-25d1-44ee-8506-8a67d350b639",
   "metadata": {
    "tags": []
   },
   "source": [
    "### Look at the top rows as a sanity-check"
   ]
  },
  {
   "cell_type": "code",
   "execution_count": 4,
   "id": "9dc73f02-cfc3-4cf6-8f77-8c6bd0cdb6a6",
   "metadata": {},
   "outputs": [
    {
     "data": {
      "text/html": [
       "<div>\n",
       "<style scoped>\n",
       "    .dataframe tbody tr th:only-of-type {\n",
       "        vertical-align: middle;\n",
       "    }\n",
       "\n",
       "    .dataframe tbody tr th {\n",
       "        vertical-align: top;\n",
       "    }\n",
       "\n",
       "    .dataframe thead th {\n",
       "        text-align: right;\n",
       "    }\n",
       "</style>\n",
       "<table border=\"1\" class=\"dataframe\">\n",
       "  <thead>\n",
       "    <tr style=\"text-align: right;\">\n",
       "      <th></th>\n",
       "      <th>text</th>\n",
       "      <th>id</th>\n",
       "    </tr>\n",
       "  </thead>\n",
       "  <tbody>\n",
       "    <tr>\n",
       "      <th>0</th>\n",
       "      <td>Mtendere Village was inspired by the vision of...</td>\n",
       "      <td>0</td>\n",
       "    </tr>\n",
       "    <tr>\n",
       "      <th>1</th>\n",
       "      <td>Lily James cannot fight the music. In the titl...</td>\n",
       "      <td>1</td>\n",
       "    </tr>\n",
       "    <tr>\n",
       "      <th>2</th>\n",
       "      <td>\"I'd love to help kickstart continued developm...</td>\n",
       "      <td>2</td>\n",
       "    </tr>\n",
       "    <tr>\n",
       "      <th>3</th>\n",
       "      <td>\"We view 11-11 as a top-tier, strategic partne...</td>\n",
       "      <td>3</td>\n",
       "    </tr>\n",
       "    <tr>\n",
       "      <th>4</th>\n",
       "      <td>Are you looking for Number the Stars (Essentia...</td>\n",
       "      <td>4</td>\n",
       "    </tr>\n",
       "  </tbody>\n",
       "</table>\n",
       "</div>"
      ],
      "text/plain": [
       "                                                text  id\n",
       "0  Mtendere Village was inspired by the vision of...   0\n",
       "1  Lily James cannot fight the music. In the titl...   1\n",
       "2  \"I'd love to help kickstart continued developm...   2\n",
       "3  \"We view 11-11 as a top-tier, strategic partne...   3\n",
       "4  Are you looking for Number the Stars (Essentia...   4"
      ]
     },
     "execution_count": 4,
     "metadata": {},
     "output_type": "execute_result"
    }
   ],
   "source": [
    "df.head()"
   ]
  },
  {
   "cell_type": "markdown",
   "id": "899197c1-8f35-4518-ac0b-2884b2e228cc",
   "metadata": {},
   "source": [
    "### Get more basic sanity-check information"
   ]
  },
  {
   "cell_type": "code",
   "execution_count": 5,
   "id": "bc3aef2d-564d-43c8-be3c-a3721a35483b",
   "metadata": {},
   "outputs": [
    {
     "name": "stdout",
     "output_type": "stream",
     "text": [
      "<class 'pandas.core.frame.DataFrame'>\n",
      "RangeIndex: 1000 entries, 0 to 999\n",
      "Data columns (total 2 columns):\n",
      " #   Column  Non-Null Count  Dtype \n",
      "---  ------  --------------  ----- \n",
      " 0   text    1000 non-null   object\n",
      " 1   id      1000 non-null   int64 \n",
      "dtypes: int64(1), object(1)\n",
      "memory usage: 15.8+ KB\n"
     ]
    }
   ],
   "source": [
    "df.info()"
   ]
  },
  {
   "cell_type": "markdown",
   "id": "7d8acd2c-98f4-4e44-b75b-37299eca868e",
   "metadata": {},
   "source": [
    "### Check for missing values"
   ]
  },
  {
   "cell_type": "code",
   "execution_count": 6,
   "id": "b83f149c-eba8-45c8-96be-0e2aa8bb2c46",
   "metadata": {},
   "outputs": [
    {
     "data": {
      "text/plain": [
       "0"
      ]
     },
     "execution_count": 6,
     "metadata": {},
     "output_type": "execute_result"
    }
   ],
   "source": [
    "df[df.isnull().any(axis=1)].head()\n",
    "np.sum(df.isnull().any(axis=1))"
   ]
  },
  {
   "cell_type": "markdown",
   "id": "adaf363d-32b0-4f9e-957b-673d20d5f2fa",
   "metadata": {},
   "source": [
    "### Count vocab size + frequencies"
   ]
  },
  {
   "cell_type": "code",
   "execution_count": 7,
   "id": "e2a1c847-388c-4862-a66f-8b480f800bbf",
   "metadata": {},
   "outputs": [],
   "source": [
    "def count_vocab_frequencies(df, cutoff=0):\n",
    "    \"\"\"\n",
    "    Based on an input pandas DataFrame with a 'text' column, \n",
    "    this function will count the occurrences of all words\n",
    "    with a frequency higher than 'cutoff' and will return another DataFrame\n",
    "    with the rows corresponding to the different vocabulary words\n",
    "    and the column to the total count of that word.\n",
    "    \"\"\"\n",
    "    # Move this up as a constant in larger code.\n",
    "    batch_size = 10\n",
    "    cvec = CountVectorizer(token_pattern=u\"(?u)\\\\b\\\\w+\\\\b\")\n",
    "    # Needed to modify the minimum token length: \n",
    "    # https://stackoverflow.com/questions/33260505/countvectorizer-ignoring-i\n",
    "    cvec.fit(df.text)\n",
    "    document_matrix = cvec.transform(df.text)\n",
    "    batches = np.linspace(0, df.shape[0], batch_size).astype(int)\n",
    "    i = 0\n",
    "    tf = []\n",
    "    while i < len(batches) - 1:\n",
    "        batch_result = np.sum(document_matrix[batches[i]:batches[i+1]].toarray(), axis=0)\n",
    "        tf.append(batch_result)\n",
    "        i += 1\n",
    "    term_freq_df = pd.DataFrame([np.sum(tf, axis=0)], columns=cvec.get_feature_names()).transpose()\n",
    "    term_freq_df.columns = ['total']\n",
    "    term_freq_df = term_freq_df[term_freq_df['total'] > cutoff]\n",
    "    sorted_term_freq_df = pd.DataFrame(term_freq_df.sort_values(by='total', ascending=False)['total'])\n",
    "    return sorted_term_freq_df"
   ]
  },
  {
   "cell_type": "code",
   "execution_count": 8,
   "id": "eb931a64-d81b-4505-8f5b-e7f9e09df8e7",
   "metadata": {},
   "outputs": [
    {
     "name": "stdout",
     "output_type": "stream",
     "text": [
      "Info on the observed frequencies:\n",
      "<class 'pandas.core.frame.DataFrame'>\n",
      "Index: 49994 entries, the to ﬁne\n",
      "Data columns (total 3 columns):\n",
      " #   Column       Non-Null Count  Dtype  \n",
      "---  ------       --------------  -----  \n",
      " 0   total        49994 non-null  int64  \n",
      " 1   probability  49994 non-null  float64\n",
      " 2   rank         49994 non-null  int64  \n",
      "dtypes: float64(1), int64(2)\n",
      "memory usage: 1.5+ MB\n",
      "None\n",
      "------------------------------------\n",
      "Vocab size (types):\t49994\n",
      "Vocab size (tokens):\t1054120\n",
      "Observations look like this:\n",
      "     total  probability  rank\n",
      "the  50142     0.047568     1\n",
      "and  29384     0.027875     2\n",
      "to   28256     0.026805     3\n",
      "of   24251     0.023006     4\n",
      "a    22043     0.020911     5\n",
      "...\n",
      "                   total   probability  rank\n",
      "incompetently          1  9.486586e-07   579\n",
      "incompetency           1  9.486586e-07   579\n",
      "incompatibility        1  9.486586e-07   579\n",
      "incompatibilities      1  9.486586e-07   579\n",
      "ﬁne                    1  9.486586e-07   579\n"
     ]
    }
   ],
   "source": [
    "term_df = count_vocab_frequencies(df)\n",
    "probability_column = term_df['total']/sum(term_df['total'])\n",
    "# Grrr. This is actually the relative frequency but apparently we call it \n",
    "# 'probability' when we normalize a histogram?!\n",
    "term_df['probability'] = probability_column\n",
    "rank_column = term_df['total'].rank(method='dense', numeric_only=True, ascending=False)\n",
    "term_df['rank'] = rank_column.astype('int64')\n",
    "print(\"Info on the observed frequencies:\")\n",
    "print(term_df.info())\n",
    "print(\"------------------------------------\")\n",
    "print(\"Vocab size (types):\\t%s\" % len(term_df))\n",
    "print(\"Vocab size (tokens):\\t%s\" % sum(term_df['total']))\n",
    "print(\"Observations look like this:\")\n",
    "print(term_df.head())\n",
    "print('...')\n",
    "print(term_df.tail())"
   ]
  },
  {
   "cell_type": "markdown",
   "id": "23e58da4-0d4a-4424-b327-7c32218a0c9e",
   "metadata": {},
   "source": [
    "### Fit the observed totals to a Zipfian powerlaw.\n",
    "#### Because the ranks are integers, we treat it as a discrete distribution (actually should be 'ordinal' distribution). Our reasoning is that it doesn't make sense to mandate that the distances between the ranks are equal; the values are 'ordinal' actually.\n",
    "#### We fit this distribution to a power law by minimizing the Kolmogorov–Smirnov (KS) distance.\n",
    "#### Our reasoning in using a KS objective rather than Maximun Likelihood Estimation (MLE) is that a fundamental assumption of MLE is that individual data points are independent, but that oughtn't be so with the use of words in language (we think)..."
   ]
  },
  {
   "cell_type": "code",
   "execution_count": 9,
   "id": "dbdb91a6-6985-4049-9d40-07664aaef5a1",
   "metadata": {},
   "outputs": [
    {
     "name": "stdout",
     "output_type": "stream",
     "text": [
      "Calculating best minimal value for power law fit\n",
      "------------------------------------\n",
      "Optimal Alpha:\t\t1.6677\n",
      "Optimal Frequency cut-off:\t2.0\n",
      "Distance:\t\t0.0174\n",
      "Checking the goodness of fit of our observed distribution\n",
      " to the hypothesized power law distribution\n",
      " using a Kolmogorov–Smirnov (KS) test.\n",
      "KstestResult(statistic=0.9884525637701681, pvalue=0.0)\n",
      "\n",
      "The KS test p-value is: 0.0000\n",
      "\n",
      "Your data fits a powerlaw with a minimum KS distance of 0.0174\n",
      "\n",
      "Woohoo!\n"
     ]
    }
   ],
   "source": [
    "import math\n",
    "# Uses the powerlaw package to fit the observed frequencies to a zipfian distribution\n",
    "\n",
    "observed_counts = term_df['total'].values\n",
    "# Turn these into an empirical probability distribution by normalizing by the total sum.\n",
    "# Note -- doesn't seem to matter actually; can remove.\n",
    "sum_total = float(sum(observed_counts))\n",
    "observed_probabilities = observed_counts/sum_total\n",
    "#observed_log_probabilities = np.log(observed_counts) - np.log(norm)\n",
    "# 'fit_method' is MLE by default; doesn't seem to change the results in my initial pokings.\n",
    "# Also tried discrete_approximation=\"xmax\"\n",
    "# Note another method for determining alpha \n",
    "# might be defined by (Newman, 2005 for details): alpha = 1 + n * sum(ln( xi / xmin )) ^ -1\n",
    "fit = powerlaw.Fit(observed_counts, fit_method=\"KS\", discrete=True)\n",
    "# bins_edges = The edges of the bins of the probability density function.\n",
    "# The portion of the data that is within the bin. Length 1 less than bin_edges, as it corresponds to the spaces between them.\n",
    "# Returns the probability density function (normalized histogram) of the data.\n",
    "pdf_bin_edges, observed_pdf = fit.pdf(original_data=True, linear_bins=True)\n",
    "observed_pdf = np.flip(observed_pdf)\n",
    "pdf_bin_edges = np.flip(pdf_bin_edges)\n",
    "# This seems to basically be the 'Distribution' class described here: https://pythonhosted.org/powerlaw/#powerlaw.Fit.pdf\n",
    "theoretical_distribution = fit.power_law\n",
    "# The likelihoods of the observed data from the theoretical distribution.\n",
    "predicted_likelihoods = theoretical_distribution.likelihoods\n",
    "# The logarithm of the likelihoods of the observed data from the theoretical distribution.\n",
    "predicted_log_likelihoods = theoretical_distribution.loglikelihoods\n",
    "# The probability density function (normalized histogram) of the theoretical distribution\n",
    "predicted_pdf = theoretical_distribution.pdf()\n",
    "predicted_pdf = np.flip(predicted_pdf)\n",
    "alpha = theoretical_distribution.alpha\n",
    "xmin = theoretical_distribution.xmin\n",
    "distance = theoretical_distribution.KS()\n",
    "\n",
    "# We know the optimal xmin, but now let's set the prediction xmin to a lower value\n",
    "# so we can graph out more beyond the cutoff.\n",
    "# Note: Bring this up as a parameter that can be set.\n",
    "# fit.xmin = .001\n",
    "\n",
    "print(\"------------------------------------\")\n",
    "print(\"Optimal Alpha:\\t\\t%.4f\" % alpha)\n",
    "print(\"Optimal Frequency cut-off:\\t%s\" % xmin)\n",
    "print(\"Distance:\\t\\t%.4f\" % distance)\n",
    "# Significance testing\n",
    "# Note: We may want to use bootstrapping (instead of the standard KS test p-value tables) to determine statistical significance\n",
    "# See: https://stats.stackexchange.com/questions/264431/how-to-determine-if-zipfs-law-can-be-applied Answer #4\n",
    "print(\"Checking the goodness of fit of our observed distribution\")\n",
    "print(\" to the hypothesized power law distribution\")\n",
    "print(\" using a Kolmogorov–Smirnov (KS) test.\")\n",
    "ks_test = ks_2samp(observed_pdf, predicted_pdf)\n",
    "# print(\"KS test:\", end='\\t\\t')\n",
    "print(ks_test)\n",
    "print(\"\\nThe KS test p-value is: %.4f\" % ks_test.pvalue)\n",
    "if ks_test.pvalue < .01:\n",
    "    print(\"\\nYour data fits a powerlaw with a minimum KS distance of %.4f\" % distance)\n",
    "    print(\"\\nWoohoo!\")\n",
    "else:\n",
    "    print(\"\\nYour data does not fits a powerlaw. =\\(\")\n",
    "    print(\"\\nDO BETTER.\")"
   ]
  },
  {
   "cell_type": "markdown",
   "id": "6bb4d09b-fbf9-496b-b814-9cc44b35df64",
   "metadata": {},
   "source": [
    "### Use the given alpha to calulate the zipf pmf and plot."
   ]
  },
  {
   "cell_type": "markdown",
   "id": "db5b615b-3438-41f8-9d63-460ed2973381",
   "metadata": {},
   "source": [
    "##### We're using a cutoff here to save compute time and make the histogram readable."
   ]
  },
  {
   "cell_type": "code",
   "execution_count": 68,
   "id": "55c8b7c7-c8c5-4c71-a285-b1d095034fa2",
   "metadata": {},
   "outputs": [
    {
     "name": "stdout",
     "output_type": "stream",
     "text": [
      "                   total   probability  rank      zipf_pmf\n",
      "the                50142  4.756764e-02     1  58023.711250\n",
      "and                29384  2.787538e-02     2  29507.872760\n",
      "to                 28256  2.680530e-02     3  18263.223048\n",
      "of                 24251  2.300592e-02     4  12588.108564\n",
      "a                  22043  2.091128e-02     5   9287.735139\n",
      "...                  ...           ...   ...           ...\n",
      "incompetently          1  9.486586e-07   579           NaN\n",
      "incompetency           1  9.486586e-07   579           NaN\n",
      "incompatibility        1  9.486586e-07   579           NaN\n",
      "incompatibilities      1  9.486586e-07   579           NaN\n",
      "ﬁne                    1  9.486586e-07   579           NaN\n",
      "\n",
      "[49994 rows x 4 columns]\n"
     ]
    }
   ],
   "source": [
    "cutoff = 50\n",
    "summed_total = sum(list(term_df['total'])[:cutoff])\n",
    "# Ignoring rank 0\n",
    "zipf_pmf = [zipf.pmf(p, alpha) * summed_total for p in range(1, cutoff + 1)][1:]\n",
    "zipf_col = pd.DataFrame(zipf_pmf, columns = ['zipf_pmf'])\n",
    "term_df['zipf_pmf'] = zipf_pmf + [np.NaN] * (len(term_df) - len(zipf_pmf))\n",
    "print(term_df)\n",
    "# If we're using a cutoff, pad the column so it can still be added to the larger dataframe"
   ]
  },
  {
   "cell_type": "code",
   "execution_count": 79,
   "id": "b4884aa1-6206-46df-bee7-06d04d46a7b5",
   "metadata": {},
   "outputs": [
    {
     "name": "stderr",
     "output_type": "stream",
     "text": [
      "/home/sasha/miniconda3/envs/datametrics/lib/python3.8/site-packages/pandas/core/frame.py:3607: SettingWithCopyWarning:\n",
      "\n",
      "\n",
      "A value is trying to be set on a copy of a slice from a DataFrame.\n",
      "Try using .loc[row_indexer,col_indexer] = value instead\n",
      "\n",
      "See the caveats in the documentation: https://pandas.pydata.org/pandas-docs/stable/user_guide/indexing.html#returning-a-view-versus-a-copy\n",
      "\n"
     ]
    }
   ],
   "source": [
    "termplot=term_df[:cutoff]\n",
    "termplot['word'] = termplot.index\n",
    "wordlist=[]\n",
    "for w in termplot.groupby('rank'):\n",
    "    wordlist.append((w[1]['word'][0]))"
   ]
  },
  {
   "cell_type": "code",
   "execution_count": 81,
   "id": "c90385b1-7d4c-499d-8c8b-ae2bdd42d140",
   "metadata": {},
   "outputs": [
    {
     "data": {
      "application/vnd.plotly.v1+json": {
       "config": {
        "plotlyServerURL": "https://plot.ly"
       },
       "data": [
        {
         "hovertext": [
          "the",
          "and",
          "to",
          "of",
          "a",
          "in",
          "you",
          "is",
          "i",
          "for",
          "that",
          "it",
          "with",
          "on",
          "s",
          "this",
          "as",
          "are",
          "your",
          "be",
          "or",
          "we",
          "was",
          "have",
          "at",
          "from",
          "by",
          "not",
          "but",
          "his",
          "can",
          "he",
          "t",
          "an",
          "all",
          "will",
          "they",
          "if",
          "my",
          "more",
          "our",
          "one",
          "their",
          "her",
          "up",
          "so",
          "out",
          "has",
          "when",
          "about"
         ],
         "marker": {
          "color": "limegreen",
          "line": {
           "width": 1.5
          }
         },
         "name": "Word Count",
         "opacity": 0.6,
         "type": "bar",
         "x": [
          1,
          2,
          3,
          4,
          5,
          6,
          7,
          8,
          9,
          10,
          11,
          12,
          13,
          14,
          15,
          16,
          17,
          18,
          19,
          20,
          21,
          22,
          23,
          24,
          25,
          26,
          27,
          28,
          29,
          30,
          31,
          32,
          33,
          34,
          35,
          36,
          37,
          38,
          39,
          40,
          41,
          42,
          43,
          44,
          45,
          46,
          47,
          48,
          49,
          50
         ],
         "y": [
          50142,
          29384,
          28256,
          24251,
          22043,
          16450,
          11253,
          11195,
          10878,
          10628,
          10214,
          9726,
          8189,
          7916,
          7239,
          6150,
          6042,
          5718,
          5530,
          5479,
          5381,
          5249,
          5152,
          4921,
          4833,
          4584,
          4198,
          4128,
          3905,
          3854,
          3832,
          3641,
          3419,
          3382,
          3368,
          3307,
          3303,
          3186,
          2852,
          2774,
          2751,
          2739,
          2585,
          2557,
          2556,
          2551,
          2428,
          2397,
          2295,
          2236
         ]
        },
        {
         "line": {
          "color": "crimson",
          "width": 3
         },
         "marker": {
          "color": "limegreen",
          "line": {
           "width": 1.5
          }
         },
         "name": "Zipf Predicted Values",
         "opacity": 0.6,
         "type": "scatter",
         "x": [
          0,
          1,
          2,
          3,
          4,
          5,
          6,
          7,
          8,
          9,
          10,
          11,
          12,
          13,
          14,
          15,
          16,
          17,
          18,
          19,
          20,
          21,
          22,
          23,
          24,
          25,
          26,
          27,
          28,
          29,
          30,
          31,
          32,
          33,
          34,
          35,
          36,
          37,
          38,
          39,
          40,
          41,
          42,
          43,
          44,
          45,
          46,
          47,
          48
         ],
         "y": [
          58023.711249962646,
          29507.87276011146,
          18263.223047971453,
          12588.108564472466,
          9287.735139303477,
          7182.284129468106,
          5748.431269124833,
          4723.264003909427,
          3962.163562317609,
          3379.883801071557,
          2923.3562418793194,
          2558.0494533994374,
          2260.6561046276734,
          2014.9524346685632,
          1809.3444935242403,
          1635.3565727020296,
          1486.6685042988886,
          1358.4845059188306,
          1247.1087307638948,
          1149.653327108847,
          1063.8335674406753,
          987.8214660458017,
          920.1394730530264,
          859.5821259654971,
          805.1575248938501,
          756.0430747411915,
          711.5516361184164,
          671.1053659709416,
          634.2153053063938,
          600.4653084419979,
          569.4992847578912,
          541.0109913642435,
          514.735807255737,
          490.44405914330224,
          467.93557163964044,
          447.03519043556213,
          427.589083916532,
          409.46167152362733,
          392.53305975026274,
          376.69689163428086,
          361.85853487344576,
          347.9335486635974,
          334.84638106633935,
          322.52925792485144,
          310.92123163666554,
          299.96736389394766,
          289.6180211434021,
          279.82826525014775,
          270.55732486548715
         ]
        }
       ],
       "layout": {
        "autosize": true,
        "template": {
         "data": {
          "bar": [
           {
            "error_x": {
             "color": "#2a3f5f"
            },
            "error_y": {
             "color": "#2a3f5f"
            },
            "marker": {
             "line": {
              "color": "#E5ECF6",
              "width": 0.5
             },
             "pattern": {
              "fillmode": "overlay",
              "size": 10,
              "solidity": 0.2
             }
            },
            "type": "bar"
           }
          ],
          "barpolar": [
           {
            "marker": {
             "line": {
              "color": "#E5ECF6",
              "width": 0.5
             },
             "pattern": {
              "fillmode": "overlay",
              "size": 10,
              "solidity": 0.2
             }
            },
            "type": "barpolar"
           }
          ],
          "carpet": [
           {
            "aaxis": {
             "endlinecolor": "#2a3f5f",
             "gridcolor": "white",
             "linecolor": "white",
             "minorgridcolor": "white",
             "startlinecolor": "#2a3f5f"
            },
            "baxis": {
             "endlinecolor": "#2a3f5f",
             "gridcolor": "white",
             "linecolor": "white",
             "minorgridcolor": "white",
             "startlinecolor": "#2a3f5f"
            },
            "type": "carpet"
           }
          ],
          "choropleth": [
           {
            "colorbar": {
             "outlinewidth": 0,
             "ticks": ""
            },
            "type": "choropleth"
           }
          ],
          "contour": [
           {
            "colorbar": {
             "outlinewidth": 0,
             "ticks": ""
            },
            "colorscale": [
             [
              0,
              "#0d0887"
             ],
             [
              0.1111111111111111,
              "#46039f"
             ],
             [
              0.2222222222222222,
              "#7201a8"
             ],
             [
              0.3333333333333333,
              "#9c179e"
             ],
             [
              0.4444444444444444,
              "#bd3786"
             ],
             [
              0.5555555555555556,
              "#d8576b"
             ],
             [
              0.6666666666666666,
              "#ed7953"
             ],
             [
              0.7777777777777778,
              "#fb9f3a"
             ],
             [
              0.8888888888888888,
              "#fdca26"
             ],
             [
              1,
              "#f0f921"
             ]
            ],
            "type": "contour"
           }
          ],
          "contourcarpet": [
           {
            "colorbar": {
             "outlinewidth": 0,
             "ticks": ""
            },
            "type": "contourcarpet"
           }
          ],
          "heatmap": [
           {
            "colorbar": {
             "outlinewidth": 0,
             "ticks": ""
            },
            "colorscale": [
             [
              0,
              "#0d0887"
             ],
             [
              0.1111111111111111,
              "#46039f"
             ],
             [
              0.2222222222222222,
              "#7201a8"
             ],
             [
              0.3333333333333333,
              "#9c179e"
             ],
             [
              0.4444444444444444,
              "#bd3786"
             ],
             [
              0.5555555555555556,
              "#d8576b"
             ],
             [
              0.6666666666666666,
              "#ed7953"
             ],
             [
              0.7777777777777778,
              "#fb9f3a"
             ],
             [
              0.8888888888888888,
              "#fdca26"
             ],
             [
              1,
              "#f0f921"
             ]
            ],
            "type": "heatmap"
           }
          ],
          "heatmapgl": [
           {
            "colorbar": {
             "outlinewidth": 0,
             "ticks": ""
            },
            "colorscale": [
             [
              0,
              "#0d0887"
             ],
             [
              0.1111111111111111,
              "#46039f"
             ],
             [
              0.2222222222222222,
              "#7201a8"
             ],
             [
              0.3333333333333333,
              "#9c179e"
             ],
             [
              0.4444444444444444,
              "#bd3786"
             ],
             [
              0.5555555555555556,
              "#d8576b"
             ],
             [
              0.6666666666666666,
              "#ed7953"
             ],
             [
              0.7777777777777778,
              "#fb9f3a"
             ],
             [
              0.8888888888888888,
              "#fdca26"
             ],
             [
              1,
              "#f0f921"
             ]
            ],
            "type": "heatmapgl"
           }
          ],
          "histogram": [
           {
            "marker": {
             "pattern": {
              "fillmode": "overlay",
              "size": 10,
              "solidity": 0.2
             }
            },
            "type": "histogram"
           }
          ],
          "histogram2d": [
           {
            "colorbar": {
             "outlinewidth": 0,
             "ticks": ""
            },
            "colorscale": [
             [
              0,
              "#0d0887"
             ],
             [
              0.1111111111111111,
              "#46039f"
             ],
             [
              0.2222222222222222,
              "#7201a8"
             ],
             [
              0.3333333333333333,
              "#9c179e"
             ],
             [
              0.4444444444444444,
              "#bd3786"
             ],
             [
              0.5555555555555556,
              "#d8576b"
             ],
             [
              0.6666666666666666,
              "#ed7953"
             ],
             [
              0.7777777777777778,
              "#fb9f3a"
             ],
             [
              0.8888888888888888,
              "#fdca26"
             ],
             [
              1,
              "#f0f921"
             ]
            ],
            "type": "histogram2d"
           }
          ],
          "histogram2dcontour": [
           {
            "colorbar": {
             "outlinewidth": 0,
             "ticks": ""
            },
            "colorscale": [
             [
              0,
              "#0d0887"
             ],
             [
              0.1111111111111111,
              "#46039f"
             ],
             [
              0.2222222222222222,
              "#7201a8"
             ],
             [
              0.3333333333333333,
              "#9c179e"
             ],
             [
              0.4444444444444444,
              "#bd3786"
             ],
             [
              0.5555555555555556,
              "#d8576b"
             ],
             [
              0.6666666666666666,
              "#ed7953"
             ],
             [
              0.7777777777777778,
              "#fb9f3a"
             ],
             [
              0.8888888888888888,
              "#fdca26"
             ],
             [
              1,
              "#f0f921"
             ]
            ],
            "type": "histogram2dcontour"
           }
          ],
          "mesh3d": [
           {
            "colorbar": {
             "outlinewidth": 0,
             "ticks": ""
            },
            "type": "mesh3d"
           }
          ],
          "parcoords": [
           {
            "line": {
             "colorbar": {
              "outlinewidth": 0,
              "ticks": ""
             }
            },
            "type": "parcoords"
           }
          ],
          "pie": [
           {
            "automargin": true,
            "type": "pie"
           }
          ],
          "scatter": [
           {
            "marker": {
             "colorbar": {
              "outlinewidth": 0,
              "ticks": ""
             }
            },
            "type": "scatter"
           }
          ],
          "scatter3d": [
           {
            "line": {
             "colorbar": {
              "outlinewidth": 0,
              "ticks": ""
             }
            },
            "marker": {
             "colorbar": {
              "outlinewidth": 0,
              "ticks": ""
             }
            },
            "type": "scatter3d"
           }
          ],
          "scattercarpet": [
           {
            "marker": {
             "colorbar": {
              "outlinewidth": 0,
              "ticks": ""
             }
            },
            "type": "scattercarpet"
           }
          ],
          "scattergeo": [
           {
            "marker": {
             "colorbar": {
              "outlinewidth": 0,
              "ticks": ""
             }
            },
            "type": "scattergeo"
           }
          ],
          "scattergl": [
           {
            "marker": {
             "colorbar": {
              "outlinewidth": 0,
              "ticks": ""
             }
            },
            "type": "scattergl"
           }
          ],
          "scattermapbox": [
           {
            "marker": {
             "colorbar": {
              "outlinewidth": 0,
              "ticks": ""
             }
            },
            "type": "scattermapbox"
           }
          ],
          "scatterpolar": [
           {
            "marker": {
             "colorbar": {
              "outlinewidth": 0,
              "ticks": ""
             }
            },
            "type": "scatterpolar"
           }
          ],
          "scatterpolargl": [
           {
            "marker": {
             "colorbar": {
              "outlinewidth": 0,
              "ticks": ""
             }
            },
            "type": "scatterpolargl"
           }
          ],
          "scatterternary": [
           {
            "marker": {
             "colorbar": {
              "outlinewidth": 0,
              "ticks": ""
             }
            },
            "type": "scatterternary"
           }
          ],
          "surface": [
           {
            "colorbar": {
             "outlinewidth": 0,
             "ticks": ""
            },
            "colorscale": [
             [
              0,
              "#0d0887"
             ],
             [
              0.1111111111111111,
              "#46039f"
             ],
             [
              0.2222222222222222,
              "#7201a8"
             ],
             [
              0.3333333333333333,
              "#9c179e"
             ],
             [
              0.4444444444444444,
              "#bd3786"
             ],
             [
              0.5555555555555556,
              "#d8576b"
             ],
             [
              0.6666666666666666,
              "#ed7953"
             ],
             [
              0.7777777777777778,
              "#fb9f3a"
             ],
             [
              0.8888888888888888,
              "#fdca26"
             ],
             [
              1,
              "#f0f921"
             ]
            ],
            "type": "surface"
           }
          ],
          "table": [
           {
            "cells": {
             "fill": {
              "color": "#EBF0F8"
             },
             "line": {
              "color": "white"
             }
            },
            "header": {
             "fill": {
              "color": "#C8D4E3"
             },
             "line": {
              "color": "white"
             }
            },
            "type": "table"
           }
          ]
         },
         "layout": {
          "annotationdefaults": {
           "arrowcolor": "#2a3f5f",
           "arrowhead": 0,
           "arrowwidth": 1
          },
          "autotypenumbers": "strict",
          "coloraxis": {
           "colorbar": {
            "outlinewidth": 0,
            "ticks": ""
           }
          },
          "colorscale": {
           "diverging": [
            [
             0,
             "#8e0152"
            ],
            [
             0.1,
             "#c51b7d"
            ],
            [
             0.2,
             "#de77ae"
            ],
            [
             0.3,
             "#f1b6da"
            ],
            [
             0.4,
             "#fde0ef"
            ],
            [
             0.5,
             "#f7f7f7"
            ],
            [
             0.6,
             "#e6f5d0"
            ],
            [
             0.7,
             "#b8e186"
            ],
            [
             0.8,
             "#7fbc41"
            ],
            [
             0.9,
             "#4d9221"
            ],
            [
             1,
             "#276419"
            ]
           ],
           "sequential": [
            [
             0,
             "#0d0887"
            ],
            [
             0.1111111111111111,
             "#46039f"
            ],
            [
             0.2222222222222222,
             "#7201a8"
            ],
            [
             0.3333333333333333,
             "#9c179e"
            ],
            [
             0.4444444444444444,
             "#bd3786"
            ],
            [
             0.5555555555555556,
             "#d8576b"
            ],
            [
             0.6666666666666666,
             "#ed7953"
            ],
            [
             0.7777777777777778,
             "#fb9f3a"
            ],
            [
             0.8888888888888888,
             "#fdca26"
            ],
            [
             1,
             "#f0f921"
            ]
           ],
           "sequentialminus": [
            [
             0,
             "#0d0887"
            ],
            [
             0.1111111111111111,
             "#46039f"
            ],
            [
             0.2222222222222222,
             "#7201a8"
            ],
            [
             0.3333333333333333,
             "#9c179e"
            ],
            [
             0.4444444444444444,
             "#bd3786"
            ],
            [
             0.5555555555555556,
             "#d8576b"
            ],
            [
             0.6666666666666666,
             "#ed7953"
            ],
            [
             0.7777777777777778,
             "#fb9f3a"
            ],
            [
             0.8888888888888888,
             "#fdca26"
            ],
            [
             1,
             "#f0f921"
            ]
           ]
          },
          "colorway": [
           "#636efa",
           "#EF553B",
           "#00cc96",
           "#ab63fa",
           "#FFA15A",
           "#19d3f3",
           "#FF6692",
           "#B6E880",
           "#FF97FF",
           "#FECB52"
          ],
          "font": {
           "color": "#2a3f5f"
          },
          "geo": {
           "bgcolor": "white",
           "lakecolor": "white",
           "landcolor": "#E5ECF6",
           "showlakes": true,
           "showland": true,
           "subunitcolor": "white"
          },
          "hoverlabel": {
           "align": "left"
          },
          "hovermode": "closest",
          "mapbox": {
           "style": "light"
          },
          "paper_bgcolor": "white",
          "plot_bgcolor": "#E5ECF6",
          "polar": {
           "angularaxis": {
            "gridcolor": "white",
            "linecolor": "white",
            "ticks": ""
           },
           "bgcolor": "#E5ECF6",
           "radialaxis": {
            "gridcolor": "white",
            "linecolor": "white",
            "ticks": ""
           }
          },
          "scene": {
           "xaxis": {
            "backgroundcolor": "#E5ECF6",
            "gridcolor": "white",
            "gridwidth": 2,
            "linecolor": "white",
            "showbackground": true,
            "ticks": "",
            "zerolinecolor": "white"
           },
           "yaxis": {
            "backgroundcolor": "#E5ECF6",
            "gridcolor": "white",
            "gridwidth": 2,
            "linecolor": "white",
            "showbackground": true,
            "ticks": "",
            "zerolinecolor": "white"
           },
           "zaxis": {
            "backgroundcolor": "#E5ECF6",
            "gridcolor": "white",
            "gridwidth": 2,
            "linecolor": "white",
            "showbackground": true,
            "ticks": "",
            "zerolinecolor": "white"
           }
          },
          "shapedefaults": {
           "line": {
            "color": "#2a3f5f"
           }
          },
          "ternary": {
           "aaxis": {
            "gridcolor": "white",
            "linecolor": "white",
            "ticks": ""
           },
           "baxis": {
            "gridcolor": "white",
            "linecolor": "white",
            "ticks": ""
           },
           "bgcolor": "#E5ECF6",
           "caxis": {
            "gridcolor": "white",
            "linecolor": "white",
            "ticks": ""
           }
          },
          "title": {
           "x": 0.05
          },
          "xaxis": {
           "automargin": true,
           "gridcolor": "white",
           "linecolor": "white",
           "ticks": "",
           "title": {
            "standoff": 15
           },
           "zerolinecolor": "white",
           "zerolinewidth": 2
          },
          "yaxis": {
           "automargin": true,
           "gridcolor": "white",
           "linecolor": "white",
           "ticks": "",
           "title": {
            "standoff": 15
           },
           "zerolinecolor": "white",
           "zerolinewidth": 2
          }
         }
        },
        "title": {
         "text": "Word Counts and Values Predicted by Zipf"
        },
        "xaxis": {
         "autorange": true,
         "range": [
          0,
          50.5
         ],
         "type": "linear"
        },
        "yaxis": {
         "autorange": true,
         "range": [
          -2937.9512265287995,
          61232.21980135693
         ],
         "type": "linear"
        }
       }
      },
      "image/png": "[encoded data removed]",
      "text/html": [
       "<div>                            <div id=\"c406f38c-c29f-46e0-b934-68e726e4ce42\" class=\"plotly-graph-div\" style=\"height:525px; width:100%;\"></div>            <script type=\"text/javascript\">                require([\"plotly\"], function(Plotly) {                    window.PLOTLYENV=window.PLOTLYENV || {};                                    if (document.getElementById(\"c406f38c-c29f-46e0-b934-68e726e4ce42\")) {                    Plotly.newPlot(                        \"c406f38c-c29f-46e0-b934-68e726e4ce42\",                        [{\"hovertext\":[\"the\",\"and\",\"to\",\"of\",\"a\",\"in\",\"you\",\"is\",\"i\",\"for\",\"that\",\"it\",\"with\",\"on\",\"s\",\"this\",\"as\",\"are\",\"your\",\"be\",\"or\",\"we\",\"was\",\"have\",\"at\",\"from\",\"by\",\"not\",\"but\",\"his\",\"can\",\"he\",\"t\",\"an\",\"all\",\"will\",\"they\",\"if\",\"my\",\"more\",\"our\",\"one\",\"their\",\"her\",\"up\",\"so\",\"out\",\"has\",\"when\",\"about\"],\"marker\":{\"color\":\"limegreen\",\"line\":{\"width\":1.5}},\"name\":\"Word Count\",\"opacity\":0.6,\"type\":\"bar\",\"x\":[1,2,3,4,5,6,7,8,9,10,11,12,13,14,15,16,17,18,19,20,21,22,23,24,25,26,27,28,29,30,31,32,33,34,35,36,37,38,39,40,41,42,43,44,45,46,47,48,49,50],\"y\":[50142,29384,28256,24251,22043,16450,11253,11195,10878,10628,10214,9726,8189,7916,7239,6150,6042,5718,5530,5479,5381,5249,5152,4921,4833,4584,4198,4128,3905,3854,3832,3641,3419,3382,3368,3307,3303,3186,2852,2774,2751,2739,2585,2557,2556,2551,2428,2397,2295,2236]},{\"line\":{\"color\":\"crimson\",\"width\":3},\"marker\":{\"color\":\"limegreen\",\"line\":{\"width\":1.5}},\"name\":\"Zipf Predicted Values\",\"opacity\":0.6,\"type\":\"scatter\",\"x\":[0,1,2,3,4,5,6,7,8,9,10,11,12,13,14,15,16,17,18,19,20,21,22,23,24,25,26,27,28,29,30,31,32,33,34,35,36,37,38,39,40,41,42,43,44,45,46,47,48],\"y\":[58023.711249962646,29507.87276011146,18263.223047971453,12588.108564472466,9287.735139303477,7182.284129468106,5748.431269124833,4723.264003909427,3962.163562317609,3379.883801071557,2923.3562418793194,2558.0494533994374,2260.6561046276734,2014.9524346685632,1809.3444935242403,1635.3565727020296,1486.6685042988886,1358.4845059188306,1247.1087307638948,1149.653327108847,1063.8335674406753,987.8214660458017,920.1394730530264,859.5821259654971,805.1575248938501,756.0430747411915,711.5516361184164,671.1053659709416,634.2153053063938,600.4653084419979,569.4992847578912,541.0109913642435,514.735807255737,490.44405914330224,467.93557163964044,447.03519043556213,427.589083916532,409.46167152362733,392.53305975026274,376.69689163428086,361.85853487344576,347.9335486635974,334.84638106633935,322.52925792485144,310.92123163666554,299.96736389394766,289.6180211434021,279.82826525014775,270.55732486548715]}],                        {\"template\":{\"data\":{\"bar\":[{\"error_x\":{\"color\":\"#2a3f5f\"},\"error_y\":{\"color\":\"#2a3f5f\"},\"marker\":{\"line\":{\"color\":\"#E5ECF6\",\"width\":0.5},\"pattern\":{\"fillmode\":\"overlay\",\"size\":10,\"solidity\":0.2}},\"type\":\"bar\"}],\"barpolar\":[{\"marker\":{\"line\":{\"color\":\"#E5ECF6\",\"width\":0.5},\"pattern\":{\"fillmode\":\"overlay\",\"size\":10,\"solidity\":0.2}},\"type\":\"barpolar\"}],\"carpet\":[{\"aaxis\":{\"endlinecolor\":\"#2a3f5f\",\"gridcolor\":\"white\",\"linecolor\":\"white\",\"minorgridcolor\":\"white\",\"startlinecolor\":\"#2a3f5f\"},\"baxis\":{\"endlinecolor\":\"#2a3f5f\",\"gridcolor\":\"white\",\"linecolor\":\"white\",\"minorgridcolor\":\"white\",\"startlinecolor\":\"#2a3f5f\"},\"type\":\"carpet\"}],\"choropleth\":[{\"colorbar\":{\"outlinewidth\":0,\"ticks\":\"\"},\"type\":\"choropleth\"}],\"contour\":[{\"colorbar\":{\"outlinewidth\":0,\"ticks\":\"\"},\"colorscale\":[[0.0,\"#0d0887\"],[0.1111111111111111,\"#46039f\"],[0.2222222222222222,\"#7201a8\"],[0.3333333333333333,\"#9c179e\"],[0.4444444444444444,\"#bd3786\"],[0.5555555555555556,\"#d8576b\"],[0.6666666666666666,\"#ed7953\"],[0.7777777777777778,\"#fb9f3a\"],[0.8888888888888888,\"#fdca26\"],[1.0,\"#f0f921\"]],\"type\":\"contour\"}],\"contourcarpet\":[{\"colorbar\":{\"outlinewidth\":0,\"ticks\":\"\"},\"type\":\"contourcarpet\"}],\"heatmap\":[{\"colorbar\":{\"outlinewidth\":0,\"ticks\":\"\"},\"colorscale\":[[0.0,\"#0d0887\"],[0.1111111111111111,\"#46039f\"],[0.2222222222222222,\"#7201a8\"],[0.3333333333333333,\"#9c179e\"],[0.4444444444444444,\"#bd3786\"],[0.5555555555555556,\"#d8576b\"],[0.6666666666666666,\"#ed7953\"],[0.7777777777777778,\"#fb9f3a\"],[0.8888888888888888,\"#fdca26\"],[1.0,\"#f0f921\"]],\"type\":\"heatmap\"}],\"heatmapgl\":[{\"colorbar\":{\"outlinewidth\":0,\"ticks\":\"\"},\"colorscale\":[[0.0,\"#0d0887\"],[0.1111111111111111,\"#46039f\"],[0.2222222222222222,\"#7201a8\"],[0.3333333333333333,\"#9c179e\"],[0.4444444444444444,\"#bd3786\"],[0.5555555555555556,\"#d8576b\"],[0.6666666666666666,\"#ed7953\"],[0.7777777777777778,\"#fb9f3a\"],[0.8888888888888888,\"#fdca26\"],[1.0,\"#f0f921\"]],\"type\":\"heatmapgl\"}],\"histogram\":[{\"marker\":{\"pattern\":{\"fillmode\":\"overlay\",\"size\":10,\"solidity\":0.2}},\"type\":\"histogram\"}],\"histogram2d\":[{\"colorbar\":{\"outlinewidth\":0,\"ticks\":\"\"},\"colorscale\":[[0.0,\"#0d0887\"],[0.1111111111111111,\"#46039f\"],[0.2222222222222222,\"#7201a8\"],[0.3333333333333333,\"#9c179e\"],[0.4444444444444444,\"#bd3786\"],[0.5555555555555556,\"#d8576b\"],[0.6666666666666666,\"#ed7953\"],[0.7777777777777778,\"#fb9f3a\"],[0.8888888888888888,\"#fdca26\"],[1.0,\"#f0f921\"]],\"type\":\"histogram2d\"}],\"histogram2dcontour\":[{\"colorbar\":{\"outlinewidth\":0,\"ticks\":\"\"},\"colorscale\":[[0.0,\"#0d0887\"],[0.1111111111111111,\"#46039f\"],[0.2222222222222222,\"#7201a8\"],[0.3333333333333333,\"#9c179e\"],[0.4444444444444444,\"#bd3786\"],[0.5555555555555556,\"#d8576b\"],[0.6666666666666666,\"#ed7953\"],[0.7777777777777778,\"#fb9f3a\"],[0.8888888888888888,\"#fdca26\"],[1.0,\"#f0f921\"]],\"type\":\"histogram2dcontour\"}],\"mesh3d\":[{\"colorbar\":{\"outlinewidth\":0,\"ticks\":\"\"},\"type\":\"mesh3d\"}],\"parcoords\":[{\"line\":{\"colorbar\":{\"outlinewidth\":0,\"ticks\":\"\"}},\"type\":\"parcoords\"}],\"pie\":[{\"automargin\":true,\"type\":\"pie\"}],\"scatter\":[{\"marker\":{\"colorbar\":{\"outlinewidth\":0,\"ticks\":\"\"}},\"type\":\"scatter\"}],\"scatter3d\":[{\"line\":{\"colorbar\":{\"outlinewidth\":0,\"ticks\":\"\"}},\"marker\":{\"colorbar\":{\"outlinewidth\":0,\"ticks\":\"\"}},\"type\":\"scatter3d\"}],\"scattercarpet\":[{\"marker\":{\"colorbar\":{\"outlinewidth\":0,\"ticks\":\"\"}},\"type\":\"scattercarpet\"}],\"scattergeo\":[{\"marker\":{\"colorbar\":{\"outlinewidth\":0,\"ticks\":\"\"}},\"type\":\"scattergeo\"}],\"scattergl\":[{\"marker\":{\"colorbar\":{\"outlinewidth\":0,\"ticks\":\"\"}},\"type\":\"scattergl\"}],\"scattermapbox\":[{\"marker\":{\"colorbar\":{\"outlinewidth\":0,\"ticks\":\"\"}},\"type\":\"scattermapbox\"}],\"scatterpolar\":[{\"marker\":{\"colorbar\":{\"outlinewidth\":0,\"ticks\":\"\"}},\"type\":\"scatterpolar\"}],\"scatterpolargl\":[{\"marker\":{\"colorbar\":{\"outlinewidth\":0,\"ticks\":\"\"}},\"type\":\"scatterpolargl\"}],\"scatterternary\":[{\"marker\":{\"colorbar\":{\"outlinewidth\":0,\"ticks\":\"\"}},\"type\":\"scatterternary\"}],\"surface\":[{\"colorbar\":{\"outlinewidth\":0,\"ticks\":\"\"},\"colorscale\":[[0.0,\"#0d0887\"],[0.1111111111111111,\"#46039f\"],[0.2222222222222222,\"#7201a8\"],[0.3333333333333333,\"#9c179e\"],[0.4444444444444444,\"#bd3786\"],[0.5555555555555556,\"#d8576b\"],[0.6666666666666666,\"#ed7953\"],[0.7777777777777778,\"#fb9f3a\"],[0.8888888888888888,\"#fdca26\"],[1.0,\"#f0f921\"]],\"type\":\"surface\"}],\"table\":[{\"cells\":{\"fill\":{\"color\":\"#EBF0F8\"},\"line\":{\"color\":\"white\"}},\"header\":{\"fill\":{\"color\":\"#C8D4E3\"},\"line\":{\"color\":\"white\"}},\"type\":\"table\"}]},\"layout\":{\"annotationdefaults\":{\"arrowcolor\":\"#2a3f5f\",\"arrowhead\":0,\"arrowwidth\":1},\"autotypenumbers\":\"strict\",\"coloraxis\":{\"colorbar\":{\"outlinewidth\":0,\"ticks\":\"\"}},\"colorscale\":{\"diverging\":[[0,\"#8e0152\"],[0.1,\"#c51b7d\"],[0.2,\"#de77ae\"],[0.3,\"#f1b6da\"],[0.4,\"#fde0ef\"],[0.5,\"#f7f7f7\"],[0.6,\"#e6f5d0\"],[0.7,\"#b8e186\"],[0.8,\"#7fbc41\"],[0.9,\"#4d9221\"],[1,\"#276419\"]],\"sequential\":[[0.0,\"#0d0887\"],[0.1111111111111111,\"#46039f\"],[0.2222222222222222,\"#7201a8\"],[0.3333333333333333,\"#9c179e\"],[0.4444444444444444,\"#bd3786\"],[0.5555555555555556,\"#d8576b\"],[0.6666666666666666,\"#ed7953\"],[0.7777777777777778,\"#fb9f3a\"],[0.8888888888888888,\"#fdca26\"],[1.0,\"#f0f921\"]],\"sequentialminus\":[[0.0,\"#0d0887\"],[0.1111111111111111,\"#46039f\"],[0.2222222222222222,\"#7201a8\"],[0.3333333333333333,\"#9c179e\"],[0.4444444444444444,\"#bd3786\"],[0.5555555555555556,\"#d8576b\"],[0.6666666666666666,\"#ed7953\"],[0.7777777777777778,\"#fb9f3a\"],[0.8888888888888888,\"#fdca26\"],[1.0,\"#f0f921\"]]},\"colorway\":[\"#636efa\",\"#EF553B\",\"#00cc96\",\"#ab63fa\",\"#FFA15A\",\"#19d3f3\",\"#FF6692\",\"#B6E880\",\"#FF97FF\",\"#FECB52\"],\"font\":{\"color\":\"#2a3f5f\"},\"geo\":{\"bgcolor\":\"white\",\"lakecolor\":\"white\",\"landcolor\":\"#E5ECF6\",\"showlakes\":true,\"showland\":true,\"subunitcolor\":\"white\"},\"hoverlabel\":{\"align\":\"left\"},\"hovermode\":\"closest\",\"mapbox\":{\"style\":\"light\"},\"paper_bgcolor\":\"white\",\"plot_bgcolor\":\"#E5ECF6\",\"polar\":{\"angularaxis\":{\"gridcolor\":\"white\",\"linecolor\":\"white\",\"ticks\":\"\"},\"bgcolor\":\"#E5ECF6\",\"radialaxis\":{\"gridcolor\":\"white\",\"linecolor\":\"white\",\"ticks\":\"\"}},\"scene\":{\"xaxis\":{\"backgroundcolor\":\"#E5ECF6\",\"gridcolor\":\"white\",\"gridwidth\":2,\"linecolor\":\"white\",\"showbackground\":true,\"ticks\":\"\",\"zerolinecolor\":\"white\"},\"yaxis\":{\"backgroundcolor\":\"#E5ECF6\",\"gridcolor\":\"white\",\"gridwidth\":2,\"linecolor\":\"white\",\"showbackground\":true,\"ticks\":\"\",\"zerolinecolor\":\"white\"},\"zaxis\":{\"backgroundcolor\":\"#E5ECF6\",\"gridcolor\":\"white\",\"gridwidth\":2,\"linecolor\":\"white\",\"showbackground\":true,\"ticks\":\"\",\"zerolinecolor\":\"white\"}},\"shapedefaults\":{\"line\":{\"color\":\"#2a3f5f\"}},\"ternary\":{\"aaxis\":{\"gridcolor\":\"white\",\"linecolor\":\"white\",\"ticks\":\"\"},\"baxis\":{\"gridcolor\":\"white\",\"linecolor\":\"white\",\"ticks\":\"\"},\"bgcolor\":\"#E5ECF6\",\"caxis\":{\"gridcolor\":\"white\",\"linecolor\":\"white\",\"ticks\":\"\"}},\"title\":{\"x\":0.05},\"xaxis\":{\"automargin\":true,\"gridcolor\":\"white\",\"linecolor\":\"white\",\"ticks\":\"\",\"title\":{\"standoff\":15},\"zerolinecolor\":\"white\",\"zerolinewidth\":2},\"yaxis\":{\"automargin\":true,\"gridcolor\":\"white\",\"linecolor\":\"white\",\"ticks\":\"\",\"title\":{\"standoff\":15},\"zerolinecolor\":\"white\",\"zerolinewidth\":2}}},\"title\":{\"text\":\"Word Counts and Values Predicted by Zipf\"}},                        {\"responsive\": true}                    ).then(function(){\n",
       "                            \n",
       "var gd = document.getElementById('c406f38c-c29f-46e0-b934-68e726e4ce42');\n",
       "var x = new MutationObserver(function (mutations, observer) {{\n",
       "        var display = window.getComputedStyle(gd).display;\n",
       "        if (!display || display === 'none') {{\n",
       "            console.log([gd, 'removed!']);\n",
       "            Plotly.purge(gd);\n",
       "            observer.disconnect();\n",
       "        }}\n",
       "}});\n",
       "\n",
       "// Listen for the removal of the full notebook cells\n",
       "var notebookContainer = gd.closest('#notebook-container');\n",
       "if (notebookContainer) {{\n",
       "    x.observe(notebookContainer, {childList: true});\n",
       "}}\n",
       "\n",
       "// Listen for the clearing of the current output cell\n",
       "var outputEl = gd.closest('.output');\n",
       "if (outputEl) {{\n",
       "    x.observe(outputEl, {childList: true});\n",
       "}}\n",
       "\n",
       "                        })                };                });            </script>        </div>"
      ]
     },
     "metadata": {},
     "output_type": "display_data"
    }
   ],
   "source": [
    "x =  termplot['rank']\n",
    "y = termplot['total']\n",
    "\n",
    "# Use the hovertext kw argument for hover text\n",
    "fig = go.Figure(data=[go.Bar(x=x, y=y,\n",
    "            hovertext=wordlist, name = \"Word Count\")])\n",
    "\n",
    "fig.add_trace(go.Scatter(x =list(range(len(zipf_pmf))), y= zipf_pmf, line= plotly.graph_objs.scatter.Line(color='crimson', width=3), name='Zipf Predicted Values'))\n",
    "# Customize aspect\n",
    "fig.update_traces(marker_color='limegreen',\n",
    "                  marker_line_width=1.5, opacity=0.6)\n",
    "fig.update_layout(title_text='Word Counts and Values Predicted by Zipf')\n",
    "fig.show()"
   ]
  },
  {
   "cell_type": "markdown",
   "id": "69c8b76e-e7a0-45b3-ac6e-6ec8aa78bcb8",
   "metadata": {
    "tags": []
   },
   "source": [
    "#### Plot the original counts and the zipf-predicted counts"
   ]
  },
  {
   "cell_type": "code",
   "execution_count": 25,
   "id": "6c567cc2-4a27-465d-8b1d-a8da108ed48e",
   "metadata": {},
   "outputs": [
    {
     "data": {
      "image/png": "[encoded data removed]",
      "text/plain": [
       "<Figure size 720x720 with 1 Axes>"
      ]
     },
     "metadata": {},
     "output_type": "display_data"
    }
   ],
   "source": [
    "import matplotlib.pyplot as plt\n",
    "from scipy.stats import zipf\n",
    "\n",
    "totals = term_df['total'][:cutoff]\n",
    "ranks = list(term_df['rank'])[:cutoff]\n",
    "lst = list(zip(totals,ranks))\n",
    "fig = plt.figure(figsize=(10,10))\n",
    "\n",
    "plt.bar(ranks, totals, color='limegreen')\n",
    "#alpha = 1.37065874\n",
    "#summed_total = sum([p for p, c in lst])\n",
    "#zipf_y = [zipf.pmf(p, alpha) * summed_total for p in range(1, len(lst) + 1)]\n",
    "plt.plot(range(len(zipf_pmf)), zipf_pmf, color='crimson', lw=3)\n",
    "plt.ylabel(\"Count\")\n",
    "plt.xlabel(\"Rank\")\n",
    "plt.xticks(ranks,ranks,rotation='vertical')\n",
    "plt.tight_layout()\n",
    "plt.show()"
   ]
  },
  {
   "cell_type": "markdown",
   "id": "e50131b8-eda6-4738-93d1-29e656e554dc",
   "metadata": {},
   "source": [
    "#### Create data structure for mapping the predictions to the original zipf histogram"
   ]
  },
  {
   "cell_type": "markdown",
   "id": "4704368f-a845-4dfa-ba4b-cb5a40f55949",
   "metadata": {},
   "source": [
    "### Graph out the observed and fitted pdf"
   ]
  },
  {
   "cell_type": "code",
   "execution_count": 12,
   "id": "62cf71ed-fc6d-421e-9a0d-ff560a4665b5",
   "metadata": {},
   "outputs": [
    {
     "data": {
      "text/plain": [
       "Text(0.5, 0, \"Log rank (binned frequencies).\\nGaps signify there weren't observed words in the fitted frequency bin.\")"
      ]
     },
     "execution_count": 12,
     "metadata": {},
     "output_type": "execute_result"
    },
    {
     "data": {
      "image/png": "[encoded data removed]",
      "text/plain": [
       "<Figure size 1440x1080 with 1 Axes>"
      ]
     },
     "metadata": {},
     "output_type": "display_data"
    }
   ],
   "source": [
    "# Graph it out.\n",
    "fig2 = plt.figure(figsize=(20,15))\n",
    "# The pdf of the observed data. \n",
    "# The continuous line is superfluous and confusing I think (?) Hacky removing.\n",
    "fit.plot_pdf(color='r', linewidth=0, linestyle=':', marker='o')\n",
    "# The pdf of the best fit powerlaw\n",
    "fit.power_law.plot_pdf(color='b', linestyle='--', linewidth=2)\n",
    "fig2.suptitle('Log-log plot of word frequency (y-axis) vs. rank (x-axis) \\nObserved = red dots\\n Power law = blue lines', fontsize=20)\n",
    "plt.ylabel('Log frequency', fontsize=18)\n",
    "plt.xlabel('Log rank (binned frequencies).\\nGaps signify there weren\\'t observed words in the fitted frequency bin.', fontsize=16)"
   ]
  },
  {
   "cell_type": "markdown",
   "id": "09bb5132-2cba-40f1-9aa7-34e37b31a337",
   "metadata": {},
   "source": [
    "#### Check fit to other distributions.\n",
    "#### This is comparing the log likelihood ratio of the power law distribution to alternative distributions: a truncated power law, an exponential distribution or a lognormal distribution.\n",
    "#### NB: There's an issue here with handling correlations.\n",
    "#### I'm not sure this is the best way to do this, esp bc it throws errors.\n"
   ]
  },
  {
   "cell_type": "code",
   "execution_count": 13,
   "id": "5b6b0f71-9047-4bfe-89ec-57fa6cc2d6bf",
   "metadata": {},
   "outputs": [
    {
     "name": "stdout",
     "output_type": "stream",
     "text": [
      "Checking log likelihood ratio to see if the data is better explained\n",
      "by other well-behaved distributions...\n"
     ]
    },
    {
     "name": "stderr",
     "output_type": "stream",
     "text": [
      "Assuming nested distributions\n"
     ]
    },
    {
     "name": "stdout",
     "output_type": "stream",
     "text": [
      "\n",
      "Seems your data is best fit by a power law. Celebrate!!\n"
     ]
    }
   ],
   "source": [
    "print(\"Checking log likelihood ratio to see if the data is better explained\")\n",
    "print(\"by other well-behaved distributions...\")\n",
    "# The first value returned from distribution_compare is the log likelihood ratio\n",
    "better_distro = False\n",
    "trunc = fit.distribution_compare('power_law', 'truncated_power_law')\n",
    "if trunc[0] < 0:\n",
    "    print(\"Seems a truncated power law is a better fit.\")\n",
    "    better_distro = True\n",
    "\n",
    "lognormal = fit.distribution_compare('power_law', 'lognormal')\n",
    "if lognormal[0] < 0:\n",
    "    print(\"Seems a lognormal distribution is a better fit.\")\n",
    "    print(\"But don't panic -- that happens sometimes with language.\")\n",
    "    better_distro = True\n",
    "    \n",
    "exponential = fit.distribution_compare('power_law', 'exponential')\n",
    "if exponential[0] < 0:\n",
    "    print(\"Seems an exponential distribution is a better fit. Panic.\")\n",
    "    better_distro = True\n",
    "    \n",
    "if not better_distro:\n",
    "    print(\"\\nSeems your data is best fit by a power law. Celebrate!!\")"
   ]
  },
  {
   "cell_type": "code",
   "execution_count": 14,
   "id": "0d7d5182-2bde-4736-ac49-88f045cc47c2",
   "metadata": {},
   "outputs": [
    {
     "name": "stdout",
     "output_type": "stream",
     "text": [
      "Our updated dataframe now looks like this:\n",
      "<class 'pandas.core.frame.DataFrame'>\n",
      "Index: 49994 entries, the to ﬁne\n",
      "Data columns (total 4 columns):\n",
      " #   Column       Non-Null Count  Dtype  \n",
      "---  ------       --------------  -----  \n",
      " 0   total        49994 non-null  int64  \n",
      " 1   probability  49994 non-null  float64\n",
      " 2   rank         49994 non-null  int64  \n",
      " 3   zipf_pmf     49 non-null     float64\n",
      "dtypes: float64(2), int64(2)\n",
      "memory usage: 1.9+ MB\n",
      "None\n",
      "     total  probability  rank      zipf_pmf\n",
      "the  50142     0.047568     1  58023.711250\n",
      "and  29384     0.027875     2  29507.872760\n",
      "to   28256     0.026805     3  18263.223048\n",
      "of   24251     0.023006     4  12588.108564\n",
      "a    22043     0.020911     5   9287.735139\n",
      "...\n",
      "                   total   probability  rank  zipf_pmf\n",
      "incompetently          1  9.486586e-07   579       NaN\n",
      "incompetency           1  9.486586e-07   579       NaN\n",
      "incompatibility        1  9.486586e-07   579       NaN\n",
      "incompatibilities      1  9.486586e-07   579       NaN\n",
      "ﬁne                    1  9.486586e-07   579       NaN\n"
     ]
    }
   ],
   "source": [
    "print(\"Our updated dataframe now looks like this:\")\n",
    "print(term_df.info())\n",
    "print(term_df.head())\n",
    "print('...')\n",
    "print(term_df.tail())"
   ]
  }
 ],
 "metadata": {
  "kernelspec": {
   "display_name": "datametrics",
   "language": "python",
   "name": "datametrics"
  },
  "language_info": {
   "codemirror_mode": {
    "name": "ipython",
    "version": 3
   },
   "file_extension": ".py",
   "mimetype": "text/x-python",
   "name": "python",
   "nbconvert_exporter": "python",
   "pygments_lexer": "ipython3",
   "version": "3.8.5"
  }
 },
 "nbformat": 4,
 "nbformat_minor": 5
}
