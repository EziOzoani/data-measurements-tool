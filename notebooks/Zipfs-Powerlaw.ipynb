{
 "cells": [
  {
   "cell_type": "markdown",
   "id": "cf885d68-6d8d-480a-8bc4-e6dc909ab80b",
   "metadata": {},
   "source": [
    "# Zipf it up"
   ]
  },
  {
   "cell_type": "markdown",
   "id": "2d398b2d-f9de-47ed-80ef-b89afc9af09c",
   "metadata": {},
   "source": [
    "## Zipf's law: Given some corpus of natural language utterances, the frequency of any word is inversely proportional to its rank in the frequency table.\n",
    "### This follows a basic power law (but with additional parameters):\n",
    "$$ {\\displaystyle{\\displaystyle p(x)  \\propto x^{\\alpha}}} $$\n",
    "### Zipf's law predicts that out of a population of $N$ elements, the normalized frequency of the element of rank $k$, $f(k;\\alpha,N)$, is:\n",
    "\n",
    "$${\\displaystyle f(k;\\alpha,N)={\\frac {1/k^{\\alpha}}{\\sum \\limits _{n=1}^{N}(1/n^{\\alpha})}}}$$\n",
    "\n",
    "#### A dataset can be tested to see whether Zipf's law applies by checking the goodness of fit of the dataset's observed rank frequency distribution to a hypothesized power law distribution by using a Kolmogorov–Smirnov test.\n",
    "\n"
   ]
  },
  {
   "cell_type": "markdown",
   "id": "d8d32bb1-930f-43c5-a78b-205d8bbf8064",
   "metadata": {},
   "source": [
    "#### This code does all that stuff."
   ]
  },
  {
   "cell_type": "code",
   "execution_count": 1,
   "id": "00eca3a3-7acf-43e3-8e99-8b5cb9493609",
   "metadata": {},
   "outputs": [],
   "source": [
    "# grepping the installation babbling basically just \n",
    "# suppresses the warnings by providing a command that will find them but won't print them.\n",
    "!pip install powerlaw | grep -v 'Requirement already satisfied' \n",
    "import powerlaw\n",
    "import pandas as pd\n",
    "import numpy as np\n",
    "from datasets import load_dataset\n",
    "from sklearn.feature_extraction.text import CountVectorizer\n",
    "from scipy.stats import hmean, norm, ks_2samp\n",
    "import matplotlib.pyplot as plt\n",
    "plt.style.use('fivethirtyeight')"
   ]
  },
  {
   "cell_type": "code",
   "execution_count": 2,
   "id": "c96d00b5-0953-45ea-90c9-854d56791066",
   "metadata": {},
   "outputs": [],
   "source": [
    "#data= load_dataset(\"oscar\", \"unshuffled_deduplicated_en\", split = \"train\", streaming= True)\n",
    "data = load_dataset(\"c4\", \"en\", split= \"train\", streaming = True)"
   ]
  },
  {
   "cell_type": "code",
   "execution_count": 3,
   "id": "10482904-64fd-4354-a00c-e5c5f596543d",
   "metadata": {},
   "outputs": [],
   "source": [
    "# For streaming data\n",
    "data_head = data.take(1000)\n",
    "df = pd.DataFrame(data_head)\n",
    "# If not streaming, use:\n",
    "#df = pd.json_normalize(data)"
   ]
  },
  {
   "cell_type": "markdown",
   "id": "659b4dd7-25d1-44ee-8506-8a67d350b639",
   "metadata": {
    "tags": []
   },
   "source": [
    "### Look at the top rows as a sanity-check"
   ]
  },
  {
   "cell_type": "code",
   "execution_count": 4,
   "id": "9dc73f02-cfc3-4cf6-8f77-8c6bd0cdb6a6",
   "metadata": {},
   "outputs": [
    {
     "data": {
      "text/html": [
       "<div>\n",
       "<style scoped>\n",
       "    .dataframe tbody tr th:only-of-type {\n",
       "        vertical-align: middle;\n",
       "    }\n",
       "\n",
       "    .dataframe tbody tr th {\n",
       "        vertical-align: top;\n",
       "    }\n",
       "\n",
       "    .dataframe thead th {\n",
       "        text-align: right;\n",
       "    }\n",
       "</style>\n",
       "<table border=\"1\" class=\"dataframe\">\n",
       "  <thead>\n",
       "    <tr style=\"text-align: right;\">\n",
       "      <th></th>\n",
       "      <th>url</th>\n",
       "      <th>text</th>\n",
       "      <th>timestamp</th>\n",
       "    </tr>\n",
       "  </thead>\n",
       "  <tbody>\n",
       "    <tr>\n",
       "      <th>0</th>\n",
       "      <td>https://klyq.com/beginners-bbq-class-taking-pl...</td>\n",
       "      <td>Beginners BBQ Class Taking Place in Missoula!\\...</td>\n",
       "      <td>2019-04-25T12:57:54Z</td>\n",
       "    </tr>\n",
       "    <tr>\n",
       "      <th>1</th>\n",
       "      <td>https://forums.macrumors.com/threads/restore-f...</td>\n",
       "      <td>Discussion in 'Mac OS X Lion (10.7)' started b...</td>\n",
       "      <td>2019-04-21T10:07:13Z</td>\n",
       "    </tr>\n",
       "    <tr>\n",
       "      <th>2</th>\n",
       "      <td>https://awishcometrue.com/Catalogs/Clearance/T...</td>\n",
       "      <td>Foil plaid lycra and spandex shortall with met...</td>\n",
       "      <td>2019-04-25T10:40:23Z</td>\n",
       "    </tr>\n",
       "    <tr>\n",
       "      <th>3</th>\n",
       "      <td>https://www.blackhatworld.com/seo/how-many-bac...</td>\n",
       "      <td>How many backlinks per day for new site?\\nDisc...</td>\n",
       "      <td>2019-04-21T12:46:19Z</td>\n",
       "    </tr>\n",
       "    <tr>\n",
       "      <th>4</th>\n",
       "      <td>http://bond.dpsk12.org/category/news/</td>\n",
       "      <td>The Denver Board of Education opened the 2017-...</td>\n",
       "      <td>2019-04-20T14:33:21Z</td>\n",
       "    </tr>\n",
       "  </tbody>\n",
       "</table>\n",
       "</div>"
      ],
      "text/plain": [
       "                                                 url  \\\n",
       "0  https://klyq.com/beginners-bbq-class-taking-pl...   \n",
       "1  https://forums.macrumors.com/threads/restore-f...   \n",
       "2  https://awishcometrue.com/Catalogs/Clearance/T...   \n",
       "3  https://www.blackhatworld.com/seo/how-many-bac...   \n",
       "4              http://bond.dpsk12.org/category/news/   \n",
       "\n",
       "                                                text             timestamp  \n",
       "0  Beginners BBQ Class Taking Place in Missoula!\\...  2019-04-25T12:57:54Z  \n",
       "1  Discussion in 'Mac OS X Lion (10.7)' started b...  2019-04-21T10:07:13Z  \n",
       "2  Foil plaid lycra and spandex shortall with met...  2019-04-25T10:40:23Z  \n",
       "3  How many backlinks per day for new site?\\nDisc...  2019-04-21T12:46:19Z  \n",
       "4  The Denver Board of Education opened the 2017-...  2019-04-20T14:33:21Z  "
      ]
     },
     "execution_count": 4,
     "metadata": {},
     "output_type": "execute_result"
    }
   ],
   "source": [
    "df.head()"
   ]
  },
  {
   "cell_type": "markdown",
   "id": "899197c1-8f35-4518-ac0b-2884b2e228cc",
   "metadata": {},
   "source": [
    "### Get more basic sanity-check information"
   ]
  },
  {
   "cell_type": "code",
   "execution_count": 5,
   "id": "bc3aef2d-564d-43c8-be3c-a3721a35483b",
   "metadata": {},
   "outputs": [
    {
     "name": "stdout",
     "output_type": "stream",
     "text": [
      "<class 'pandas.core.frame.DataFrame'>\n",
      "RangeIndex: 1000 entries, 0 to 999\n",
      "Data columns (total 3 columns):\n",
      " #   Column     Non-Null Count  Dtype \n",
      "---  ------     --------------  ----- \n",
      " 0   url        1000 non-null   object\n",
      " 1   text       1000 non-null   object\n",
      " 2   timestamp  1000 non-null   object\n",
      "dtypes: object(3)\n",
      "memory usage: 23.6+ KB\n"
     ]
    }
   ],
   "source": [
    "df.info()"
   ]
  },
  {
   "cell_type": "markdown",
   "id": "7d8acd2c-98f4-4e44-b75b-37299eca868e",
   "metadata": {},
   "source": [
    "### Check for missing values"
   ]
  },
  {
   "cell_type": "code",
   "execution_count": 6,
   "id": "b83f149c-eba8-45c8-96be-0e2aa8bb2c46",
   "metadata": {},
   "outputs": [
    {
     "data": {
      "text/plain": [
       "0"
      ]
     },
     "execution_count": 6,
     "metadata": {},
     "output_type": "execute_result"
    }
   ],
   "source": [
    "df[df.isnull().any(axis=1)].head()\n",
    "np.sum(df.isnull().any(axis=1))"
   ]
  },
  {
   "cell_type": "markdown",
   "id": "adaf363d-32b0-4f9e-957b-673d20d5f2fa",
   "metadata": {},
   "source": [
    "### Count vocab size + frequencies"
   ]
  },
  {
   "cell_type": "code",
   "execution_count": 7,
   "id": "e2a1c847-388c-4862-a66f-8b480f800bbf",
   "metadata": {},
   "outputs": [],
   "source": [
    "def count_vocab_frequencies(df):\n",
    "    \"\"\"\n",
    "    Based on an input pandas DataFrame with a 'text' column, \n",
    "    this function will count the occurrences of ALL words \n",
    "    (no stop word removal) and will return another DataFrame\n",
    "    with the rows corresponding to the different vocabulary words\n",
    "    and the column to the total count of that word.\n",
    "    \"\"\"\n",
    "    # Move this up as a constant in larger code.\n",
    "    batch_size = 10\n",
    "    cvec = CountVectorizer(token_pattern=u\"(?u)\\\\b\\\\w+\\\\b\")\n",
    "    # Needed to modify the minimum token length: \n",
    "    # https://stackoverflow.com/questions/33260505/countvectorizer-ignoring-i\n",
    "    cvec.fit(df.text)\n",
    "    document_matrix = cvec.transform(df.text)\n",
    "    batches = np.linspace(0, df.shape[0], batch_size).astype(int)\n",
    "    i = 0\n",
    "    tf = []\n",
    "    while i < len(batches) - 1:\n",
    "        batch_result = np.sum(document_matrix[batches[i]:batches[i+1]].toarray(), axis=0)\n",
    "        tf.append(batch_result)\n",
    "        i += 1\n",
    "    term_freq_df = pd.DataFrame([np.sum(tf, axis=0)], columns=cvec.get_feature_names()).transpose()\n",
    "    term_freq_df.columns = ['total']\n",
    "    sorted_term_freq_df = pd.DataFrame(term_freq_df.sort_values(by='total', ascending=False)['total'])\n",
    "    return sorted_term_freq_df"
   ]
  },
  {
   "cell_type": "code",
   "execution_count": 8,
   "id": "eb931a64-d81b-4505-8f5b-e7f9e09df8e7",
   "metadata": {},
   "outputs": [
    {
     "name": "stdout",
     "output_type": "stream",
     "text": [
      "Info on the observed frequencies:\n",
      "<class 'pandas.core.frame.DataFrame'>\n",
      "Index: 27232 entries, the to 赵维山\n",
      "Data columns (total 1 columns):\n",
      " #   Column  Non-Null Count  Dtype\n",
      "---  ------  --------------  -----\n",
      " 0   total   27232 non-null  int64\n",
      "dtypes: int64(1)\n",
      "memory usage: 425.5+ KB\n",
      "None\n",
      "Observations look like this:\n",
      "     total\n",
      "the  19063\n",
      "to   11027\n",
      "and  10996\n",
      "of    8792\n",
      "a     8496\n"
     ]
    }
   ],
   "source": [
    "term_df = count_vocab_frequencies(df)\n",
    "print(\"Info on the observed frequencies:\")\n",
    "print(term_df.info())\n",
    "print(\"Observations look like this:\")\n",
    "print(term_df.head())"
   ]
  },
  {
   "cell_type": "markdown",
   "id": "23e58da4-0d4a-4424-b327-7c32218a0c9e",
   "metadata": {},
   "source": [
    "### Fit the observed totals to a Zipfian powerlaw.\n",
    "#### The approach we take is to first construct the observed pdf by normalizing each rank's frequency by the total summed frequencies. Because the ranks are integers, we also treat it as a discrete distribution (actually should be 'ordinal' distribution). Our reasoning is that it doesn't make sense to mandate that the distances between the ranks are equal; the values are 'ordinal' actually.\n",
    "#### We fit this distribution to a power law by minimizing the Kolmogorov–Smirnov (KS) distance.\n",
    "#### Our reasoning in using a KS objective rather than Maximun Likelihood Estimation (MLE) is that a fundamental assumption of MLE is that individual data points are independent."
   ]
  },
  {
   "cell_type": "code",
   "execution_count": 9,
   "id": "dbdb91a6-6985-4049-9d40-07664aaef5a1",
   "metadata": {},
   "outputs": [
    {
     "name": "stdout",
     "output_type": "stream",
     "text": [
      "Calculating best minimal value for power law fit\n",
      "Optimal Alpha:\t\t2.1039\n",
      "Optimal Rank cut-off:\t33.0\n",
      "Distance:\t\t0.0212\n",
      "Checking the goodness of fit of our observed distribution\n",
      " to the hypothesized power law distribution\n",
      " using a Kolmogorov–Smirnov (KS) test.\n",
      "KstestResult(statistic=0.9466436545240893, pvalue=4.594519728642786e-36)\n",
      "\n",
      "The KS test p-value is: 0.0000\n",
      "\n",
      "Your data fits a powerlaw with a minimum KS distance of 0.0212\n",
      "\n",
      "Woohoo!\n"
     ]
    }
   ],
   "source": [
    "# Uses the powerlaw package to fit the observed frequencies to a zipfian distribution\n",
    "\n",
    "# Turn these into an empirical probability distribution by normalizing by the total sum.\n",
    "observed_counts = term_df['total'].values\n",
    "norm = float(sum(observed_counts))\n",
    "observed_frequencies = observed_counts/norm\n",
    "\n",
    "# 'fit_method' is MLE by default; doesn't seem to change the results in my initial pokings.\n",
    "# Also tried discrete_approximation=\"xmax\"\n",
    "# Note another method for determining alpha \n",
    "# might be defined by (Newman, 2005 for details): alpha = 1 + n * sum(ln( xi / xmin )) ^ -1\n",
    "fit = powerlaw.Fit(term_df['total'].values, fit_method=\"KS\", discrete=True)\n",
    "# The estimated values\n",
    "alpha = fit.power_law.alpha\n",
    "xmin = fit.power_law.xmin\n",
    "distance = fit.power_law.KS()\n",
    "# The predicted probability distribution\n",
    "predicted_frequencies = fit.pdf()[0][::-1]/norm \n",
    "print(\"Optimal Alpha:\\t\\t%.4f\" % alpha)\n",
    "print(\"Optimal Rank cut-off:\\t%s\" % xmin)\n",
    "print(\"Distance:\\t\\t%.4f\" % distance)\n",
    "# Significance testing\n",
    "# Note: We may want to use bootstrapping (instead of the standard KS test p-value tables) to determine statistical significance\n",
    "# See: https://stats.stackexchange.com/questions/264431/how-to-determine-if-zipfs-law-can-be-applied Answer #4\n",
    "# Also, should we specify these are normalized?\n",
    "print(\"Checking the goodness of fit of our observed distribution\")\n",
    "print(\" to the hypothesized power law distribution\")\n",
    "print(\" using a Kolmogorov–Smirnov (KS) test.\")\n",
    "ks_test = ks_2samp(observed_frequencies, predicted_frequencies)\n",
    "# print(\"KS test:\", end='\\t\\t')\n",
    "print(ks_test)\n",
    "print(\"\\nThe KS test p-value is: %.4f\" % ks_test.pvalue)\n",
    "if ks_test.pvalue < .01:\n",
    "    print(\"\\nYour data fits a powerlaw with a minimum KS distance of %.4f\" % distance)\n",
    "    print(\"\\nWoohoo!\")\n",
    "\n",
    "else:\n",
    "    print(\"\\nYour data does not fits a powerlaw. =\\(\")\n",
    "    print(\"\\nDO BETTER.\")"
   ]
  },
  {
   "cell_type": "markdown",
   "id": "4704368f-a845-4dfa-ba4b-cb5a40f55949",
   "metadata": {},
   "source": [
    "### Graph it out in log-log space to best see the (log) linear difference."
   ]
  },
  {
   "cell_type": "code",
   "execution_count": 10,
   "id": "6a2f9d3f-14a6-4ace-a7c3-238adf8701ad",
   "metadata": {},
   "outputs": [
    {
     "data": {
      "text/plain": [
       "<AxesSubplot:>"
      ]
     },
     "execution_count": 10,
     "metadata": {},
     "output_type": "execute_result"
    },
    {
     "data": {
      "image/png": "[encoded data removed]",
      "text/plain": [
       "<Figure size 432x288 with 1 Axes>"
      ]
     },
     "metadata": {},
     "output_type": "display_data"
    }
   ],
   "source": [
    "# Graph it out.\n",
    "fig2 = fit.plot_pdf(color='r', linewidth=2)\n",
    "fit.power_law.plot_pdf(color='b', linestyle='--', linewidth=2, ax=fig2)"
   ]
  },
  {
   "cell_type": "code",
   "execution_count": 11,
   "id": "63181289-1b2a-452e-ac60-80d0c359323e",
   "metadata": {},
   "outputs": [],
   "source": [
    "def plot_zipf(observed, predicted, alpha=1, multiplier=1):\n",
    "    \"\"\"\n",
    "    This function plots the correspondence of the distribution of terms\n",
    "    generated by count_vocab_frequencies with the projected Zipf's law\n",
    "    distribution.\n",
    "    \"\"\"\n",
    "    num_tokens = len(predicted)\n",
    "    y_pos = np.arange(num_tokens)\n",
    "    plt.figure(figsize=(10,8))\n",
    "    plt.bar(y_pos, observed[:num_tokens]*multiplier, align='center', alpha=0.5)\n",
    "    plt.plot(y_pos, predicted*multiplier, color='r', linestyle='--',linewidth=2,alpha=0.5)\n",
    "    plt.ylabel('Frequency')\n",
    "    plt.title(\"Top %s words in the dataset, with Zipf's law in dotted red\" % num_tokens)"
   ]
  },
  {
   "cell_type": "code",
   "execution_count": 12,
   "id": "7217960f-377e-4fec-81e9-ca76bc9096a4",
   "metadata": {},
   "outputs": [
    {
     "data": {
      "image/png": "[encoded data removed]",
      "text/plain": [
       "<Figure size 720x576 with 1 Axes>"
      ]
     },
     "metadata": {},
     "output_type": "display_data"
    }
   ],
   "source": [
    "plot_zipf(observed_frequencies, predicted_frequencies, alpha=alpha, multiplier=norm)"
   ]
  },
  {
   "cell_type": "markdown",
   "id": "09bb5132-2cba-40f1-9aa7-34e37b31a337",
   "metadata": {},
   "source": [
    "#### Check fit to other distributions.\n",
    "#### NB: There's an issue here with handling correlations.\n",
    "#### This is comparing the log likelihood ratio of the power law distribution to alternative distributions: a truncated power law, an exponential distribution or a lognormal distribution."
   ]
  },
  {
   "cell_type": "code",
   "execution_count": 13,
   "id": "5b6b0f71-9047-4bfe-89ec-57fa6cc2d6bf",
   "metadata": {},
   "outputs": [
    {
     "name": "stdout",
     "output_type": "stream",
     "text": [
      "Checking log likelihood ratio to see if the data is better explained\n",
      "by other well-behaved distributions...\n"
     ]
    },
    {
     "name": "stderr",
     "output_type": "stream",
     "text": [
      "Assuming nested distributions\n"
     ]
    },
    {
     "name": "stdout",
     "output_type": "stream",
     "text": [
      "\n",
      "Seems your data is best fit by a power law. Celebrate!!\n"
     ]
    }
   ],
   "source": [
    "print(\"Checking log likelihood ratio to see if the data is better explained\")\n",
    "print(\"by other well-behaved distributions...\")\n",
    "# The first value returned from distribution_compare is the log likelihood ratio\n",
    "better_distro = False\n",
    "trunc = fit.distribution_compare('power_law', 'truncated_power_law')\n",
    "if trunc[0] < 0:\n",
    "    print(\"Seems a truncated power law is a better fit.\")\n",
    "    better_distro = True\n",
    "\n",
    "lognormal = fit.distribution_compare('power_law', 'lognormal')\n",
    "if lognormal[0] < 0:\n",
    "    print(\"Seems a lognormal distribution is a better fit.\")\n",
    "    print(\"But don't panic -- that happens sometimes with language.\")\n",
    "    better_distro = True\n",
    "    \n",
    "exponential = fit.distribution_compare('power_law', 'exponential')\n",
    "if exponential[0] < 0:\n",
    "    print(\"Seems an exponential distribution is a better fit. Panic.\")\n",
    "    better_distro = True\n",
    "    \n",
    "if not better_distro:\n",
    "    print(\"\\nSeems your data is best fit by a power law. Celebrate!!\")"
   ]
  }
 ],
 "metadata": {
  "kernelspec": {
   "display_name": "Python 3",
   "language": "python",
   "name": "python3"
  },
  "language_info": {
   "codemirror_mode": {
    "name": "ipython",
    "version": 3
   },
   "file_extension": ".py",
   "mimetype": "text/x-python",
   "name": "python",
   "nbconvert_exporter": "python",
   "pygments_lexer": "ipython3",
   "version": "3.8.8"
  }
 },
 "nbformat": 4,
 "nbformat_minor": 5
}
