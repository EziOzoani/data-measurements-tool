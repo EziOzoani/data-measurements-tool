{
 "cells": [
  {
   "cell_type": "code",
   "execution_count": 1,
   "id": "a97d90f2-dfc9-4276-99db-c17d0c42de90",
   "metadata": {},
   "outputs": [
    {
     "name": "stdout",
     "output_type": "stream",
     "text": [
      "Requirement already satisfied: powerlaw in /Users/margaretmitchell/opt/anaconda3/lib/python3.8/site-packages (1.5)\n",
      "Requirement already satisfied: mpmath in /Users/margaretmitchell/opt/anaconda3/lib/python3.8/site-packages (from powerlaw) (1.2.1)\n",
      "Requirement already satisfied: numpy in /Users/margaretmitchell/opt/anaconda3/lib/python3.8/site-packages (from powerlaw) (1.20.3)\n",
      "Requirement already satisfied: matplotlib in /Users/margaretmitchell/opt/anaconda3/lib/python3.8/site-packages (from powerlaw) (3.3.4)\n",
      "Requirement already satisfied: scipy in /Users/margaretmitchell/opt/anaconda3/lib/python3.8/site-packages (from powerlaw) (1.6.2)\n",
      "Requirement already satisfied: python-dateutil>=2.1 in /Users/margaretmitchell/opt/anaconda3/lib/python3.8/site-packages (from matplotlib->powerlaw) (2.8.1)\n",
      "Requirement already satisfied: pyparsing!=2.0.4,!=2.1.2,!=2.1.6,>=2.0.3 in /Users/margaretmitchell/opt/anaconda3/lib/python3.8/site-packages (from matplotlib->powerlaw) (2.4.7)\n",
      "Requirement already satisfied: pillow>=6.2.0 in /Users/margaretmitchell/opt/anaconda3/lib/python3.8/site-packages (from matplotlib->powerlaw) (8.2.0)\n",
      "Requirement already satisfied: kiwisolver>=1.0.1 in /Users/margaretmitchell/opt/anaconda3/lib/python3.8/site-packages (from matplotlib->powerlaw) (1.3.1)\n",
      "Requirement already satisfied: cycler>=0.10 in /Users/margaretmitchell/opt/anaconda3/lib/python3.8/site-packages (from matplotlib->powerlaw) (0.10.0)\n",
      "Requirement already satisfied: six in /Users/margaretmitchell/opt/anaconda3/lib/python3.8/site-packages (from cycler>=0.10->matplotlib->powerlaw) (1.15.0)\n"
     ]
    }
   ],
   "source": [
    "!pip install powerlaw\n",
    "import powerlaw\n",
    "import pandas as pd\n",
    "import numpy as np\n",
    "from datasets import load_dataset\n",
    "from sklearn.feature_extraction.text import CountVectorizer\n",
    "from scipy.stats import hmean, norm, ks_2samp\n",
    "import matplotlib.pyplot as plt\n",
    "plt.style.use('fivethirtyeight')"
   ]
  },
  {
   "cell_type": "code",
   "execution_count": 2,
   "id": "c96d00b5-0953-45ea-90c9-854d56791066",
   "metadata": {},
   "outputs": [],
   "source": [
    "#data= load_dataset(\"imdb\", split= \"test\")\n",
    "#data= load_dataset(\"oscar\", \"unshuffled_deduplicated_en\", split = \"train\", streaming= True)\n",
    "#data= load_dataset(\"poem_sentiment\",\"plain_text\", split = \"test\")\n",
    "data = load_dataset(\"c4\", \"en\", split= \"train\", streaming = True)\n"
   ]
  },
  {
   "cell_type": "code",
   "execution_count": 3,
   "id": "10482904-64fd-4354-a00c-e5c5f596543d",
   "metadata": {},
   "outputs": [],
   "source": [
    "# For streaming data\n",
    "data_head = data.take(1000)\n",
    "df = pd.DataFrame(data_head)\n",
    "# df = pd.DataFrame(data)"
   ]
  },
  {
   "cell_type": "code",
   "execution_count": 4,
   "id": "a4ba207a-c301-41c0-beec-b42f82bca937",
   "metadata": {},
   "outputs": [],
   "source": [
    "#for non-streaming data\n",
    "#datadf = pd.json_normalize(data)"
   ]
  },
  {
   "cell_type": "markdown",
   "id": "659b4dd7-25d1-44ee-8506-8a67d350b639",
   "metadata": {
    "tags": []
   },
   "source": [
    "#### Looking at the top rows"
   ]
  },
  {
   "cell_type": "code",
   "execution_count": 5,
   "id": "9dc73f02-cfc3-4cf6-8f77-8c6bd0cdb6a6",
   "metadata": {},
   "outputs": [
    {
     "data": {
      "text/html": [
       "<div>\n",
       "<style scoped>\n",
       "    .dataframe tbody tr th:only-of-type {\n",
       "        vertical-align: middle;\n",
       "    }\n",
       "\n",
       "    .dataframe tbody tr th {\n",
       "        vertical-align: top;\n",
       "    }\n",
       "\n",
       "    .dataframe thead th {\n",
       "        text-align: right;\n",
       "    }\n",
       "</style>\n",
       "<table border=\"1\" class=\"dataframe\">\n",
       "  <thead>\n",
       "    <tr style=\"text-align: right;\">\n",
       "      <th></th>\n",
       "      <th>timestamp</th>\n",
       "      <th>text</th>\n",
       "      <th>url</th>\n",
       "    </tr>\n",
       "  </thead>\n",
       "  <tbody>\n",
       "    <tr>\n",
       "      <th>0</th>\n",
       "      <td>2019-04-25T12:57:54Z</td>\n",
       "      <td>Beginners BBQ Class Taking Place in Missoula!\\...</td>\n",
       "      <td>https://klyq.com/beginners-bbq-class-taking-pl...</td>\n",
       "    </tr>\n",
       "    <tr>\n",
       "      <th>1</th>\n",
       "      <td>2019-04-21T10:07:13Z</td>\n",
       "      <td>Discussion in 'Mac OS X Lion (10.7)' started b...</td>\n",
       "      <td>https://forums.macrumors.com/threads/restore-f...</td>\n",
       "    </tr>\n",
       "    <tr>\n",
       "      <th>2</th>\n",
       "      <td>2019-04-25T10:40:23Z</td>\n",
       "      <td>Foil plaid lycra and spandex shortall with met...</td>\n",
       "      <td>https://awishcometrue.com/Catalogs/Clearance/T...</td>\n",
       "    </tr>\n",
       "    <tr>\n",
       "      <th>3</th>\n",
       "      <td>2019-04-21T12:46:19Z</td>\n",
       "      <td>How many backlinks per day for new site?\\nDisc...</td>\n",
       "      <td>https://www.blackhatworld.com/seo/how-many-bac...</td>\n",
       "    </tr>\n",
       "    <tr>\n",
       "      <th>4</th>\n",
       "      <td>2019-04-20T14:33:21Z</td>\n",
       "      <td>The Denver Board of Education opened the 2017-...</td>\n",
       "      <td>http://bond.dpsk12.org/category/news/</td>\n",
       "    </tr>\n",
       "  </tbody>\n",
       "</table>\n",
       "</div>"
      ],
      "text/plain": [
       "              timestamp                                               text  \\\n",
       "0  2019-04-25T12:57:54Z  Beginners BBQ Class Taking Place in Missoula!\\...   \n",
       "1  2019-04-21T10:07:13Z  Discussion in 'Mac OS X Lion (10.7)' started b...   \n",
       "2  2019-04-25T10:40:23Z  Foil plaid lycra and spandex shortall with met...   \n",
       "3  2019-04-21T12:46:19Z  How many backlinks per day for new site?\\nDisc...   \n",
       "4  2019-04-20T14:33:21Z  The Denver Board of Education opened the 2017-...   \n",
       "\n",
       "                                                 url  \n",
       "0  https://klyq.com/beginners-bbq-class-taking-pl...  \n",
       "1  https://forums.macrumors.com/threads/restore-f...  \n",
       "2  https://awishcometrue.com/Catalogs/Clearance/T...  \n",
       "3  https://www.blackhatworld.com/seo/how-many-bac...  \n",
       "4              http://bond.dpsk12.org/category/news/  "
      ]
     },
     "execution_count": 5,
     "metadata": {},
     "output_type": "execute_result"
    }
   ],
   "source": [
    "df.head()"
   ]
  },
  {
   "cell_type": "markdown",
   "id": "899197c1-8f35-4518-ac0b-2884b2e228cc",
   "metadata": {},
   "source": [
    "#### Getting more information"
   ]
  },
  {
   "cell_type": "code",
   "execution_count": 6,
   "id": "bc3aef2d-564d-43c8-be3c-a3721a35483b",
   "metadata": {},
   "outputs": [
    {
     "name": "stdout",
     "output_type": "stream",
     "text": [
      "<class 'pandas.core.frame.DataFrame'>\n",
      "RangeIndex: 10000 entries, 0 to 9999\n",
      "Data columns (total 3 columns):\n",
      " #   Column     Non-Null Count  Dtype \n",
      "---  ------     --------------  ----- \n",
      " 0   timestamp  10000 non-null  object\n",
      " 1   text       10000 non-null  object\n",
      " 2   url        10000 non-null  object\n",
      "dtypes: object(3)\n",
      "memory usage: 234.5+ KB\n"
     ]
    }
   ],
   "source": [
    "df.info()"
   ]
  },
  {
   "cell_type": "markdown",
   "id": "7d8acd2c-98f4-4e44-b75b-37299eca868e",
   "metadata": {},
   "source": [
    "#### Checking for missing values"
   ]
  },
  {
   "cell_type": "code",
   "execution_count": 7,
   "id": "b83f149c-eba8-45c8-96be-0e2aa8bb2c46",
   "metadata": {},
   "outputs": [
    {
     "data": {
      "text/plain": [
       "0"
      ]
     },
     "execution_count": 7,
     "metadata": {},
     "output_type": "execute_result"
    }
   ],
   "source": [
    "df[df.isnull().any(axis=1)].head()\n",
    "np.sum(df.isnull().any(axis=1))"
   ]
  },
  {
   "cell_type": "markdown",
   "id": "adaf363d-32b0-4f9e-957b-673d20d5f2fa",
   "metadata": {},
   "source": [
    "#### Count vocab size + frequencies"
   ]
  },
  {
   "cell_type": "code",
   "execution_count": 8,
   "id": "e2a1c847-388c-4862-a66f-8b480f800bbf",
   "metadata": {},
   "outputs": [],
   "source": [
    "def count_vocab_frequencies(df):\n",
    "    \"\"\"\n",
    "    Based on an input pandas DataFrame with a 'text' column, \n",
    "    this function will count the occurrences of ALL words \n",
    "    (no stop word removal) and will return another DataFrame\n",
    "    with the rows corresponding to the different vocabulary words\n",
    "    and the column to the total count of that word.\n",
    "    \"\"\"\n",
    "    # Move this up as a constant in larger code.\n",
    "    batch_size = 10\n",
    "    cvec = CountVectorizer(token_pattern=u\"(?u)\\\\b\\\\w+\\\\b\")\n",
    "    # Needed to modify the minimum token length: \n",
    "    # https://stackoverflow.com/questions/33260505/countvectorizer-ignoring-i\n",
    "    cvec.fit(df.text)\n",
    "    document_matrix = cvec.transform(df.text)\n",
    "    batches = np.linspace(0, df.shape[0], batch_size).astype(int)\n",
    "    i = 0\n",
    "    tf = []\n",
    "    while i < len(batches) - 1:\n",
    "        batch_result = np.sum(document_matrix[batches[i]:batches[i+1]].toarray(), axis=0)\n",
    "        tf.append(batch_result)\n",
    "        i += 1\n",
    "    term_freq_df = pd.DataFrame([np.sum(tf, axis=0)], columns=cvec.get_feature_names()).transpose()\n",
    "    term_freq_df.columns = ['total']\n",
    "    sorted_term_freq_df = pd.DataFrame(term_freq_df.sort_values(by='total', ascending=False)['total'])\n",
    "    return sorted_term_freq_df"
   ]
  },
  {
   "cell_type": "code",
   "execution_count": 9,
   "id": "eb931a64-d81b-4505-8f5b-e7f9e09df8e7",
   "metadata": {},
   "outputs": [
    {
     "name": "stdout",
     "output_type": "stream",
     "text": [
      "Info on the observed frequencies:\n",
      "<class 'pandas.core.frame.DataFrame'>\n",
      "Index: 100533 entries, the to 𐌼𐌿𐌽𐌳𐍃\n",
      "Data columns (total 1 columns):\n",
      " #   Column  Non-Null Count   Dtype\n",
      "---  ------  --------------   -----\n",
      " 0   total   100533 non-null  int64\n",
      "dtypes: int64(1)\n",
      "memory usage: 1.5+ MB\n",
      "None\n",
      "Observations look like this:\n",
      "      total\n",
      "the  186019\n",
      "and  107893\n",
      "to   103090\n",
      "of    89417\n",
      "a     81307\n"
     ]
    }
   ],
   "source": [
    "term_df = count_vocab_frequencies(df)\n",
    "print(\"Info on the observed frequencies:\")\n",
    "print(term_df.info())\n",
    "print(\"Observations look like this:\")\n",
    "print(term_df.head())"
   ]
  },
  {
   "cell_type": "markdown",
   "id": "23e58da4-0d4a-4424-b327-7c32218a0c9e",
   "metadata": {},
   "source": [
    "#### Fit the observations to a Zipfian powerlaw"
   ]
  },
  {
   "cell_type": "code",
   "execution_count": 10,
   "id": "dbdb91a6-6985-4049-9d40-07664aaef5a1",
   "metadata": {},
   "outputs": [
    {
     "name": "stdout",
     "output_type": "stream",
     "text": [
      "Calculating best minimal value for power law fit\n",
      "Optimal Alpha:\t\t1.6053\n",
      "Optimal Rank cut-off:\t2.0\n",
      "Distance:\t\t0.0146\n",
      "KS test:\t\tKstestResult(statistic=0.7000432592242531, pvalue=1.3538877480117501e-24)\n"
     ]
    }
   ],
   "source": [
    "# Uses the powerlaw package to fit the observed frequencies to a zipfian distribution\n",
    "\n",
    "# Turn these into a probability distribution by normalizing by the total sum.\n",
    "observed_counts = term_df['total'].values\n",
    "norm = float(sum(observed_counts))\n",
    "observed_frequencies = observed_counts/norm\n",
    "\n",
    "# 'fit_method' is MLE by default; doesn't seem to change the results in my initial pokings.\n",
    "# Also tried discrete_approximation=\"xmax\"\n",
    "fit = powerlaw.Fit(term_df['total'].values, fit_method=\"KS\", discrete=True)\n",
    "# The estimated values\n",
    "alpha = fit.power_law.alpha\n",
    "xmin = fit.power_law.xmin\n",
    "distance = fit.power_law.KS()\n",
    "# The predicted probability distribution\n",
    "predicted_frequencies = fit.pdf()[0][::-1]/norm \n",
    "print(\"Optimal Alpha:\\t\\t%.4f\" % alpha)\n",
    "print(\"Optimal Rank cut-off:\\t%s\" % xmin)\n",
    "print(\"Distance:\\t\\t%.4f\" % distance)\n",
    "# Significance testing\n",
    "print(\"KS test:\", end='\\t\\t')\n",
    "print(ks_2samp(observed_frequencies, predicted_frequencies))"
   ]
  },
  {
   "cell_type": "code",
   "execution_count": 11,
   "id": "6a2f9d3f-14a6-4ace-a7c3-238adf8701ad",
   "metadata": {},
   "outputs": [
    {
     "data": {
      "text/plain": [
       "<AxesSubplot:>"
      ]
     },
     "execution_count": 11,
     "metadata": {},
     "output_type": "execute_result"
    },
    {
     "data": {
      "image/png": "[encoded data removed]",
      "text/plain": [
       "<Figure size 432x288 with 1 Axes>"
      ]
     },
     "metadata": {},
     "output_type": "display_data"
    }
   ],
   "source": [
    "# Graph it out.\n",
    "fig2 = fit.plot_pdf(color='r', linewidth=2)\n",
    "fit.power_law.plot_pdf(color='b', linestyle='--', linewidth=2, ax=fig2)"
   ]
  },
  {
   "cell_type": "code",
   "execution_count": 12,
   "id": "63181289-1b2a-452e-ac60-80d0c359323e",
   "metadata": {},
   "outputs": [],
   "source": [
    "def plot_zipf(observed, predicted, alpha=1, multiplier=1):\n",
    "    \"\"\"\n",
    "    This function plots the correspondence of the distribution of terms\n",
    "    generated by count_vocab_frequencies with the projected Zipf's law\n",
    "    distribution.\n",
    "    \"\"\"\n",
    "    num_tokens = len(predicted)\n",
    "    y_pos = np.arange(num_tokens)\n",
    "    plt.figure(figsize=(10,8))\n",
    "    plt.bar(y_pos, observed[:num_tokens]*multiplier, align='center', alpha=0.5)\n",
    "    plt.plot(y_pos, predicted*multiplier, color='r', linestyle='--',linewidth=2,alpha=0.5)\n",
    "    plt.ylabel('Frequency')\n",
    "    plt.title(\"Top %s words in the dataset, with Zipf's law in dotted red\" % num_tokens)\n"
   ]
  },
  {
   "cell_type": "code",
   "execution_count": 13,
   "id": "7217960f-377e-4fec-81e9-ca76bc9096a4",
   "metadata": {},
   "outputs": [
    {
     "data": {
      "image/png": "[encoded data removed]",
      "text/plain": [
       "<Figure size 720x576 with 1 Axes>"
      ]
     },
     "metadata": {},
     "output_type": "display_data"
    }
   ],
   "source": [
    "plot_zipf(observed_frequencies, predicted_frequencies, alpha=alpha, multiplier=norm)"
   ]
  }
 ],
 "metadata": {
  "kernelspec": {
   "display_name": "Python 3",
   "language": "python",
   "name": "python3"
  },
  "language_info": {
   "codemirror_mode": {
    "name": "ipython",
    "version": 3
   },
   "file_extension": ".py",
   "mimetype": "text/x-python",
   "name": "python",
   "nbconvert_exporter": "python",
   "pygments_lexer": "ipython3",
   "version": "3.8.8"
  }
 },
 "nbformat": 4,
 "nbformat_minor": 5
}
