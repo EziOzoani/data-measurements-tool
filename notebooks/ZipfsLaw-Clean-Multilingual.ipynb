{
 "cells": [
  {
   "cell_type": "code",
   "execution_count": 1,
   "id": "a97d90f2-dfc9-4276-99db-c17d0c42de90",
   "metadata": {},
   "outputs": [],
   "source": [
    "from datasets import load_dataset\n",
    "import pandas as pd\n",
    "import numpy as np\n",
    "from sklearn.feature_extraction.text import CountVectorizer\n",
    "from scipy.stats import hmean, norm\n",
    "from nltk import word_tokenize\n",
    "from collections import Counter\n",
    "from scipy.optimize import minimize_scalar\n",
    "from scipy.optimize import minimize\n",
    "import matplotlib.pyplot as plt\n",
    "plt.style.use('fivethirtyeight')\n",
    "import numpy as np\n",
    "from statistics import harmonic_mean"
   ]
  },
  {
   "cell_type": "code",
   "execution_count": 10,
   "id": "c96d00b5-0953-45ea-90c9-854d56791066",
   "metadata": {},
   "outputs": [
    {
     "name": "stderr",
     "output_type": "stream",
     "text": [
      "Using custom data configuration fr-ru-lang1=fr,lang2=ru\n",
      "Reusing dataset bible_para (/home/sasha/.cache/huggingface/datasets/bible_para/fr-ru-lang1=fr,lang2=ru/0.0.0/b6cc20bcbfb0299beeba1dcc80a8420b975938ca0eef75b3ed30b50df7d950b1)\n"
     ]
    }
   ],
   "source": [
    "#data= load_dataset(\"imdb\", split= \"test\")\n",
    "#data= load_dataset(\"oscar\", \"unshuffled_deduplicated_en\", split = \"train\", streaming= True)\n",
    "#data= load_dataset(\"poem_sentiment\",\"plain_text\", split = \"test\")\n",
    "data = load_dataset(\"bible_para\", lang1=\"fr\", lang2=\"ru\",split=\"train\")\n",
    "#data_head = data.take(10)"
   ]
  },
  {
   "cell_type": "code",
   "execution_count": null,
   "id": "10482904-64fd-4354-a00c-e5c5f596543d",
   "metadata": {},
   "outputs": [],
   "source": [
    "#For streaming data\n",
    "data_head = data.take(10000)\n",
    "datadf= pd.DataFrame(data_head)"
   ]
  },
  {
   "cell_type": "code",
   "execution_count": 11,
   "id": "a4ba207a-c301-41c0-beec-b42f82bca937",
   "metadata": {},
   "outputs": [],
   "source": [
    "#for non-streaming data\n",
    "datadf = pd.json_normalize(data)"
   ]
  },
  {
   "cell_type": "markdown",
   "id": "659b4dd7-25d1-44ee-8506-8a67d350b639",
   "metadata": {
    "tags": []
   },
   "source": [
    "#### Looking at the top rows"
   ]
  },
  {
   "cell_type": "code",
   "execution_count": 12,
   "id": "9dc73f02-cfc3-4cf6-8f77-8c6bd0cdb6a6",
   "metadata": {},
   "outputs": [
    {
     "data": {
      "text/html": [
       "<div>\n",
       "<style scoped>\n",
       "    .dataframe tbody tr th:only-of-type {\n",
       "        vertical-align: middle;\n",
       "    }\n",
       "\n",
       "    .dataframe tbody tr th {\n",
       "        vertical-align: top;\n",
       "    }\n",
       "\n",
       "    .dataframe thead th {\n",
       "        text-align: right;\n",
       "    }\n",
       "</style>\n",
       "<table border=\"1\" class=\"dataframe\">\n",
       "  <thead>\n",
       "    <tr style=\"text-align: right;\">\n",
       "      <th></th>\n",
       "      <th>id</th>\n",
       "      <th>translation.fr</th>\n",
       "      <th>translation.ru</th>\n",
       "    </tr>\n",
       "  </thead>\n",
       "  <tbody>\n",
       "    <tr>\n",
       "      <th>0</th>\n",
       "      <td>0</td>\n",
       "      <td>Au commencement, Dieu créa les cieux et la terre.</td>\n",
       "      <td>В начале сотворил Бог небо и землю.</td>\n",
       "    </tr>\n",
       "    <tr>\n",
       "      <th>1</th>\n",
       "      <td>1</td>\n",
       "      <td>La terre était informe et vide: il y avait des...</td>\n",
       "      <td>Земля же была безвидна и пуста, и тьма над без...</td>\n",
       "    </tr>\n",
       "    <tr>\n",
       "      <th>2</th>\n",
       "      <td>2</td>\n",
       "      <td>Dieu dit: Que la lumière soit! Et la lumière fut.</td>\n",
       "      <td>И сказал Бог: да будет свет. И сталсвет.</td>\n",
       "    </tr>\n",
       "    <tr>\n",
       "      <th>3</th>\n",
       "      <td>3</td>\n",
       "      <td>Dieu vit que la lumière était bonne; et Dieu s...</td>\n",
       "      <td>И увидел Бог свет, что он хорош, и отделил Бог...</td>\n",
       "    </tr>\n",
       "    <tr>\n",
       "      <th>4</th>\n",
       "      <td>4</td>\n",
       "      <td>Dieu appela la lumière jour, et il appela les ...</td>\n",
       "      <td>И назвал Бог свет днем, а тьму ночью. И был ве...</td>\n",
       "    </tr>\n",
       "  </tbody>\n",
       "</table>\n",
       "</div>"
      ],
      "text/plain": [
       "  id                                     translation.fr  \\\n",
       "0  0  Au commencement, Dieu créa les cieux et la terre.   \n",
       "1  1  La terre était informe et vide: il y avait des...   \n",
       "2  2  Dieu dit: Que la lumière soit! Et la lumière fut.   \n",
       "3  3  Dieu vit que la lumière était bonne; et Dieu s...   \n",
       "4  4  Dieu appela la lumière jour, et il appela les ...   \n",
       "\n",
       "                                      translation.ru  \n",
       "0                В начале сотворил Бог небо и землю.  \n",
       "1  Земля же была безвидна и пуста, и тьма над без...  \n",
       "2           И сказал Бог: да будет свет. И сталсвет.  \n",
       "3  И увидел Бог свет, что он хорош, и отделил Бог...  \n",
       "4  И назвал Бог свет днем, а тьму ночью. И был ве...  "
      ]
     },
     "execution_count": 12,
     "metadata": {},
     "output_type": "execute_result"
    }
   ],
   "source": [
    "datadf.head()"
   ]
  },
  {
   "cell_type": "markdown",
   "id": "899197c1-8f35-4518-ac0b-2884b2e228cc",
   "metadata": {},
   "source": [
    "#### Getting more information"
   ]
  },
  {
   "cell_type": "code",
   "execution_count": 13,
   "id": "bc3aef2d-564d-43c8-be3c-a3721a35483b",
   "metadata": {},
   "outputs": [
    {
     "name": "stdout",
     "output_type": "stream",
     "text": [
      "<class 'pandas.core.frame.DataFrame'>\n",
      "RangeIndex: 31102 entries, 0 to 31101\n",
      "Data columns (total 3 columns):\n",
      " #   Column          Non-Null Count  Dtype \n",
      "---  ------          --------------  ----- \n",
      " 0   id              31102 non-null  object\n",
      " 1   translation.fr  31102 non-null  object\n",
      " 2   translation.ru  31102 non-null  object\n",
      "dtypes: object(3)\n",
      "memory usage: 729.1+ KB\n"
     ]
    }
   ],
   "source": [
    "datadf.info()"
   ]
  },
  {
   "cell_type": "markdown",
   "id": "7d8acd2c-98f4-4e44-b75b-37299eca868e",
   "metadata": {},
   "source": [
    "#### Checking for missing values"
   ]
  },
  {
   "cell_type": "code",
   "execution_count": 14,
   "id": "b83f149c-eba8-45c8-96be-0e2aa8bb2c46",
   "metadata": {},
   "outputs": [
    {
     "data": {
      "text/html": [
       "<div>\n",
       "<style scoped>\n",
       "    .dataframe tbody tr th:only-of-type {\n",
       "        vertical-align: middle;\n",
       "    }\n",
       "\n",
       "    .dataframe tbody tr th {\n",
       "        vertical-align: top;\n",
       "    }\n",
       "\n",
       "    .dataframe thead th {\n",
       "        text-align: right;\n",
       "    }\n",
       "</style>\n",
       "<table border=\"1\" class=\"dataframe\">\n",
       "  <thead>\n",
       "    <tr style=\"text-align: right;\">\n",
       "      <th></th>\n",
       "      <th>id</th>\n",
       "      <th>translation.fr</th>\n",
       "      <th>translation.ru</th>\n",
       "    </tr>\n",
       "  </thead>\n",
       "  <tbody>\n",
       "  </tbody>\n",
       "</table>\n",
       "</div>"
      ],
      "text/plain": [
       "Empty DataFrame\n",
       "Columns: [id, translation.fr, translation.ru]\n",
       "Index: []"
      ]
     },
     "execution_count": 14,
     "metadata": {},
     "output_type": "execute_result"
    }
   ],
   "source": [
    "datadf[datadf.isnull().any(axis=1)].head()"
   ]
  },
  {
   "cell_type": "code",
   "execution_count": 15,
   "id": "6c85f137-322a-4834-ba2b-a102df651ed3",
   "metadata": {},
   "outputs": [
    {
     "data": {
      "text/plain": [
       "0"
      ]
     },
     "execution_count": 15,
     "metadata": {},
     "output_type": "execute_result"
    }
   ],
   "source": [
    "np.sum(datadf.isnull().any(axis=1))"
   ]
  },
  {
   "cell_type": "markdown",
   "id": "adaf363d-32b0-4f9e-957b-673d20d5f2fa",
   "metadata": {},
   "source": [
    "#### Count vocab size + frequencies"
   ]
  },
  {
   "cell_type": "code",
   "execution_count": 22,
   "id": "e2a1c847-388c-4862-a66f-8b480f800bbf",
   "metadata": {},
   "outputs": [],
   "source": [
    "def count_vocab_frequencies(dataframe, col):\n",
    "    \"\"\"\n",
    "    Based on an input pandas DataFrame with a 'text' column, \n",
    "    this function will count the occurrences of ALL words \n",
    "    (no stop word removal) and will return another DataFrame\n",
    "    with the rows corresponding to the different vocabulary words\n",
    "    and the column to the total count of that word.\n",
    "    \"\"\"\n",
    "    cvec = CountVectorizer(token_pattern=u\"(?u)\\\\b\\\\w+\\\\b\")\n",
    "    #needed to modify the minimum token length : https://stackoverflow.com/questions/33260505/countvectorizer-ignoring-i\n",
    "    cvec.fit(dataframe[col])\n",
    "    document_matrix = cvec.transform(dataframe[col])\n",
    "    batches = np.linspace(0,dataframe.shape[0],100).astype(int)\n",
    "    i=0\n",
    "    tf = []\n",
    "    while i < len(batches)-1:\n",
    "        batch_result = np.sum(document_matrix[batches[i]:batches[i+1]].toarray(),axis=0)\n",
    "        tf.append(batch_result)\n",
    "        i += 1\n",
    "    term_freq_df = pd.DataFrame([np.sum(tf,axis=0)],columns=cvec.get_feature_names()).transpose()\n",
    "    term_freq_df.columns=['total']\n",
    "    return(term_freq_df)"
   ]
  },
  {
   "cell_type": "code",
   "execution_count": 23,
   "id": "dbba3743-8a0f-46b7-b212-219256fc61c9",
   "metadata": {},
   "outputs": [],
   "source": [
    "term_df= count_vocab_frequencies(datadf,'translation.fr')"
   ]
  },
  {
   "cell_type": "markdown",
   "id": "0f8d6238-d760-4a2f-a002-8dfac69f4c2e",
   "metadata": {
    "tags": []
   },
   "source": [
    "#### Zipf's law plot"
   ]
  },
  {
   "cell_type": "code",
   "execution_count": 25,
   "id": "63181289-1b2a-452e-ac60-80d0c359323e",
   "metadata": {},
   "outputs": [],
   "source": [
    "def Zipf_plot(dataframe):\n",
    "    \"\"\"\n",
    "    This function plots the correspondence of the distribution of terms\n",
    "    generated by count_vocab_frequencies with the projected Zipf's law\n",
    "    distribution.\n",
    "    s is the value of the exponent characterizing the distribution, currently at 1.\n",
    "    # TODO : see if changing this makes the distribution fit better -- \n",
    "    e.g. When Zipf's law is checked for cities, a better fit has been found with exponent s = 1.07\n",
    "    \"\"\"\n",
    "    y_pos = np.arange(500)\n",
    "    plt.figure(figsize=(10,8))\n",
    "    s = 1\n",
    "    expected_zipf = [dataframe.sort_values(by='total', ascending=False)['total'][0]/(i+1)**s for i in y_pos]\n",
    "    plt.bar(y_pos, dataframe.sort_values(by='total', ascending=False)['total'][:500], align='center', alpha=0.5)\n",
    "    plt.plot(y_pos, expected_zipf, color='r', linestyle='--',linewidth=2,alpha=0.5)\n",
    "    plt.ylabel('Frequency')\n",
    "    plt.title(\"Top 500 tokens in the dataset, with Zipf's law in dotted red\")"
   ]
  },
  {
   "cell_type": "code",
   "execution_count": 26,
   "id": "96ecea1d-3ee2-4386-8de0-a4925d9ea74f",
   "metadata": {},
   "outputs": [
    {
     "data": {
      "image/png": "[encoded data removed]",
      "text/plain": [
       "<Figure size 720x576 with 1 Axes>"
      ]
     },
     "metadata": {},
     "output_type": "display_data"
    }
   ],
   "source": [
    "Zipf_plot(term_df)"
   ]
  },
  {
   "cell_type": "markdown",
   "id": "64f5cb04-77c5-434a-8b24-72d5a088622a",
   "metadata": {
    "tags": []
   },
   "source": [
    "### Checking which words do not respect Zipf's law"
   ]
  },
  {
   "cell_type": "code",
   "execution_count": 27,
   "id": "e080502f-80bc-494a-91a4-87535decc9e9",
   "metadata": {},
   "outputs": [],
   "source": [
    "def Zipf_check_words(dataframe, num_words):\n",
    "    \"\"\"\n",
    "    Checks the Zipf's law of the top [num_words] most frequent words in dataframe.\n",
    "    Returns a dataframe with 3 columns:\n",
    "    total = the raw number of counts \n",
    "    zipf = the projected counts according to Zipf\n",
    "    difference = the *percentage* difference between the two\n",
    "    \"\"\"\n",
    "    s = 1\n",
    "    terms = pd.DataFrame(dataframe.sort_values(by='total', ascending=False)['total'][:num_words])\n",
    "    expected_zipf=[dataframe.sort_values(by='total', ascending=False)['total'][0]/(i+1)**s for i in np.arange(num_words)]\n",
    "    terms['zipf'] = [int(z) for z in expected_zipf]\n",
    "    terms['difference'] = terms.apply(lambda x: ((x['total']- x['zipf'])/x['zipf']* 100), axis=1)\n",
    "    return(terms)"
   ]
  },
  {
   "cell_type": "code",
   "execution_count": 28,
   "id": "60c41e19-45b6-4a30-977e-40f5c916bf25",
   "metadata": {},
   "outputs": [],
   "source": [
    "zipf_df= Zipf_check_words(term_df,500)"
   ]
  },
  {
   "cell_type": "code",
   "execution_count": 29,
   "id": "12c4a6e4-4cfe-43f7-80ff-6da6e90fbcae",
   "metadata": {},
   "outputs": [
    {
     "data": {
      "text/html": [
       "<div>\n",
       "<style scoped>\n",
       "    .dataframe tbody tr th:only-of-type {\n",
       "        vertical-align: middle;\n",
       "    }\n",
       "\n",
       "    .dataframe tbody tr th {\n",
       "        vertical-align: top;\n",
       "    }\n",
       "\n",
       "    .dataframe thead th {\n",
       "        text-align: right;\n",
       "    }\n",
       "</style>\n",
       "<table border=\"1\" class=\"dataframe\">\n",
       "  <thead>\n",
       "    <tr style=\"text-align: right;\">\n",
       "      <th></th>\n",
       "      <th>total</th>\n",
       "      <th>zipf</th>\n",
       "      <th>difference</th>\n",
       "    </tr>\n",
       "  </thead>\n",
       "  <tbody>\n",
       "    <tr>\n",
       "      <th>l</th>\n",
       "      <td>18140</td>\n",
       "      <td>8274</td>\n",
       "      <td>119.240996</td>\n",
       "    </tr>\n",
       "    <tr>\n",
       "      <th>le</th>\n",
       "      <td>17817</td>\n",
       "      <td>6619</td>\n",
       "      <td>169.179634</td>\n",
       "    </tr>\n",
       "    <tr>\n",
       "      <th>les</th>\n",
       "      <td>16909</td>\n",
       "      <td>5516</td>\n",
       "      <td>206.544598</td>\n",
       "    </tr>\n",
       "    <tr>\n",
       "      <th>à</th>\n",
       "      <td>13718</td>\n",
       "      <td>4728</td>\n",
       "      <td>190.143824</td>\n",
       "    </tr>\n",
       "    <tr>\n",
       "      <th>il</th>\n",
       "      <td>13119</td>\n",
       "      <td>4137</td>\n",
       "      <td>217.113851</td>\n",
       "    </tr>\n",
       "    <tr>\n",
       "      <th>qui</th>\n",
       "      <td>10108</td>\n",
       "      <td>3677</td>\n",
       "      <td>174.898015</td>\n",
       "    </tr>\n",
       "    <tr>\n",
       "      <th>des</th>\n",
       "      <td>9617</td>\n",
       "      <td>3309</td>\n",
       "      <td>190.631611</td>\n",
       "    </tr>\n",
       "    <tr>\n",
       "      <th>d</th>\n",
       "      <td>9491</td>\n",
       "      <td>3008</td>\n",
       "      <td>215.525266</td>\n",
       "    </tr>\n",
       "    <tr>\n",
       "      <th>que</th>\n",
       "      <td>9115</td>\n",
       "      <td>2758</td>\n",
       "      <td>230.493111</td>\n",
       "    </tr>\n",
       "    <tr>\n",
       "      <th>est</th>\n",
       "      <td>7823</td>\n",
       "      <td>2546</td>\n",
       "      <td>207.266300</td>\n",
       "    </tr>\n",
       "  </tbody>\n",
       "</table>\n",
       "</div>"
      ],
      "text/plain": [
       "     total  zipf  difference\n",
       "l    18140  8274  119.240996\n",
       "le   17817  6619  169.179634\n",
       "les  16909  5516  206.544598\n",
       "à    13718  4728  190.143824\n",
       "il   13119  4137  217.113851\n",
       "qui  10108  3677  174.898015\n",
       "des   9617  3309  190.631611\n",
       "d     9491  3008  215.525266\n",
       "que   9115  2758  230.493111\n",
       "est   7823  2546  207.266300"
      ]
     },
     "execution_count": 29,
     "metadata": {},
     "output_type": "execute_result"
    }
   ],
   "source": [
    "zipf_df.loc[(zipf_df['difference'] >=100)].head(10)"
   ]
  },
  {
   "cell_type": "markdown",
   "id": "86361ea1-5127-4301-9caa-a4439477cb04",
   "metadata": {},
   "source": [
    "### Checking open versus closed class words"
   ]
  },
  {
   "cell_type": "code",
   "execution_count": null,
   "id": "20122161-9138-4e04-a6fe-d03a49719099",
   "metadata": {},
   "outputs": [],
   "source": [
    "#Creating the closed word list from the txt file\n",
    "wordlist=open('resources/closed_EN.txt', 'r').readlines()\n",
    "closedlist=[]\n",
    "for l in wordlist:\n",
    "    closedlist= closedlist + (l.split())\n",
    "print(\"There are: \"+ str(len(closedlist)) + \" closed-class words in English.\")"
   ]
  },
  {
   "cell_type": "code",
   "execution_count": null,
   "id": "6ed0516c-aec9-47cd-bc04-8eb09d34fda7",
   "metadata": {},
   "outputs": [],
   "source": [
    "def check_closed_class(dataframe, threshold):\n",
    "    '''\n",
    "    Based on a dataframe and a threshold, checks how many closed-class \n",
    "    words are above the threshold, and returns the dataframe sorted by \n",
    "    difference.\n",
    "    '''\n",
    "    closedclass= dataframe[dataframe.index.isin(closedlist)]\n",
    "    closedclassthreshold= closedclass.loc[(closedclass['difference'] >=threshold)]\n",
    "    print(\"There are: \"+ str(closedclassthreshold.shape[0])+ \" closed class words that are above the %s threshold\" %(threshold))\n",
    "    return(closedclassthreshold.sort_values(by='difference', ascending=False))"
   ]
  },
  {
   "cell_type": "code",
   "execution_count": null,
   "id": "1b6ccd6b-de87-46d5-b3c7-7c87e4f6e700",
   "metadata": {},
   "outputs": [],
   "source": [
    "check_closed_class(zipf_df,100)"
   ]
  },
  {
   "cell_type": "code",
   "execution_count": null,
   "id": "c7c7c199-acac-4fa3-91ea-626a24aa6077",
   "metadata": {},
   "outputs": [],
   "source": [
    "def check_open_class(dataframe, threshold):\n",
    "    closedclass= dataframe[dataframe.index.isin(closedlist)]\n",
    "    openclass= dataframe[~dataframe.index.isin(closedlist)]\n",
    "    openclassthreshold= openclass.loc[(openclass['difference'] >=threshold)]\n",
    "    print(\"There are: \"+ str(openclassthreshold.shape[0])+ \" closed class words that are above the %s threshold\" %(threshold))\n",
    "    return(openclassthreshold.sort_values(by='difference', ascending=False))"
   ]
  },
  {
   "cell_type": "code",
   "execution_count": null,
   "id": "a2528225-ecbe-4962-b53e-0c46239e93d6",
   "metadata": {},
   "outputs": [],
   "source": [
    "check_open_class(zipf_df,100)"
   ]
  }
 ],
 "metadata": {
  "kernelspec": {
   "display_name": "datametrics",
   "language": "python",
   "name": "datametrics"
  },
  "language_info": {
   "codemirror_mode": {
    "name": "ipython",
    "version": 3
   },
   "file_extension": ".py",
   "mimetype": "text/x-python",
   "name": "python",
   "nbconvert_exporter": "python",
   "pygments_lexer": "ipython3",
   "version": "3.8.5"
  }
 },
 "nbformat": 4,
 "nbformat_minor": 5
}
