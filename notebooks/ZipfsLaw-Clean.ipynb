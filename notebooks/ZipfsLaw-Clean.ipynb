{
 "cells": [
  {
   "cell_type": "code",
   "execution_count": 1,
   "id": "a97d90f2-dfc9-4276-99db-c17d0c42de90",
   "metadata": {},
   "outputs": [],
   "source": [
    "from datasets import load_dataset\n",
    "import pandas as pd\n",
    "import numpy as np\n",
    "from sklearn.feature_extraction.text import CountVectorizer\n",
    "from scipy.stats import hmean, norm\n",
    "from nltk import word_tokenize\n",
    "from collections import Counter\n",
    "from scipy.optimize import minimize_scalar\n",
    "from scipy.optimize import minimize\n",
    "import matplotlib.pyplot as plt\n",
    "plt.style.use('fivethirtyeight')\n",
    "import numpy as np\n",
    "from statistics import harmonic_mean"
   ]
  },
  {
   "cell_type": "code",
   "execution_count": 3,
   "id": "c96d00b5-0953-45ea-90c9-854d56791066",
   "metadata": {},
   "outputs": [],
   "source": [
    "#data= load_dataset(\"imdb\", split= \"test\")\n",
    "#data= load_dataset(\"oscar\", \"unshuffled_deduplicated_en\", split = \"train\", streaming= True)\n",
    "#data= load_dataset(\"poem_sentiment\",\"plain_text\", split = \"test\")\n",
    "data = load_dataset(\"c4\", \"en\", split= \"train\", streaming = True)\n",
    "#data_head = data.take(10)"
   ]
  },
  {
   "cell_type": "code",
   "execution_count": 4,
   "id": "10482904-64fd-4354-a00c-e5c5f596543d",
   "metadata": {},
   "outputs": [],
   "source": [
    "#For streaming data\n",
    "data_head = data.take(10000)\n",
    "datadf= pd.DataFrame(data_head)"
   ]
  },
  {
   "cell_type": "code",
   "execution_count": 5,
   "id": "a4ba207a-c301-41c0-beec-b42f82bca937",
   "metadata": {},
   "outputs": [],
   "source": [
    "#for non-streaming data\n",
    "#datadf = pd.json_normalize(data)"
   ]
  },
  {
   "cell_type": "markdown",
   "id": "659b4dd7-25d1-44ee-8506-8a67d350b639",
   "metadata": {
    "tags": []
   },
   "source": [
    "#### Looking at the top rows"
   ]
  },
  {
   "cell_type": "code",
   "execution_count": 6,
   "id": "9dc73f02-cfc3-4cf6-8f77-8c6bd0cdb6a6",
   "metadata": {},
   "outputs": [
    {
     "data": {
      "text/html": [
       "<div>\n",
       "<style scoped>\n",
       "    .dataframe tbody tr th:only-of-type {\n",
       "        vertical-align: middle;\n",
       "    }\n",
       "\n",
       "    .dataframe tbody tr th {\n",
       "        vertical-align: top;\n",
       "    }\n",
       "\n",
       "    .dataframe thead th {\n",
       "        text-align: right;\n",
       "    }\n",
       "</style>\n",
       "<table border=\"1\" class=\"dataframe\">\n",
       "  <thead>\n",
       "    <tr style=\"text-align: right;\">\n",
       "      <th></th>\n",
       "      <th>text</th>\n",
       "      <th>timestamp</th>\n",
       "      <th>url</th>\n",
       "    </tr>\n",
       "  </thead>\n",
       "  <tbody>\n",
       "    <tr>\n",
       "      <th>0</th>\n",
       "      <td>Beginners BBQ Class Taking Place in Missoula!\\...</td>\n",
       "      <td>2019-04-25T12:57:54Z</td>\n",
       "      <td>https://klyq.com/beginners-bbq-class-taking-pl...</td>\n",
       "    </tr>\n",
       "    <tr>\n",
       "      <th>1</th>\n",
       "      <td>Discussion in 'Mac OS X Lion (10.7)' started b...</td>\n",
       "      <td>2019-04-21T10:07:13Z</td>\n",
       "      <td>https://forums.macrumors.com/threads/restore-f...</td>\n",
       "    </tr>\n",
       "    <tr>\n",
       "      <th>2</th>\n",
       "      <td>Foil plaid lycra and spandex shortall with met...</td>\n",
       "      <td>2019-04-25T10:40:23Z</td>\n",
       "      <td>https://awishcometrue.com/Catalogs/Clearance/T...</td>\n",
       "    </tr>\n",
       "    <tr>\n",
       "      <th>3</th>\n",
       "      <td>How many backlinks per day for new site?\\nDisc...</td>\n",
       "      <td>2019-04-21T12:46:19Z</td>\n",
       "      <td>https://www.blackhatworld.com/seo/how-many-bac...</td>\n",
       "    </tr>\n",
       "    <tr>\n",
       "      <th>4</th>\n",
       "      <td>The Denver Board of Education opened the 2017-...</td>\n",
       "      <td>2019-04-20T14:33:21Z</td>\n",
       "      <td>http://bond.dpsk12.org/category/news/</td>\n",
       "    </tr>\n",
       "  </tbody>\n",
       "</table>\n",
       "</div>"
      ],
      "text/plain": [
       "                                                text             timestamp  \\\n",
       "0  Beginners BBQ Class Taking Place in Missoula!\\...  2019-04-25T12:57:54Z   \n",
       "1  Discussion in 'Mac OS X Lion (10.7)' started b...  2019-04-21T10:07:13Z   \n",
       "2  Foil plaid lycra and spandex shortall with met...  2019-04-25T10:40:23Z   \n",
       "3  How many backlinks per day for new site?\\nDisc...  2019-04-21T12:46:19Z   \n",
       "4  The Denver Board of Education opened the 2017-...  2019-04-20T14:33:21Z   \n",
       "\n",
       "                                                 url  \n",
       "0  https://klyq.com/beginners-bbq-class-taking-pl...  \n",
       "1  https://forums.macrumors.com/threads/restore-f...  \n",
       "2  https://awishcometrue.com/Catalogs/Clearance/T...  \n",
       "3  https://www.blackhatworld.com/seo/how-many-bac...  \n",
       "4              http://bond.dpsk12.org/category/news/  "
      ]
     },
     "execution_count": 6,
     "metadata": {},
     "output_type": "execute_result"
    }
   ],
   "source": [
    "datadf.head()"
   ]
  },
  {
   "cell_type": "markdown",
   "id": "899197c1-8f35-4518-ac0b-2884b2e228cc",
   "metadata": {},
   "source": [
    "#### Getting more information"
   ]
  },
  {
   "cell_type": "code",
   "execution_count": 7,
   "id": "bc3aef2d-564d-43c8-be3c-a3721a35483b",
   "metadata": {},
   "outputs": [
    {
     "name": "stdout",
     "output_type": "stream",
     "text": [
      "<class 'pandas.core.frame.DataFrame'>\n",
      "RangeIndex: 10000 entries, 0 to 9999\n",
      "Data columns (total 3 columns):\n",
      " #   Column     Non-Null Count  Dtype \n",
      "---  ------     --------------  ----- \n",
      " 0   text       10000 non-null  object\n",
      " 1   timestamp  10000 non-null  object\n",
      " 2   url        10000 non-null  object\n",
      "dtypes: object(3)\n",
      "memory usage: 234.5+ KB\n"
     ]
    }
   ],
   "source": [
    "datadf.info()"
   ]
  },
  {
   "cell_type": "markdown",
   "id": "7d8acd2c-98f4-4e44-b75b-37299eca868e",
   "metadata": {},
   "source": [
    "#### Checking for missing values"
   ]
  },
  {
   "cell_type": "code",
   "execution_count": 8,
   "id": "b83f149c-eba8-45c8-96be-0e2aa8bb2c46",
   "metadata": {},
   "outputs": [
    {
     "data": {
      "text/html": [
       "<div>\n",
       "<style scoped>\n",
       "    .dataframe tbody tr th:only-of-type {\n",
       "        vertical-align: middle;\n",
       "    }\n",
       "\n",
       "    .dataframe tbody tr th {\n",
       "        vertical-align: top;\n",
       "    }\n",
       "\n",
       "    .dataframe thead th {\n",
       "        text-align: right;\n",
       "    }\n",
       "</style>\n",
       "<table border=\"1\" class=\"dataframe\">\n",
       "  <thead>\n",
       "    <tr style=\"text-align: right;\">\n",
       "      <th></th>\n",
       "      <th>text</th>\n",
       "      <th>timestamp</th>\n",
       "      <th>url</th>\n",
       "    </tr>\n",
       "  </thead>\n",
       "  <tbody>\n",
       "  </tbody>\n",
       "</table>\n",
       "</div>"
      ],
      "text/plain": [
       "Empty DataFrame\n",
       "Columns: [text, timestamp, url]\n",
       "Index: []"
      ]
     },
     "execution_count": 8,
     "metadata": {},
     "output_type": "execute_result"
    }
   ],
   "source": [
    "datadf[datadf.isnull().any(axis=1)].head()"
   ]
  },
  {
   "cell_type": "code",
   "execution_count": 9,
   "id": "6c85f137-322a-4834-ba2b-a102df651ed3",
   "metadata": {},
   "outputs": [
    {
     "data": {
      "text/plain": [
       "0"
      ]
     },
     "execution_count": 9,
     "metadata": {},
     "output_type": "execute_result"
    }
   ],
   "source": [
    "np.sum(datadf.isnull().any(axis=1))"
   ]
  },
  {
   "cell_type": "markdown",
   "id": "adaf363d-32b0-4f9e-957b-673d20d5f2fa",
   "metadata": {},
   "source": [
    "#### Count vocab size + frequencies"
   ]
  },
  {
   "cell_type": "code",
   "execution_count": 37,
   "id": "e2a1c847-388c-4862-a66f-8b480f800bbf",
   "metadata": {},
   "outputs": [],
   "source": [
    "def count_vocab_frequencies(dataframe):\n",
    "    \"\"\"\n",
    "    Based on an input pandas DataFrame with a 'text' column, \n",
    "    this function will count the occurrences of ALL words \n",
    "    (no stop word removal) and will return another DataFrame\n",
    "    with the rows corresponding to the different vocabulary words\n",
    "    and the column to the total count of that word.\n",
    "    \"\"\"\n",
    "    cvec = CountVectorizer(token_pattern=u\"(?u)\\\\b\\\\w+\\\\b\")\n",
    "    #needed to modify the minimum token length : https://stackoverflow.com/questions/33260505/countvectorizer-ignoring-i\n",
    "    cvec.fit(dataframe.text)\n",
    "    document_matrix = cvec.transform(dataframe.text)\n",
    "    batches = np.linspace(0,dataframe.shape[0],100).astype(int)\n",
    "    i=0\n",
    "    tf = []\n",
    "    while i < len(batches)-1:\n",
    "        batch_result = np.sum(document_matrix[batches[i]:batches[i+1]].toarray(),axis=0)\n",
    "        tf.append(batch_result)\n",
    "        i += 1\n",
    "    term_freq_df = pd.DataFrame([np.sum(tf,axis=0)],columns=cvec.get_feature_names()).transpose()\n",
    "    term_freq_df.columns=['total']\n",
    "    return(term_freq_df)"
   ]
  },
  {
   "cell_type": "code",
   "execution_count": 11,
   "id": "dbba3743-8a0f-46b7-b212-219256fc61c9",
   "metadata": {},
   "outputs": [],
   "source": [
    "term_df= count_vocab_frequencies(datadf)"
   ]
  },
  {
   "cell_type": "markdown",
   "id": "0f8d6238-d760-4a2f-a002-8dfac69f4c2e",
   "metadata": {
    "tags": []
   },
   "source": [
    "#### Zipf's law plot"
   ]
  },
  {
   "cell_type": "code",
   "execution_count": 40,
   "id": "63181289-1b2a-452e-ac60-80d0c359323e",
   "metadata": {},
   "outputs": [],
   "source": [
    "def Zipf_plot(dataframe):\n",
    "    \"\"\"\n",
    "    This function plots the correspondence of the distribution of terms\n",
    "    generated by count_vocab_frequencies with the projected Zipf's law\n",
    "    distribution.\n",
    "    s is the value of the exponent characterizing the distribution, currently at 1.\n",
    "    # TODO : see if changing this makes the distribution fit better -- \n",
    "    e.g. When Zipf's law is checked for cities, a better fit has been found with exponent s = 1.07\n",
    "    \"\"\"\n",
    "    y_pos = np.arange(500)\n",
    "    plt.figure(figsize=(10,8))\n",
    "    s = 1\n",
    "    expected_zipf = [dataframe.sort_values(by='total', ascending=False)['total'][0]/(i+1)**s for i in y_pos]\n",
    "    plt.bar(y_pos, dataframe.sort_values(by='total', ascending=False)['total'][:500], align='center', alpha=0.5)\n",
    "    plt.plot(y_pos, expected_zipf, color='r', linestyle='--',linewidth=2,alpha=0.5)\n",
    "    plt.ylabel('Frequency')\n",
    "    plt.title(\"Top 500 tokens in the dataset, with Zipf's law in dotted red\")"
   ]
  },
  {
   "cell_type": "code",
   "execution_count": 39,
   "id": "96ecea1d-3ee2-4386-8de0-a4925d9ea74f",
   "metadata": {},
   "outputs": [
    {
     "data": {
      "image/png": "[encoded data removed]",
      "text/plain": [
       "<Figure size 720x576 with 1 Axes>"
      ]
     },
     "metadata": {},
     "output_type": "display_data"
    }
   ],
   "source": [
    "Zipf_plot(term_df)"
   ]
  },
  {
   "cell_type": "markdown",
   "id": "64f5cb04-77c5-434a-8b24-72d5a088622a",
   "metadata": {
    "tags": []
   },
   "source": [
    "### Checking which words do not respect Zipf's law"
   ]
  },
  {
   "cell_type": "code",
   "execution_count": 41,
   "id": "e080502f-80bc-494a-91a4-87535decc9e9",
   "metadata": {},
   "outputs": [],
   "source": [
    "def Zipf_check_words(dataframe, num_words):\n",
    "    \"\"\"\n",
    "    Checks the Zipf's law of the top [num_words] most frequent words in dataframe.\n",
    "    Returns a dataframe with 3 columns:\n",
    "    total = the raw number of counts \n",
    "    zipf = the projected counts according to Zipf\n",
    "    difference = the *percentage* difference between the two\n",
    "    \"\"\"\n",
    "    s = 1\n",
    "    terms = pd.DataFrame(dataframe.sort_values(by='total', ascending=False)['total'][:num_words])\n",
    "    expected_zipf=[dataframe.sort_values(by='total', ascending=False)['total'][0]/(i+1)**s for i in np.arange(num_words)]\n",
    "    terms['zipf'] = [int(z) for z in expected_zipf]\n",
    "    terms['difference'] = terms.apply(lambda x: ((x['total']- x['zipf'])/x['zipf']* 100), axis=1)\n",
    "    return(terms)"
   ]
  },
  {
   "cell_type": "code",
   "execution_count": 42,
   "id": "60c41e19-45b6-4a30-977e-40f5c916bf25",
   "metadata": {},
   "outputs": [],
   "source": [
    "zipf_df= Zipf_check_words(term_df,500)"
   ]
  },
  {
   "cell_type": "code",
   "execution_count": 22,
   "id": "12c4a6e4-4cfe-43f7-80ff-6da6e90fbcae",
   "metadata": {},
   "outputs": [
    {
     "data": {
      "text/html": [
       "<div>\n",
       "<style scoped>\n",
       "    .dataframe tbody tr th:only-of-type {\n",
       "        vertical-align: middle;\n",
       "    }\n",
       "\n",
       "    .dataframe tbody tr th {\n",
       "        vertical-align: top;\n",
       "    }\n",
       "\n",
       "    .dataframe thead th {\n",
       "        text-align: right;\n",
       "    }\n",
       "</style>\n",
       "<table border=\"1\" class=\"dataframe\">\n",
       "  <thead>\n",
       "    <tr style=\"text-align: right;\">\n",
       "      <th></th>\n",
       "      <th>total</th>\n",
       "      <th>zipf</th>\n",
       "      <th>difference</th>\n",
       "    </tr>\n",
       "  </thead>\n",
       "  <tbody>\n",
       "    <tr>\n",
       "      <th>a</th>\n",
       "      <td>81307</td>\n",
       "      <td>37203</td>\n",
       "      <td>118.549579</td>\n",
       "    </tr>\n",
       "    <tr>\n",
       "      <th>in</th>\n",
       "      <td>64422</td>\n",
       "      <td>31003</td>\n",
       "      <td>107.792794</td>\n",
       "    </tr>\n",
       "    <tr>\n",
       "      <th>i</th>\n",
       "      <td>29499</td>\n",
       "      <td>14309</td>\n",
       "      <td>106.156964</td>\n",
       "    </tr>\n",
       "    <tr>\n",
       "      <th>on</th>\n",
       "      <td>27287</td>\n",
       "      <td>13287</td>\n",
       "      <td>105.366147</td>\n",
       "    </tr>\n",
       "    <tr>\n",
       "      <th>as</th>\n",
       "      <td>22001</td>\n",
       "      <td>10942</td>\n",
       "      <td>101.069274</td>\n",
       "    </tr>\n",
       "    <tr>\n",
       "      <th>this</th>\n",
       "      <td>21663</td>\n",
       "      <td>10334</td>\n",
       "      <td>109.628411</td>\n",
       "    </tr>\n",
       "    <tr>\n",
       "      <th>be</th>\n",
       "      <td>20802</td>\n",
       "      <td>9790</td>\n",
       "      <td>112.482125</td>\n",
       "    </tr>\n",
       "    <tr>\n",
       "      <th>your</th>\n",
       "      <td>19704</td>\n",
       "      <td>9300</td>\n",
       "      <td>111.870968</td>\n",
       "    </tr>\n",
       "    <tr>\n",
       "      <th>or</th>\n",
       "      <td>18144</td>\n",
       "      <td>8858</td>\n",
       "      <td>104.831790</td>\n",
       "    </tr>\n",
       "    <tr>\n",
       "      <th>we</th>\n",
       "      <td>17153</td>\n",
       "      <td>8455</td>\n",
       "      <td>102.874039</td>\n",
       "    </tr>\n",
       "  </tbody>\n",
       "</table>\n",
       "</div>"
      ],
      "text/plain": [
       "      total   zipf  difference\n",
       "a     81307  37203  118.549579\n",
       "in    64422  31003  107.792794\n",
       "i     29499  14309  106.156964\n",
       "on    27287  13287  105.366147\n",
       "as    22001  10942  101.069274\n",
       "this  21663  10334  109.628411\n",
       "be    20802   9790  112.482125\n",
       "your  19704   9300  111.870968\n",
       "or    18144   8858  104.831790\n",
       "we    17153   8455  102.874039"
      ]
     },
     "execution_count": 22,
     "metadata": {},
     "output_type": "execute_result"
    }
   ],
   "source": [
    "zipf_df.loc[(zipf_df['difference'] >=100)].head(10)"
   ]
  },
  {
   "cell_type": "markdown",
   "id": "86361ea1-5127-4301-9caa-a4439477cb04",
   "metadata": {},
   "source": [
    "### Checking open versus closed class words"
   ]
  },
  {
   "cell_type": "code",
   "execution_count": 26,
   "id": "20122161-9138-4e04-a6fe-d03a49719099",
   "metadata": {},
   "outputs": [
    {
     "name": "stdout",
     "output_type": "stream",
     "text": [
      "There are: 312 closed-class words in English.\n"
     ]
    }
   ],
   "source": [
    "#Creating the closed word list from the txt file\n",
    "wordlist=open('resources/closed_EN.txt', 'r').readlines()\n",
    "closedlist=[]\n",
    "for l in wordlist:\n",
    "    closedlist= closedlist + (l.split())\n",
    "print(\"There are: \"+ str(len(closedlist)) + \" closed-class words in English.\")"
   ]
  },
  {
   "cell_type": "code",
   "execution_count": 50,
   "id": "6ed0516c-aec9-47cd-bc04-8eb09d34fda7",
   "metadata": {},
   "outputs": [],
   "source": [
    "def check_closed_class(dataframe, threshold):\n",
    "    '''\n",
    "    Based on a dataframe and a threshold, checks how many closed-class \n",
    "    words are above the threshold, and returns the dataframe sorted by \n",
    "    difference.\n",
    "    '''\n",
    "    closedclass= dataframe[dataframe.index.isin(closedlist)]\n",
    "    closedclassthreshold= closedclass.loc[(closedclass['difference'] >=threshold)]\n",
    "    print(\"There are: \"+ str(closedclassthreshold.shape[0])+ \" closed class words that are above the %s threshold\" %(threshold))\n",
    "    return(closedclassthreshold.sort_values(by='difference', ascending=False))"
   ]
  },
  {
   "cell_type": "code",
   "execution_count": 51,
   "id": "1b6ccd6b-de87-46d5-b3c7-7c87e4f6e700",
   "metadata": {},
   "outputs": [
    {
     "name": "stdout",
     "output_type": "stream",
     "text": [
      "There are: 29 closed class words that are above the 100 threshold\n"
     ]
    },
    {
     "data": {
      "text/html": [
       "<div>\n",
       "<style scoped>\n",
       "    .dataframe tbody tr th:only-of-type {\n",
       "        vertical-align: middle;\n",
       "    }\n",
       "\n",
       "    .dataframe tbody tr th {\n",
       "        vertical-align: top;\n",
       "    }\n",
       "\n",
       "    .dataframe thead th {\n",
       "        text-align: right;\n",
       "    }\n",
       "</style>\n",
       "<table border=\"1\" class=\"dataframe\">\n",
       "  <thead>\n",
       "    <tr style=\"text-align: right;\">\n",
       "      <th></th>\n",
       "      <th>total</th>\n",
       "      <th>zipf</th>\n",
       "      <th>difference</th>\n",
       "    </tr>\n",
       "  </thead>\n",
       "  <tbody>\n",
       "    <tr>\n",
       "      <th>will</th>\n",
       "      <td>14512</td>\n",
       "      <td>6414</td>\n",
       "      <td>126.255067</td>\n",
       "    </tr>\n",
       "    <tr>\n",
       "      <th>was</th>\n",
       "      <td>14666</td>\n",
       "      <td>6643</td>\n",
       "      <td>120.773747</td>\n",
       "    </tr>\n",
       "    <tr>\n",
       "      <th>a</th>\n",
       "      <td>81307</td>\n",
       "      <td>37203</td>\n",
       "      <td>118.549579</td>\n",
       "    </tr>\n",
       "    <tr>\n",
       "      <th>by</th>\n",
       "      <td>14810</td>\n",
       "      <td>6889</td>\n",
       "      <td>114.980404</td>\n",
       "    </tr>\n",
       "    <tr>\n",
       "      <th>have</th>\n",
       "      <td>16491</td>\n",
       "      <td>7750</td>\n",
       "      <td>112.787097</td>\n",
       "    </tr>\n",
       "    <tr>\n",
       "      <th>be</th>\n",
       "      <td>20802</td>\n",
       "      <td>9790</td>\n",
       "      <td>112.482125</td>\n",
       "    </tr>\n",
       "    <tr>\n",
       "      <th>your</th>\n",
       "      <td>19704</td>\n",
       "      <td>9300</td>\n",
       "      <td>111.870968</td>\n",
       "    </tr>\n",
       "    <tr>\n",
       "      <th>not</th>\n",
       "      <td>12675</td>\n",
       "      <td>6000</td>\n",
       "      <td>111.250000</td>\n",
       "    </tr>\n",
       "    <tr>\n",
       "      <th>from</th>\n",
       "      <td>15695</td>\n",
       "      <td>7440</td>\n",
       "      <td>110.954301</td>\n",
       "    </tr>\n",
       "    <tr>\n",
       "      <th>this</th>\n",
       "      <td>21663</td>\n",
       "      <td>10334</td>\n",
       "      <td>109.628411</td>\n",
       "    </tr>\n",
       "    <tr>\n",
       "      <th>five</th>\n",
       "      <td>784</td>\n",
       "      <td>375</td>\n",
       "      <td>109.066667</td>\n",
       "    </tr>\n",
       "    <tr>\n",
       "      <th>can</th>\n",
       "      <td>14948</td>\n",
       "      <td>7154</td>\n",
       "      <td>108.946044</td>\n",
       "    </tr>\n",
       "    <tr>\n",
       "      <th>an</th>\n",
       "      <td>12951</td>\n",
       "      <td>6200</td>\n",
       "      <td>108.887097</td>\n",
       "    </tr>\n",
       "    <tr>\n",
       "      <th>in</th>\n",
       "      <td>64422</td>\n",
       "      <td>31003</td>\n",
       "      <td>107.792794</td>\n",
       "    </tr>\n",
       "    <tr>\n",
       "      <th>million</th>\n",
       "      <td>799</td>\n",
       "      <td>385</td>\n",
       "      <td>107.532468</td>\n",
       "    </tr>\n",
       "    <tr>\n",
       "      <th>someone</th>\n",
       "      <td>799</td>\n",
       "      <td>385</td>\n",
       "      <td>107.532468</td>\n",
       "    </tr>\n",
       "    <tr>\n",
       "      <th>on</th>\n",
       "      <td>27287</td>\n",
       "      <td>13287</td>\n",
       "      <td>105.366147</td>\n",
       "    </tr>\n",
       "    <tr>\n",
       "      <th>or</th>\n",
       "      <td>18144</td>\n",
       "      <td>8858</td>\n",
       "      <td>104.831790</td>\n",
       "    </tr>\n",
       "    <tr>\n",
       "      <th>at</th>\n",
       "      <td>16536</td>\n",
       "      <td>8087</td>\n",
       "      <td>104.476320</td>\n",
       "    </tr>\n",
       "    <tr>\n",
       "      <th>everyone</th>\n",
       "      <td>854</td>\n",
       "      <td>418</td>\n",
       "      <td>104.306220</td>\n",
       "    </tr>\n",
       "    <tr>\n",
       "      <th>above</th>\n",
       "      <td>808</td>\n",
       "      <td>397</td>\n",
       "      <td>103.526448</td>\n",
       "    </tr>\n",
       "    <tr>\n",
       "      <th>either</th>\n",
       "      <td>809</td>\n",
       "      <td>398</td>\n",
       "      <td>103.266332</td>\n",
       "    </tr>\n",
       "    <tr>\n",
       "      <th>we</th>\n",
       "      <td>17153</td>\n",
       "      <td>8455</td>\n",
       "      <td>102.874039</td>\n",
       "    </tr>\n",
       "    <tr>\n",
       "      <th>yet</th>\n",
       "      <td>879</td>\n",
       "      <td>435</td>\n",
       "      <td>102.068966</td>\n",
       "    </tr>\n",
       "    <tr>\n",
       "      <th>as</th>\n",
       "      <td>22001</td>\n",
       "      <td>10942</td>\n",
       "      <td>101.069274</td>\n",
       "    </tr>\n",
       "    <tr>\n",
       "      <th>four</th>\n",
       "      <td>957</td>\n",
       "      <td>476</td>\n",
       "      <td>101.050420</td>\n",
       "    </tr>\n",
       "    <tr>\n",
       "      <th>past</th>\n",
       "      <td>983</td>\n",
       "      <td>490</td>\n",
       "      <td>100.612245</td>\n",
       "    </tr>\n",
       "    <tr>\n",
       "      <th>least</th>\n",
       "      <td>912</td>\n",
       "      <td>455</td>\n",
       "      <td>100.439560</td>\n",
       "    </tr>\n",
       "    <tr>\n",
       "      <th>though</th>\n",
       "      <td>984</td>\n",
       "      <td>492</td>\n",
       "      <td>100.000000</td>\n",
       "    </tr>\n",
       "  </tbody>\n",
       "</table>\n",
       "</div>"
      ],
      "text/plain": [
       "          total   zipf  difference\n",
       "will      14512   6414  126.255067\n",
       "was       14666   6643  120.773747\n",
       "a         81307  37203  118.549579\n",
       "by        14810   6889  114.980404\n",
       "have      16491   7750  112.787097\n",
       "be        20802   9790  112.482125\n",
       "your      19704   9300  111.870968\n",
       "not       12675   6000  111.250000\n",
       "from      15695   7440  110.954301\n",
       "this      21663  10334  109.628411\n",
       "five        784    375  109.066667\n",
       "can       14948   7154  108.946044\n",
       "an        12951   6200  108.887097\n",
       "in        64422  31003  107.792794\n",
       "million     799    385  107.532468\n",
       "someone     799    385  107.532468\n",
       "on        27287  13287  105.366147\n",
       "or        18144   8858  104.831790\n",
       "at        16536   8087  104.476320\n",
       "everyone    854    418  104.306220\n",
       "above       808    397  103.526448\n",
       "either      809    398  103.266332\n",
       "we        17153   8455  102.874039\n",
       "yet         879    435  102.068966\n",
       "as        22001  10942  101.069274\n",
       "four        957    476  101.050420\n",
       "past        983    490  100.612245\n",
       "least       912    455  100.439560\n",
       "though      984    492  100.000000"
      ]
     },
     "execution_count": 51,
     "metadata": {},
     "output_type": "execute_result"
    }
   ],
   "source": [
    "check_closed_class(zipf_df,100)"
   ]
  },
  {
   "cell_type": "code",
   "execution_count": 52,
   "id": "c7c7c199-acac-4fa3-91ea-626a24aa6077",
   "metadata": {},
   "outputs": [],
   "source": [
    "def check_open_class(dataframe, threshold):\n",
    "    closedclass= dataframe[dataframe.index.isin(closedlist)]\n",
    "    openclass= dataframe[~dataframe.index.isin(closedlist)]\n",
    "    openclassthreshold= openclass.loc[(openclass['difference'] >=threshold)]\n",
    "    print(\"There are: \"+ str(openclassthreshold.shape[0])+ \" closed class words that are above the %s threshold\" %(threshold))\n",
    "    return(openclassthreshold.sort_values(by='difference', ascending=False))"
   ]
  },
  {
   "cell_type": "code",
   "execution_count": 53,
   "id": "a2528225-ecbe-4962-b53e-0c46239e93d6",
   "metadata": {},
   "outputs": [
    {
     "name": "stdout",
     "output_type": "stream",
     "text": [
      "There are: 111 closed class words that are above the 100 threshold\n"
     ]
    },
    {
     "data": {
      "text/html": [
       "<div>\n",
       "<style scoped>\n",
       "    .dataframe tbody tr th:only-of-type {\n",
       "        vertical-align: middle;\n",
       "    }\n",
       "\n",
       "    .dataframe tbody tr th {\n",
       "        vertical-align: top;\n",
       "    }\n",
       "\n",
       "    .dataframe thead th {\n",
       "        text-align: right;\n",
       "    }\n",
       "</style>\n",
       "<table border=\"1\" class=\"dataframe\">\n",
       "  <thead>\n",
       "    <tr style=\"text-align: right;\">\n",
       "      <th></th>\n",
       "      <th>total</th>\n",
       "      <th>zipf</th>\n",
       "      <th>difference</th>\n",
       "    </tr>\n",
       "  </thead>\n",
       "  <tbody>\n",
       "    <tr>\n",
       "      <th>news</th>\n",
       "      <td>781</td>\n",
       "      <td>372</td>\n",
       "      <td>109.946237</td>\n",
       "    </tr>\n",
       "    <tr>\n",
       "      <th>american</th>\n",
       "      <td>780</td>\n",
       "      <td>372</td>\n",
       "      <td>109.677419</td>\n",
       "    </tr>\n",
       "    <tr>\n",
       "      <th>systems</th>\n",
       "      <td>781</td>\n",
       "      <td>373</td>\n",
       "      <td>109.383378</td>\n",
       "    </tr>\n",
       "    <tr>\n",
       "      <th>later</th>\n",
       "      <td>781</td>\n",
       "      <td>374</td>\n",
       "      <td>108.823529</td>\n",
       "    </tr>\n",
       "    <tr>\n",
       "      <th>11</th>\n",
       "      <td>782</td>\n",
       "      <td>375</td>\n",
       "      <td>108.533333</td>\n",
       "    </tr>\n",
       "    <tr>\n",
       "      <th>...</th>\n",
       "      <td>...</td>\n",
       "      <td>...</td>\n",
       "      <td>...</td>\n",
       "    </tr>\n",
       "    <tr>\n",
       "      <th>15</th>\n",
       "      <td>970</td>\n",
       "      <td>485</td>\n",
       "      <td>100.000000</td>\n",
       "    </tr>\n",
       "    <tr>\n",
       "      <th>hand</th>\n",
       "      <td>972</td>\n",
       "      <td>486</td>\n",
       "      <td>100.000000</td>\n",
       "    </tr>\n",
       "    <tr>\n",
       "      <th>web</th>\n",
       "      <td>946</td>\n",
       "      <td>473</td>\n",
       "      <td>100.000000</td>\n",
       "    </tr>\n",
       "    <tr>\n",
       "      <th>members</th>\n",
       "      <td>944</td>\n",
       "      <td>472</td>\n",
       "      <td>100.000000</td>\n",
       "    </tr>\n",
       "    <tr>\n",
       "      <th>light</th>\n",
       "      <td>992</td>\n",
       "      <td>496</td>\n",
       "      <td>100.000000</td>\n",
       "    </tr>\n",
       "  </tbody>\n",
       "</table>\n",
       "<p>111 rows × 3 columns</p>\n",
       "</div>"
      ],
      "text/plain": [
       "          total  zipf  difference\n",
       "news        781   372  109.946237\n",
       "american    780   372  109.677419\n",
       "systems     781   373  109.383378\n",
       "later       781   374  108.823529\n",
       "11          782   375  108.533333\n",
       "...         ...   ...         ...\n",
       "15          970   485  100.000000\n",
       "hand        972   486  100.000000\n",
       "web         946   473  100.000000\n",
       "members     944   472  100.000000\n",
       "light       992   496  100.000000\n",
       "\n",
       "[111 rows x 3 columns]"
      ]
     },
     "execution_count": 53,
     "metadata": {},
     "output_type": "execute_result"
    }
   ],
   "source": [
    "check_open_class(zipf_df,100)"
   ]
  }
 ],
 "metadata": {
  "kernelspec": {
   "display_name": "datametrics",
   "language": "python",
   "name": "datametrics"
  },
  "language_info": {
   "codemirror_mode": {
    "name": "ipython",
    "version": 3
   },
   "file_extension": ".py",
   "mimetype": "text/x-python",
   "name": "python",
   "nbconvert_exporter": "python",
   "pygments_lexer": "ipython3",
   "version": "3.8.5"
  }
 },
 "nbformat": 4,
 "nbformat_minor": 5
}
