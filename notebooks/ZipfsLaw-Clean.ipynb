{
 "cells": [
  {
   "cell_type": "code",
   "execution_count": 1,
   "id": "a97d90f2-dfc9-4276-99db-c17d0c42de90",
   "metadata": {},
   "outputs": [],
   "source": [
    "from datasets import load_dataset\n",
    "import pandas as pd\n",
    "import numpy as np\n",
    "from sklearn.feature_extraction.text import CountVectorizer\n",
    "from scipy.stats import hmean, norm"
   ]
  },
  {
   "cell_type": "code",
   "execution_count": 2,
   "id": "ff3700f9-844c-4407-a8a3-142d9e101e7b",
   "metadata": {},
   "outputs": [],
   "source": [
    "from nltk import word_tokenize\n",
    "from collections import Counter\n",
    "from scipy.optimize import minimize_scalar\n",
    "from scipy.optimize import minimize"
   ]
  },
  {
   "cell_type": "code",
   "execution_count": 3,
   "id": "1f65b7a2-d941-4a84-a3b5-0111b7ee11db",
   "metadata": {},
   "outputs": [],
   "source": [
    "#from pylab import arange, argsort, loglog, title, xlabel, ylabel, grid, logspace, log10\n",
    "import matplotlib.pyplot as plt\n",
    "import numpy as np"
   ]
  },
  {
   "cell_type": "code",
   "execution_count": 4,
   "id": "6a46569f-0cc9-4c18-9f2a-b8cd9b7d127c",
   "metadata": {},
   "outputs": [],
   "source": [
    "from statistics import harmonic_mean"
   ]
  },
  {
   "cell_type": "code",
   "execution_count": 5,
   "id": "a0c7838d-f59b-4b76-ba39-adf2a6a74ee9",
   "metadata": {},
   "outputs": [],
   "source": [
    "from bokeh.plotting import figure\n",
    "from bokeh.io import output_notebook, show\n",
    "from bokeh.models import LinearColorMapper\n",
    "from bokeh.models import HoverTool"
   ]
  },
  {
   "cell_type": "code",
   "execution_count": 6,
   "id": "3bc2397b-6af6-42fd-a4c0-aece7a873909",
   "metadata": {},
   "outputs": [],
   "source": [
    "import matplotlib.pyplot as plt\n",
    "plt.style.use('fivethirtyeight')"
   ]
  },
  {
   "cell_type": "code",
   "execution_count": 69,
   "id": "c96d00b5-0953-45ea-90c9-854d56791066",
   "metadata": {},
   "outputs": [],
   "source": [
    "#data= load_dataset(\"imdb\", split= \"test\")\n",
    "data= load_dataset(\"oscar\", \"unshuffled_deduplicated_en\", split = \"train\", streaming= True)\n",
    "#data= load_dataset(\"poem_sentiment\",\"plain_text\", split = \"test\")\n",
    "#data = load_dataset(\"c4\", \"en\", split= \"train\", streaming = True)\n",
    "#data_head = data.take(10)"
   ]
  },
  {
   "cell_type": "code",
   "execution_count": 70,
   "id": "10482904-64fd-4354-a00c-e5c5f596543d",
   "metadata": {},
   "outputs": [],
   "source": [
    "#For streaming data\n",
    "data_head = data.take(5)"
   ]
  },
  {
   "cell_type": "code",
   "execution_count": null,
   "id": "a4ba207a-c301-41c0-beec-b42f82bca937",
   "metadata": {},
   "outputs": [],
   "source": [
    "datadf = pd.json_normalize(data)"
   ]
  },
  {
   "cell_type": "markdown",
   "id": "659b4dd7-25d1-44ee-8506-8a67d350b639",
   "metadata": {
    "tags": []
   },
   "source": [
    "#### Looking at the top rows"
   ]
  },
  {
   "cell_type": "code",
   "execution_count": null,
   "id": "9dc73f02-cfc3-4cf6-8f77-8c6bd0cdb6a6",
   "metadata": {},
   "outputs": [],
   "source": [
    "datadf.head()"
   ]
  },
  {
   "cell_type": "markdown",
   "id": "899197c1-8f35-4518-ac0b-2884b2e228cc",
   "metadata": {},
   "source": [
    "#### Getting more information"
   ]
  },
  {
   "cell_type": "code",
   "execution_count": 62,
   "id": "bc3aef2d-564d-43c8-be3c-a3721a35483b",
   "metadata": {},
   "outputs": [
    {
     "name": "stdout",
     "output_type": "stream",
     "text": [
      "<class 'pandas.core.frame.DataFrame'>\n",
      "RangeIndex: 104 entries, 0 to 103\n",
      "Data columns (total 3 columns):\n",
      " #   Column      Non-Null Count  Dtype \n",
      "---  ------      --------------  ----- \n",
      " 0   id          104 non-null    int64 \n",
      " 1   verse_text  104 non-null    object\n",
      " 2   label       104 non-null    int64 \n",
      "dtypes: int64(2), object(1)\n",
      "memory usage: 2.6+ KB\n"
     ]
    }
   ],
   "source": [
    "datadf.info()"
   ]
  },
  {
   "cell_type": "markdown",
   "id": "7d8acd2c-98f4-4e44-b75b-37299eca868e",
   "metadata": {},
   "source": [
    "#### Checking for missing values"
   ]
  },
  {
   "cell_type": "code",
   "execution_count": 48,
   "id": "b83f149c-eba8-45c8-96be-0e2aa8bb2c46",
   "metadata": {},
   "outputs": [
    {
     "data": {
      "text/html": [
       "<div>\n",
       "<style scoped>\n",
       "    .dataframe tbody tr th:only-of-type {\n",
       "        vertical-align: middle;\n",
       "    }\n",
       "\n",
       "    .dataframe tbody tr th {\n",
       "        vertical-align: top;\n",
       "    }\n",
       "\n",
       "    .dataframe thead th {\n",
       "        text-align: right;\n",
       "    }\n",
       "</style>\n",
       "<table border=\"1\" class=\"dataframe\">\n",
       "  <thead>\n",
       "    <tr style=\"text-align: right;\">\n",
       "      <th></th>\n",
       "      <th>id</th>\n",
       "      <th>verse_text</th>\n",
       "      <th>label</th>\n",
       "    </tr>\n",
       "  </thead>\n",
       "  <tbody>\n",
       "  </tbody>\n",
       "</table>\n",
       "</div>"
      ],
      "text/plain": [
       "Empty DataFrame\n",
       "Columns: [id, verse_text, label]\n",
       "Index: []"
      ]
     },
     "execution_count": 48,
     "metadata": {},
     "output_type": "execute_result"
    }
   ],
   "source": [
    "datadf[datadf.isnull().any(axis=1)].head()"
   ]
  },
  {
   "cell_type": "code",
   "execution_count": 12,
   "id": "6c85f137-322a-4834-ba2b-a102df651ed3",
   "metadata": {},
   "outputs": [
    {
     "data": {
      "text/plain": [
       "0"
      ]
     },
     "execution_count": 12,
     "metadata": {},
     "output_type": "execute_result"
    }
   ],
   "source": [
    "np.sum(datadf.isnull().any(axis=1))"
   ]
  },
  {
   "cell_type": "markdown",
   "id": "adaf363d-32b0-4f9e-957b-673d20d5f2fa",
   "metadata": {},
   "source": [
    "#### Count vocab size + frequencies"
   ]
  },
  {
   "cell_type": "code",
   "execution_count": 49,
   "id": "e2a1c847-388c-4862-a66f-8b480f800bbf",
   "metadata": {},
   "outputs": [
    {
     "data": {
      "text/plain": [
       "CountVectorizer(token_pattern='(?u)\\\\b\\\\w+\\\\b')"
      ]
     },
     "execution_count": 49,
     "metadata": {},
     "output_type": "execute_result"
    }
   ],
   "source": [
    "#needed to modify the minimum token length : https://stackoverflow.com/questions/33260505/countvectorizer-ignoring-i\n",
    "cvec = CountVectorizer(token_pattern=u\"(?u)\\\\b\\\\w+\\\\b\")\n",
    "cvec.fit(datadf.verse_text)"
   ]
  },
  {
   "cell_type": "code",
   "execution_count": 50,
   "id": "dd9aace6-5fdc-45cd-810a-7ef494b24b4c",
   "metadata": {},
   "outputs": [
    {
     "data": {
      "text/plain": [
       "2270"
      ]
     },
     "execution_count": 50,
     "metadata": {},
     "output_type": "execute_result"
    }
   ],
   "source": [
    "len(cvec.get_feature_names())"
   ]
  },
  {
   "cell_type": "code",
   "execution_count": 51,
   "id": "dbba3743-8a0f-46b7-b212-219256fc61c9",
   "metadata": {},
   "outputs": [],
   "source": [
    "document_matrix = cvec.transform(datadf.verse_text)"
   ]
  },
  {
   "cell_type": "code",
   "execution_count": 16,
   "id": "071b5bff-7607-420e-a7c7-5ed9c4ba1675",
   "metadata": {},
   "outputs": [],
   "source": [
    "#Code from https://towardsdatascience.com/another-twitter-sentiment-analysis-with-python-part-2-333514854913"
   ]
  },
  {
   "cell_type": "code",
   "execution_count": 52,
   "id": "86850edb-f57e-445a-b362-1e8bc212b32a",
   "metadata": {},
   "outputs": [
    {
     "data": {
      "text/plain": [
       "892"
      ]
     },
     "execution_count": 52,
     "metadata": {},
     "output_type": "execute_result"
    }
   ],
   "source": [
    "datadf.shape[0]"
   ]
  },
  {
   "cell_type": "code",
   "execution_count": 53,
   "id": "5f221b2b-45a3-44b3-a910-c6c74e5bb412",
   "metadata": {},
   "outputs": [
    {
     "name": "stdout",
     "output_type": "stream",
     "text": [
      "9 entries' term frequency calculated\n",
      "99 entries' term frequency calculated\n",
      "189 entries' term frequency calculated\n",
      "279 entries' term frequency calculated\n",
      "369 entries' term frequency calculated\n",
      "459 entries' term frequency calculated\n",
      "549 entries' term frequency calculated\n",
      "639 entries' term frequency calculated\n",
      "729 entries' term frequency calculated\n",
      "819 entries' term frequency calculated\n",
      "892 entries' term frequency calculated\n",
      "CPU times: user 22.2 ms, sys: 520 µs, total: 22.7 ms\n",
      "Wall time: 19.5 ms\n"
     ]
    }
   ],
   "source": [
    "%%time\n",
    "batches = np.linspace(0,datadf.shape[0],100).astype(int)\n",
    "i=0\n",
    "tf = []\n",
    "while i < len(batches)-1:\n",
    "    batch_result = np.sum(document_matrix[batches[i]:batches[i+1]].toarray(),axis=0)\n",
    "    tf.append(batch_result)\n",
    "    if (i % 10 == 0) | (i == len(batches)-2):\n",
    "        print(batches[i+1],\"entries' term frequency calculated\")\n",
    "    i += 1"
   ]
  },
  {
   "cell_type": "code",
   "execution_count": 54,
   "id": "b3a90da5-9f46-4f78-abc7-26d0b4412e06",
   "metadata": {},
   "outputs": [
    {
     "data": {
      "text/html": [
       "<div>\n",
       "<style scoped>\n",
       "    .dataframe tbody tr th:only-of-type {\n",
       "        vertical-align: middle;\n",
       "    }\n",
       "\n",
       "    .dataframe tbody tr th {\n",
       "        vertical-align: top;\n",
       "    }\n",
       "\n",
       "    .dataframe thead th {\n",
       "        text-align: right;\n",
       "    }\n",
       "</style>\n",
       "<table border=\"1\" class=\"dataframe\">\n",
       "  <thead>\n",
       "    <tr style=\"text-align: right;\">\n",
       "      <th></th>\n",
       "      <th>total</th>\n",
       "    </tr>\n",
       "  </thead>\n",
       "  <tbody>\n",
       "    <tr>\n",
       "      <th>_channing_</th>\n",
       "      <td>1</td>\n",
       "    </tr>\n",
       "    <tr>\n",
       "      <th>_quart</th>\n",
       "      <td>1</td>\n",
       "    </tr>\n",
       "    <tr>\n",
       "      <th>_she_</th>\n",
       "      <td>1</td>\n",
       "    </tr>\n",
       "    <tr>\n",
       "      <th>_you_</th>\n",
       "      <td>1</td>\n",
       "    </tr>\n",
       "    <tr>\n",
       "      <th>a</th>\n",
       "      <td>109</td>\n",
       "    </tr>\n",
       "  </tbody>\n",
       "</table>\n",
       "</div>"
      ],
      "text/plain": [
       "            total\n",
       "_channing_      1\n",
       "_quart          1\n",
       "_she_           1\n",
       "_you_           1\n",
       "a             109"
      ]
     },
     "execution_count": 54,
     "metadata": {},
     "output_type": "execute_result"
    }
   ],
   "source": [
    "term_freq_df = pd.DataFrame([np.sum(tf,axis=0)],columns=cvec.get_feature_names()).transpose()\n",
    "term_freq_df.columns=['total']\n",
    "term_freq_df.head()"
   ]
  },
  {
   "cell_type": "code",
   "execution_count": 55,
   "id": "0cefee52-8f59-48e1-8ea2-28bc41d2ea22",
   "metadata": {},
   "outputs": [
    {
     "data": {
      "text/html": [
       "<div>\n",
       "<style scoped>\n",
       "    .dataframe tbody tr th:only-of-type {\n",
       "        vertical-align: middle;\n",
       "    }\n",
       "\n",
       "    .dataframe tbody tr th {\n",
       "        vertical-align: top;\n",
       "    }\n",
       "\n",
       "    .dataframe thead th {\n",
       "        text-align: right;\n",
       "    }\n",
       "</style>\n",
       "<table border=\"1\" class=\"dataframe\">\n",
       "  <thead>\n",
       "    <tr style=\"text-align: right;\">\n",
       "      <th></th>\n",
       "      <th>total</th>\n",
       "    </tr>\n",
       "  </thead>\n",
       "  <tbody>\n",
       "    <tr>\n",
       "      <th>the</th>\n",
       "      <td>402</td>\n",
       "    </tr>\n",
       "    <tr>\n",
       "      <th>and</th>\n",
       "      <td>258</td>\n",
       "    </tr>\n",
       "    <tr>\n",
       "      <th>of</th>\n",
       "      <td>144</td>\n",
       "    </tr>\n",
       "    <tr>\n",
       "      <th>to</th>\n",
       "      <td>115</td>\n",
       "    </tr>\n",
       "    <tr>\n",
       "      <th>a</th>\n",
       "      <td>109</td>\n",
       "    </tr>\n",
       "    <tr>\n",
       "      <th>in</th>\n",
       "      <td>90</td>\n",
       "    </tr>\n",
       "    <tr>\n",
       "      <th>i</th>\n",
       "      <td>85</td>\n",
       "    </tr>\n",
       "    <tr>\n",
       "      <th>s</th>\n",
       "      <td>77</td>\n",
       "    </tr>\n",
       "    <tr>\n",
       "      <th>that</th>\n",
       "      <td>68</td>\n",
       "    </tr>\n",
       "    <tr>\n",
       "      <th>with</th>\n",
       "      <td>64</td>\n",
       "    </tr>\n",
       "  </tbody>\n",
       "</table>\n",
       "</div>"
      ],
      "text/plain": [
       "      total\n",
       "the     402\n",
       "and     258\n",
       "of      144\n",
       "to      115\n",
       "a       109\n",
       "in       90\n",
       "i        85\n",
       "s        77\n",
       "that     68\n",
       "with     64"
      ]
     },
     "execution_count": 55,
     "metadata": {},
     "output_type": "execute_result"
    }
   ],
   "source": [
    "term_freq_df.sort_values(by='total', ascending=False).iloc[:10]"
   ]
  },
  {
   "cell_type": "markdown",
   "id": "0f8d6238-d760-4a2f-a002-8dfac69f4c2e",
   "metadata": {},
   "source": [
    "#### Zipf's law calculations"
   ]
  },
  {
   "cell_type": "markdown",
   "id": "3b1410be-dca0-48ea-b069-cdccef832178",
   "metadata": {},
   "source": [
    "##### I tried running it on all tokens, but it makes my computer crash..."
   ]
  },
  {
   "cell_type": "code",
   "execution_count": 29,
   "id": "63181289-1b2a-452e-ac60-80d0c359323e",
   "metadata": {},
   "outputs": [
    {
     "data": {
      "text/plain": [
       "Text(0.5, 1.0, \"Top 500 tokens in IMDB reviews, with Zipf's law in dotted red\")"
      ]
     },
     "execution_count": 29,
     "metadata": {},
     "output_type": "execute_result"
    },
    {
     "data": {
      "image/png": "[encoded data removed]",
      "text/plain": [
       "<Figure size 720x576 with 1 Axes>"
      ]
     },
     "metadata": {},
     "output_type": "display_data"
    }
   ],
   "source": [
    "y_pos = np.arange(500)\n",
    "plt.figure(figsize=(10,8))\n",
    "s = 1\n",
    "expected_zipf = [term_freq_df.sort_values(by='total', ascending=False)['total'][0]/(i+1)**s for i in y_pos]\n",
    "plt.bar(y_pos, term_freq_df.sort_values(by='total', ascending=False)['total'][:500], align='center', alpha=0.5)\n",
    "plt.plot(y_pos, expected_zipf, color='r', linestyle='--',linewidth=2,alpha=0.5)\n",
    "plt.ylabel('Frequency')\n",
    "plt.title(\"Top 500 tokens in IMDB reviews, with Zipf's law in dotted red\")"
   ]
  },
  {
   "cell_type": "markdown",
   "id": "64f5cb04-77c5-434a-8b24-72d5a088622a",
   "metadata": {
    "tags": []
   },
   "source": [
    "### Checking which words do not respect Zipf's law"
   ]
  },
  {
   "cell_type": "code",
   "execution_count": 30,
   "id": "e080502f-80bc-494a-91a4-87535decc9e9",
   "metadata": {},
   "outputs": [],
   "source": [
    "terms = pd.DataFrame(term_freq_df.sort_values(by='total', ascending=False)['total'][:500])\n",
    "terms['zipf'] = [int(z) for z in expected_zipf]"
   ]
  },
  {
   "cell_type": "code",
   "execution_count": 31,
   "id": "82be374c-92d3-4675-bd0d-e22078ed777b",
   "metadata": {},
   "outputs": [
    {
     "data": {
      "text/html": [
       "<div>\n",
       "<style scoped>\n",
       "    .dataframe tbody tr th:only-of-type {\n",
       "        vertical-align: middle;\n",
       "    }\n",
       "\n",
       "    .dataframe tbody tr th {\n",
       "        vertical-align: top;\n",
       "    }\n",
       "\n",
       "    .dataframe thead th {\n",
       "        text-align: right;\n",
       "    }\n",
       "</style>\n",
       "<table border=\"1\" class=\"dataframe\">\n",
       "  <thead>\n",
       "    <tr style=\"text-align: right;\">\n",
       "      <th></th>\n",
       "      <th>total</th>\n",
       "      <th>zipf</th>\n",
       "    </tr>\n",
       "  </thead>\n",
       "  <tbody>\n",
       "    <tr>\n",
       "      <th>the</th>\n",
       "      <td>331244</td>\n",
       "      <td>331244</td>\n",
       "    </tr>\n",
       "    <tr>\n",
       "      <th>and</th>\n",
       "      <td>160301</td>\n",
       "      <td>165622</td>\n",
       "    </tr>\n",
       "    <tr>\n",
       "      <th>a</th>\n",
       "      <td>159847</td>\n",
       "      <td>110414</td>\n",
       "    </tr>\n",
       "    <tr>\n",
       "      <th>of</th>\n",
       "      <td>143546</td>\n",
       "      <td>82811</td>\n",
       "    </tr>\n",
       "    <tr>\n",
       "      <th>to</th>\n",
       "      <td>132400</td>\n",
       "      <td>66248</td>\n",
       "    </tr>\n",
       "  </tbody>\n",
       "</table>\n",
       "</div>"
      ],
      "text/plain": [
       "      total    zipf\n",
       "the  331244  331244\n",
       "and  160301  165622\n",
       "a    159847  110414\n",
       "of   143546   82811\n",
       "to   132400   66248"
      ]
     },
     "execution_count": 31,
     "metadata": {},
     "output_type": "execute_result"
    }
   ],
   "source": [
    "terms.head()"
   ]
  },
  {
   "cell_type": "code",
   "execution_count": 32,
   "id": "5c24f376-39e0-4afa-845e-fd4c29ca4015",
   "metadata": {},
   "outputs": [],
   "source": [
    "def check_Zipf(count,zipf):\n",
    "        return((count-zipf)/zipf * 100)"
   ]
  },
  {
   "cell_type": "code",
   "execution_count": 33,
   "id": "7a67d1e1-aaee-4fb1-a236-276430ab95ed",
   "metadata": {},
   "outputs": [],
   "source": [
    "terms['difference'] = terms.apply(lambda x: check_Zipf(x['total'], x['zipf']), axis=1)"
   ]
  },
  {
   "cell_type": "code",
   "execution_count": 34,
   "id": "ac02621e-e080-414e-a8c9-8a4787541ef7",
   "metadata": {},
   "outputs": [
    {
     "data": {
      "text/plain": [
       "count    500.000000\n",
       "mean     101.911027\n",
       "std       15.582445\n",
       "min       -3.212737\n",
       "25%       91.834282\n",
       "50%       97.364337\n",
       "75%      110.788305\n",
       "max      165.496317\n",
       "Name: difference, dtype: float64"
      ]
     },
     "execution_count": 34,
     "metadata": {},
     "output_type": "execute_result"
    }
   ],
   "source": [
    "terms['difference'].describe()"
   ]
  },
  {
   "cell_type": "code",
   "execution_count": 36,
   "id": "957ea412-2c46-48e7-bc06-65f5c1cdb521",
   "metadata": {},
   "outputs": [
    {
     "data": {
      "text/plain": [
       "total         203\n",
       "zipf          203\n",
       "difference    203\n",
       "dtype: int64"
      ]
     },
     "execution_count": 36,
     "metadata": {},
     "output_type": "execute_result"
    }
   ],
   "source": [
    "terms.loc[(terms['difference'] >=100)].count()"
   ]
  },
  {
   "cell_type": "code",
   "execution_count": 35,
   "id": "12c4a6e4-4cfe-43f7-80ff-6da6e90fbcae",
   "metadata": {},
   "outputs": [
    {
     "data": {
      "text/html": [
       "<div>\n",
       "<style scoped>\n",
       "    .dataframe tbody tr th:only-of-type {\n",
       "        vertical-align: middle;\n",
       "    }\n",
       "\n",
       "    .dataframe tbody tr th {\n",
       "        vertical-align: top;\n",
       "    }\n",
       "\n",
       "    .dataframe thead th {\n",
       "        text-align: right;\n",
       "    }\n",
       "</style>\n",
       "<table border=\"1\" class=\"dataframe\">\n",
       "  <thead>\n",
       "    <tr style=\"text-align: right;\">\n",
       "      <th></th>\n",
       "      <th>total</th>\n",
       "      <th>zipf</th>\n",
       "      <th>difference</th>\n",
       "    </tr>\n",
       "  </thead>\n",
       "  <tbody>\n",
       "    <tr>\n",
       "      <th>br</th>\n",
       "      <td>100080</td>\n",
       "      <td>47320</td>\n",
       "      <td>111.496196</td>\n",
       "    </tr>\n",
       "    <tr>\n",
       "      <th>it</th>\n",
       "      <td>94390</td>\n",
       "      <td>41405</td>\n",
       "      <td>127.967637</td>\n",
       "    </tr>\n",
       "    <tr>\n",
       "      <th>in</th>\n",
       "      <td>92805</td>\n",
       "      <td>36804</td>\n",
       "      <td>152.160091</td>\n",
       "    </tr>\n",
       "    <tr>\n",
       "      <th>i</th>\n",
       "      <td>87943</td>\n",
       "      <td>33124</td>\n",
       "      <td>165.496317</td>\n",
       "    </tr>\n",
       "    <tr>\n",
       "      <th>this</th>\n",
       "      <td>74995</td>\n",
       "      <td>30113</td>\n",
       "      <td>149.045263</td>\n",
       "    </tr>\n",
       "    <tr>\n",
       "      <th>that</th>\n",
       "      <td>70593</td>\n",
       "      <td>27603</td>\n",
       "      <td>155.743941</td>\n",
       "    </tr>\n",
       "    <tr>\n",
       "      <th>s</th>\n",
       "      <td>61406</td>\n",
       "      <td>25480</td>\n",
       "      <td>140.996860</td>\n",
       "    </tr>\n",
       "    <tr>\n",
       "      <th>was</th>\n",
       "      <td>47399</td>\n",
       "      <td>23660</td>\n",
       "      <td>100.333897</td>\n",
       "    </tr>\n",
       "    <tr>\n",
       "      <th>as</th>\n",
       "      <td>44815</td>\n",
       "      <td>22082</td>\n",
       "      <td>102.948103</td>\n",
       "    </tr>\n",
       "    <tr>\n",
       "      <th>movie</th>\n",
       "      <td>43924</td>\n",
       "      <td>20702</td>\n",
       "      <td>112.172737</td>\n",
       "    </tr>\n",
       "  </tbody>\n",
       "</table>\n",
       "</div>"
      ],
      "text/plain": [
       "        total   zipf  difference\n",
       "br     100080  47320  111.496196\n",
       "it      94390  41405  127.967637\n",
       "in      92805  36804  152.160091\n",
       "i       87943  33124  165.496317\n",
       "this    74995  30113  149.045263\n",
       "that    70593  27603  155.743941\n",
       "s       61406  25480  140.996860\n",
       "was     47399  23660  100.333897\n",
       "as      44815  22082  102.948103\n",
       "movie   43924  20702  112.172737"
      ]
     },
     "execution_count": 35,
     "metadata": {},
     "output_type": "execute_result"
    }
   ],
   "source": [
    "terms.loc[(terms['difference'] >=100)].head(10)"
   ]
  },
  {
   "cell_type": "markdown",
   "id": "0cda5da8-8849-4c0a-b230-9fe5309e485a",
   "metadata": {},
   "source": [
    "So here we can say that 203/500 of the most common words are significantly (?) different from their predicted frequencies according to Zipf's law?"
   ]
  },
  {
   "cell_type": "markdown",
   "id": "86361ea1-5127-4301-9caa-a4439477cb04",
   "metadata": {},
   "source": [
    "### Checking open versus closed class words"
   ]
  },
  {
   "cell_type": "code",
   "execution_count": 37,
   "id": "9617e165-c503-49c4-9671-bf691223e7df",
   "metadata": {},
   "outputs": [],
   "source": [
    "wordlist=open('../resources/closed_EN.txt', 'r').readlines()"
   ]
  },
  {
   "cell_type": "code",
   "execution_count": 38,
   "id": "20122161-9138-4e04-a6fe-d03a49719099",
   "metadata": {},
   "outputs": [
    {
     "name": "stdout",
     "output_type": "stream",
     "text": [
      "312\n"
     ]
    }
   ],
   "source": [
    "closedlist=[]\n",
    "for l in wordlist:\n",
    "    closedlist= closedlist + (l.split())\n",
    "print(len(closedlist))"
   ]
  },
  {
   "cell_type": "code",
   "execution_count": 39,
   "id": "c973c231-3421-4aa0-9cdf-25916012be69",
   "metadata": {},
   "outputs": [
    {
     "data": {
      "text/plain": [
       "(500, 3)"
      ]
     },
     "execution_count": 39,
     "metadata": {},
     "output_type": "execute_result"
    }
   ],
   "source": [
    "terms.shape"
   ]
  },
  {
   "cell_type": "code",
   "execution_count": 40,
   "id": "fbc53a18-faea-46ce-930e-8fe7d5bb1aec",
   "metadata": {},
   "outputs": [
    {
     "data": {
      "text/html": [
       "<div>\n",
       "<style scoped>\n",
       "    .dataframe tbody tr th:only-of-type {\n",
       "        vertical-align: middle;\n",
       "    }\n",
       "\n",
       "    .dataframe tbody tr th {\n",
       "        vertical-align: top;\n",
       "    }\n",
       "\n",
       "    .dataframe thead th {\n",
       "        text-align: right;\n",
       "    }\n",
       "</style>\n",
       "<table border=\"1\" class=\"dataframe\">\n",
       "  <thead>\n",
       "    <tr style=\"text-align: right;\">\n",
       "      <th></th>\n",
       "      <th>total</th>\n",
       "      <th>zipf</th>\n",
       "      <th>difference</th>\n",
       "    </tr>\n",
       "  </thead>\n",
       "  <tbody>\n",
       "    <tr>\n",
       "      <th>and</th>\n",
       "      <td>160301</td>\n",
       "      <td>165622</td>\n",
       "      <td>-3.212737</td>\n",
       "    </tr>\n",
       "    <tr>\n",
       "      <th>the</th>\n",
       "      <td>331244</td>\n",
       "      <td>331244</td>\n",
       "      <td>0.000000</td>\n",
       "    </tr>\n",
       "    <tr>\n",
       "      <th>a</th>\n",
       "      <td>159847</td>\n",
       "      <td>110414</td>\n",
       "      <td>44.770591</td>\n",
       "    </tr>\n",
       "    <tr>\n",
       "      <th>of</th>\n",
       "      <td>143546</td>\n",
       "      <td>82811</td>\n",
       "      <td>73.341706</td>\n",
       "    </tr>\n",
       "    <tr>\n",
       "      <th>fine</th>\n",
       "      <td>1221</td>\n",
       "      <td>665</td>\n",
       "      <td>83.609023</td>\n",
       "    </tr>\n",
       "    <tr>\n",
       "      <th>group</th>\n",
       "      <td>1237</td>\n",
       "      <td>673</td>\n",
       "      <td>83.803863</td>\n",
       "    </tr>\n",
       "    <tr>\n",
       "      <th>brilliant</th>\n",
       "      <td>1217</td>\n",
       "      <td>662</td>\n",
       "      <td>83.836858</td>\n",
       "    </tr>\n",
       "    <tr>\n",
       "      <th>act</th>\n",
       "      <td>1228</td>\n",
       "      <td>667</td>\n",
       "      <td>84.107946</td>\n",
       "    </tr>\n",
       "    <tr>\n",
       "      <th>writing</th>\n",
       "      <td>1221</td>\n",
       "      <td>663</td>\n",
       "      <td>84.162896</td>\n",
       "    </tr>\n",
       "    <tr>\n",
       "      <th>heart</th>\n",
       "      <td>1236</td>\n",
       "      <td>671</td>\n",
       "      <td>84.202683</td>\n",
       "    </tr>\n",
       "  </tbody>\n",
       "</table>\n",
       "</div>"
      ],
      "text/plain": [
       "            total    zipf  difference\n",
       "and        160301  165622   -3.212737\n",
       "the        331244  331244    0.000000\n",
       "a          159847  110414   44.770591\n",
       "of         143546   82811   73.341706\n",
       "fine         1221     665   83.609023\n",
       "group        1237     673   83.803863\n",
       "brilliant    1217     662   83.836858\n",
       "act          1228     667   84.107946\n",
       "writing      1221     663   84.162896\n",
       "heart        1236     671   84.202683"
      ]
     },
     "execution_count": 40,
     "metadata": {},
     "output_type": "execute_result"
    }
   ],
   "source": [
    "terms.sort_values(by='difference', ascending=True).head(10)"
   ]
  },
  {
   "cell_type": "code",
   "execution_count": 41,
   "id": "bfec49c2-229c-429e-be1d-71c1c8797e7e",
   "metadata": {},
   "outputs": [
    {
     "data": {
      "text/html": [
       "<div>\n",
       "<style scoped>\n",
       "    .dataframe tbody tr th:only-of-type {\n",
       "        vertical-align: middle;\n",
       "    }\n",
       "\n",
       "    .dataframe tbody tr th {\n",
       "        vertical-align: top;\n",
       "    }\n",
       "\n",
       "    .dataframe thead th {\n",
       "        text-align: right;\n",
       "    }\n",
       "</style>\n",
       "<table border=\"1\" class=\"dataframe\">\n",
       "  <thead>\n",
       "    <tr style=\"text-align: right;\">\n",
       "      <th></th>\n",
       "      <th>total</th>\n",
       "      <th>zipf</th>\n",
       "      <th>difference</th>\n",
       "    </tr>\n",
       "  </thead>\n",
       "  <tbody>\n",
       "    <tr>\n",
       "      <th>an</th>\n",
       "      <td>21422</td>\n",
       "      <td>9464</td>\n",
       "      <td>126.352494</td>\n",
       "    </tr>\n",
       "  </tbody>\n",
       "</table>\n",
       "</div>"
      ],
      "text/plain": [
       "    total  zipf  difference\n",
       "an  21422  9464  126.352494"
      ]
     },
     "execution_count": 41,
     "metadata": {},
     "output_type": "execute_result"
    }
   ],
   "source": [
    "terms.loc[(terms.index =='an')]"
   ]
  },
  {
   "cell_type": "code",
   "execution_count": 42,
   "id": "1b6ccd6b-de87-46d5-b3c7-7c87e4f6e700",
   "metadata": {},
   "outputs": [
    {
     "data": {
      "text/plain": [
       "(142, 3)"
      ]
     },
     "execution_count": 42,
     "metadata": {},
     "output_type": "execute_result"
    }
   ],
   "source": [
    "closedclass= terms[terms.index.isin(closedlist)]\n",
    "closedclass.shape"
   ]
  },
  {
   "cell_type": "code",
   "execution_count": 43,
   "id": "c7c7c199-acac-4fa3-91ea-626a24aa6077",
   "metadata": {},
   "outputs": [
    {
     "data": {
      "text/html": [
       "<div>\n",
       "<style scoped>\n",
       "    .dataframe tbody tr th:only-of-type {\n",
       "        vertical-align: middle;\n",
       "    }\n",
       "\n",
       "    .dataframe tbody tr th {\n",
       "        vertical-align: top;\n",
       "    }\n",
       "\n",
       "    .dataframe thead th {\n",
       "        text-align: right;\n",
       "    }\n",
       "</style>\n",
       "<table border=\"1\" class=\"dataframe\">\n",
       "  <thead>\n",
       "    <tr style=\"text-align: right;\">\n",
       "      <th></th>\n",
       "      <th>total</th>\n",
       "      <th>zipf</th>\n",
       "      <th>difference</th>\n",
       "    </tr>\n",
       "  </thead>\n",
       "  <tbody>\n",
       "    <tr>\n",
       "      <th>that</th>\n",
       "      <td>70593</td>\n",
       "      <td>27603</td>\n",
       "      <td>155.743941</td>\n",
       "    </tr>\n",
       "    <tr>\n",
       "      <th>in</th>\n",
       "      <td>92805</td>\n",
       "      <td>36804</td>\n",
       "      <td>152.160091</td>\n",
       "    </tr>\n",
       "    <tr>\n",
       "      <th>this</th>\n",
       "      <td>74995</td>\n",
       "      <td>30113</td>\n",
       "      <td>149.045263</td>\n",
       "    </tr>\n",
       "    <tr>\n",
       "      <th>be</th>\n",
       "      <td>26426</td>\n",
       "      <td>11041</td>\n",
       "      <td>139.344262</td>\n",
       "    </tr>\n",
       "    <tr>\n",
       "      <th>on</th>\n",
       "      <td>33855</td>\n",
       "      <td>14401</td>\n",
       "      <td>135.087841</td>\n",
       "    </tr>\n",
       "    <tr>\n",
       "      <th>but</th>\n",
       "      <td>40931</td>\n",
       "      <td>17433</td>\n",
       "      <td>134.790340</td>\n",
       "    </tr>\n",
       "    <tr>\n",
       "      <th>one</th>\n",
       "      <td>26808</td>\n",
       "      <td>11422</td>\n",
       "      <td>134.704955</td>\n",
       "    </tr>\n",
       "    <tr>\n",
       "      <th>for</th>\n",
       "      <td>43126</td>\n",
       "      <td>18402</td>\n",
       "      <td>134.354961</td>\n",
       "    </tr>\n",
       "    <tr>\n",
       "      <th>like</th>\n",
       "      <td>19891</td>\n",
       "      <td>8493</td>\n",
       "      <td>134.204639</td>\n",
       "    </tr>\n",
       "    <tr>\n",
       "      <th>what</th>\n",
       "      <td>16071</td>\n",
       "      <td>6900</td>\n",
       "      <td>132.913043</td>\n",
       "    </tr>\n",
       "  </tbody>\n",
       "</table>\n",
       "</div>"
      ],
      "text/plain": [
       "      total   zipf  difference\n",
       "that  70593  27603  155.743941\n",
       "in    92805  36804  152.160091\n",
       "this  74995  30113  149.045263\n",
       "be    26426  11041  139.344262\n",
       "on    33855  14401  135.087841\n",
       "but   40931  17433  134.790340\n",
       "one   26808  11422  134.704955\n",
       "for   43126  18402  134.354961\n",
       "like  19891   8493  134.204639\n",
       "what  16071   6900  132.913043"
      ]
     },
     "execution_count": 43,
     "metadata": {},
     "output_type": "execute_result"
    }
   ],
   "source": [
    "closedclass.loc[(closedclass['difference'] >=100)].sort_values(by='difference', ascending=False).head(10)"
   ]
  },
  {
   "cell_type": "code",
   "execution_count": 44,
   "id": "db7161b9-141c-4d37-b738-43524718fc6b",
   "metadata": {},
   "outputs": [
    {
     "data": {
      "text/plain": [
       "[<matplotlib.lines.Line2D at 0x7f899c3d3d00>,\n",
       " <matplotlib.lines.Line2D at 0x7f899c3d3dc0>]"
      ]
     },
     "execution_count": 44,
     "metadata": {},
     "output_type": "execute_result"
    },
    {
     "data": {
      "image/png": "[encoded data removed]",
      "text/plain": [
       "<Figure size 720x576 with 1 Axes>"
      ]
     },
     "metadata": {},
     "output_type": "display_data"
    }
   ],
   "source": [
    "plt.figure(figsize=(10,8))\n",
    "plt.plot(closedclass[['total','zipf']].loc[(closedclass['difference'] >=100)].sort_values(by='total', ascending=False).head(10))"
   ]
  },
  {
   "cell_type": "code",
   "execution_count": 45,
   "id": "a2528225-ecbe-4962-b53e-0c46239e93d6",
   "metadata": {},
   "outputs": [
    {
     "data": {
      "text/plain": [
       "(358, 3)"
      ]
     },
     "execution_count": 45,
     "metadata": {},
     "output_type": "execute_result"
    }
   ],
   "source": [
    "openclass= terms[~terms.index.isin(closedlist)]\n",
    "openclass.shape"
   ]
  },
  {
   "cell_type": "code",
   "execution_count": 46,
   "id": "88bee507-c02a-4627-9506-4f34a1e9dbc1",
   "metadata": {},
   "outputs": [
    {
     "data": {
      "text/plain": [
       "count    358.000000\n",
       "mean      98.238414\n",
       "std       10.885537\n",
       "min       83.609023\n",
       "25%       91.373872\n",
       "50%       95.692489\n",
       "75%      101.108615\n",
       "max      165.496317\n",
       "Name: difference, dtype: float64"
      ]
     },
     "execution_count": 46,
     "metadata": {},
     "output_type": "execute_result"
    }
   ],
   "source": [
    "openclass['difference'].describe()"
   ]
  },
  {
   "cell_type": "code",
   "execution_count": 47,
   "id": "480917c0-7631-4a8b-8549-1a4239f0a2e2",
   "metadata": {},
   "outputs": [
    {
     "data": {
      "text/html": [
       "<div>\n",
       "<style scoped>\n",
       "    .dataframe tbody tr th:only-of-type {\n",
       "        vertical-align: middle;\n",
       "    }\n",
       "\n",
       "    .dataframe tbody tr th {\n",
       "        vertical-align: top;\n",
       "    }\n",
       "\n",
       "    .dataframe thead th {\n",
       "        text-align: right;\n",
       "    }\n",
       "</style>\n",
       "<table border=\"1\" class=\"dataframe\">\n",
       "  <thead>\n",
       "    <tr style=\"text-align: right;\">\n",
       "      <th></th>\n",
       "      <th>total</th>\n",
       "      <th>zipf</th>\n",
       "      <th>difference</th>\n",
       "    </tr>\n",
       "  </thead>\n",
       "  <tbody>\n",
       "    <tr>\n",
       "      <th>br</th>\n",
       "      <td>100080</td>\n",
       "      <td>47320</td>\n",
       "      <td>111.496196</td>\n",
       "    </tr>\n",
       "    <tr>\n",
       "      <th>i</th>\n",
       "      <td>87943</td>\n",
       "      <td>33124</td>\n",
       "      <td>165.496317</td>\n",
       "    </tr>\n",
       "    <tr>\n",
       "      <th>s</th>\n",
       "      <td>61406</td>\n",
       "      <td>25480</td>\n",
       "      <td>140.996860</td>\n",
       "    </tr>\n",
       "    <tr>\n",
       "      <th>movie</th>\n",
       "      <td>43924</td>\n",
       "      <td>20702</td>\n",
       "      <td>112.172737</td>\n",
       "    </tr>\n",
       "    <tr>\n",
       "      <th>film</th>\n",
       "      <td>39546</td>\n",
       "      <td>16562</td>\n",
       "      <td>138.775510</td>\n",
       "    </tr>\n",
       "    <tr>\n",
       "      <th>t</th>\n",
       "      <td>33890</td>\n",
       "      <td>15056</td>\n",
       "      <td>125.092986</td>\n",
       "    </tr>\n",
       "    <tr>\n",
       "      <th>just</th>\n",
       "      <td>17410</td>\n",
       "      <td>7886</td>\n",
       "      <td>120.770987</td>\n",
       "    </tr>\n",
       "    <tr>\n",
       "      <th>good</th>\n",
       "      <td>14606</td>\n",
       "      <td>6624</td>\n",
       "      <td>120.501208</td>\n",
       "    </tr>\n",
       "    <tr>\n",
       "      <th>very</th>\n",
       "      <td>13660</td>\n",
       "      <td>6134</td>\n",
       "      <td>122.693186</td>\n",
       "    </tr>\n",
       "    <tr>\n",
       "      <th>time</th>\n",
       "      <td>12383</td>\n",
       "      <td>5614</td>\n",
       "      <td>120.573566</td>\n",
       "    </tr>\n",
       "  </tbody>\n",
       "</table>\n",
       "</div>"
      ],
      "text/plain": [
       "        total   zipf  difference\n",
       "br     100080  47320  111.496196\n",
       "i       87943  33124  165.496317\n",
       "s       61406  25480  140.996860\n",
       "movie   43924  20702  112.172737\n",
       "film    39546  16562  138.775510\n",
       "t       33890  15056  125.092986\n",
       "just    17410   7886  120.770987\n",
       "good    14606   6624  120.501208\n",
       "very    13660   6134  122.693186\n",
       "time    12383   5614  120.573566"
      ]
     },
     "execution_count": 47,
     "metadata": {},
     "output_type": "execute_result"
    }
   ],
   "source": [
    "openclass.loc[(openclass['difference'] >=100)].sort_values(by='total', ascending=False).head(10)"
   ]
  },
  {
   "cell_type": "code",
   "execution_count": 48,
   "id": "9e85a761-2c25-441f-953a-6100ea341d25",
   "metadata": {},
   "outputs": [
    {
     "data": {
      "text/plain": [
       "[<matplotlib.lines.Line2D at 0x7f899e31fa60>,\n",
       " <matplotlib.lines.Line2D at 0x7f899e31fb20>]"
      ]
     },
     "execution_count": 48,
     "metadata": {},
     "output_type": "execute_result"
    },
    {
     "data": {
      "image/png": "[encoded data removed]",
      "text/plain": [
       "<Figure size 720x576 with 1 Axes>"
      ]
     },
     "metadata": {},
     "output_type": "display_data"
    }
   ],
   "source": [
    "plt.figure(figsize=(10,8))\n",
    "plt.plot(openclass[['total','zipf']].loc[(openclass['difference'] >=100)].sort_values(by='total', ascending=False).head(10))"
   ]
  }
 ],
 "metadata": {
  "kernelspec": {
   "display_name": "datametrics",
   "language": "python",
   "name": "datametrics"
  },
  "language_info": {
   "codemirror_mode": {
    "name": "ipython",
    "version": 3
   },
   "file_extension": ".py",
   "mimetype": "text/x-python",
   "name": "python",
   "nbconvert_exporter": "python",
   "pygments_lexer": "ipython3",
   "version": "3.8.5"
  }
 },
 "nbformat": 4,
 "nbformat_minor": 5
}
