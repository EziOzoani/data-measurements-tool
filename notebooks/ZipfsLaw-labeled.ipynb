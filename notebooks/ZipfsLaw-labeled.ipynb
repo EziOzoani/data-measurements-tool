{
 "cells": [
  {
   "cell_type": "code",
   "execution_count": 1,
   "id": "a97d90f2-dfc9-4276-99db-c17d0c42de90",
   "metadata": {},
   "outputs": [],
   "source": [
    "from datasets import load_dataset\n",
    "import pandas as pd\n",
    "import numpy as np\n",
    "from sklearn.feature_extraction.text import CountVectorizer\n",
    "from scipy.stats import hmean, norm"
   ]
  },
  {
   "cell_type": "code",
   "execution_count": 2,
   "id": "ff3700f9-844c-4407-a8a3-142d9e101e7b",
   "metadata": {},
   "outputs": [],
   "source": [
    "from nltk import word_tokenize\n",
    "from collections import Counter\n",
    "from scipy.optimize import minimize_scalar\n",
    "from scipy.optimize import minimize"
   ]
  },
  {
   "cell_type": "code",
   "execution_count": 3,
   "id": "1f65b7a2-d941-4a84-a3b5-0111b7ee11db",
   "metadata": {},
   "outputs": [],
   "source": [
    "#from pylab import arange, argsort, loglog, title, xlabel, ylabel, grid, logspace, log10\n",
    "import matplotlib.pyplot as plt\n",
    "import numpy as np"
   ]
  },
  {
   "cell_type": "code",
   "execution_count": 4,
   "id": "6a46569f-0cc9-4c18-9f2a-b8cd9b7d127c",
   "metadata": {},
   "outputs": [],
   "source": [
    "from statistics import harmonic_mean"
   ]
  },
  {
   "cell_type": "code",
   "execution_count": 5,
   "id": "a0c7838d-f59b-4b76-ba39-adf2a6a74ee9",
   "metadata": {},
   "outputs": [],
   "source": [
    "from bokeh.plotting import figure\n",
    "from bokeh.io import output_notebook, show\n",
    "from bokeh.models import LinearColorMapper\n",
    "from bokeh.models import HoverTool"
   ]
  },
  {
   "cell_type": "code",
   "execution_count": 6,
   "id": "3bc2397b-6af6-42fd-a4c0-aece7a873909",
   "metadata": {},
   "outputs": [],
   "source": [
    "import matplotlib.pyplot as plt\n",
    "plt.style.use('fivethirtyeight')"
   ]
  },
  {
   "cell_type": "code",
   "execution_count": 7,
   "id": "c96d00b5-0953-45ea-90c9-854d56791066",
   "metadata": {},
   "outputs": [
    {
     "name": "stderr",
     "output_type": "stream",
     "text": [
      "Reusing dataset imdb (/home/sasha/.cache/huggingface/datasets/imdb/plain_text/1.0.0/e3c66f1788a67a89c7058d97ff62b6c30531e05b549de56d3ab91891f0561f9a)\n"
     ]
    }
   ],
   "source": [
    "data= load_dataset(\"imdb\", split= \"test\")"
   ]
  },
  {
   "cell_type": "code",
   "execution_count": 8,
   "id": "a4ba207a-c301-41c0-beec-b42f82bca937",
   "metadata": {},
   "outputs": [],
   "source": [
    "datadf = pd.json_normalize(data)"
   ]
  },
  {
   "cell_type": "markdown",
   "id": "659b4dd7-25d1-44ee-8506-8a67d350b639",
   "metadata": {
    "tags": []
   },
   "source": [
    "#### Looking at the top rows"
   ]
  },
  {
   "cell_type": "code",
   "execution_count": 9,
   "id": "9dc73f02-cfc3-4cf6-8f77-8c6bd0cdb6a6",
   "metadata": {},
   "outputs": [
    {
     "data": {
      "text/html": [
       "<div>\n",
       "<style scoped>\n",
       "    .dataframe tbody tr th:only-of-type {\n",
       "        vertical-align: middle;\n",
       "    }\n",
       "\n",
       "    .dataframe tbody tr th {\n",
       "        vertical-align: top;\n",
       "    }\n",
       "\n",
       "    .dataframe thead th {\n",
       "        text-align: right;\n",
       "    }\n",
       "</style>\n",
       "<table border=\"1\" class=\"dataframe\">\n",
       "  <thead>\n",
       "    <tr style=\"text-align: right;\">\n",
       "      <th></th>\n",
       "      <th>text</th>\n",
       "      <th>label</th>\n",
       "    </tr>\n",
       "  </thead>\n",
       "  <tbody>\n",
       "    <tr>\n",
       "      <th>0</th>\n",
       "      <td>I went and saw this movie last night after bei...</td>\n",
       "      <td>1</td>\n",
       "    </tr>\n",
       "    <tr>\n",
       "      <th>1</th>\n",
       "      <td>Actor turned director Bill Paxton follows up h...</td>\n",
       "      <td>1</td>\n",
       "    </tr>\n",
       "    <tr>\n",
       "      <th>2</th>\n",
       "      <td>As a recreational golfer with some knowledge o...</td>\n",
       "      <td>1</td>\n",
       "    </tr>\n",
       "    <tr>\n",
       "      <th>3</th>\n",
       "      <td>I saw this film in a sneak preview, and it is ...</td>\n",
       "      <td>1</td>\n",
       "    </tr>\n",
       "    <tr>\n",
       "      <th>4</th>\n",
       "      <td>Bill Paxton has taken the true story of the 19...</td>\n",
       "      <td>1</td>\n",
       "    </tr>\n",
       "  </tbody>\n",
       "</table>\n",
       "</div>"
      ],
      "text/plain": [
       "                                                text  label\n",
       "0  I went and saw this movie last night after bei...      1\n",
       "1  Actor turned director Bill Paxton follows up h...      1\n",
       "2  As a recreational golfer with some knowledge o...      1\n",
       "3  I saw this film in a sneak preview, and it is ...      1\n",
       "4  Bill Paxton has taken the true story of the 19...      1"
      ]
     },
     "execution_count": 9,
     "metadata": {},
     "output_type": "execute_result"
    }
   ],
   "source": [
    "datadf.head()"
   ]
  },
  {
   "cell_type": "markdown",
   "id": "899197c1-8f35-4518-ac0b-2884b2e228cc",
   "metadata": {},
   "source": [
    "#### Getting more information"
   ]
  },
  {
   "cell_type": "code",
   "execution_count": 10,
   "id": "bc3aef2d-564d-43c8-be3c-a3721a35483b",
   "metadata": {},
   "outputs": [
    {
     "name": "stdout",
     "output_type": "stream",
     "text": [
      "<class 'pandas.core.frame.DataFrame'>\n",
      "RangeIndex: 25000 entries, 0 to 24999\n",
      "Data columns (total 2 columns):\n",
      " #   Column  Non-Null Count  Dtype \n",
      "---  ------  --------------  ----- \n",
      " 0   text    25000 non-null  object\n",
      " 1   label   25000 non-null  int64 \n",
      "dtypes: int64(1), object(1)\n",
      "memory usage: 390.8+ KB\n"
     ]
    }
   ],
   "source": [
    "datadf.info()"
   ]
  },
  {
   "cell_type": "markdown",
   "id": "7d8acd2c-98f4-4e44-b75b-37299eca868e",
   "metadata": {},
   "source": [
    "#### Checking for missing values"
   ]
  },
  {
   "cell_type": "code",
   "execution_count": 11,
   "id": "b83f149c-eba8-45c8-96be-0e2aa8bb2c46",
   "metadata": {},
   "outputs": [
    {
     "data": {
      "text/html": [
       "<div>\n",
       "<style scoped>\n",
       "    .dataframe tbody tr th:only-of-type {\n",
       "        vertical-align: middle;\n",
       "    }\n",
       "\n",
       "    .dataframe tbody tr th {\n",
       "        vertical-align: top;\n",
       "    }\n",
       "\n",
       "    .dataframe thead th {\n",
       "        text-align: right;\n",
       "    }\n",
       "</style>\n",
       "<table border=\"1\" class=\"dataframe\">\n",
       "  <thead>\n",
       "    <tr style=\"text-align: right;\">\n",
       "      <th></th>\n",
       "      <th>text</th>\n",
       "      <th>label</th>\n",
       "    </tr>\n",
       "  </thead>\n",
       "  <tbody>\n",
       "  </tbody>\n",
       "</table>\n",
       "</div>"
      ],
      "text/plain": [
       "Empty DataFrame\n",
       "Columns: [text, label]\n",
       "Index: []"
      ]
     },
     "execution_count": 11,
     "metadata": {},
     "output_type": "execute_result"
    }
   ],
   "source": [
    "datadf[datadf.isnull().any(axis=1)].head()"
   ]
  },
  {
   "cell_type": "code",
   "execution_count": 12,
   "id": "6c85f137-322a-4834-ba2b-a102df651ed3",
   "metadata": {},
   "outputs": [
    {
     "data": {
      "text/plain": [
       "0"
      ]
     },
     "execution_count": 12,
     "metadata": {},
     "output_type": "execute_result"
    }
   ],
   "source": [
    "np.sum(datadf.isnull().any(axis=1))"
   ]
  },
  {
   "cell_type": "markdown",
   "id": "adaf363d-32b0-4f9e-957b-673d20d5f2fa",
   "metadata": {},
   "source": [
    "#### Count vocab size + frequencies"
   ]
  },
  {
   "cell_type": "code",
   "execution_count": 13,
   "id": "e2a1c847-388c-4862-a66f-8b480f800bbf",
   "metadata": {},
   "outputs": [
    {
     "data": {
      "text/plain": [
       "CountVectorizer()"
      ]
     },
     "execution_count": 13,
     "metadata": {},
     "output_type": "execute_result"
    }
   ],
   "source": [
    "cvec = CountVectorizer()\n",
    "cvec.fit(datadf.text)"
   ]
  },
  {
   "cell_type": "code",
   "execution_count": 14,
   "id": "dd9aace6-5fdc-45cd-810a-7ef494b24b4c",
   "metadata": {},
   "outputs": [
    {
     "data": {
      "text/plain": [
       "73822"
      ]
     },
     "execution_count": 14,
     "metadata": {},
     "output_type": "execute_result"
    }
   ],
   "source": [
    "len(cvec.get_feature_names())"
   ]
  },
  {
   "cell_type": "code",
   "execution_count": 15,
   "id": "dbba3743-8a0f-46b7-b212-219256fc61c9",
   "metadata": {},
   "outputs": [],
   "source": [
    "document_matrix = cvec.transform(datadf.text)"
   ]
  },
  {
   "cell_type": "code",
   "execution_count": 16,
   "id": "2b819330-4c68-4ffb-876a-d37d695db545",
   "metadata": {},
   "outputs": [
    {
     "data": {
      "text/html": [
       "<div>\n",
       "<style scoped>\n",
       "    .dataframe tbody tr th:only-of-type {\n",
       "        vertical-align: middle;\n",
       "    }\n",
       "\n",
       "    .dataframe tbody tr th {\n",
       "        vertical-align: top;\n",
       "    }\n",
       "\n",
       "    .dataframe thead th {\n",
       "        text-align: right;\n",
       "    }\n",
       "</style>\n",
       "<table border=\"1\" class=\"dataframe\">\n",
       "  <thead>\n",
       "    <tr style=\"text-align: right;\">\n",
       "      <th></th>\n",
       "      <th>text</th>\n",
       "      <th>label</th>\n",
       "    </tr>\n",
       "  </thead>\n",
       "  <tbody>\n",
       "    <tr>\n",
       "      <th>24995</th>\n",
       "      <td>I occasionally let my kids watch this garbage ...</td>\n",
       "      <td>0</td>\n",
       "    </tr>\n",
       "    <tr>\n",
       "      <th>24996</th>\n",
       "      <td>When all we have anymore is pretty much realit...</td>\n",
       "      <td>0</td>\n",
       "    </tr>\n",
       "    <tr>\n",
       "      <th>24997</th>\n",
       "      <td>The basic genre is a thriller intercut with an...</td>\n",
       "      <td>0</td>\n",
       "    </tr>\n",
       "    <tr>\n",
       "      <th>24998</th>\n",
       "      <td>Four things intrigued me as to this film - fir...</td>\n",
       "      <td>0</td>\n",
       "    </tr>\n",
       "    <tr>\n",
       "      <th>24999</th>\n",
       "      <td>David Bryce's comments nearby are exceptionall...</td>\n",
       "      <td>0</td>\n",
       "    </tr>\n",
       "  </tbody>\n",
       "</table>\n",
       "</div>"
      ],
      "text/plain": [
       "                                                    text  label\n",
       "24995  I occasionally let my kids watch this garbage ...      0\n",
       "24996  When all we have anymore is pretty much realit...      0\n",
       "24997  The basic genre is a thriller intercut with an...      0\n",
       "24998  Four things intrigued me as to this film - fir...      0\n",
       "24999  David Bryce's comments nearby are exceptionall...      0"
      ]
     },
     "execution_count": 16,
     "metadata": {},
     "output_type": "execute_result"
    }
   ],
   "source": [
    "datadf[datadf.label == 0].tail()"
   ]
  },
  {
   "cell_type": "code",
   "execution_count": 17,
   "id": "071b5bff-7607-420e-a7c7-5ed9c4ba1675",
   "metadata": {},
   "outputs": [],
   "source": [
    "#Code from https://towardsdatascience.com/another-twitter-sentiment-analysis-with-python-part-2-333514854913"
   ]
  },
  {
   "cell_type": "code",
   "execution_count": 18,
   "id": "5f221b2b-45a3-44b3-a910-c6c74e5bb412",
   "metadata": {},
   "outputs": [
    {
     "name": "stdout",
     "output_type": "stream",
     "text": [
      "12626 entries' term frequency calculated\n",
      "13888 entries' term frequency calculated\n",
      "15151 entries' term frequency calculated\n",
      "16413 entries' term frequency calculated\n",
      "17676 entries' term frequency calculated\n",
      "18938 entries' term frequency calculated\n",
      "20201 entries' term frequency calculated\n",
      "21463 entries' term frequency calculated\n",
      "22726 entries' term frequency calculated\n",
      "23988 entries' term frequency calculated\n",
      "24999 entries' term frequency calculated\n",
      "CPU times: user 1.38 s, sys: 1.46 s, total: 2.85 s\n",
      "Wall time: 2.84 s\n"
     ]
    }
   ],
   "source": [
    "%%time\n",
    "neg_batches = np.linspace(12500,24999,100).astype(int)\n",
    "i=0\n",
    "neg_tf = []\n",
    "while i < len(neg_batches)-1:\n",
    "    batch_result = np.sum(document_matrix[neg_batches[i]:neg_batches[i+1]].toarray(),axis=0)\n",
    "    neg_tf.append(batch_result)\n",
    "    if (i % 10 == 0) | (i == len(neg_batches)-2):\n",
    "        print(neg_batches[i+1],\"entries' term frequency calculated\")\n",
    "    i += 1"
   ]
  },
  {
   "cell_type": "code",
   "execution_count": 19,
   "id": "fa048f70-9241-4563-b2c6-f911687b4b5d",
   "metadata": {},
   "outputs": [
    {
     "data": {
      "text/html": [
       "<div>\n",
       "<style scoped>\n",
       "    .dataframe tbody tr th:only-of-type {\n",
       "        vertical-align: middle;\n",
       "    }\n",
       "\n",
       "    .dataframe tbody tr th {\n",
       "        vertical-align: top;\n",
       "    }\n",
       "\n",
       "    .dataframe thead th {\n",
       "        text-align: right;\n",
       "    }\n",
       "</style>\n",
       "<table border=\"1\" class=\"dataframe\">\n",
       "  <thead>\n",
       "    <tr style=\"text-align: right;\">\n",
       "      <th></th>\n",
       "      <th>text</th>\n",
       "      <th>label</th>\n",
       "    </tr>\n",
       "  </thead>\n",
       "  <tbody>\n",
       "    <tr>\n",
       "      <th>12495</th>\n",
       "      <td>I was extraordinarily impressed by this film. ...</td>\n",
       "      <td>1</td>\n",
       "    </tr>\n",
       "    <tr>\n",
       "      <th>12496</th>\n",
       "      <td>Although I'm not a golf fan, I attended a snea...</td>\n",
       "      <td>1</td>\n",
       "    </tr>\n",
       "    <tr>\n",
       "      <th>12497</th>\n",
       "      <td>From the start of \"The Edge Of Love\", the view...</td>\n",
       "      <td>1</td>\n",
       "    </tr>\n",
       "    <tr>\n",
       "      <th>12498</th>\n",
       "      <td>This movie, with all its complexity and subtle...</td>\n",
       "      <td>1</td>\n",
       "    </tr>\n",
       "    <tr>\n",
       "      <th>12499</th>\n",
       "      <td>I've seen this story before but my kids haven'...</td>\n",
       "      <td>1</td>\n",
       "    </tr>\n",
       "  </tbody>\n",
       "</table>\n",
       "</div>"
      ],
      "text/plain": [
       "                                                    text  label\n",
       "12495  I was extraordinarily impressed by this film. ...      1\n",
       "12496  Although I'm not a golf fan, I attended a snea...      1\n",
       "12497  From the start of \"The Edge Of Love\", the view...      1\n",
       "12498  This movie, with all its complexity and subtle...      1\n",
       "12499  I've seen this story before but my kids haven'...      1"
      ]
     },
     "execution_count": 19,
     "metadata": {},
     "output_type": "execute_result"
    }
   ],
   "source": [
    "datadf[datadf.label == 1].tail()"
   ]
  },
  {
   "cell_type": "code",
   "execution_count": 20,
   "id": "6eb69cf8-8fc4-49ed-92ce-27e023cb9c03",
   "metadata": {},
   "outputs": [
    {
     "name": "stdout",
     "output_type": "stream",
     "text": [
      "126 entries' term frequency calculated\n",
      "1388 entries' term frequency calculated\n",
      "2651 entries' term frequency calculated\n",
      "3913 entries' term frequency calculated\n",
      "5176 entries' term frequency calculated\n",
      "6438 entries' term frequency calculated\n",
      "7701 entries' term frequency calculated\n",
      "8963 entries' term frequency calculated\n",
      "10226 entries' term frequency calculated\n",
      "11488 entries' term frequency calculated\n",
      "12499 entries' term frequency calculated\n",
      "CPU times: user 1.27 s, sys: 1.5 s, total: 2.77 s\n",
      "Wall time: 2.76 s\n"
     ]
    }
   ],
   "source": [
    "%%time\n",
    "pos_batches = np.linspace(0,12499,100).astype(int)\n",
    "i=0\n",
    "pos_tf = []\n",
    "while i < len(pos_batches)-1:\n",
    "    batch_result = np.sum(document_matrix[pos_batches[i]:pos_batches[i+1]].toarray(),axis=0)\n",
    "    pos_tf.append(batch_result)\n",
    "    if (i % 10 == 0) | (i == len(pos_batches)-2):\n",
    "        print(pos_batches[i+1],\"entries' term frequency calculated\")\n",
    "    i += 1"
   ]
  },
  {
   "cell_type": "code",
   "execution_count": 21,
   "id": "b3a90da5-9f46-4f78-abc7-26d0b4412e06",
   "metadata": {},
   "outputs": [
    {
     "data": {
      "text/html": [
       "<div>\n",
       "<style scoped>\n",
       "    .dataframe tbody tr th:only-of-type {\n",
       "        vertical-align: middle;\n",
       "    }\n",
       "\n",
       "    .dataframe tbody tr th {\n",
       "        vertical-align: top;\n",
       "    }\n",
       "\n",
       "    .dataframe thead th {\n",
       "        text-align: right;\n",
       "    }\n",
       "</style>\n",
       "<table border=\"1\" class=\"dataframe\">\n",
       "  <thead>\n",
       "    <tr style=\"text-align: right;\">\n",
       "      <th></th>\n",
       "      <th>0</th>\n",
       "      <th>1</th>\n",
       "    </tr>\n",
       "  </thead>\n",
       "  <tbody>\n",
       "    <tr>\n",
       "      <th>00</th>\n",
       "      <td>54</td>\n",
       "      <td>61</td>\n",
       "    </tr>\n",
       "    <tr>\n",
       "      <th>000</th>\n",
       "      <td>172</td>\n",
       "      <td>147</td>\n",
       "    </tr>\n",
       "    <tr>\n",
       "      <th>00000000000</th>\n",
       "      <td>2</td>\n",
       "      <td>0</td>\n",
       "    </tr>\n",
       "    <tr>\n",
       "      <th>00000001</th>\n",
       "      <td>1</td>\n",
       "      <td>0</td>\n",
       "    </tr>\n",
       "    <tr>\n",
       "      <th>000dm</th>\n",
       "      <td>1</td>\n",
       "      <td>0</td>\n",
       "    </tr>\n",
       "  </tbody>\n",
       "</table>\n",
       "</div>"
      ],
      "text/plain": [
       "               0    1\n",
       "00            54   61\n",
       "000          172  147\n",
       "00000000000    2    0\n",
       "00000001       1    0\n",
       "000dm          1    0"
      ]
     },
     "execution_count": 21,
     "metadata": {},
     "output_type": "execute_result"
    }
   ],
   "source": [
    "neg = np.sum(neg_tf,axis=0)\n",
    "pos = np.sum(pos_tf,axis=0)\n",
    "term_freq_df = pd.DataFrame([neg,pos],columns=cvec.get_feature_names()).transpose()\n",
    "term_freq_df.head()"
   ]
  },
  {
   "cell_type": "code",
   "execution_count": 22,
   "id": "0cefee52-8f59-48e1-8ea2-28bc41d2ea22",
   "metadata": {},
   "outputs": [
    {
     "data": {
      "text/html": [
       "<div>\n",
       "<style scoped>\n",
       "    .dataframe tbody tr th:only-of-type {\n",
       "        vertical-align: middle;\n",
       "    }\n",
       "\n",
       "    .dataframe tbody tr th {\n",
       "        vertical-align: top;\n",
       "    }\n",
       "\n",
       "    .dataframe thead th {\n",
       "        text-align: right;\n",
       "    }\n",
       "</style>\n",
       "<table border=\"1\" class=\"dataframe\">\n",
       "  <thead>\n",
       "    <tr style=\"text-align: right;\">\n",
       "      <th></th>\n",
       "      <th>negative</th>\n",
       "      <th>positive</th>\n",
       "      <th>total</th>\n",
       "    </tr>\n",
       "  </thead>\n",
       "  <tbody>\n",
       "    <tr>\n",
       "      <th>the</th>\n",
       "      <td>163291</td>\n",
       "      <td>167923</td>\n",
       "      <td>331214</td>\n",
       "    </tr>\n",
       "    <tr>\n",
       "      <th>and</th>\n",
       "      <td>73393</td>\n",
       "      <td>86879</td>\n",
       "      <td>160272</td>\n",
       "    </tr>\n",
       "    <tr>\n",
       "      <th>of</th>\n",
       "      <td>68291</td>\n",
       "      <td>75245</td>\n",
       "      <td>143536</td>\n",
       "    </tr>\n",
       "    <tr>\n",
       "      <th>to</th>\n",
       "      <td>67823</td>\n",
       "      <td>64567</td>\n",
       "      <td>132390</td>\n",
       "    </tr>\n",
       "    <tr>\n",
       "      <th>is</th>\n",
       "      <td>49158</td>\n",
       "      <td>54580</td>\n",
       "      <td>103738</td>\n",
       "    </tr>\n",
       "    <tr>\n",
       "      <th>br</th>\n",
       "      <td>51361</td>\n",
       "      <td>48719</td>\n",
       "      <td>100080</td>\n",
       "    </tr>\n",
       "    <tr>\n",
       "      <th>it</th>\n",
       "      <td>47328</td>\n",
       "      <td>47058</td>\n",
       "      <td>94386</td>\n",
       "    </tr>\n",
       "    <tr>\n",
       "      <th>in</th>\n",
       "      <td>43767</td>\n",
       "      <td>49027</td>\n",
       "      <td>92794</td>\n",
       "    </tr>\n",
       "    <tr>\n",
       "      <th>this</th>\n",
       "      <td>40428</td>\n",
       "      <td>34558</td>\n",
       "      <td>74986</td>\n",
       "    </tr>\n",
       "    <tr>\n",
       "      <th>that</th>\n",
       "      <td>36640</td>\n",
       "      <td>33947</td>\n",
       "      <td>70587</td>\n",
       "    </tr>\n",
       "    <tr>\n",
       "      <th>was</th>\n",
       "      <td>25976</td>\n",
       "      <td>21421</td>\n",
       "      <td>47397</td>\n",
       "    </tr>\n",
       "    <tr>\n",
       "      <th>as</th>\n",
       "      <td>20015</td>\n",
       "      <td>24795</td>\n",
       "      <td>44810</td>\n",
       "    </tr>\n",
       "    <tr>\n",
       "      <th>movie</th>\n",
       "      <td>25148</td>\n",
       "      <td>18772</td>\n",
       "      <td>43920</td>\n",
       "    </tr>\n",
       "    <tr>\n",
       "      <th>with</th>\n",
       "      <td>20765</td>\n",
       "      <td>22465</td>\n",
       "      <td>43230</td>\n",
       "    </tr>\n",
       "    <tr>\n",
       "      <th>for</th>\n",
       "      <td>21304</td>\n",
       "      <td>21817</td>\n",
       "      <td>43121</td>\n",
       "    </tr>\n",
       "    <tr>\n",
       "      <th>but</th>\n",
       "      <td>21034</td>\n",
       "      <td>19891</td>\n",
       "      <td>40925</td>\n",
       "    </tr>\n",
       "    <tr>\n",
       "      <th>film</th>\n",
       "      <td>18373</td>\n",
       "      <td>21170</td>\n",
       "      <td>39543</td>\n",
       "    </tr>\n",
       "    <tr>\n",
       "      <th>you</th>\n",
       "      <td>18041</td>\n",
       "      <td>16821</td>\n",
       "      <td>34862</td>\n",
       "    </tr>\n",
       "    <tr>\n",
       "      <th>on</th>\n",
       "      <td>17112</td>\n",
       "      <td>16737</td>\n",
       "      <td>33849</td>\n",
       "    </tr>\n",
       "    <tr>\n",
       "      <th>not</th>\n",
       "      <td>16086</td>\n",
       "      <td>14028</td>\n",
       "      <td>30114</td>\n",
       "    </tr>\n",
       "    <tr>\n",
       "      <th>are</th>\n",
       "      <td>14526</td>\n",
       "      <td>14419</td>\n",
       "      <td>28945</td>\n",
       "    </tr>\n",
       "    <tr>\n",
       "      <th>he</th>\n",
       "      <td>13231</td>\n",
       "      <td>15446</td>\n",
       "      <td>28677</td>\n",
       "    </tr>\n",
       "    <tr>\n",
       "      <th>his</th>\n",
       "      <td>11676</td>\n",
       "      <td>16500</td>\n",
       "      <td>28176</td>\n",
       "    </tr>\n",
       "    <tr>\n",
       "      <th>have</th>\n",
       "      <td>15464</td>\n",
       "      <td>12003</td>\n",
       "      <td>27467</td>\n",
       "    </tr>\n",
       "    <tr>\n",
       "      <th>one</th>\n",
       "      <td>13143</td>\n",
       "      <td>13663</td>\n",
       "      <td>26806</td>\n",
       "    </tr>\n",
       "  </tbody>\n",
       "</table>\n",
       "</div>"
      ],
      "text/plain": [
       "       negative  positive   total\n",
       "the      163291    167923  331214\n",
       "and       73393     86879  160272\n",
       "of        68291     75245  143536\n",
       "to        67823     64567  132390\n",
       "is        49158     54580  103738\n",
       "br        51361     48719  100080\n",
       "it        47328     47058   94386\n",
       "in        43767     49027   92794\n",
       "this      40428     34558   74986\n",
       "that      36640     33947   70587\n",
       "was       25976     21421   47397\n",
       "as        20015     24795   44810\n",
       "movie     25148     18772   43920\n",
       "with      20765     22465   43230\n",
       "for       21304     21817   43121\n",
       "but       21034     19891   40925\n",
       "film      18373     21170   39543\n",
       "you       18041     16821   34862\n",
       "on        17112     16737   33849\n",
       "not       16086     14028   30114\n",
       "are       14526     14419   28945\n",
       "he        13231     15446   28677\n",
       "his       11676     16500   28176\n",
       "have      15464     12003   27467\n",
       "one       13143     13663   26806"
      ]
     },
     "execution_count": 22,
     "metadata": {},
     "output_type": "execute_result"
    }
   ],
   "source": [
    "term_freq_df.columns = ['negative', 'positive']\n",
    "term_freq_df['total'] = term_freq_df['negative'] + term_freq_df['positive']\n",
    "term_freq_df.sort_values(by='total', ascending=False).iloc[:25]"
   ]
  },
  {
   "cell_type": "code",
   "execution_count": 23,
   "id": "6471b406-656f-4bcf-9831-65eca23834f1",
   "metadata": {},
   "outputs": [],
   "source": [
    "#Code from https://towardsdatascience.com/another-twitter-sentiment-analysis-with-python-part-3-zipfs-law-data-visualisation-fc9eadda71e7"
   ]
  },
  {
   "cell_type": "code",
   "execution_count": 24,
   "id": "d4c56b69-6bdf-4614-bd91-4a175e37429e",
   "metadata": {},
   "outputs": [
    {
     "data": {
      "text/plain": [
       "(73822, 3)"
      ]
     },
     "execution_count": 24,
     "metadata": {},
     "output_type": "execute_result"
    }
   ],
   "source": [
    "term_freq_df.shape"
   ]
  },
  {
   "cell_type": "markdown",
   "id": "0f8d6238-d760-4a2f-a002-8dfac69f4c2e",
   "metadata": {},
   "source": [
    "#### Zipf's law calculations"
   ]
  },
  {
   "cell_type": "markdown",
   "id": "3b1410be-dca0-48ea-b069-cdccef832178",
   "metadata": {},
   "source": [
    "##### I tried running it on all tokens, but it makes my computer crash..."
   ]
  },
  {
   "cell_type": "code",
   "execution_count": 25,
   "id": "63181289-1b2a-452e-ac60-80d0c359323e",
   "metadata": {},
   "outputs": [
    {
     "data": {
      "text/plain": [
       "Text(0.5, 1.0, \"Top 500 tokens in IMDB reviews, with Zipf's law in dotted red\")"
      ]
     },
     "execution_count": 25,
     "metadata": {},
     "output_type": "execute_result"
    },
    {
     "data": {
      "image/png": "[encoded data removed]",
      "text/plain": [
       "<Figure size 720x576 with 1 Axes>"
      ]
     },
     "metadata": {},
     "output_type": "display_data"
    }
   ],
   "source": [
    "y_pos = np.arange(500)\n",
    "plt.figure(figsize=(10,8))\n",
    "s = 1\n",
    "expected_zipf = [term_freq_df.sort_values(by='total', ascending=False)['total'][0]/(i+1)**s for i in y_pos]\n",
    "plt.bar(y_pos, term_freq_df.sort_values(by='total', ascending=False)['total'][:500], align='center', alpha=0.5)\n",
    "plt.plot(y_pos, expected_zipf, color='r', linestyle='--',linewidth=2,alpha=0.5)\n",
    "plt.ylabel('Frequency')\n",
    "plt.title(\"Top 500 tokens in IMDB reviews, with Zipf's law in dotted red\")"
   ]
  },
  {
   "cell_type": "markdown",
   "id": "64f5cb04-77c5-434a-8b24-72d5a088622a",
   "metadata": {
    "tags": []
   },
   "source": [
    "### Checking which words do not respect Zipf's law"
   ]
  },
  {
   "cell_type": "code",
   "execution_count": 26,
   "id": "e080502f-80bc-494a-91a4-87535decc9e9",
   "metadata": {},
   "outputs": [],
   "source": [
    "terms = pd.DataFrame(term_freq_df.sort_values(by='total', ascending=False)['total'][:500])\n",
    "terms['zipf'] = [int(z) for z in expected_zipf]"
   ]
  },
  {
   "cell_type": "code",
   "execution_count": 27,
   "id": "82be374c-92d3-4675-bd0d-e22078ed777b",
   "metadata": {},
   "outputs": [
    {
     "data": {
      "text/html": [
       "<div>\n",
       "<style scoped>\n",
       "    .dataframe tbody tr th:only-of-type {\n",
       "        vertical-align: middle;\n",
       "    }\n",
       "\n",
       "    .dataframe tbody tr th {\n",
       "        vertical-align: top;\n",
       "    }\n",
       "\n",
       "    .dataframe thead th {\n",
       "        text-align: right;\n",
       "    }\n",
       "</style>\n",
       "<table border=\"1\" class=\"dataframe\">\n",
       "  <thead>\n",
       "    <tr style=\"text-align: right;\">\n",
       "      <th></th>\n",
       "      <th>total</th>\n",
       "      <th>zipf</th>\n",
       "    </tr>\n",
       "  </thead>\n",
       "  <tbody>\n",
       "    <tr>\n",
       "      <th>the</th>\n",
       "      <td>331214</td>\n",
       "      <td>331214</td>\n",
       "    </tr>\n",
       "    <tr>\n",
       "      <th>and</th>\n",
       "      <td>160272</td>\n",
       "      <td>165607</td>\n",
       "    </tr>\n",
       "    <tr>\n",
       "      <th>of</th>\n",
       "      <td>143536</td>\n",
       "      <td>110404</td>\n",
       "    </tr>\n",
       "    <tr>\n",
       "      <th>to</th>\n",
       "      <td>132390</td>\n",
       "      <td>82803</td>\n",
       "    </tr>\n",
       "    <tr>\n",
       "      <th>is</th>\n",
       "      <td>103738</td>\n",
       "      <td>66242</td>\n",
       "    </tr>\n",
       "  </tbody>\n",
       "</table>\n",
       "</div>"
      ],
      "text/plain": [
       "      total    zipf\n",
       "the  331214  331214\n",
       "and  160272  165607\n",
       "of   143536  110404\n",
       "to   132390   82803\n",
       "is   103738   66242"
      ]
     },
     "execution_count": 27,
     "metadata": {},
     "output_type": "execute_result"
    }
   ],
   "source": [
    "terms.head()"
   ]
  },
  {
   "cell_type": "code",
   "execution_count": 28,
   "id": "5c24f376-39e0-4afa-845e-fd4c29ca4015",
   "metadata": {},
   "outputs": [],
   "source": [
    "def check_Zipf(count,zipf):\n",
    "        return((count-zipf)/zipf * 100)"
   ]
  },
  {
   "cell_type": "code",
   "execution_count": 29,
   "id": "7a67d1e1-aaee-4fb1-a236-276430ab95ed",
   "metadata": {},
   "outputs": [],
   "source": [
    "terms['difference'] = terms.apply(lambda x: check_Zipf(x['total'], x['zipf']), axis=1)"
   ]
  },
  {
   "cell_type": "code",
   "execution_count": 30,
   "id": "ac02621e-e080-414e-a8c9-8a4787541ef7",
   "metadata": {},
   "outputs": [
    {
     "data": {
      "text/plain": [
       "count    500.000000\n",
       "mean      93.366456\n",
       "std       12.152500\n",
       "min       -3.221482\n",
       "25%       87.145154\n",
       "50%       91.612956\n",
       "75%       98.966246\n",
       "max      124.134683\n",
       "Name: difference, dtype: float64"
      ]
     },
     "execution_count": 30,
     "metadata": {},
     "output_type": "execute_result"
    }
   ],
   "source": [
    "terms['difference'].describe()"
   ]
  },
  {
   "cell_type": "code",
   "execution_count": 31,
   "id": "12c4a6e4-4cfe-43f7-80ff-6da6e90fbcae",
   "metadata": {},
   "outputs": [
    {
     "data": {
      "text/html": [
       "<div>\n",
       "<style scoped>\n",
       "    .dataframe tbody tr th:only-of-type {\n",
       "        vertical-align: middle;\n",
       "    }\n",
       "\n",
       "    .dataframe tbody tr th {\n",
       "        vertical-align: top;\n",
       "    }\n",
       "\n",
       "    .dataframe thead th {\n",
       "        text-align: right;\n",
       "    }\n",
       "</style>\n",
       "<table border=\"1\" class=\"dataframe\">\n",
       "  <thead>\n",
       "    <tr style=\"text-align: right;\">\n",
       "      <th></th>\n",
       "      <th>total</th>\n",
       "      <th>zipf</th>\n",
       "      <th>difference</th>\n",
       "    </tr>\n",
       "  </thead>\n",
       "  <tbody>\n",
       "    <tr>\n",
       "      <th>in</th>\n",
       "      <td>92794</td>\n",
       "      <td>41401</td>\n",
       "      <td>124.134683</td>\n",
       "    </tr>\n",
       "    <tr>\n",
       "      <th>this</th>\n",
       "      <td>74986</td>\n",
       "      <td>36801</td>\n",
       "      <td>103.760767</td>\n",
       "    </tr>\n",
       "    <tr>\n",
       "      <th>that</th>\n",
       "      <td>70587</td>\n",
       "      <td>33121</td>\n",
       "      <td>113.118565</td>\n",
       "    </tr>\n",
       "    <tr>\n",
       "      <th>film</th>\n",
       "      <td>39543</td>\n",
       "      <td>19483</td>\n",
       "      <td>102.961556</td>\n",
       "    </tr>\n",
       "    <tr>\n",
       "      <th>one</th>\n",
       "      <td>26806</td>\n",
       "      <td>13248</td>\n",
       "      <td>102.339976</td>\n",
       "    </tr>\n",
       "    <tr>\n",
       "      <th>...</th>\n",
       "      <td>...</td>\n",
       "      <td>...</td>\n",
       "      <td>...</td>\n",
       "    </tr>\n",
       "    <tr>\n",
       "      <th>going</th>\n",
       "      <td>4088</td>\n",
       "      <td>2031</td>\n",
       "      <td>101.280158</td>\n",
       "    </tr>\n",
       "    <tr>\n",
       "      <th>find</th>\n",
       "      <td>4087</td>\n",
       "      <td>2019</td>\n",
       "      <td>102.426944</td>\n",
       "    </tr>\n",
       "    <tr>\n",
       "      <th>nothing</th>\n",
       "      <td>4083</td>\n",
       "      <td>2007</td>\n",
       "      <td>103.437967</td>\n",
       "    </tr>\n",
       "    <tr>\n",
       "      <th>same</th>\n",
       "      <td>4043</td>\n",
       "      <td>1995</td>\n",
       "      <td>102.656642</td>\n",
       "    </tr>\n",
       "    <tr>\n",
       "      <th>every</th>\n",
       "      <td>3989</td>\n",
       "      <td>1983</td>\n",
       "      <td>101.159859</td>\n",
       "    </tr>\n",
       "  </tbody>\n",
       "</table>\n",
       "<p>114 rows × 3 columns</p>\n",
       "</div>"
      ],
      "text/plain": [
       "         total   zipf  difference\n",
       "in       92794  41401  124.134683\n",
       "this     74986  36801  103.760767\n",
       "that     70587  33121  113.118565\n",
       "film     39543  19483  102.961556\n",
       "one      26806  13248  102.339976\n",
       "...        ...    ...         ...\n",
       "going     4088   2031  101.280158\n",
       "find      4087   2019  102.426944\n",
       "nothing   4083   2007  103.437967\n",
       "same      4043   1995  102.656642\n",
       "every     3989   1983  101.159859\n",
       "\n",
       "[114 rows x 3 columns]"
      ]
     },
     "execution_count": 31,
     "metadata": {},
     "output_type": "execute_result"
    }
   ],
   "source": [
    "terms.loc[(terms['difference'] >=100)]"
   ]
  },
  {
   "cell_type": "markdown",
   "id": "0cda5da8-8849-4c0a-b230-9fe5309e485a",
   "metadata": {},
   "source": [
    "So here we can say that 114/500 of the most common words are significantly (?) different from their predicted frequencies according to Zipf's law?"
   ]
  },
  {
   "cell_type": "markdown",
   "id": "86361ea1-5127-4301-9caa-a4439477cb04",
   "metadata": {},
   "source": [
    "### Checking open versus closed class words"
   ]
  },
  {
   "cell_type": "code",
   "execution_count": 33,
   "id": "9617e165-c503-49c4-9671-bf691223e7df",
   "metadata": {},
   "outputs": [],
   "source": [
    "wordlist=open('../resources/closed_EN.txt', 'r').readlines()"
   ]
  },
  {
   "cell_type": "code",
   "execution_count": 34,
   "id": "20122161-9138-4e04-a6fe-d03a49719099",
   "metadata": {},
   "outputs": [
    {
     "name": "stdout",
     "output_type": "stream",
     "text": [
      "312\n"
     ]
    }
   ],
   "source": [
    "closedlist=[]\n",
    "for l in wordlist:\n",
    "    closedlist= closedlist + (l.split())\n",
    "print(len(closedlist))"
   ]
  },
  {
   "cell_type": "code",
   "execution_count": 35,
   "id": "c973c231-3421-4aa0-9cdf-25916012be69",
   "metadata": {},
   "outputs": [
    {
     "data": {
      "text/plain": [
       "(500, 3)"
      ]
     },
     "execution_count": 35,
     "metadata": {},
     "output_type": "execute_result"
    }
   ],
   "source": [
    "terms.shape"
   ]
  },
  {
   "cell_type": "code",
   "execution_count": 36,
   "id": "1b6ccd6b-de87-46d5-b3c7-7c87e4f6e700",
   "metadata": {},
   "outputs": [
    {
     "data": {
      "text/plain": [
       "(141, 3)"
      ]
     },
     "execution_count": 36,
     "metadata": {},
     "output_type": "execute_result"
    }
   ],
   "source": [
    "closedclass= terms[terms.index.isin(closedlist)]\n",
    "closedclass.shape"
   ]
  },
  {
   "cell_type": "code",
   "execution_count": 51,
   "id": "c7c7c199-acac-4fa3-91ea-626a24aa6077",
   "metadata": {},
   "outputs": [
    {
     "data": {
      "text/html": [
       "<div>\n",
       "<style scoped>\n",
       "    .dataframe tbody tr th:only-of-type {\n",
       "        vertical-align: middle;\n",
       "    }\n",
       "\n",
       "    .dataframe tbody tr th {\n",
       "        vertical-align: top;\n",
       "    }\n",
       "\n",
       "    .dataframe thead th {\n",
       "        text-align: right;\n",
       "    }\n",
       "</style>\n",
       "<table border=\"1\" class=\"dataframe\">\n",
       "  <thead>\n",
       "    <tr style=\"text-align: right;\">\n",
       "      <th></th>\n",
       "      <th>total</th>\n",
       "      <th>zipf</th>\n",
       "      <th>difference</th>\n",
       "    </tr>\n",
       "  </thead>\n",
       "  <tbody>\n",
       "    <tr>\n",
       "      <th>in</th>\n",
       "      <td>92794</td>\n",
       "      <td>41401</td>\n",
       "      <td>124.134683</td>\n",
       "    </tr>\n",
       "    <tr>\n",
       "      <th>first</th>\n",
       "      <td>8518</td>\n",
       "      <td>3851</td>\n",
       "      <td>121.189301</td>\n",
       "    </tr>\n",
       "    <tr>\n",
       "      <th>most</th>\n",
       "      <td>8591</td>\n",
       "      <td>3896</td>\n",
       "      <td>120.508214</td>\n",
       "    </tr>\n",
       "    <tr>\n",
       "      <th>because</th>\n",
       "      <td>8668</td>\n",
       "      <td>3943</td>\n",
       "      <td>119.832615</td>\n",
       "    </tr>\n",
       "    <tr>\n",
       "      <th>him</th>\n",
       "      <td>8709</td>\n",
       "      <td>3990</td>\n",
       "      <td>118.270677</td>\n",
       "    </tr>\n",
       "    <tr>\n",
       "      <th>where</th>\n",
       "      <td>6299</td>\n",
       "      <td>2905</td>\n",
       "      <td>116.833046</td>\n",
       "    </tr>\n",
       "    <tr>\n",
       "      <th>too</th>\n",
       "      <td>7549</td>\n",
       "      <td>3486</td>\n",
       "      <td>116.551922</td>\n",
       "    </tr>\n",
       "    <tr>\n",
       "      <th>into</th>\n",
       "      <td>8736</td>\n",
       "      <td>4039</td>\n",
       "      <td>116.291161</td>\n",
       "    </tr>\n",
       "    <tr>\n",
       "      <th>did</th>\n",
       "      <td>6327</td>\n",
       "      <td>2931</td>\n",
       "      <td>115.864893</td>\n",
       "    </tr>\n",
       "    <tr>\n",
       "      <th>little</th>\n",
       "      <td>5997</td>\n",
       "      <td>2783</td>\n",
       "      <td>115.486885</td>\n",
       "    </tr>\n",
       "  </tbody>\n",
       "</table>\n",
       "</div>"
      ],
      "text/plain": [
       "         total   zipf  difference\n",
       "in       92794  41401  124.134683\n",
       "first     8518   3851  121.189301\n",
       "most      8591   3896  120.508214\n",
       "because   8668   3943  119.832615\n",
       "him       8709   3990  118.270677\n",
       "where     6299   2905  116.833046\n",
       "too       7549   3486  116.551922\n",
       "into      8736   4039  116.291161\n",
       "did       6327   2931  115.864893\n",
       "little    5997   2783  115.486885"
      ]
     },
     "execution_count": 51,
     "metadata": {},
     "output_type": "execute_result"
    }
   ],
   "source": [
    "closedclass.loc[(closedclass['difference'] >=100)].sort_values(by='difference', ascending=False).head(10)"
   ]
  },
  {
   "cell_type": "code",
   "execution_count": 70,
   "id": "db7161b9-141c-4d37-b738-43524718fc6b",
   "metadata": {},
   "outputs": [
    {
     "data": {
      "text/plain": [
       "[<matplotlib.lines.Line2D at 0x7f51271939d0>,\n",
       " <matplotlib.lines.Line2D at 0x7f5127193a90>]"
      ]
     },
     "execution_count": 70,
     "metadata": {},
     "output_type": "execute_result"
    },
    {
     "data": {
      "image/png": "[encoded data removed]",
      "text/plain": [
       "<Figure size 720x576 with 1 Axes>"
      ]
     },
     "metadata": {},
     "output_type": "display_data"
    }
   ],
   "source": [
    "plt.figure(figsize=(10,8))\n",
    "plt.plot(closedclass[['total','zipf']].loc[(closedclass['difference'] >=100)].sort_values(by='total', ascending=False).head(10))"
   ]
  },
  {
   "cell_type": "code",
   "execution_count": 39,
   "id": "a2528225-ecbe-4962-b53e-0c46239e93d6",
   "metadata": {},
   "outputs": [
    {
     "data": {
      "text/plain": [
       "(359, 3)"
      ]
     },
     "execution_count": 39,
     "metadata": {},
     "output_type": "execute_result"
    }
   ],
   "source": [
    "openclass= terms[~terms.index.isin(closedlist)]\n",
    "openclass.shape"
   ]
  },
  {
   "cell_type": "code",
   "execution_count": 40,
   "id": "88bee507-c02a-4627-9506-4f34a1e9dbc1",
   "metadata": {},
   "outputs": [
    {
     "data": {
      "text/plain": [
       "count    359.000000\n",
       "mean      91.647880\n",
       "std        8.438943\n",
       "min       72.384018\n",
       "25%       86.658864\n",
       "50%       90.636704\n",
       "75%       95.141273\n",
       "max      118.194444\n",
       "Name: difference, dtype: float64"
      ]
     },
     "execution_count": 40,
     "metadata": {},
     "output_type": "execute_result"
    }
   ],
   "source": [
    "openclass['difference'].describe()"
   ]
  },
  {
   "cell_type": "code",
   "execution_count": 62,
   "id": "480917c0-7631-4a8b-8549-1a4239f0a2e2",
   "metadata": {},
   "outputs": [
    {
     "data": {
      "text/html": [
       "<div>\n",
       "<style scoped>\n",
       "    .dataframe tbody tr th:only-of-type {\n",
       "        vertical-align: middle;\n",
       "    }\n",
       "\n",
       "    .dataframe tbody tr th {\n",
       "        vertical-align: top;\n",
       "    }\n",
       "\n",
       "    .dataframe thead th {\n",
       "        text-align: right;\n",
       "    }\n",
       "</style>\n",
       "<table border=\"1\" class=\"dataframe\">\n",
       "  <thead>\n",
       "    <tr style=\"text-align: right;\">\n",
       "      <th></th>\n",
       "      <th>total</th>\n",
       "      <th>zipf</th>\n",
       "      <th>difference</th>\n",
       "    </tr>\n",
       "  </thead>\n",
       "  <tbody>\n",
       "    <tr>\n",
       "      <th>film</th>\n",
       "      <td>39543</td>\n",
       "      <td>19483</td>\n",
       "      <td>102.961556</td>\n",
       "    </tr>\n",
       "    <tr>\n",
       "      <th>good</th>\n",
       "      <td>14606</td>\n",
       "      <td>7200</td>\n",
       "      <td>102.861111</td>\n",
       "    </tr>\n",
       "    <tr>\n",
       "      <th>very</th>\n",
       "      <td>13658</td>\n",
       "      <td>6624</td>\n",
       "      <td>106.189614</td>\n",
       "    </tr>\n",
       "    <tr>\n",
       "      <th>time</th>\n",
       "      <td>12382</td>\n",
       "      <td>6022</td>\n",
       "      <td>105.612753</td>\n",
       "    </tr>\n",
       "    <tr>\n",
       "      <th>even</th>\n",
       "      <td>12216</td>\n",
       "      <td>5914</td>\n",
       "      <td>106.560703</td>\n",
       "    </tr>\n",
       "    <tr>\n",
       "      <th>see</th>\n",
       "      <td>11550</td>\n",
       "      <td>5710</td>\n",
       "      <td>102.276708</td>\n",
       "    </tr>\n",
       "    <tr>\n",
       "      <th>really</th>\n",
       "      <td>11354</td>\n",
       "      <td>5520</td>\n",
       "      <td>105.688406</td>\n",
       "    </tr>\n",
       "    <tr>\n",
       "      <th>only</th>\n",
       "      <td>11321</td>\n",
       "      <td>5342</td>\n",
       "      <td>111.924373</td>\n",
       "    </tr>\n",
       "    <tr>\n",
       "      <th>story</th>\n",
       "      <td>11129</td>\n",
       "      <td>5257</td>\n",
       "      <td>111.698687</td>\n",
       "    </tr>\n",
       "    <tr>\n",
       "      <th>well</th>\n",
       "      <td>10598</td>\n",
       "      <td>5018</td>\n",
       "      <td>111.199681</td>\n",
       "    </tr>\n",
       "  </tbody>\n",
       "</table>\n",
       "</div>"
      ],
      "text/plain": [
       "        total   zipf  difference\n",
       "film    39543  19483  102.961556\n",
       "good    14606   7200  102.861111\n",
       "very    13658   6624  106.189614\n",
       "time    12382   6022  105.612753\n",
       "even    12216   5914  106.560703\n",
       "see     11550   5710  102.276708\n",
       "really  11354   5520  105.688406\n",
       "only    11321   5342  111.924373\n",
       "story   11129   5257  111.698687\n",
       "well    10598   5018  111.199681"
      ]
     },
     "execution_count": 62,
     "metadata": {},
     "output_type": "execute_result"
    }
   ],
   "source": [
    "openclass.loc[(openclass['difference'] >=100)].sort_values(by='total', ascending=False).head(10)"
   ]
  },
  {
   "cell_type": "code",
   "execution_count": 68,
   "id": "9e85a761-2c25-441f-953a-6100ea341d25",
   "metadata": {},
   "outputs": [
    {
     "data": {
      "text/plain": [
       "[<matplotlib.lines.Line2D at 0x7f512721ab80>,\n",
       " <matplotlib.lines.Line2D at 0x7f512721ac40>]"
      ]
     },
     "execution_count": 68,
     "metadata": {},
     "output_type": "execute_result"
    },
    {
     "data": {
      "image/png": "[encoded data removed]",
      "text/plain": [
       "<Figure size 720x576 with 1 Axes>"
      ]
     },
     "metadata": {},
     "output_type": "display_data"
    }
   ],
   "source": [
    "plt.figure(figsize=(10,8))\n",
    "plt.plot(openclass[['total','zipf']].loc[(openclass['difference'] >=100)].sort_values(by='total', ascending=False).head(10))"
   ]
  },
  {
   "cell_type": "markdown",
   "id": "023a6640-0ec1-483f-a3bd-d09e23727ac0",
   "metadata": {},
   "source": [
    "### Calculating average fit of Zipf's law (not sure this makes sense, but hey)"
   ]
  },
  {
   "cell_type": "markdown",
   "id": "83b3d6fa-796a-4c8b-9145-716a89f0a969",
   "metadata": {},
   "source": [
    "See: https://stats.stackexchange.com/questions/180793/how-to-verify-if-data-follows-zipfs-law-without-looking-at-the-graph/180810#180810"
   ]
  },
  {
   "cell_type": "code",
   "execution_count": 106,
   "id": "8e7271fe-d1bf-41a6-8393-7dab72f34402",
   "metadata": {},
   "outputs": [],
   "source": [
    "def neg_zipf_likelihood(s):\n",
    "    counter_of_words = Counter(word_tokenize(str(' '.join([d for d in datadf.text.values]))))\n",
    "    counter_of_counts = Counter(counter_of_words.values())\n",
    "    word_counts = np.array(list(counter_of_counts.keys()))\n",
    "    freq_of_word_counts = np.array(list(counter_of_counts.values()))\n",
    "    n = sum(freq_of_word_counts)\n",
    "    # for each word count, find the probability that a random word has such word count\n",
    "    probas = word_counts ** (-s) / np.sum(np.arange(1, n+1) **(-s))\n",
    "    log_likelihood = sum(np.log(probas) * word_counts)\n",
    "    return -log_likelihood"
   ]
  },
  {
   "cell_type": "code",
   "execution_count": 107,
   "id": "5e05570d-1663-4f69-9235-09a05dccba20",
   "metadata": {},
   "outputs": [
    {
     "name": "stdout",
     "output_type": "stream",
     "text": [
      "0.3990775338344635\n"
     ]
    }
   ],
   "source": [
    "#from https://stats.stackexchange.com/questions/331219/characterizing-fitting-word-count-data-into-zipf-power-law-lognormal\n",
    "s_best = minimize_scalar(neg_zipf_likelihood, [0.1, 3.0] )\n",
    "print(s_best.x)"
   ]
  },
  {
   "cell_type": "markdown",
   "id": "7f917ed8-32e7-4f31-9a15-7431e83e5d3f",
   "metadata": {
    "tags": []
   },
   "source": [
    "#### This is currently giving weird results:"
   ]
  },
  {
   "cell_type": "code",
   "execution_count": null,
   "id": "0fb1d4da-a1cf-4c3e-8465-ff3ce7cc2a53",
   "metadata": {},
   "outputs": [],
   "source": [
    "counts = term_freq_df.total\n",
    "tokens = term_freq_df.index\n",
    "ranks = np.arange(1, len(counts)+1)\n",
    "indices = np.argsort(-counts)\n",
    "frequencies = counts[indices]\n",
    "plt.figure(figsize=(8,6))\n",
    "plt.ylim(1,10**6)\n",
    "plt.xlim(1,10**6)\n",
    "plt.loglog(ranks, frequencies, marker=\".\")\n",
    "plt.plot([1,frequencies[0]],[frequencies[0],1],color='r')\n",
    "plt.title(\"Zipf plot for review tokens\")\n",
    "plt.xlabel(\"Frequency rank of token\")\n",
    "plt.ylabel(\"Absolute frequency of token\")\n",
    "plt.grid(True)\n",
    "for n in list(np.logspace(-0.5, np.log10(len(counts)-2), 25).astype(int)):\n",
    "    dummy = plt.text(ranks[n], frequencies[n], \" \" + tokens[indices[n]], \n",
    "                 verticalalignment=\"bottom\",\n",
    "                 horizontalalignment=\"left\")"
   ]
  },
  {
   "cell_type": "code",
   "execution_count": null,
   "id": "eea6ad8b-3449-46b7-9085-81e006967063",
   "metadata": {},
   "outputs": [],
   "source": [
    "datadf[datadf['text'].str.contains(\"ruptures\")]"
   ]
  },
  {
   "cell_type": "code",
   "execution_count": null,
   "id": "dab76508-fe16-4fd6-bc06-32cba2cd7b67",
   "metadata": {},
   "outputs": [],
   "source": [
    "neg = np.sum(neg_tf,axis=0)\n",
    "pos = np.sum(pos_tf,axis=0)\n",
    "term_freq_df2 = pd.DataFrame([neg,pos],columns=cvec.get_feature_names()).transpose()\n",
    "term_freq_df2.columns = ['negative', 'positive']\n",
    "term_freq_df2['total'] = term_freq_df2['negative'] + term_freq_df2['positive']\n",
    "term_freq_df2.sort_values(by='total', ascending=False).iloc[:10]"
   ]
  },
  {
   "cell_type": "code",
   "execution_count": null,
   "id": "be86f086-ef9e-426d-9b7c-368e474152c4",
   "metadata": {},
   "outputs": [],
   "source": [
    "y_pos = np.arange(50)\n",
    "plt.figure(figsize=(12,10))\n",
    "plt.bar(y_pos, term_freq_df2.sort_values(by='negative', ascending=False)['negative'][:50], align='center', alpha=0.5)\n",
    "plt.xticks(y_pos, term_freq_df2.sort_values(by='negative', ascending=False)['negative'][:50].index,rotation='vertical')\n",
    "plt.ylabel('Frequency')\n",
    "plt.xlabel('Top 50 negative tokens')\n",
    "plt.title('Top 50 tokens in negative reviews')"
   ]
  },
  {
   "cell_type": "markdown",
   "id": "33e03298-e437-4480-ad5a-660ab31ede62",
   "metadata": {
    "tags": []
   },
   "source": [
    "### I honestly don't know if any of the stuff below is really useful"
   ]
  },
  {
   "cell_type": "markdown",
   "id": "a9a1f306-d36f-4d3c-ba97-0fa7cc8feeb9",
   "metadata": {
    "tags": []
   },
   "source": [
    "#### Maybe to show which words only appear in certain labels? (e.g. \"kurds\" seems to only appear in positive reviews in this dataset)"
   ]
  },
  {
   "cell_type": "code",
   "execution_count": null,
   "id": "b123a7d0-a2ca-4eef-9966-37db5a52da50",
   "metadata": {},
   "outputs": [],
   "source": [
    "term_freq_df2['pos_rate'] = term_freq_df2['positive'] * 1./term_freq_df2['total']\n",
    "term_freq_df2.sort_values(by='pos_rate', ascending=False).iloc[:10]"
   ]
  },
  {
   "cell_type": "code",
   "execution_count": null,
   "id": "eddaa5cb-595a-4bff-a713-0648fff53600",
   "metadata": {},
   "outputs": [],
   "source": [
    "for t in datadf.text[datadf['text'].str.contains(\"Kurds\")]:\n",
    "    print(t)"
   ]
  },
  {
   "cell_type": "code",
   "execution_count": null,
   "id": "4adcfd42-b411-4042-9ded-08d1cc7dceba",
   "metadata": {},
   "outputs": [],
   "source": [
    "term_freq_df2['pos_freq_pct'] = term_freq_df2['positive'] * 1./term_freq_df2['positive'].sum()\n",
    "term_freq_df2.sort_values(by='pos_freq_pct', ascending=False).iloc[:10]"
   ]
  },
  {
   "cell_type": "code",
   "execution_count": null,
   "id": "3903d0d4-9b8e-474a-ad6b-e5d0a0dd20e5",
   "metadata": {},
   "outputs": [],
   "source": [
    "term_freq_df2['pos_hmean'] = term_freq_df2.apply(lambda x: (harmonic_mean([x['pos_rate'], x['pos_freq_pct']])                                                               if x['pos_rate'] > 0 and x['pos_freq_pct'] > 0 else 0), axis=1)\n",
    "                                                       \n",
    "term_freq_df2.sort_values(by='pos_hmean', ascending=False).iloc[:10]"
   ]
  },
  {
   "cell_type": "code",
   "execution_count": null,
   "id": "bd46fa05-aa8b-4ff0-ae4f-ddf4bf181aab",
   "metadata": {},
   "outputs": [],
   "source": [
    "def normcdf(x):\n",
    "    return norm.cdf(x, x.mean(), x.std())"
   ]
  },
  {
   "cell_type": "code",
   "execution_count": null,
   "id": "a7f04bac-76bb-43f5-b145-7d7430340fce",
   "metadata": {},
   "outputs": [],
   "source": [
    "np.sum(term_freq_df2.isnull().any(axis=1))"
   ]
  },
  {
   "cell_type": "code",
   "execution_count": null,
   "id": "ef4206ea-483d-4272-b09a-2c833915b04f",
   "metadata": {},
   "outputs": [],
   "source": [
    "term_freq_df2.dropna(inplace=True)"
   ]
  },
  {
   "cell_type": "code",
   "execution_count": null,
   "id": "9547d319-3451-4f3d-a369-428724b40e26",
   "metadata": {},
   "outputs": [],
   "source": [
    "term_freq_df2['pos_rate_normcdf'] = normcdf(term_freq_df2['pos_rate'])\n",
    "term_freq_df2['pos_freq_pct_normcdf'] = normcdf(term_freq_df2['pos_freq_pct'])\n",
    "term_freq_df2['pos_normcdf_hmean'] = hmean([term_freq_df2['pos_rate_normcdf'], term_freq_df2['pos_freq_pct_normcdf']])\n",
    "term_freq_df2.sort_values(by='pos_normcdf_hmean',ascending=False).iloc[:10]"
   ]
  },
  {
   "cell_type": "code",
   "execution_count": null,
   "id": "7ad505ff-e92a-4b50-b2ed-1edffdde519b",
   "metadata": {},
   "outputs": [],
   "source": [
    "term_freq_df2['neg_rate'] = term_freq_df2['negative'] * 1./term_freq_df2['total']\n",
    "term_freq_df2['neg_freq_pct'] = term_freq_df2['negative'] * 1./term_freq_df2['negative'].sum()\n",
    "term_freq_df2['neg_hmean'] = term_freq_df2.apply(lambda x: (hmean([x['neg_rate'], x['neg_freq_pct']])                                                                if x['neg_rate'] > 0 and x['neg_freq_pct'] > 0                                                                else 0), axis=1)\n",
    "                                                       \n",
    "term_freq_df2['neg_rate_normcdf'] = normcdf(term_freq_df2['neg_rate'])\n",
    "term_freq_df2['neg_freq_pct_normcdf'] = normcdf(term_freq_df2['neg_freq_pct'])\n",
    "term_freq_df2['neg_normcdf_hmean'] = hmean([term_freq_df2['neg_rate_normcdf'], term_freq_df2['neg_freq_pct_normcdf']])\n",
    "term_freq_df2.sort_values(by='neg_normcdf_hmean', ascending=False).iloc[:10]"
   ]
  },
  {
   "cell_type": "code",
   "execution_count": null,
   "id": "9db3fbb7-d568-4caa-a6b0-b7d0accb1e3d",
   "metadata": {},
   "outputs": [],
   "source": [
    "output_notebook()\n",
    "color_mapper = LinearColorMapper(palette='Inferno256', low=min(term_freq_df2.pos_normcdf_hmean), high=max(term_freq_df2.pos_normcdf_hmean))\n",
    "p = figure(x_axis_label='neg_normcdf_hmean', y_axis_label='pos_normcdf_hmean')\n",
    "p.circle('neg_normcdf_hmean','pos_normcdf_hmean',size=5,alpha=0.3,source=term_freq_df2,color={'field': 'pos_normcdf_hmean', 'transform': color_mapper})\n",
    "hover = HoverTool(tooltips=[('token','@index')])\n",
    "p.add_tools(hover)\n",
    "show(p)"
   ]
  }
 ],
 "metadata": {
  "kernelspec": {
   "display_name": "datametrics",
   "language": "python",
   "name": "datametrics"
  },
  "language_info": {
   "codemirror_mode": {
    "name": "ipython",
    "version": 3
   },
   "file_extension": ".py",
   "mimetype": "text/x-python",
   "name": "python",
   "nbconvert_exporter": "python",
   "pygments_lexer": "ipython3",
   "version": "3.8.5"
  }
 },
 "nbformat": 4,
 "nbformat_minor": 5
}
