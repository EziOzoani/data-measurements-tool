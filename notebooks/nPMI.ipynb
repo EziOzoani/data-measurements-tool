{
 "cells": [
  {
   "cell_type": "code",
   "execution_count": 1,
   "id": "97024cf4-c930-4aa1-a13f-ecdcc2462afe",
   "metadata": {},
   "outputs": [],
   "source": [
    "import pandas as pd\n",
    "import numpy as np\n",
    "from datasets import load_dataset\n",
    "from sklearn.feature_extraction.text import CountVectorizer"
   ]
  },
  {
   "cell_type": "code",
   "execution_count": 2,
   "id": "5404d6b6-6ce1-48df-8999-7da3fb082662",
   "metadata": {},
   "outputs": [],
   "source": [
    "# This needs to be defined by the drop down\n",
    "subgroup = \"woman\""
   ]
  },
  {
   "cell_type": "code",
   "execution_count": 3,
   "id": "18bf08cc-e18f-49fc-bae7-f03a9a492baa",
   "metadata": {},
   "outputs": [],
   "source": [
    "data = load_dataset(\"c4\", \"en\", split= \"train\", streaming = True)"
   ]
  },
  {
   "cell_type": "code",
   "execution_count": 4,
   "id": "8ca6ee78-6f96-45e2-8dad-ec745c953d10",
   "metadata": {},
   "outputs": [
    {
     "name": "stdout",
     "output_type": "stream",
     "text": [
      "Note: Just taking the first 1000 instances.\n"
     ]
    }
   ],
   "source": [
    "grab_n = 5000\n",
    "# For streaming data\n",
    "print('Note: Just taking the first %s instances.' % grab_n)\n",
    "data_head = data.take(grab_n)\n",
    "df = pd.DataFrame(data_head)\n",
    "# If not streaming, use:\n",
    "#df = pd.json_normalize(data)"
   ]
  },
  {
   "cell_type": "code",
   "execution_count": 5,
   "id": "46d4d0c8-fc7c-4e99-8207-2e93d1c9b732",
   "metadata": {},
   "outputs": [],
   "source": [
    "def count_vocab_frequencies(df):\n",
    "    \"\"\"\n",
    "    Based on an input pandas DataFrame with a 'text' column, \n",
    "    this function will count the occurrences of all words\n",
    "    with a frequency higher than 'cutoff' and will return another DataFrame\n",
    "    with the rows corresponding to the different vocabulary words\n",
    "    and the column to the count count of that word.\n",
    "    \"\"\"\n",
    "    # Move this up as a constant in larger code.\n",
    "    batch_size = 10\n",
    "    \n",
    "    # We do this to calculate per-word statistics\n",
    "    df['text'] = df['text'].str.lower()\n",
    "    # Regex for pulling out single words\n",
    "    cvec = CountVectorizer(token_pattern=u\"(?u)\\\\b\\\\w+\\\\b\", lowercase=True)\n",
    "    \n",
    "    # We also do this because we need to have the tokenization per sentence \n",
    "    # so that we can look at co-occurrences of words across sentences for nPMI calculation\n",
    "    sent_tokenizer = cvec.build_tokenizer()\n",
    "    df['tokenized'] = df.text.apply(sent_tokenizer)\n",
    "    \n",
    "    # Fast calculation of single word counts\n",
    "    cvec.fit(df.text)\n",
    "    document_matrix = cvec.transform(df.text)\n",
    "    batches = np.linspace(0, df.shape[0], batch_size).astype(int)\n",
    "    i = 0\n",
    "    tf = []\n",
    "    while i < len(batches) - 1:\n",
    "        batch_result = np.sum(document_matrix[batches[i]:batches[i+1]].toarray(), axis=0)\n",
    "        tf.append(batch_result)\n",
    "        i += 1\n",
    "    term_freq_df = pd.DataFrame([np.sum(tf, axis=0)], columns=cvec.get_feature_names()).transpose()\n",
    "    \n",
    "    # Now organize everything into the dataframes\n",
    "    term_freq_df.columns = ['count']\n",
    "    term_freq_df.index.name = 'word'\n",
    "    sorted_term_freq_df = pd.DataFrame(term_freq_df.sort_values(by='count', ascending=False)['count'])\n",
    "    return sorted_term_freq_df, df"
   ]
  },
  {
   "cell_type": "code",
   "execution_count": 6,
   "id": "c5b291a4-088e-463e-8a5e-326bcb0d9dd9",
   "metadata": {},
   "outputs": [
    {
     "name": "stdout",
     "output_type": "stream",
     "text": [
      "      count  id  proportion  rank\n",
      "word                             \n",
      "the   19063   0    0.050159     1\n",
      "to    11027   1    0.029015     2\n",
      "and   10996   2    0.028933     3\n",
      "of     8792   3    0.023134     4\n",
      "a      8496   4    0.022355     5\n",
      "             count     id  proportion  rank\n",
      "word                                       \n",
      "elmo             1  27227    0.000003   343\n",
      "ellinor          1  27228    0.000003   343\n",
      "peloponnese      1  27229    0.000003   343\n",
      "pem              1  27230    0.000003   343\n",
      "赵维山              1  27231    0.000003   343\n"
     ]
    }
   ],
   "source": [
    "term_df, df = count_vocab_frequencies(df)\n",
    "# p(word).  Note that multiple occurrences of a word in a sentence increases its probability.\n",
    "term_df['proportion'] = term_df['count']/float(sum(term_df['count']))\n",
    "# Sanity check\n",
    "print(term_df.head())\n",
    "print(term_df.tail())"
   ]
  },
  {
   "cell_type": "code",
   "execution_count": 7,
   "id": "c7207c16-7f2c-470a-b9d7-6a52e03b6a5a",
   "metadata": {},
   "outputs": [],
   "source": [
    "from sklearn.preprocessing import MultiLabelBinarizer\n",
    "\n",
    "# Makes a sparse vector (shape: # sentences x # words),\n",
    "# with the count of each word per sentence.\n",
    "mlb = MultiLabelBinarizer()\n",
    "df_mlb = pd.DataFrame(mlb.fit_transform(df['tokenized']))\n",
    "# Index of the subgroup word in the sparse vector\n",
    "subgroup_idx = np.where(mlb.classes_ == subgroup)[0][0]\n",
    "# Dataframe for the subgroup (with counts)\n",
    "df_subgroup = df_mlb.iloc[:, subgroup_idx]\n",
    "# Create cooccurence matrix for the given subgroup and all other words.\n",
    "# Note it also includes the word itself, so that count should be subtracted \n",
    "# (the word will always co-occur with itself)\n",
    "df_coo = pd.DataFrame(df_mlb.T.dot(df_subgroup))"
   ]
  },
  {
   "cell_type": "code",
   "execution_count": 9,
   "id": "8202c12e-6d02-4dbc-a896-c1ce1d3b34e7",
   "metadata": {},
   "outputs": [],
   "source": [
    "# PMI(x;y) = h(y) - h(y|x)\n",
    "#          = h(subgroup) - h(subgroup|word)\n",
    "#          = log p(subgroup|word) - log p(subgroup))\n",
    "\n",
    "# log p(subgroup)\n",
    "subgroup_prob = np.log(term_df.loc[subgroup]['proportion'])\n",
    "# Apply a function to all words to calculate log p(subgroup|word)\n",
    "# The word is indexed by mlb.classes_ ; \n",
    "# we pull out the word using the index and then get its count using our main term_df\n",
    "# x[1] is the count of the word, given the subgroup\n",
    "pmi_df = pd.DataFrame(df_coo.apply(lambda x: np.log(x[1]/term_df.loc[mlb.classes_[x.index]]['count']) - subgroup_prob))"
   ]
  },
  {
   "cell_type": "code",
   "execution_count": 24,
   "id": "e21b8405-9d94-4394-8b24-18346366504f",
   "metadata": {},
   "outputs": [
    {
     "name": "stdout",
     "output_type": "stream",
     "text": [
      "              0\n",
      "word           \n",
      "the   -0.671011\n",
      "to    -0.123608\n",
      "and   -0.120793\n",
      "of     0.102896\n",
      "a      0.137143\n",
      "in     0.400485\n",
      "is     0.758101\n",
      "for    0.814873\n",
      "you    0.828174\n",
      "that   0.951522\n",
      "it     1.055909\n",
      "i      1.113900\n",
      "with   1.127750\n",
      "on     1.244979\n",
      "s      1.381876\n",
      "are    1.415961\n",
      "be     1.446006\n",
      "as     1.446442\n",
      "your   1.495123\n",
      "this   1.513133\n",
      "we     1.694523\n",
      "have   1.699002\n",
      "or     1.702938\n",
      "at     1.724579\n",
      "can    1.748466\n",
      "was    1.774147\n",
      "from   1.780215\n",
      "will   1.833336\n",
      "by     1.889437\n",
      "not    1.970726\n",
      "an     2.045627\n",
      "all    2.099430\n",
      "but    2.127457\n",
      "they   2.135239\n",
      "if     2.175989\n",
      "has    2.223198\n",
      "our    2.223198\n",
      "more   2.249123\n",
      "my     2.266788\n",
      "one    2.281751\n",
      "so     2.290837\n",
      "their  2.322782\n",
      "t      2.391028\n",
      "about  2.432223\n",
      "what   2.463068\n",
      "up     2.482533\n",
      "he     2.525200\n",
      "there  2.525200\n",
      "time   2.540704\n",
      "also   2.544618\n"
     ]
    }
   ],
   "source": [
    "# If all went well, this will be correlated with high/low frequency words\n",
    "# Until normalizing\n",
    "print(pmi_df.sort_values(by=[0])[:50])"
   ]
  }
 ],
 "metadata": {
  "kernelspec": {
   "display_name": "Python 3",
   "language": "python",
   "name": "python3"
  },
  "language_info": {
   "codemirror_mode": {
    "name": "ipython",
    "version": 3
   },
   "file_extension": ".py",
   "mimetype": "text/x-python",
   "name": "python",
   "nbconvert_exporter": "python",
   "pygments_lexer": "ipython3",
   "version": "3.8.8"
  }
 },
 "nbformat": 4,
 "nbformat_minor": 5
}
