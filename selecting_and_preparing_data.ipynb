{
 "cells": [
  {
   "cell_type": "code",
   "execution_count": 1,
   "metadata": {},
   "outputs": [
    {
     "data": {
      "text/plain": [
       "('acronym_identification',\n",
       " datasets.ObjectInfo(\n",
       " \tid='acronym_identification',\n",
       " \tdescription='Acronym identification training and development sets for the acronym identification task at SDU@AAAI-21.',\n",
       " \tfiles=None\n",
       " ))"
      ]
     },
     "execution_count": 1,
     "metadata": {},
     "output_type": "execute_result"
    }
   ],
   "source": [
    "from datasets import (\n",
    "    import_main_class,\n",
    "    list_datasets,\n",
    "    load_dataset,\n",
    "    load_dataset_builder,\n",
    "    prepare_module,\n",
    ")\n",
    "    \n",
    "ds_list = list_datasets(with_details=True)\n",
    "ds_list[0].id, ds_list[0]"
   ]
  },
  {
   "cell_type": "code",
   "execution_count": 2,
   "metadata": {},
   "outputs": [],
   "source": [
    "# list of fiels we want to keep around from the DatasetInfo object\n",
    "keep_info_fields = [\n",
    "    \"features\",\n",
    "    \"config_name\",\n",
    "    \"version\",\n",
    "    \"splits\",\n",
    "]\n",
    "\n",
    "def get_config_infos(name):\n",
    "    module_path, *_ = prepare_module(name, dataset=True)\n",
    "    builder_cls = import_main_class(module_path, dataset=True)\n",
    "    configs = [c.name for c in builder_cls.BUILDER_CONFIGS] or [None]\n",
    "    if len(configs) == 1:\n",
    "        info_dict = load_dataset_builder(name).info.__dict__\n",
    "        return [\n",
    "            {k: info_dict[k] for k in keep_info_fields}\n",
    "        ]\n",
    "    else:\n",
    "        config_list = []\n",
    "        for config_name in configs:\n",
    "            info_dict = load_dataset_builder(name, config_name).info.__dict__\n",
    "            config_list += [\n",
    "                {k: info_dict[k] for k in keep_info_fields}\n",
    "            ]\n",
    "        return config_list"
   ]
  },
  {
   "cell_type": "code",
   "execution_count": 3,
   "metadata": {},
   "outputs": [
    {
     "data": {
      "text/plain": [
       "([{'features': {'id': Value(dtype='string', id=None),\n",
       "    'title': Value(dtype='string', id=None),\n",
       "    'context': Value(dtype='string', id=None),\n",
       "    'question': Value(dtype='string', id=None),\n",
       "    'answers': Sequence(feature={'text': Value(dtype='string', id=None), 'answer_start': Value(dtype='int32', id=None)}, length=-1, id=None)},\n",
       "   'config_name': 'plain_text',\n",
       "   'version': 1.0.0,\n",
       "   'splits': {'train': SplitInfo(name='train', num_bytes=79317110, num_examples=87599, dataset_name='squad'),\n",
       "    'validation': SplitInfo(name='validation', num_bytes=10472653, num_examples=10570, dataset_name='squad')}}],\n",
       " [{'features': {'sentence': Value(dtype='string', id=None),\n",
       "    'label': ClassLabel(num_classes=2, names=['unacceptable', 'acceptable'], names_file=None, id=None),\n",
       "    'idx': Value(dtype='int32', id=None)},\n",
       "   'config_name': 'cola',\n",
       "   'version': 1.0.0,\n",
       "   'splits': {'test': SplitInfo(name='test', num_bytes=61049, num_examples=1063, dataset_name='glue'),\n",
       "    'train': SplitInfo(name='train', num_bytes=489149, num_examples=8551, dataset_name='glue'),\n",
       "    'validation': SplitInfo(name='validation', num_bytes=60850, num_examples=1043, dataset_name='glue')}},\n",
       "  {'features': {'sentence': Value(dtype='string', id=None),\n",
       "    'label': ClassLabel(num_classes=2, names=['negative', 'positive'], names_file=None, id=None),\n",
       "    'idx': Value(dtype='int32', id=None)},\n",
       "   'config_name': 'sst2',\n",
       "   'version': 1.0.0,\n",
       "   'splits': {'test': SplitInfo(name='test', num_bytes=217556, num_examples=1821, dataset_name='glue'),\n",
       "    'train': SplitInfo(name='train', num_bytes=4715283, num_examples=67349, dataset_name='glue'),\n",
       "    'validation': SplitInfo(name='validation', num_bytes=106692, num_examples=872, dataset_name='glue')}},\n",
       "  {'features': {'sentence1': Value(dtype='string', id=None),\n",
       "    'sentence2': Value(dtype='string', id=None),\n",
       "    'label': ClassLabel(num_classes=2, names=['not_equivalent', 'equivalent'], names_file=None, id=None),\n",
       "    'idx': Value(dtype='int32', id=None)},\n",
       "   'config_name': 'mrpc',\n",
       "   'version': 1.0.0,\n",
       "   'splits': {'test': SplitInfo(name='test', num_bytes=443498, num_examples=1725, dataset_name='glue'),\n",
       "    'train': SplitInfo(name='train', num_bytes=946146, num_examples=3668, dataset_name='glue'),\n",
       "    'validation': SplitInfo(name='validation', num_bytes=106142, num_examples=408, dataset_name='glue')}},\n",
       "  {'features': {'question1': Value(dtype='string', id=None),\n",
       "    'question2': Value(dtype='string', id=None),\n",
       "    'label': ClassLabel(num_classes=2, names=['not_duplicate', 'duplicate'], names_file=None, id=None),\n",
       "    'idx': Value(dtype='int32', id=None)},\n",
       "   'config_name': 'qqp',\n",
       "   'version': 1.0.0,\n",
       "   'splits': {'train': SplitInfo(name='train', num_bytes=50901116, num_examples=363846, dataset_name='glue'),\n",
       "    'validation': SplitInfo(name='validation', num_bytes=5653794, num_examples=40430, dataset_name='glue'),\n",
       "    'test': SplitInfo(name='test', num_bytes=55171431, num_examples=390965, dataset_name='glue')}},\n",
       "  {'features': {'sentence1': Value(dtype='string', id=None),\n",
       "    'sentence2': Value(dtype='string', id=None),\n",
       "    'label': Value(dtype='float32', id=None),\n",
       "    'idx': Value(dtype='int32', id=None)},\n",
       "   'config_name': 'stsb',\n",
       "   'version': 1.0.0,\n",
       "   'splits': {'test': SplitInfo(name='test', num_bytes=170847, num_examples=1379, dataset_name='glue'),\n",
       "    'train': SplitInfo(name='train', num_bytes=758394, num_examples=5749, dataset_name='glue'),\n",
       "    'validation': SplitInfo(name='validation', num_bytes=217012, num_examples=1500, dataset_name='glue')}},\n",
       "  {'features': {'premise': Value(dtype='string', id=None),\n",
       "    'hypothesis': Value(dtype='string', id=None),\n",
       "    'label': ClassLabel(num_classes=3, names=['entailment', 'neutral', 'contradiction'], names_file=None, id=None),\n",
       "    'idx': Value(dtype='int32', id=None)},\n",
       "   'config_name': 'mnli',\n",
       "   'version': 1.0.0,\n",
       "   'splits': {'test_matched': SplitInfo(name='test_matched', num_bytes=1854787, num_examples=9796, dataset_name='glue'),\n",
       "    'test_mismatched': SplitInfo(name='test_mismatched', num_bytes=1956866, num_examples=9847, dataset_name='glue'),\n",
       "    'train': SplitInfo(name='train', num_bytes=74865118, num_examples=392702, dataset_name='glue'),\n",
       "    'validation_matched': SplitInfo(name='validation_matched', num_bytes=1839926, num_examples=9815, dataset_name='glue'),\n",
       "    'validation_mismatched': SplitInfo(name='validation_mismatched', num_bytes=1955384, num_examples=9832, dataset_name='glue')}},\n",
       "  {'features': {'premise': Value(dtype='string', id=None),\n",
       "    'hypothesis': Value(dtype='string', id=None),\n",
       "    'label': ClassLabel(num_classes=3, names=['entailment', 'neutral', 'contradiction'], names_file=None, id=None),\n",
       "    'idx': Value(dtype='int32', id=None)},\n",
       "   'config_name': 'mnli_mismatched',\n",
       "   'version': 1.0.0,\n",
       "   'splits': {'test': SplitInfo(name='test', num_bytes=1956866, num_examples=9847, dataset_name='glue'),\n",
       "    'validation': SplitInfo(name='validation', num_bytes=1955384, num_examples=9832, dataset_name='glue')}},\n",
       "  {'features': {'premise': Value(dtype='string', id=None),\n",
       "    'hypothesis': Value(dtype='string', id=None),\n",
       "    'label': ClassLabel(num_classes=3, names=['entailment', 'neutral', 'contradiction'], names_file=None, id=None),\n",
       "    'idx': Value(dtype='int32', id=None)},\n",
       "   'config_name': 'mnli_matched',\n",
       "   'version': 1.0.0,\n",
       "   'splits': {'test': SplitInfo(name='test', num_bytes=1854787, num_examples=9796, dataset_name='glue'),\n",
       "    'validation': SplitInfo(name='validation', num_bytes=1839926, num_examples=9815, dataset_name='glue')}},\n",
       "  {'features': {'question': Value(dtype='string', id=None),\n",
       "    'sentence': Value(dtype='string', id=None),\n",
       "    'label': ClassLabel(num_classes=2, names=['entailment', 'not_entailment'], names_file=None, id=None),\n",
       "    'idx': Value(dtype='int32', id=None)},\n",
       "   'config_name': 'qnli',\n",
       "   'version': 1.0.0,\n",
       "   'splits': {'test': SplitInfo(name='test', num_bytes=1376516, num_examples=5463, dataset_name='glue'),\n",
       "    'train': SplitInfo(name='train', num_bytes=25677924, num_examples=104743, dataset_name='glue'),\n",
       "    'validation': SplitInfo(name='validation', num_bytes=1371727, num_examples=5463, dataset_name='glue')}},\n",
       "  {'features': {'sentence1': Value(dtype='string', id=None),\n",
       "    'sentence2': Value(dtype='string', id=None),\n",
       "    'label': ClassLabel(num_classes=2, names=['entailment', 'not_entailment'], names_file=None, id=None),\n",
       "    'idx': Value(dtype='int32', id=None)},\n",
       "   'config_name': 'rte',\n",
       "   'version': 1.0.0,\n",
       "   'splits': {'test': SplitInfo(name='test', num_bytes=975936, num_examples=3000, dataset_name='glue'),\n",
       "    'train': SplitInfo(name='train', num_bytes=848888, num_examples=2490, dataset_name='glue'),\n",
       "    'validation': SplitInfo(name='validation', num_bytes=90911, num_examples=277, dataset_name='glue')}},\n",
       "  {'features': {'sentence1': Value(dtype='string', id=None),\n",
       "    'sentence2': Value(dtype='string', id=None),\n",
       "    'label': ClassLabel(num_classes=2, names=['not_entailment', 'entailment'], names_file=None, id=None),\n",
       "    'idx': Value(dtype='int32', id=None)},\n",
       "   'config_name': 'wnli',\n",
       "   'version': 1.0.0,\n",
       "   'splits': {'test': SplitInfo(name='test', num_bytes=37992, num_examples=146, dataset_name='glue'),\n",
       "    'train': SplitInfo(name='train', num_bytes=107517, num_examples=635, dataset_name='glue'),\n",
       "    'validation': SplitInfo(name='validation', num_bytes=12215, num_examples=71, dataset_name='glue')}},\n",
       "  {'features': {'premise': Value(dtype='string', id=None),\n",
       "    'hypothesis': Value(dtype='string', id=None),\n",
       "    'label': ClassLabel(num_classes=3, names=['entailment', 'neutral', 'contradiction'], names_file=None, id=None),\n",
       "    'idx': Value(dtype='int32', id=None)},\n",
       "   'config_name': 'ax',\n",
       "   'version': 1.0.0,\n",
       "   'splits': {'test': SplitInfo(name='test', num_bytes=238392, num_examples=1104, dataset_name='glue')}}])"
      ]
     },
     "execution_count": 3,
     "metadata": {},
     "output_type": "execute_result"
    }
   ],
   "source": [
    "squad_configs = get_config_infos('squad')\n",
    "glue_configs = get_config_infos('glue')\n",
    "squad_configs, glue_configs"
   ]
  },
  {
   "cell_type": "code",
   "execution_count": 4,
   "metadata": {},
   "outputs": [],
   "source": [
    "def get_typed_features(features, ftype='string', parents=None):\n",
    "    if parents is None:\n",
    "        parents = []\n",
    "    typed_features = []\n",
    "    for name, feat in features.items():\n",
    "        if hasattr(feat, 'dtype') and feat.dtype == ftype:\n",
    "            typed_features += [parents + [name]]\n",
    "        elif hasattr(feat, 'feature'):\n",
    "            if hasattr(feat.feature, 'dtype') and feat.feature.dtype == ftype:\n",
    "                typed_features += [parents + [name]]\n",
    "            elif isinstance(feat.feature, dict):\n",
    "                typed_features += get_typed_features(feat.feature, ftype, parents + [name])\n",
    "    return typed_features\n",
    "\n",
    "def get_label_features(features, parents=None):\n",
    "    if parents is None:\n",
    "        parents = []\n",
    "    text_features = []\n",
    "    for name, feat in features.items():\n",
    "        if hasattr(feat, 'num_classes'):\n",
    "            text_features += [(parents + [name], feat.names)]\n",
    "        elif hasattr(feat, 'feature'):\n",
    "            text_features += get_label_features(feat.feature, parents + [name])\n",
    "    return text_features"
   ]
  },
  {
   "cell_type": "code",
   "execution_count": 5,
   "metadata": {},
   "outputs": [
    {
     "name": "stdout",
     "output_type": "stream",
     "text": [
      "----- cola\n",
      "TEXT:    [['sentence']]\n",
      "LABELS:  [(['label'], ['unacceptable', 'acceptable'])]\n",
      "----- sst2\n",
      "TEXT:    [['sentence']]\n",
      "LABELS:  [(['label'], ['negative', 'positive'])]\n",
      "----- mrpc\n",
      "TEXT:    [['sentence1'], ['sentence2']]\n",
      "LABELS:  [(['label'], ['not_equivalent', 'equivalent'])]\n",
      "----- qqp\n",
      "TEXT:    [['question1'], ['question2']]\n",
      "LABELS:  [(['label'], ['not_duplicate', 'duplicate'])]\n",
      "----- stsb\n",
      "TEXT:    [['sentence1'], ['sentence2']]\n",
      "LABELS:  []\n",
      "----- mnli\n",
      "TEXT:    [['premise'], ['hypothesis']]\n",
      "LABELS:  [(['label'], ['entailment', 'neutral', 'contradiction'])]\n",
      "----- mnli_mismatched\n",
      "TEXT:    [['premise'], ['hypothesis']]\n",
      "LABELS:  [(['label'], ['entailment', 'neutral', 'contradiction'])]\n",
      "----- mnli_matched\n",
      "TEXT:    [['premise'], ['hypothesis']]\n",
      "LABELS:  [(['label'], ['entailment', 'neutral', 'contradiction'])]\n",
      "----- qnli\n",
      "TEXT:    [['question'], ['sentence']]\n",
      "LABELS:  [(['label'], ['entailment', 'not_entailment'])]\n",
      "----- rte\n",
      "TEXT:    [['sentence1'], ['sentence2']]\n",
      "LABELS:  [(['label'], ['entailment', 'not_entailment'])]\n",
      "----- wnli\n",
      "TEXT:    [['sentence1'], ['sentence2']]\n",
      "LABELS:  [(['label'], ['not_entailment', 'entailment'])]\n",
      "----- ax\n",
      "TEXT:    [['premise'], ['hypothesis']]\n",
      "LABELS:  [(['label'], ['entailment', 'neutral', 'contradiction'])]\n"
     ]
    }
   ],
   "source": [
    "for cfg in glue_configs:\n",
    "    print(\"-----\", cfg[\"config_name\"])\n",
    "    print(\"TEXT:   \", get_typed_features(cfg['features'], 'string'))\n",
    "    print(\"LABELS: \", get_label_features(cfg['features']))"
   ]
  },
  {
   "cell_type": "raw",
   "metadata": {},
   "source": [
    "import tqdm\n",
    "\n",
    "all_configs = []\n",
    "for ds in tqdm.tqdm(ds_list):\n",
    "    all_configs += [{\n",
    "        \"name\": ds.id,\n",
    "        \"description\": ds.description,\n",
    "        \"configs\": get_config_infos(ds.id),\n",
    "    }]\n",
    "    if len(all_configs) >= 100:\n",
    "        break\n",
    "\n",
    "name_to_configs = {x[\"name\"]: x for x in all_configs}\n",
    "\n",
    "import torch\n",
    "torch.save(name_to_configs, \"name_to_configs_100.th\")"
   ]
  },
  {
   "cell_type": "code",
   "execution_count": 19,
   "metadata": {},
   "outputs": [
    {
     "data": {
      "text/plain": [
       "['acronym_identification',\n",
       " 'ade_corpus_v2',\n",
       " 'adversarial_qa',\n",
       " 'aeslc',\n",
       " 'afrikaans_ner_corpus',\n",
       " 'ag_news',\n",
       " 'ai2_arc',\n",
       " 'air_dialogue',\n",
       " 'ajgt_twitter_ar',\n",
       " 'allegro_reviews',\n",
       " 'allocine',\n",
       " 'alt',\n",
       " 'amazon_polarity',\n",
       " 'amazon_reviews_multi',\n",
       " 'amazon_us_reviews',\n",
       " 'ambig_qa',\n",
       " 'amttl',\n",
       " 'anli',\n",
       " 'app_reviews',\n",
       " 'aqua_rat',\n",
       " 'aquamuse',\n",
       " 'ar_cov19',\n",
       " 'ar_res_reviews',\n",
       " 'ar_sarcasm',\n",
       " 'arabic_billion_words',\n",
       " 'arabic_pos_dialect',\n",
       " 'arabic_speech_corpus',\n",
       " 'arcd',\n",
       " 'arsentd_lev',\n",
       " 'art',\n",
       " 'arxiv_dataset',\n",
       " 'ascent_kb',\n",
       " 'aslg_pc12',\n",
       " 'asnq',\n",
       " 'asset',\n",
       " 'assin',\n",
       " 'assin2',\n",
       " 'atomic',\n",
       " 'autshumato',\n",
       " 'babi_qa',\n",
       " 'banking77',\n",
       " 'bbaw_egyptian',\n",
       " 'bbc_hindi_nli',\n",
       " 'bc2gm_corpus',\n",
       " 'best2009',\n",
       " 'bianet',\n",
       " 'bible_para',\n",
       " 'big_patent',\n",
       " 'billsum',\n",
       " 'bing_coronavirus_query_set',\n",
       " 'biomrc',\n",
       " 'blended_skill_talk',\n",
       " 'blimp',\n",
       " 'blog_authorship_corpus',\n",
       " 'bn_hate_speech',\n",
       " 'bookcorpus',\n",
       " 'bookcorpusopen',\n",
       " 'boolq',\n",
       " 'bprec',\n",
       " 'break_data',\n",
       " 'brwac',\n",
       " 'bsd_ja_en',\n",
       " 'bswac',\n",
       " 'c3',\n",
       " 'c4',\n",
       " 'cail2018',\n",
       " 'caner',\n",
       " 'capes',\n",
       " 'catalonia_independence',\n",
       " 'cawac',\n",
       " 'cbt',\n",
       " 'cc100',\n",
       " 'cc_news',\n",
       " 'ccaligned_multilingual',\n",
       " 'cdsc',\n",
       " 'cdt',\n",
       " 'cfq',\n",
       " 'chr_en',\n",
       " 'cifar10',\n",
       " 'cifar100',\n",
       " 'circa',\n",
       " 'civil_comments',\n",
       " 'clickbait_news_bg',\n",
       " 'climate_fever',\n",
       " 'clinc_oos',\n",
       " 'clue',\n",
       " 'cmrc2018',\n",
       " 'cnn_dailymail',\n",
       " 'coached_conv_pref',\n",
       " 'coarse_discourse',\n",
       " 'codah',\n",
       " 'code_search_net',\n",
       " 'code_x_glue_cc_clone_detection_big_clone_bench',\n",
       " 'code_x_glue_cc_clone_detection_poj104',\n",
       " 'code_x_glue_cc_cloze_testing_all',\n",
       " 'code_x_glue_cc_cloze_testing_maxmin',\n",
       " 'code_x_glue_cc_code_completion_line',\n",
       " 'code_x_glue_cc_code_completion_token',\n",
       " 'code_x_glue_cc_code_refinement',\n",
       " 'code_x_glue_cc_code_to_code_trans']"
      ]
     },
     "execution_count": 19,
     "metadata": {},
     "output_type": "execute_result"
    }
   ],
   "source": [
    "name_to_configs = torch.load(\"name_to_configs_100.th\")\n",
    "list(name_to_configs.keys())"
   ]
  },
  {
   "cell_type": "code",
   "execution_count": 7,
   "metadata": {},
   "outputs": [],
   "source": [
    "def get_text_to_analyze(\n",
    "    name, text_path,\n",
    "    config_name=None, split=None,\n",
    "    max_items=20000, streaming=False\n",
    "):\n",
    "    ### default arguments\n",
    "    if config_name is None:\n",
    "        config_name = name_to_configs[name][\"configs\"][0][\"config_name\"]\n",
    "        print(f\"using default config: {config_name}\")\n",
    "    # TODO - fix name_to_configs to have a dict instead of a list to avoid the following\n",
    "    config_id = [cfg[\"config_name\"] for cfg in name_to_configs[name][\"configs\"]].index(config_name)\n",
    "    config = name_to_configs[name][\"configs\"][config_id]\n",
    "    if split is None:\n",
    "        split = 'train' if 'train' in config[\"splits\"] else list(config[\"splits\"])[0]\n",
    "        print(f\"using default split: {split}\")        \n",
    "    ### get text from dataset\n",
    "    print(f\"running -- load_dataset({name}, {config_name}, streaming={streaming})\")\n",
    "    dataset = load_dataset(name, config_name, streaming=streaming)\n",
    "    text_list = []\n",
    "    example_ct = 0\n",
    "    for example in dataset[split]:\n",
    "        example_ct += 1\n",
    "        # robustly handle fields that contain lists of text\n",
    "        item_list = [example]\n",
    "        for field_name in text_path:\n",
    "            item_list = [\n",
    "                next_item\n",
    "                for item in item_list\n",
    "                for next_item in (item[field_name] if isinstance(item[field_name], list) else [item[field_name]])\n",
    "            ]\n",
    "        text_list += [\n",
    "            text\n",
    "            for item in item_list\n",
    "            for text in (item if isinstance(item, list) else [item])\n",
    "        ]\n",
    "        if example_ct >= max_items:\n",
    "            break\n",
    "    return text_list"
   ]
  },
  {
   "cell_type": "code",
   "execution_count": 8,
   "metadata": {},
   "outputs": [
    {
     "data": {
      "text/plain": [
       "[['text']]"
      ]
     },
     "execution_count": 8,
     "metadata": {},
     "output_type": "execute_result"
    }
   ],
   "source": [
    "cfg = name_to_configs[\"ag_news\"][\"configs\"][0]\n",
    "get_typed_features(cfg['features'], 'string')"
   ]
  },
  {
   "cell_type": "code",
   "execution_count": 9,
   "metadata": {},
   "outputs": [
    {
     "name": "stdout",
     "output_type": "stream",
     "text": [
      "using default config: default\n",
      "using default split: train\n",
      "running -- load_dataset(ag_news, default, streaming=True)\n"
     ]
    },
    {
     "name": "stderr",
     "output_type": "stream",
     "text": [
      "Using custom data configuration default\n"
     ]
    },
    {
     "data": {
      "application/vnd.jupyter.widget-view+json": {
       "model_id": "f147a18c40ec444aa0bfefa12920d72a",
       "version_major": 2,
       "version_minor": 0
      },
      "text/plain": [
       "HBox(children=(FloatProgress(value=0.0, max=2.0), HTML(value='')))"
      ]
     },
     "metadata": {},
     "output_type": "display_data"
    },
    {
     "name": "stdout",
     "output_type": "stream",
     "text": [
      "\n"
     ]
    },
    {
     "data": {
      "text/plain": [
       "[\"Wall St. Bears Claw Back Into the Black (Reuters) Reuters - Short-sellers, Wall Street's dwindling\\\\band of ultra-cynics, are seeing green again.\",\n",
       " 'Carlyle Looks Toward Commercial Aerospace (Reuters) Reuters - Private investment firm Carlyle Group,\\\\which has a reputation for making well-timed and occasionally\\\\controversial plays in the defense industry, has quietly placed\\\\its bets on another part of the market.',\n",
       " \"Oil and Economy Cloud Stocks' Outlook (Reuters) Reuters - Soaring crude prices plus worries\\\\about the economy and the outlook for earnings are expected to\\\\hang over the stock market next week during the depth of the\\\\summer doldrums.\",\n",
       " 'Iraq Halts Oil Exports from Main Southern Pipeline (Reuters) Reuters - Authorities have halted oil export\\\\flows from the main pipeline in southern Iraq after\\\\intelligence showed a rebel militia could strike\\\\infrastructure, an oil official said on Saturday.',\n",
       " 'Oil prices soar to all-time record, posing new menace to US economy (AFP) AFP - Tearaway world oil prices, toppling records and straining wallets, present a new economic menace barely three months before the US presidential elections.',\n",
       " 'Stocks End Up, But Near Year Lows (Reuters) Reuters - Stocks ended slightly higher on Friday\\\\but stayed near lows for the year as oil prices surged past  #36;46\\\\a barrel, offsetting a positive outlook from computer maker\\\\Dell Inc. (DELL.O)',\n",
       " \"Money Funds Fell in Latest Week (AP) AP - Assets of the nation's retail money market mutual funds fell by  #36;1.17 billion in the latest week to  #36;849.98 trillion, the Investment Company Institute said Thursday.\",\n",
       " 'Fed minutes show dissent over inflation (USATODAY.com) USATODAY.com - Retail sales bounced back a bit in July, and new claims for jobless benefits fell last week, the government said Thursday, indicating the economy is improving from a midsummer slump.',\n",
       " 'Safety Net (Forbes.com) Forbes.com - After earning a PH.D. in Sociology, Danny Bazil Riley started to work as the general manager at a commercial real estate firm at an annual base salary of  #36;70,000. Soon after, a financial planner stopped by his desk to drop off brochures about insurance benefits available through his employer. But, at 32, \"buying insurance was the furthest thing from my mind,\" says Riley.',\n",
       " \"Wall St. Bears Claw Back Into the Black  NEW YORK (Reuters) - Short-sellers, Wall Street's dwindling  band of ultra-cynics, are seeing green again.\",\n",
       " \"Oil and Economy Cloud Stocks' Outlook  NEW YORK (Reuters) - Soaring crude prices plus worries  about the economy and the outlook for earnings are expected to  hang over the stock market next week during the depth of the  summer doldrums.\",\n",
       " \"No Need for OPEC to Pump More-Iran Gov  TEHRAN (Reuters) - OPEC can do nothing to douse scorching  oil prices when markets are already oversupplied by 2.8 million  barrels per day (bpd) of crude, Iran's OPEC governor said  Saturday, warning that prices could fall sharply.\",\n",
       " 'Non-OPEC Nations Should Up Output-Purnomo  JAKARTA (Reuters) - Non-OPEC oil exporters should consider  increasing output to cool record crude prices, OPEC President  Purnomo Yusgiantoro said on Sunday.',\n",
       " \"Google IPO Auction Off to Rocky Start  WASHINGTON/NEW YORK (Reuters) - The auction for Google  Inc.'s highly anticipated initial public offering got off to a  rocky start on Friday after the Web search company sidestepped  a bullet from U.S. securities regulators.\",\n",
       " \"Dollar Falls Broadly on Record Trade Gap  NEW YORK (Reuters) - The dollar tumbled broadly on Friday  after data showing a record U.S. trade deficit in June cast  fresh doubts on the economy's recovery and its ability to draw  foreign capital to fund the growing gap.\",\n",
       " \"Rescuing an Old Saver If you think you may need to help your elderly relatives with their finances, don't be shy about having the money talk -- soon.\",\n",
       " 'Kids Rule for Back-to-School The purchasing power of kids is a big part of why the back-to-school season has become such a huge marketing phenomenon.',\n",
       " \"In a Down Market, Head Toward Value Funds There is little cause for celebration in the stock market these days, but investors in value-focused mutual funds have reason to feel a bit smug -- if only because they've lost less than the folks who stuck with growth.\",\n",
       " 'US trade deficit swells in June The US trade deficit has exploded 19 to a record \\\\$55.8bn as oil costs drove imports higher, according to a latest figures.',\n",
       " \"Shell 'could be target for Total' Oil giant Shell could be bracing itself for a takeover attempt, possibly from French rival Total, a  press report claims.\"]"
      ]
     },
     "execution_count": 9,
     "metadata": {},
     "output_type": "execute_result"
    }
   ],
   "source": [
    "get_text_to_analyze(\n",
    "    \"ag_news\", ['text'],\n",
    "    max_items=20, streaming=True\n",
    ")"
   ]
  },
  {
   "cell_type": "code",
   "execution_count": 10,
   "metadata": {},
   "outputs": [
    {
     "data": {
      "text/plain": [
       "{'features': {'id': Value(dtype='string', id=None),\n",
       "  'question': Value(dtype='string', id=None),\n",
       "  'annotations': Sequence(feature={'type': Value(dtype='string', id=None), 'answer': Sequence(feature=Value(dtype='string', id=None), length=-1, id=None), 'qaPairs': Sequence(feature={'question': Value(dtype='string', id=None), 'answer': Sequence(feature=Value(dtype='string', id=None), length=-1, id=None)}, length=-1, id=None)}, length=-1, id=None)},\n",
       " 'config_name': 'light',\n",
       " 'version': 1.0.0,\n",
       " 'splits': {'train': SplitInfo(name='train', num_bytes=2739732, num_examples=10036, dataset_name='ambig_qa'),\n",
       "  'validation': SplitInfo(name='validation', num_bytes=805808, num_examples=2002, dataset_name='ambig_qa')}}"
      ]
     },
     "execution_count": 10,
     "metadata": {},
     "output_type": "execute_result"
    }
   ],
   "source": [
    "name_to_configs[\"ambig_qa\"][\"configs\"][0]"
   ]
  },
  {
   "cell_type": "code",
   "execution_count": 11,
   "metadata": {},
   "outputs": [
    {
     "data": {
      "text/plain": [
       "[['id'],\n",
       " ['question'],\n",
       " ['annotations', 'type'],\n",
       " ['annotations', 'answer'],\n",
       " ['annotations', 'qaPairs', 'question'],\n",
       " ['annotations', 'qaPairs', 'answer']]"
      ]
     },
     "execution_count": 11,
     "metadata": {},
     "output_type": "execute_result"
    }
   ],
   "source": [
    "cfg = name_to_configs[\"ambig_qa\"][\"configs\"][0]\n",
    "get_typed_features(cfg['features'], 'string')"
   ]
  },
  {
   "cell_type": "code",
   "execution_count": 12,
   "metadata": {},
   "outputs": [
    {
     "name": "stdout",
     "output_type": "stream",
     "text": [
      "using default config: light\n",
      "using default split: train\n",
      "running -- load_dataset(ambig_qa, light, streaming=False)\n"
     ]
    },
    {
     "name": "stderr",
     "output_type": "stream",
     "text": [
      "Reusing dataset ambig_qa (/home/yjernite/.cache/huggingface/datasets/ambig_qa/light/1.0.0/6425acf3572d4caf508123e5443753ab7ff415564753ae326ae801a0a1aa155e)\n"
     ]
    },
    {
     "data": {
      "application/vnd.jupyter.widget-view+json": {
       "model_id": "460857e7971f4cdea21f62f272a9474a",
       "version_major": 2,
       "version_minor": 0
      },
      "text/plain": [
       "HBox(children=(FloatProgress(value=0.0, max=2.0), HTML(value='')))"
      ]
     },
     "metadata": {},
     "output_type": "display_data"
    },
    {
     "name": "stdout",
     "output_type": "stream",
     "text": [
      "\n"
     ]
    },
    {
     "data": {
      "text/plain": [
       "['When did the simpsons first air on television?',\n",
       " 'Who played george washington in the john adams series?',\n",
       " 'What is the legal age of marriage in usa?',\n",
       " 'Who starred in barefoot in the park on broadway?',\n",
       " 'When did the manhattan project began and end?',\n",
       " 'When did the frozen ride open at epcot?',\n",
       " 'Name the landforms that form the boundaries of the peninsular plateau?',\n",
       " 'When was the last time uga won a national championship?',\n",
       " 'Who sing play that funky music white boy?',\n",
       " 'When was the first airplane used in war?',\n",
       " \"What color is a negative benedict's test?\",\n",
       " 'Consubstantial with the father in the creed means what?',\n",
       " \"What was elvis presley's first uk number 1?\",\n",
       " 'Voice of the snake in the jungle book?',\n",
       " 'Where are the majority of cases heard in the united states?',\n",
       " 'When is magnus chase book 3 coming out?',\n",
       " 'Who has more super bowl wins afc or nfc?',\n",
       " 'Which is the most recent state to have joined the united states of america?',\n",
       " 'When was the song believer by imagine dragons made?',\n",
       " 'When did the han solo movie come out?']"
      ]
     },
     "execution_count": 12,
     "metadata": {},
     "output_type": "execute_result"
    }
   ],
   "source": [
    "get_text_to_analyze(\n",
    "    \"ambig_qa\", ['question'],\n",
    "    max_items=20, streaming=False\n",
    ")"
   ]
  },
  {
   "cell_type": "code",
   "execution_count": 13,
   "metadata": {},
   "outputs": [
    {
     "name": "stdout",
     "output_type": "stream",
     "text": [
      "using default config: light\n",
      "using default split: train\n",
      "running -- load_dataset(ambig_qa, light, streaming=False)\n"
     ]
    },
    {
     "name": "stderr",
     "output_type": "stream",
     "text": [
      "Reusing dataset ambig_qa (/home/yjernite/.cache/huggingface/datasets/ambig_qa/light/1.0.0/6425acf3572d4caf508123e5443753ab7ff415564753ae326ae801a0a1aa155e)\n"
     ]
    },
    {
     "data": {
      "application/vnd.jupyter.widget-view+json": {
       "model_id": "2c71cc882cc542f3847c42f003b4a8eb",
       "version_major": 2,
       "version_minor": 0
      },
      "text/plain": [
       "HBox(children=(FloatProgress(value=0.0, max=2.0), HTML(value='')))"
      ]
     },
     "metadata": {},
     "output_type": "display_data"
    },
    {
     "name": "stdout",
     "output_type": "stream",
     "text": [
      "\n"
     ]
    },
    {
     "data": {
      "text/plain": [
       "['David Morse',\n",
       " 'June 21, 2016',\n",
       " 'Aravali Range, Satpura Range, Vindhyan Range',\n",
       " 'Blériot XI',\n",
       " 'Nieuport IV',\n",
       " 'clear blue',\n",
       " 'blue',\n",
       " 'deep-blue',\n",
       " 'All Shook Up',\n",
       " 'State courts',\n",
       " 'State court',\n",
       " 'October 3, 2017',\n",
       " 'tied',\n",
       " 'The Islands of Aloha',\n",
       " 'The Aloha State',\n",
       " 'Hawaii',\n",
       " 'Paradise of the Pacific',\n",
       " 'February 1, 2017']"
      ]
     },
     "execution_count": 13,
     "metadata": {},
     "output_type": "execute_result"
    }
   ],
   "source": [
    "get_text_to_analyze(\n",
    "    \"ambig_qa\", ['annotations', 'answer'],\n",
    "    max_items=20, streaming=False\n",
    ")"
   ]
  },
  {
   "cell_type": "code",
   "execution_count": 14,
   "metadata": {
    "scrolled": true
   },
   "outputs": [
    {
     "name": "stdout",
     "output_type": "stream",
     "text": [
      "using default config: light\n",
      "using default split: train\n",
      "running -- load_dataset(ambig_qa, light, streaming=True)\n"
     ]
    },
    {
     "data": {
      "application/vnd.jupyter.widget-view+json": {
       "model_id": "4d561e2dcec246138d2ad3838008b779",
       "version_major": 2,
       "version_minor": 0
      },
      "text/plain": [
       "HBox(children=(FloatProgress(value=0.0, max=2.0), HTML(value='')))"
      ]
     },
     "metadata": {},
     "output_type": "display_data"
    },
    {
     "name": "stdout",
     "output_type": "stream",
     "text": [
      "\n"
     ]
    },
    {
     "data": {
      "application/vnd.jupyter.widget-view+json": {
       "model_id": "d6b35c4c0f2f4b3fa2b5d3fe9b9cc3b7",
       "version_major": 2,
       "version_minor": 0
      },
      "text/plain": [
       "HBox(children=(FloatProgress(value=0.0, max=2.0), HTML(value='')))"
      ]
     },
     "metadata": {},
     "output_type": "display_data"
    },
    {
     "name": "stdout",
     "output_type": "stream",
     "text": [
      "\n"
     ]
    },
    {
     "data": {
      "application/vnd.jupyter.widget-view+json": {
       "model_id": "8baddf03ffcf4dbfbbb45009bc9b6245",
       "version_major": 2,
       "version_minor": 0
      },
      "text/plain": [
       "HBox(children=(FloatProgress(value=0.0, max=2.0), HTML(value='')))"
      ]
     },
     "metadata": {},
     "output_type": "display_data"
    },
    {
     "name": "stdout",
     "output_type": "stream",
     "text": [
      "\n"
     ]
    },
    {
     "data": {
      "text/plain": [
       "['April 19, 1987',\n",
       " 'December 17, 1989',\n",
       " '18 years of age',\n",
       " '18',\n",
       " '19',\n",
       " '21',\n",
       " '0',\n",
       " 'Elizabeth Ashley',\n",
       " 'Kurt Kasznar',\n",
       " 'Mildred Natwick',\n",
       " 'Robert Redford',\n",
       " 'Herbert Edelman',\n",
       " 'Joseph Keating',\n",
       " 'Began 1939, end 1946',\n",
       " 'Began 1942, end 1946',\n",
       " '1980',\n",
       " '2009',\n",
       " '1990',\n",
       " '2005',\n",
       " '2016',\n",
       " '2018',\n",
       " '2019',\n",
       " '2014',\n",
       " 'Rob Parissi',\n",
       " 'Vanilla Ice',\n",
       " 'Roxanne',\n",
       " 'common humanity which is shared by all human persons.',\n",
       " 'of the same being',\n",
       " 'nature of God in Christianity',\n",
       " 'Scarlett Johansson',\n",
       " 'Sterling Holloway',\n",
       " 'Joseph J Terry',\n",
       " 'May 10, 2018',\n",
       " 'May 25, 2018']"
      ]
     },
     "execution_count": 14,
     "metadata": {},
     "output_type": "execute_result"
    }
   ],
   "source": [
    "get_text_to_analyze(\n",
    "    \"ambig_qa\", ['annotations', 'qaPairs', 'answer'],\n",
    "    max_items=20, streaming=True\n",
    ")"
   ]
  },
  {
   "cell_type": "code",
   "execution_count": null,
   "metadata": {},
   "outputs": [],
   "source": []
  }
 ],
 "metadata": {
  "kernelspec": {
   "display_name": "Python 3",
   "language": "python",
   "name": "python3"
  },
  "language_info": {
   "codemirror_mode": {
    "name": "ipython",
    "version": 3
   },
   "file_extension": ".py",
   "mimetype": "text/x-python",
   "name": "python",
   "nbconvert_exporter": "python",
   "pygments_lexer": "ipython3",
   "version": "3.8.3"
  }
 },
 "nbformat": 4,
 "nbformat_minor": 4
}
